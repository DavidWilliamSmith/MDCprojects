{
  "nbformat": 4,
  "nbformat_minor": 0,
  "metadata": {
    "colab": {
      "provenance": []
    },
    "kernelspec": {
      "name": "python3",
      "display_name": "Python 3"
    },
    "language_info": {
      "name": "python"
    }
  },
  "cells": [
    {
      "cell_type": "code",
      "execution_count": 1,
      "metadata": {
        "colab": {
          "base_uri": "https://localhost:8080/"
        },
        "id": "Viuo32k7h6lV",
        "outputId": "0d1c74a8-fc62-4c05-8067-83c6579e1a8c"
      },
      "outputs": [
        {
          "output_type": "stream",
          "name": "stdout",
          "text": [
            "\u001b[K     |████████████████████████████████| 10.3 MB 14.9 MB/s \n",
            "\u001b[K     |████████████████████████████████| 182 kB 10.5 MB/s \n",
            "\u001b[K     |████████████████████████████████| 4.7 MB 12.9 MB/s \n",
            "\u001b[K     |████████████████████████████████| 237 kB 10.5 MB/s \n",
            "\u001b[K     |████████████████████████████████| 164 kB 6.5 MB/s \n",
            "\u001b[K     |████████████████████████████████| 78 kB 1.8 MB/s \n",
            "\u001b[K     |████████████████████████████████| 62 kB 364 kB/s \n",
            "\u001b[K     |████████████████████████████████| 51 kB 2.7 MB/s \n",
            "\u001b[?25h  Building wheel for validators (setup.py) ... \u001b[?25l\u001b[?25hdone\n"
          ]
        }
      ],
      "source": [
        "!pip install -q streamlit"
      ]
    },
    {
      "cell_type": "code",
      "source": [
        "# 2I0aYWMY1Wb65as34yVYX9dEkMQ_5mJDzNoxpN2XFVdV2GSuR"
      ],
      "metadata": {
        "id": "WEb2iVySj18D"
      },
      "execution_count": 2,
      "outputs": []
    },
    {
      "cell_type": "code",
      "source": [
        "!pip install pyngrok"
      ],
      "metadata": {
        "colab": {
          "base_uri": "https://localhost:8080/"
        },
        "id": "Qjw4Tri4kC_R",
        "outputId": "2d2aef3a-b873-41dd-894e-f9d03824fda8"
      },
      "execution_count": 3,
      "outputs": [
        {
          "output_type": "stream",
          "name": "stdout",
          "text": [
            "Looking in indexes: https://pypi.org/simple, https://us-python.pkg.dev/colab-wheels/public/simple/\n",
            "Collecting pyngrok\n",
            "  Downloading pyngrok-5.2.0.tar.gz (761 kB)\n",
            "\u001b[K     |████████████████████████████████| 761 kB 9.6 MB/s \n",
            "\u001b[?25hRequirement already satisfied: PyYAML in /usr/local/lib/python3.7/dist-packages (from pyngrok) (6.0)\n",
            "Building wheels for collected packages: pyngrok\n",
            "  Building wheel for pyngrok (setup.py) ... \u001b[?25l\u001b[?25hdone\n",
            "  Created wheel for pyngrok: filename=pyngrok-5.2.0-py3-none-any.whl size=19784 sha256=658a210c2fd64e3756b3c5ab241b6f1bafd19cc4de6b615d4d3b8403c399baf4\n",
            "  Stored in directory: /root/.cache/pip/wheels/22/0d/3e/123007fa1c412308a8528000c5b419cfaa15ee9612e6b43519\n",
            "Successfully built pyngrok\n",
            "Installing collected packages: pyngrok\n",
            "Successfully installed pyngrok-5.2.0\n"
          ]
        }
      ]
    },
    {
      "cell_type": "code",
      "source": [
        "!ngrok authtoken 2ICVEbLPDFLRqAbkQoLoJbQsb41_75o6kn26s1nqoNYALEe4i"
      ],
      "metadata": {
        "colab": {
          "base_uri": "https://localhost:8080/"
        },
        "id": "cUTCn9SykO8K",
        "outputId": "107ebe60-df7d-429f-c8a1-1dc224f579ea"
      },
      "execution_count": 4,
      "outputs": [
        {
          "output_type": "stream",
          "name": "stdout",
          "text": [
            "Authtoken saved to configuration file: /root/.ngrok2/ngrok.yml\n"
          ]
        }
      ]
    },
    {
      "cell_type": "code",
      "source": [
        "from pyngrok import ngrok \n",
        "public_url = ngrok.connect(port='8501')\n",
        "public_url"
      ],
      "metadata": {
        "colab": {
          "base_uri": "https://localhost:8080/",
          "height": 453
        },
        "id": "tDo12_ajkgxF",
        "outputId": "4fd5f9d8-284a-4727-c6cb-fc6d400c4f58"
      },
      "execution_count": 5,
      "outputs": [
        {
          "output_type": "stream",
          "name": "stderr",
          "text": [
            "ERROR:pyngrok.process.ngrok:t=2022-11-29T01:32:26+0000 lvl=eror msg=\"failed to auth\" obj=tunnels.session err=\"Your account is limited to 1 simultaneous ngrok agent session.\\nActive ngrok agent sessions in region 'us':\\n  - ts_2ICL60BsRvYJc1fwRMFka4LUvI1 (34.121.166.15)\\r\\n\\r\\nERR_NGROK_108\\r\\n\"\n",
            "ERROR:pyngrok.process.ngrok:t=2022-11-29T01:32:26+0000 lvl=eror msg=\"failed to reconnect session\" obj=csess id=cdad74d6c9f7 err=\"Your account is limited to 1 simultaneous ngrok agent session.\\nActive ngrok agent sessions in region 'us':\\n  - ts_2ICL60BsRvYJc1fwRMFka4LUvI1 (34.121.166.15)\\r\\n\\r\\nERR_NGROK_108\\r\\n\"\n",
            "ERROR:pyngrok.process.ngrok:t=2022-11-29T01:32:26+0000 lvl=eror msg=\"session closing\" obj=tunnels.session err=\"Your account is limited to 1 simultaneous ngrok agent session.\\nActive ngrok agent sessions in region 'us':\\n  - ts_2ICL60BsRvYJc1fwRMFka4LUvI1 (34.121.166.15)\\r\\n\\r\\nERR_NGROK_108\\r\\n\"\n",
            "ERROR:pyngrok.process.ngrok:t=2022-11-29T01:32:26+0000 lvl=eror msg=\"terminating with error\" obj=app err=\"Your account is limited to 1 simultaneous ngrok agent session.\\nActive ngrok agent sessions in region 'us':\\n  - ts_2ICL60BsRvYJc1fwRMFka4LUvI1 (34.121.166.15)\\r\\n\\r\\nERR_NGROK_108\\r\\n\"\n"
          ]
        },
        {
          "output_type": "error",
          "ename": "PyngrokNgrokError",
          "evalue": "ignored",
          "traceback": [
            "\u001b[0;31m---------------------------------------------------------------------------\u001b[0m",
            "\u001b[0;31mPyngrokNgrokError\u001b[0m                         Traceback (most recent call last)",
            "\u001b[0;32m<ipython-input-5-424a0d0b09ff>\u001b[0m in \u001b[0;36m<module>\u001b[0;34m\u001b[0m\n\u001b[1;32m      1\u001b[0m \u001b[0;32mfrom\u001b[0m \u001b[0mpyngrok\u001b[0m \u001b[0;32mimport\u001b[0m \u001b[0mngrok\u001b[0m\u001b[0;34m\u001b[0m\u001b[0;34m\u001b[0m\u001b[0m\n\u001b[0;32m----> 2\u001b[0;31m \u001b[0mpublic_url\u001b[0m \u001b[0;34m=\u001b[0m \u001b[0mngrok\u001b[0m\u001b[0;34m.\u001b[0m\u001b[0mconnect\u001b[0m\u001b[0;34m(\u001b[0m\u001b[0mport\u001b[0m\u001b[0;34m=\u001b[0m\u001b[0;34m'8501'\u001b[0m\u001b[0;34m)\u001b[0m\u001b[0;34m\u001b[0m\u001b[0;34m\u001b[0m\u001b[0m\n\u001b[0m\u001b[1;32m      3\u001b[0m \u001b[0mpublic_url\u001b[0m\u001b[0;34m\u001b[0m\u001b[0;34m\u001b[0m\u001b[0m\n",
            "\u001b[0;32m/usr/local/lib/python3.7/dist-packages/pyngrok/ngrok.py\u001b[0m in \u001b[0;36mconnect\u001b[0;34m(addr, proto, name, pyngrok_config, **options)\u001b[0m\n\u001b[1;32m    265\u001b[0m         \u001b[0moptions\u001b[0m\u001b[0;34m.\u001b[0m\u001b[0mpop\u001b[0m\u001b[0;34m(\u001b[0m\u001b[0;34m\"bind_tls\"\u001b[0m\u001b[0;34m)\u001b[0m\u001b[0;34m\u001b[0m\u001b[0;34m\u001b[0m\u001b[0m\n\u001b[1;32m    266\u001b[0m \u001b[0;34m\u001b[0m\u001b[0m\n\u001b[0;32m--> 267\u001b[0;31m     \u001b[0mapi_url\u001b[0m \u001b[0;34m=\u001b[0m \u001b[0mget_ngrok_process\u001b[0m\u001b[0;34m(\u001b[0m\u001b[0mpyngrok_config\u001b[0m\u001b[0;34m)\u001b[0m\u001b[0;34m.\u001b[0m\u001b[0mapi_url\u001b[0m\u001b[0;34m\u001b[0m\u001b[0;34m\u001b[0m\u001b[0m\n\u001b[0m\u001b[1;32m    268\u001b[0m \u001b[0;34m\u001b[0m\u001b[0m\n\u001b[1;32m    269\u001b[0m     \u001b[0mlogger\u001b[0m\u001b[0;34m.\u001b[0m\u001b[0mdebug\u001b[0m\u001b[0;34m(\u001b[0m\u001b[0;34m\"Creating tunnel with options: {}\"\u001b[0m\u001b[0;34m.\u001b[0m\u001b[0mformat\u001b[0m\u001b[0;34m(\u001b[0m\u001b[0moptions\u001b[0m\u001b[0;34m)\u001b[0m\u001b[0;34m)\u001b[0m\u001b[0;34m\u001b[0m\u001b[0;34m\u001b[0m\u001b[0m\n",
            "\u001b[0;32m/usr/local/lib/python3.7/dist-packages/pyngrok/ngrok.py\u001b[0m in \u001b[0;36mget_ngrok_process\u001b[0;34m(pyngrok_config)\u001b[0m\n\u001b[1;32m    162\u001b[0m     \u001b[0minstall_ngrok\u001b[0m\u001b[0;34m(\u001b[0m\u001b[0mpyngrok_config\u001b[0m\u001b[0;34m)\u001b[0m\u001b[0;34m\u001b[0m\u001b[0;34m\u001b[0m\u001b[0m\n\u001b[1;32m    163\u001b[0m \u001b[0;34m\u001b[0m\u001b[0m\n\u001b[0;32m--> 164\u001b[0;31m     \u001b[0;32mreturn\u001b[0m \u001b[0mprocess\u001b[0m\u001b[0;34m.\u001b[0m\u001b[0mget_process\u001b[0m\u001b[0;34m(\u001b[0m\u001b[0mpyngrok_config\u001b[0m\u001b[0;34m)\u001b[0m\u001b[0;34m\u001b[0m\u001b[0;34m\u001b[0m\u001b[0m\n\u001b[0m\u001b[1;32m    165\u001b[0m \u001b[0;34m\u001b[0m\u001b[0m\n\u001b[1;32m    166\u001b[0m \u001b[0;34m\u001b[0m\u001b[0m\n",
            "\u001b[0;32m/usr/local/lib/python3.7/dist-packages/pyngrok/process.py\u001b[0m in \u001b[0;36mget_process\u001b[0;34m(pyngrok_config)\u001b[0m\n\u001b[1;32m    301\u001b[0m         \u001b[0;32mreturn\u001b[0m \u001b[0m_current_processes\u001b[0m\u001b[0;34m[\u001b[0m\u001b[0mpyngrok_config\u001b[0m\u001b[0;34m.\u001b[0m\u001b[0mngrok_path\u001b[0m\u001b[0;34m]\u001b[0m\u001b[0;34m\u001b[0m\u001b[0;34m\u001b[0m\u001b[0m\n\u001b[1;32m    302\u001b[0m \u001b[0;34m\u001b[0m\u001b[0m\n\u001b[0;32m--> 303\u001b[0;31m     \u001b[0;32mreturn\u001b[0m \u001b[0m_start_process\u001b[0m\u001b[0;34m(\u001b[0m\u001b[0mpyngrok_config\u001b[0m\u001b[0;34m)\u001b[0m\u001b[0;34m\u001b[0m\u001b[0;34m\u001b[0m\u001b[0m\n\u001b[0m\u001b[1;32m    304\u001b[0m \u001b[0;34m\u001b[0m\u001b[0m\n\u001b[1;32m    305\u001b[0m \u001b[0;34m\u001b[0m\u001b[0m\n",
            "\u001b[0;32m/usr/local/lib/python3.7/dist-packages/pyngrok/process.py\u001b[0m in \u001b[0;36m_start_process\u001b[0;34m(pyngrok_config)\u001b[0m\n\u001b[1;32m    472\u001b[0m             raise PyngrokNgrokError(\"The ngrok process errored on start: {}.\".format(ngrok_process.startup_error),\n\u001b[1;32m    473\u001b[0m                                     \u001b[0mngrok_process\u001b[0m\u001b[0;34m.\u001b[0m\u001b[0mlogs\u001b[0m\u001b[0;34m,\u001b[0m\u001b[0;34m\u001b[0m\u001b[0;34m\u001b[0m\u001b[0m\n\u001b[0;32m--> 474\u001b[0;31m                                     ngrok_process.startup_error)\n\u001b[0m\u001b[1;32m    475\u001b[0m         \u001b[0;32melse\u001b[0m\u001b[0;34m:\u001b[0m\u001b[0;34m\u001b[0m\u001b[0;34m\u001b[0m\u001b[0m\n\u001b[1;32m    476\u001b[0m             \u001b[0;32mraise\u001b[0m \u001b[0mPyngrokNgrokError\u001b[0m\u001b[0;34m(\u001b[0m\u001b[0;34m\"The ngrok process was unable to start.\"\u001b[0m\u001b[0;34m,\u001b[0m \u001b[0mngrok_process\u001b[0m\u001b[0;34m.\u001b[0m\u001b[0mlogs\u001b[0m\u001b[0;34m)\u001b[0m\u001b[0;34m\u001b[0m\u001b[0;34m\u001b[0m\u001b[0m\n",
            "\u001b[0;31mPyngrokNgrokError\u001b[0m: The ngrok process errored on start: Your account is limited to 1 simultaneous ngrok agent session.\\nActive ngrok agent sessions in region 'us':\\n  - ts_2ICL60BsRvYJc1fwRMFka4LUvI1 (34.121.166.15)\\r\\n\\r\\nERR_NGROK_108\\r\\n."
          ]
        }
      ]
    },
    {
      "cell_type": "code",
      "source": [
        "# Docs:  https://docs.streamlit.io/library/cheatsheet\n",
        "# API Reference:  https://docs.streamlit.io/library/api-reference"
      ],
      "metadata": {
        "id": "_j3qXz6Zkpe4"
      },
      "execution_count": null,
      "outputs": []
    },
    {
      "cell_type": "code",
      "source": [
        "%%writefile streamlit_app.py\n",
        "import streamlit as st\n",
        "import pandas as pd \n",
        "import plotly.express as px \n",
        "# st.write(\"# Please let this work... \")\n",
        "st.markdown('''\n",
        "# Streamlit Demo for Data Mining Class\n",
        "\n",
        "## How to create web front ends for your ML models\n",
        "\n",
        "[Dr. Ernesto Lee](http://ernesto.net \"Dr. Ernesto Lee\")\n",
        "''')"
      ],
      "metadata": {
        "id": "ONl6PCRckuMh"
      },
      "execution_count": null,
      "outputs": []
    },
    {
      "cell_type": "code",
      "source": [
        "# st.title(\"Put a title in here\")\n",
        "# st.markdown(\"Put markdown code in here\")\n",
        "# https://markdown-editor.github.com   --- you can easily create markdown\n",
        "# st.header(\"\")"
      ],
      "metadata": {
        "id": "tu8rjOeUtsPJ"
      },
      "execution_count": null,
      "outputs": []
    },
    {
      "cell_type": "code",
      "source": [
        "!streamlit run /content/streamlit_app.py & npx localtunnel --port 8501 "
      ],
      "metadata": {
        "id": "R3TtPeSvkuIN"
      },
      "execution_count": null,
      "outputs": []
    },
    {
      "cell_type": "code",
      "source": [
        "%%writefile streamlit_app.py \n",
        "import streamlit as st\n",
        "import pandas as pd\n",
        "import plotly.express as px\n",
        "st.write('# Avocado Prices dashboard')  #st.title('Avocado Prices dashboard')\n",
        "# https://markdown-editor.github.io/   This will help build markdown\n",
        "st.markdown('''\n",
        "This is a dashboard showing the *average prices* of different types of :avocado:  \n",
        "Data source: [Kaggle](https://www.kaggle.com/datasets/timmate/avocado-prices-2020)\n",
        "''')\n",
        "st.header('Summary statistics')\n",
        "st.header('Line chart by geographies')"
      ],
      "metadata": {
        "id": "yLGB39CPkuD4"
      },
      "execution_count": null,
      "outputs": []
    },
    {
      "cell_type": "code",
      "source": [
        "!streamlit run /content/streamlit_app.py & npx localtunnel --port 8501 "
      ],
      "metadata": {
        "id": "UqBIc1N2kt9u"
      },
      "execution_count": null,
      "outputs": []
    },
    {
      "cell_type": "code",
      "source": [
        "%%writefile streamlit_app.py \n",
        "import streamlit as st\n",
        "import pandas as pd\n",
        "import plotly.express as px\n",
        "st.write('# Avocado Prices dashboard')  #st.title('Avocado Prices dashboard')\n",
        "# https://markdown-editor.github.io/   This will help build markdown\n",
        "st.markdown('''\n",
        "This is a dashboard showing the *average prices* of different types of :avocado:  \n",
        "Data source: [Kaggle](https://www.kaggle.com/datasets/timmate/avocado-prices-2020)\n",
        "''')\n",
        "st.header('Summary statistics')\n",
        "st.header('Line chart by geographies')\n",
        "st.header('Summary statistics')\n",
        "avocado = pd.read_csv('https://raw.githubusercontent.com/fenago/datasets/main/avocado-updated-2020.csv')\n",
        "avocado_stats = avocado.groupby('type')['average_price'].mean()\n",
        "st.dataframe(avocado_stats)\n",
        "st.dataframe(avocado)\n"
      ],
      "metadata": {
        "id": "nGm8Izj9kt48"
      },
      "execution_count": null,
      "outputs": []
    },
    {
      "cell_type": "code",
      "source": [
        "!streamlit run /content/streamlit_app.py & npx localtunnel --port 8501 "
      ],
      "metadata": {
        "id": "pNhh76lBkt1I"
      },
      "execution_count": null,
      "outputs": []
    },
    {
      "cell_type": "code",
      "source": [
        "%%writefile streamlit_app.py \n",
        "import streamlit as st\n",
        "import pandas as pd\n",
        "import plotly.express as px\n",
        "st.write('# Avocado Prices dashboard')  #st.title('Avocado Prices dashboard')\n",
        "# https://markdown-editor.github.io/   This will help build markdown\n",
        "st.markdown('''\n",
        "This is a dashboard showing the *average prices* of different types of :avocado:  \n",
        "Data source: [Kaggle](https://www.kaggle.com/datasets/timmate/avocado-prices-2020)\n",
        "''')\n",
        "st.header('Summary statistics')\n",
        "st.header('Line chart by geographies')\n",
        "st.header('Summary statistics')\n",
        "avocado = pd.read_csv('https://raw.githubusercontent.com/fenago/datasets/main/avocado-updated-2020.csv')\n",
        "avocado_stats = avocado.groupby('type')['average_price'].mean()\n",
        "st.dataframe(avocado_stats)\n",
        "st.header('Line chart by geographies')\n",
        "line_fig = px.line(avocado[avocado['geography'] == 'Los Angeles'],\n",
        "                   x='date', y='average_price',\n",
        "                   color='type',\n",
        "                   title='Avocado Prices in Los Angeles')\n",
        "st.plotly_chart(line_fig)"
      ],
      "metadata": {
        "id": "HzPHcYsvktfg"
      },
      "execution_count": null,
      "outputs": []
    },
    {
      "cell_type": "code",
      "source": [
        "!streamlit run /content/streamlit_app.py & npx localtunnel --port 8501 "
      ],
      "metadata": {
        "id": "RRvwGHLVxucP"
      },
      "execution_count": null,
      "outputs": []
    },
    {
      "cell_type": "code",
      "source": [
        "%%writefile streamlit_app.py \n",
        "import streamlit as st\n",
        "import pandas as pd\n",
        "import plotly.express as px\n",
        "st.write('# Avocado Prices dashboard')  #st.title('Avocado Prices dashboard')\n",
        "# https://markdown-editor.github.io/   This will help build markdown\n",
        "st.markdown('''\n",
        "This is a dashboard showing the *average prices* of different types of :avocado:  \n",
        "Data source: [Kaggle](https://www.kaggle.com/datasets/timmate/avocado-prices-2020)\n",
        "''')\n",
        "st.header('Summary statistics')\n",
        "st.header('Line chart by geographies')\n",
        "st.header('Summary statistics')\n",
        "avocado = pd.read_csv('https://raw.githubusercontent.com/fenago/datasets/main/avocado-updated-2020.csv')\n",
        "avocado_stats = avocado.groupby('type')['average_price'].mean()\n",
        "st.dataframe(avocado_stats)\n",
        "st.header('Line chart by geographies')\n",
        "line_fig = px.line(avocado[avocado['geography'] == 'Los Angeles'],\n",
        "                   x='date', y='average_price',\n",
        "                   color='type',\n",
        "                   title='Avocado Prices in Los Angeles')\n",
        "st.plotly_chart(line_fig)\n",
        "selected_geography = st.selectbox(label='Geography', options=avocado['geography'].unique())\n",
        "submitted = st.button('Submit')\n",
        "if submitted:\n",
        "    filtered_avocado = avocado[avocado['geography'] == selected_geography]\n",
        "    line_fig = px.line(filtered_avocado,\n",
        "                       x='date', y='average_price',\n",
        "                       color='type',\n",
        "                       title=f'Avocado Prices in {selected_geography}')\n",
        "    st.plotly_chart(line_fig)\n",
        "\n",
        "with st.form('line_chart'):\n",
        "    selected_geography = st.selectbox(label='Geography', options=avocado['geography'].unique())\n",
        "    submitted = st.form_submit_button('Submit')\n",
        "    if submitted:\n",
        "        filtered_avocado = avocado[avocado['geography'] == selected_geography]\n",
        "        line_fig = px.line(filtered_avocado,\n",
        "                           x='date', y='average_price',\n",
        "                           color='type',\n",
        "                           title=f'Avocado Prices in {selected_geography}')\n",
        "        st.plotly_chart(line_fig)"
      ],
      "metadata": {
        "id": "2JRIzbzLyOSd"
      },
      "execution_count": null,
      "outputs": []
    },
    {
      "cell_type": "code",
      "source": [
        "!streamlit run /content/streamlit_app.py & npx localtunnel --port 8501 "
      ],
      "metadata": {
        "id": "iiIlYD3sySFC"
      },
      "execution_count": null,
      "outputs": []
    },
    {
      "cell_type": "code",
      "source": [
        "%%writefile streamlit_app.py \n",
        "import streamlit as st\n",
        "import pandas as pd\n",
        "import plotly.express as px\n",
        "st.write('# Avocado Prices dashboard')  #st.title('Avocado Prices dashboard')\n",
        "# https://markdown-editor.github.io/   This will help build markdown\n",
        "st.markdown('''\n",
        "This is a dashboard showing the *average prices* of different types of :avocado:  \n",
        "Data source: [Kaggle](https://www.kaggle.com/datasets/timmate/avocado-prices-2020)\n",
        "''')\n",
        "st.header('Summary statistics')\n",
        "st.header('Line chart by geographies')\n",
        "st.header('Summary statistics')\n",
        "avocado = pd.read_csv('https://raw.githubusercontent.com/fenago/datasets/main/avocado-updated-2020.csv')\n",
        "avocado_stats = avocado.groupby('type')['average_price'].mean()\n",
        "st.dataframe(avocado_stats)\n",
        "st.header('Line chart by geographies')\n",
        "line_fig = px.line(avocado[avocado['geography'] == 'Los Angeles'],\n",
        "                   x='date', y='average_price',\n",
        "                   color='type',\n",
        "                   title='Avocado Prices in Los Angeles')\n",
        "st.plotly_chart(line_fig)\n",
        "selected_geography = st.selectbox(label='Geography', options=avocado['geography'].unique())\n",
        "submitted = st.button('Submit')\n",
        "if submitted:\n",
        "    filtered_avocado = avocado[avocado['geography'] == selected_geography]\n",
        "    line_fig = px.line(filtered_avocado,\n",
        "                       x='date', y='average_price',\n",
        "                       color='type',\n",
        "                       title=f'Avocado Prices in {selected_geography}')\n",
        "    st.plotly_chart(line_fig)\n",
        "\n",
        "with st.form('line_chart'):\n",
        "    selected_geography = st.selectbox(label='Geography', options=avocado['geography'].unique())\n",
        "    submitted = st.form_submit_button('Submit')\n",
        "    if submitted:\n",
        "        filtered_avocado = avocado[avocado['geography'] == selected_geography]\n",
        "        line_fig = px.line(filtered_avocado,\n",
        "                           x='date', y='average_price',\n",
        "                           color='type',\n",
        "                           title=f'Avocado Prices in {selected_geography}')\n",
        "        st.plotly_chart(line_fig)\n",
        "\n",
        "with st.sidebar:\n",
        "    st.subheader('About')\n",
        "    st.markdown('This dashboard is made by Dr. Ernesto Lee, using **Streamlit**')\n",
        "\n",
        "st.sidebar.image('https://streamlit.io/images/brand/streamlit-mark-color.png', width=50)\n",
        "\n",
        "@st.cache\n",
        "def load_data(path):\n",
        "    dataset = pd.read_csv(path)\n",
        "    return dataset\n",
        "avocado = load_data('https://raw.githubusercontent.com/fenago/datasets/main/avocado-updated-2020.csv')\n",
        "\n",
        "# display dataframe as a table\n",
        "df = pd.read_csv('https://raw.githubusercontent.com/fenago/datasets/main/avocado-updated-2020.csv')\n",
        "st.dataframe(df)"
      ],
      "metadata": {
        "id": "PUQvT5MZy0u3"
      },
      "execution_count": null,
      "outputs": []
    },
    {
      "cell_type": "code",
      "source": [
        "!streamlit run /content/streamlit_app.py & npx localtunnel --port 8501 "
      ],
      "metadata": {
        "id": "WEEph5Ziy6ck"
      },
      "execution_count": null,
      "outputs": []
    },
    {
      "cell_type": "code",
      "source": [],
      "metadata": {
        "id": "Nfqqfeg02Hco"
      },
      "execution_count": null,
      "outputs": []
    },
    {
      "cell_type": "markdown",
      "source": [
        "# Deploy ML Model on Streamlit"
      ],
      "metadata": {
        "id": "kcs51DKq2qXO"
      }
    },
    {
      "cell_type": "code",
      "source": [
        "%reset -fs\n",
        "import pandas as pd\n",
        "from xgboost import XGBRegressor\n",
        "import seaborn as sns\n",
        "from sklearn.model_selection import train_test_split\n",
        "from sklearn.model_selection import GridSearchCV\n",
        "from sklearn.metrics import mean_absolute_error, mean_squared_error, r2_score\n",
        "import matplotlib.pyplot as plt"
      ],
      "metadata": {
        "id": "atVkX5OA2HXq"
      },
      "execution_count": null,
      "outputs": []
    },
    {
      "cell_type": "code",
      "source": [
        "diamond_df = pd.read_csv('https://raw.githubusercontent.com/fenago/datasets/main/diamonds.csv', index_col=0)\n",
        "diamond_df.head(20)"
      ],
      "metadata": {
        "id": "SEe72or32HR5"
      },
      "execution_count": null,
      "outputs": []
    },
    {
      "cell_type": "code",
      "source": [
        "diamond_df.shape"
      ],
      "metadata": {
        "id": "j9V8Ytrl3Rs2"
      },
      "execution_count": null,
      "outputs": []
    },
    {
      "cell_type": "code",
      "source": [
        "diamond_df.isna().sum()"
      ],
      "metadata": {
        "id": "Ruprd3wo2HM0"
      },
      "execution_count": null,
      "outputs": []
    },
    {
      "cell_type": "code",
      "source": [
        "diamond_df.dtypes"
      ],
      "metadata": {
        "id": "mWo4WIpZ3kAx"
      },
      "execution_count": null,
      "outputs": []
    },
    {
      "cell_type": "code",
      "source": [
        "diamond_df.cut.value_counts()"
      ],
      "metadata": {
        "id": "aCkt42bu3j8O"
      },
      "execution_count": null,
      "outputs": []
    },
    {
      "cell_type": "code",
      "source": [
        "# Encode the ordinal categorical variable 'cut'\n",
        "cut_mapping = {'Fair': 0, 'Good': 1, 'Very Good': 2, 'Premium': 3, 'Ideal': 4}\n",
        "diamond_df.cut = diamond_df.cut.map(cut_mapping)"
      ],
      "metadata": {
        "id": "sFAHx5CY3j2k"
      },
      "execution_count": null,
      "outputs": []
    },
    {
      "cell_type": "code",
      "source": [
        "diamond_df.color.value_counts()"
      ],
      "metadata": {
        "id": "hvpcB0004NJ2"
      },
      "execution_count": null,
      "outputs": []
    },
    {
      "cell_type": "code",
      "source": [
        "# Encoding the ordinal categorical variable 'color'\n",
        "color_mapping = {'J': 0, 'I': 1, 'H': 2, 'G': 3, 'F': 4, 'E': 5, 'D': 6}\n",
        "diamond_df.color = diamond_df.color.map(color_mapping)"
      ],
      "metadata": {
        "id": "5vH8HSfX4NDH"
      },
      "execution_count": null,
      "outputs": []
    },
    {
      "cell_type": "code",
      "source": [
        "diamond_df.clarity.value_counts()"
      ],
      "metadata": {
        "id": "-OYxzW954M8B"
      },
      "execution_count": null,
      "outputs": []
    },
    {
      "cell_type": "code",
      "source": [
        "# Encoding the ordinal cateogircal variable 'clarity'\n",
        "clarity_mapping = {'I1': 0, 'SI2': 1, 'SI1': 2, 'VS2': 3, 'VS1': 4, 'VVS2': 5, 'VVS1': 6, 'IF': 7}\n",
        "diamond_df.clarity = diamond_df.clarity.map(clarity_mapping)"
      ],
      "metadata": {
        "id": "31LpJs_d4M27"
      },
      "execution_count": null,
      "outputs": []
    },
    {
      "cell_type": "code",
      "source": [
        "diamond_df.head()"
      ],
      "metadata": {
        "id": "AbsVoZ294MxK"
      },
      "execution_count": null,
      "outputs": []
    },
    {
      "cell_type": "code",
      "source": [
        "diamond_df.describe()"
      ],
      "metadata": {
        "id": "2teP3Srv3jzS"
      },
      "execution_count": null,
      "outputs": []
    },
    {
      "cell_type": "code",
      "source": [
        "# Anything that is 0 for x, y, or z ... remove\n",
        "diamond_df = diamond_df.drop(diamond_df[diamond_df[\"x\"]==0].index)\n",
        "diamond_df = diamond_df.drop(diamond_df[diamond_df[\"y\"]==0].index)\n",
        "diamond_df = diamond_df.drop(diamond_df[diamond_df[\"z\"]==0].index)"
      ],
      "metadata": {
        "id": "j4ytQ4O848A1"
      },
      "execution_count": null,
      "outputs": []
    },
    {
      "cell_type": "code",
      "source": [
        "# Remove outliers in these features greater than the 99th percentile\n",
        "diamond_df = diamond_df[diamond_df['depth'] < diamond_df['depth'].quantile(0.99)]\n",
        "diamond_df = diamond_df[diamond_df['table'] < diamond_df['table'].quantile(0.99)]\n",
        "diamond_df = diamond_df[diamond_df['x'] < diamond_df['x'].quantile(0.99)]\n",
        "diamond_df = diamond_df[diamond_df['y'] < diamond_df['y'].quantile(0.99)]\n",
        "diamond_df = diamond_df[diamond_df['z'] < diamond_df['z'].quantile(0.99)]"
      ],
      "metadata": {
        "id": "ZA9oi1k14722"
      },
      "execution_count": null,
      "outputs": []
    },
    {
      "cell_type": "code",
      "source": [
        "model_df = diamond_df.copy()"
      ],
      "metadata": {
        "id": "IJwpoFUW47xQ"
      },
      "execution_count": null,
      "outputs": []
    },
    {
      "cell_type": "code",
      "source": [
        "f, ax = plt.subplots(figsize=(10,10))\n",
        "sns.heatmap(model_df.corr(), annot=True, cmap='coolwarm');"
      ],
      "metadata": {
        "id": "5t-zpaHO47sV"
      },
      "execution_count": null,
      "outputs": []
    },
    {
      "cell_type": "markdown",
      "source": [
        "# Create the Model"
      ],
      "metadata": {
        "id": "0yxAZEQv6YOF"
      }
    },
    {
      "cell_type": "code",
      "source": [
        "X = model_df.drop(['price'], axis=1)\n",
        "y = model_df['price']"
      ],
      "metadata": {
        "id": "xcrOeNhJ2HHf"
      },
      "execution_count": null,
      "outputs": []
    },
    {
      "cell_type": "code",
      "source": [
        "X_train_val, X_test, y_train_val, y_test = train_test_split(X, y, test_size=0.2, random_state=0)"
      ],
      "metadata": {
        "id": "3DYQ8i_K6JD4"
      },
      "execution_count": null,
      "outputs": []
    },
    {
      "cell_type": "code",
      "source": [
        "X_train, X_val, y_train, y_val = train_test_split(X_train_val, y_train_val, test_size=0.25, random_state=0)"
      ],
      "metadata": {
        "id": "a6Td4J6-6I8t"
      },
      "execution_count": null,
      "outputs": []
    },
    {
      "cell_type": "code",
      "source": [
        "xgb1 = XGBRegressor()\n",
        "parameters = {\n",
        "              'objective':['reg:squarederror'],\n",
        "              'learning_rate': [0.01],\n",
        "              'max_depth': [7],\n",
        "              'min_child_weight': [3],\n",
        "              'subsample': [0.5],\n",
        "              'colsample_bytree': [1],\n",
        "              'n_estimators': [500]}"
      ],
      "metadata": {
        "id": "oleOa12i6I20"
      },
      "execution_count": null,
      "outputs": []
    },
    {
      "cell_type": "code",
      "source": [
        "xgb_grid = GridSearchCV(xgb1,\n",
        "                        parameters,\n",
        "                        cv = 3,\n",
        "                        n_jobs = -1,\n",
        "                        verbose=0)"
      ],
      "metadata": {
        "id": "0jU90QUx7J-L"
      },
      "execution_count": null,
      "outputs": []
    },
    {
      "cell_type": "code",
      "source": [
        "xgb_grid.fit(X_train, y_train)"
      ],
      "metadata": {
        "id": "bEXfXw427J23"
      },
      "execution_count": null,
      "outputs": []
    },
    {
      "cell_type": "code",
      "source": [
        "print(xgb_grid.best_score_)\n",
        "print(xgb_grid.best_params_)"
      ],
      "metadata": {
        "id": "X8ztbVOw7Jxj"
      },
      "execution_count": null,
      "outputs": []
    },
    {
      "cell_type": "code",
      "source": [
        "xgb_cv = (xgb_grid.best_estimator_)"
      ],
      "metadata": {
        "id": "2JL09CfE7JsS"
      },
      "execution_count": null,
      "outputs": []
    },
    {
      "cell_type": "code",
      "source": [
        "eval_set = [(X_train, y_train),\n",
        "            (X_val, y_val)]"
      ],
      "metadata": {
        "id": "uzCAvnai8RRr"
      },
      "execution_count": null,
      "outputs": []
    },
    {
      "cell_type": "code",
      "source": [
        "fit_model = xgb_cv.fit(\n",
        "    X_train,\n",
        "    y_train,\n",
        "    eval_set=eval_set,\n",
        "    eval_metric='mae',\n",
        "    early_stopping_rounds=50,\n",
        "    verbose=True)"
      ],
      "metadata": {
        "id": "icnhL0yU8RFl"
      },
      "execution_count": null,
      "outputs": []
    },
    {
      "cell_type": "code",
      "source": [
        "print(\"MAE:\", mean_absolute_error(y_val, fit_model.predict(X_val)))\n",
        "print(\"MSE:\", mean_squared_error(y_val, fit_model.predict(X_val)))\n",
        "print(\"R2:\", r2_score(y_val, fit_model.predict(X_val)))"
      ],
      "metadata": {
        "id": "NmT1DXcT8RAL"
      },
      "execution_count": null,
      "outputs": []
    },
    {
      "cell_type": "code",
      "source": [
        "fit_model.save_model('xgb_model.json')"
      ],
      "metadata": {
        "id": "R3np8zf48Qyg"
      },
      "execution_count": null,
      "outputs": []
    },
    {
      "cell_type": "markdown",
      "source": [
        "# Create an App for the Model"
      ],
      "metadata": {
        "id": "fcoeOW399LLs"
      }
    },
    {
      "cell_type": "code",
      "source": [
        "%%writefile diamond_app.py \n",
        "import xgboost as xgb\n",
        "import streamlit as st\n",
        "import pandas as pd\n",
        "\n",
        "#Loading up the Regression model we created\n",
        "model = xgb.XGBRegressor()\n",
        "model.load_model('xgb_model.json')\n",
        "\n",
        "#Caching the model for faster loading\n",
        "@st.cache\n",
        "\n",
        "\n",
        "# Define the prediction function\n",
        "def predict(carat, cut, color, clarity, depth, table, x, y, z):\n",
        "    #Predicting the price of the carat\n",
        "    if cut == 'Fair':\n",
        "        cut = 0\n",
        "    elif cut == 'Good':\n",
        "        cut = 1\n",
        "    elif cut == 'Very Good':\n",
        "        cut = 2\n",
        "    elif cut == 'Premium':\n",
        "        cut = 3\n",
        "    elif cut == 'Ideal':\n",
        "        cut = 4\n",
        "\n",
        "    if color == 'J':\n",
        "        color = 0\n",
        "    elif color == 'I':\n",
        "        color = 1\n",
        "    elif color == 'H':\n",
        "        color = 2\n",
        "    elif color == 'G':\n",
        "        color = 3\n",
        "    elif color == 'F':\n",
        "        color = 4\n",
        "    elif color == 'E':\n",
        "        color = 5\n",
        "    elif color == 'D':\n",
        "        color = 6\n",
        "    \n",
        "    if clarity == 'I1':\n",
        "        clarity = 0\n",
        "    elif clarity == 'SI2':\n",
        "        clarity = 1\n",
        "    elif clarity == 'SI1':\n",
        "        clarity = 2\n",
        "    elif clarity == 'VS2':\n",
        "        clarity = 3\n",
        "    elif clarity == 'VS1':\n",
        "        clarity = 4\n",
        "    elif clarity == 'VVS2':\n",
        "        clarity = 5\n",
        "    elif clarity == 'VVS1':\n",
        "        clarity = 6\n",
        "    elif clarity == 'IF':\n",
        "        clarity = 7\n",
        "    \n",
        "\n",
        "    prediction = model.predict(pd.DataFrame([[carat, cut, color, clarity, depth, table, x, y, z]], columns=['carat', 'cut', 'color', 'clarity', 'depth', 'table', 'x', 'y', 'z']))\n",
        "    return prediction\n",
        "\n",
        "\n",
        "st.title('Diamond Price Predictor')\n",
        "st.image(\"\"\"https://www.thestreet.com/.image/ar_4:3%2Cc_fill%2Ccs_srgb%2Cq_auto:good%2Cw_1200/MTY4NjUwNDYyNTYzNDExNTkx/why-dominion-diamonds-second-trip-to-the-block-may-be-different.png\"\"\")\n",
        "st.header('Enter the characteristics of the diamond:')\n",
        "carat = st.number_input('Carat Weight:', min_value=0.1, max_value=10.0, value=1.0)\n",
        "cut = st.selectbox('Cut Rating:', ['Fair', 'Good', 'Very Good', 'Premium', 'Ideal'])\n",
        "color = st.selectbox('Color Rating:', ['J', 'I', 'H', 'G', 'F', 'E', 'D'])\n",
        "clarity = st.selectbox('Clarity Rating:', ['I1', 'SI2', 'SI1', 'VS2', 'VS1', 'VVS2', 'VVS1', 'IF'])\n",
        "depth = st.number_input('Diamond Depth Percentage:', min_value=0.1, max_value=100.0, value=1.0)\n",
        "table = st.number_input('Diamond Table Percentage:', min_value=0.1, max_value=100.0, value=1.0)\n",
        "x = st.number_input('Diamond Length (X) in mm:', min_value=0.1, max_value=100.0, value=1.0)\n",
        "y = st.number_input('Diamond Width (Y) in mm:', min_value=0.1, max_value=100.0, value=1.0)\n",
        "z = st.number_input('Diamond Height (Z) in mm:', min_value=0.1, max_value=100.0, value=1.0)\n",
        "\n",
        "if st.button('Predict Price'):\n",
        "    price = predict(carat, cut, color, clarity, depth, table, x, y, z)\n",
        "    st.success(f'The predicted price of the diamond is ${price[0]:.2f} USD')"
      ],
      "metadata": {
        "id": "s2ibD1g99OJ5"
      },
      "execution_count": null,
      "outputs": []
    },
    {
      "cell_type": "code",
      "source": [
        "!streamlit run /content/diamond_app.py & npx localtunnel --port 8501 "
      ],
      "metadata": {
        "id": "BN8kNa8q9OQ3"
      },
      "execution_count": null,
      "outputs": []
    },
    {
      "cell_type": "code",
      "source": [],
      "metadata": {
        "id": "ZqqSgF_D9Oaf"
      },
      "execution_count": null,
      "outputs": []
    },
    {
      "cell_type": "code",
      "source": [],
      "metadata": {
        "id": "cpfSiu6O9PVV"
      },
      "execution_count": null,
      "outputs": []
    },
    {
      "cell_type": "code",
      "source": [],
      "metadata": {
        "id": "1aV2i6vz9PeK"
      },
      "execution_count": null,
      "outputs": []
    },
    {
      "cell_type": "code",
      "source": [],
      "metadata": {
        "id": "H24A7Okj9PlK"
      },
      "execution_count": null,
      "outputs": []
    },
    {
      "cell_type": "code",
      "source": [],
      "metadata": {
        "id": "g8UiPJa59PrX"
      },
      "execution_count": null,
      "outputs": []
    }
  ]
}