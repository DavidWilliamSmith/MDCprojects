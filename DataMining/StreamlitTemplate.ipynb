{
  "nbformat": 4,
  "nbformat_minor": 0,
  "metadata": {
    "colab": {
      "provenance": []
    },
    "kernelspec": {
      "name": "python3",
      "display_name": "Python 3"
    },
    "language_info": {
      "name": "python"
    }
  },
  "cells": [
    {
      "cell_type": "code",
      "execution_count": null,
      "metadata": {
        "colab": {
          "base_uri": "https://localhost:8080/"
        },
        "id": "Viuo32k7h6lV",
        "outputId": "2afdaba5-6886-4168-d1a1-d089a575c00d"
      },
      "outputs": [
        {
          "output_type": "stream",
          "name": "stdout",
          "text": [
            "\u001b[K     |████████████████████████████████| 10.3 MB 5.4 MB/s \n",
            "\u001b[K     |████████████████████████████████| 78 kB 2.0 MB/s \n",
            "\u001b[K     |████████████████████████████████| 182 kB 29.2 MB/s \n",
            "\u001b[K     |████████████████████████████████| 4.7 MB 24.6 MB/s \n",
            "\u001b[K     |████████████████████████████████| 164 kB 37.8 MB/s \n",
            "\u001b[K     |████████████████████████████████| 237 kB 38.7 MB/s \n",
            "\u001b[K     |████████████████████████████████| 62 kB 683 kB/s \n",
            "\u001b[K     |████████████████████████████████| 51 kB 3.3 MB/s \n",
            "\u001b[?25h  Building wheel for validators (setup.py) ... \u001b[?25l\u001b[?25hdone\n"
          ]
        }
      ],
      "source": [
        "!pip install -q streamlit"
      ]
    },
    {
      "cell_type": "code",
      "source": [
        "# 2I0aYWMY1Wb65as34yVYX9dEkMQ_5mJDzNoxpN2XFVdV2GSuR"
      ],
      "metadata": {
        "id": "WEb2iVySj18D"
      },
      "execution_count": null,
      "outputs": []
    },
    {
      "cell_type": "code",
      "source": [
        "!pip install pyngrok"
      ],
      "metadata": {
        "colab": {
          "base_uri": "https://localhost:8080/"
        },
        "id": "Qjw4Tri4kC_R",
        "outputId": "35f0a456-611d-41b1-c6b4-a83fb10cc273"
      },
      "execution_count": null,
      "outputs": [
        {
          "output_type": "stream",
          "name": "stdout",
          "text": [
            "Looking in indexes: https://pypi.org/simple, https://us-python.pkg.dev/colab-wheels/public/simple/\n",
            "Collecting pyngrok\n",
            "  Downloading pyngrok-5.2.0.tar.gz (761 kB)\n",
            "\u001b[K     |████████████████████████████████| 761 kB 4.9 MB/s \n",
            "\u001b[?25hRequirement already satisfied: PyYAML in /usr/local/lib/python3.7/dist-packages (from pyngrok) (6.0)\n",
            "Building wheels for collected packages: pyngrok\n",
            "  Building wheel for pyngrok (setup.py) ... \u001b[?25l\u001b[?25hdone\n",
            "  Created wheel for pyngrok: filename=pyngrok-5.2.0-py3-none-any.whl size=19784 sha256=dfac4045d914ae914399898bb8d677a471478867ed0563f0ae7d5240b34028ff\n",
            "  Stored in directory: /root/.cache/pip/wheels/22/0d/3e/123007fa1c412308a8528000c5b419cfaa15ee9612e6b43519\n",
            "Successfully built pyngrok\n",
            "Installing collected packages: pyngrok\n",
            "Successfully installed pyngrok-5.2.0\n"
          ]
        }
      ]
    },
    {
      "cell_type": "code",
      "source": [
        "!ngrok authtoken 2I0aYWMY1Wb65as34yVYX9dEkMQ_5mJDzNoxpN2XFVdV2GSuR"
      ],
      "metadata": {
        "colab": {
          "base_uri": "https://localhost:8080/"
        },
        "id": "cUTCn9SykO8K",
        "outputId": "16de9113-fcd6-4093-9f17-6736ff62da59"
      },
      "execution_count": null,
      "outputs": [
        {
          "output_type": "stream",
          "name": "stdout",
          "text": [
            "Authtoken saved to configuration file: /root/.ngrok2/ngrok.yml\n"
          ]
        }
      ]
    },
    {
      "cell_type": "code",
      "source": [
        "from pyngrok import ngrok \n",
        "public_url = ngrok.connect(port='8501')\n",
        "public_url"
      ],
      "metadata": {
        "colab": {
          "base_uri": "https://localhost:8080/"
        },
        "id": "tDo12_ajkgxF",
        "outputId": "f7d2bb4c-f1d9-464a-a380-b92fd4e974c5"
      },
      "execution_count": null,
      "outputs": [
        {
          "output_type": "execute_result",
          "data": {
            "text/plain": [
              "<NgrokTunnel: \"http://1a7d-34-66-233-187.ngrok.io\" -> \"http://localhost:80\">"
            ]
          },
          "metadata": {},
          "execution_count": 4
        }
      ]
    },
    {
      "cell_type": "code",
      "source": [
        "# Docs:  https://docs.streamlit.io/library/cheatsheet\n",
        "# API Reference:  https://docs.streamlit.io/library/api-reference"
      ],
      "metadata": {
        "id": "_j3qXz6Zkpe4"
      },
      "execution_count": null,
      "outputs": []
    },
    {
      "cell_type": "code",
      "source": [
        "%%writefile streamlit_app.py\n",
        "import streamlit as st\n",
        "import pandas as pd \n",
        "import plotly.express as px \n",
        "# st.write(\"# Please let this work... \")\n",
        "st.markdown('''\n",
        "# Streamlit Demo for Data Mining Class\n",
        "\n",
        "## How to create web front ends for your ML models\n",
        "\n",
        "[Dr. Ernesto Lee](http://ernesto.net \"Dr. Ernesto Lee\")\n",
        "''')"
      ],
      "metadata": {
        "colab": {
          "base_uri": "https://localhost:8080/"
        },
        "id": "ONl6PCRckuMh",
        "outputId": "9103dfb7-0d08-4881-9661-7a615750b172"
      },
      "execution_count": null,
      "outputs": [
        {
          "output_type": "stream",
          "name": "stdout",
          "text": [
            "Overwriting streamlit_app.py\n"
          ]
        }
      ]
    },
    {
      "cell_type": "code",
      "source": [
        "# st.title(\"Put a title in here\")\n",
        "# st.markdown(\"Put markdown code in here\")\n",
        "# https://markdown-editor.github.com   --- you can easily create markdown\n",
        "# st.header(\"\")"
      ],
      "metadata": {
        "id": "tu8rjOeUtsPJ"
      },
      "execution_count": null,
      "outputs": []
    },
    {
      "cell_type": "code",
      "source": [
        "!streamlit run /content/streamlit_app.py & npx localtunnel --port 8501 "
      ],
      "metadata": {
        "colab": {
          "base_uri": "https://localhost:8080/"
        },
        "id": "R3TtPeSvkuIN",
        "outputId": "47356172-2916-4d68-c82b-a3e5e257effe"
      },
      "execution_count": null,
      "outputs": [
        {
          "metadata": {
            "tags": null
          },
          "name": "stdout",
          "output_type": "stream",
          "text": [
            "[..................] | fetchMetadata: sill resolveWithNewModule localtunnel@2.0\u001b[0m\u001b[K\n",
            "Collecting usage statistics. To deactivate, set browser.gatherUsageStats to False.\n",
            "\u001b[0m\n",
            "\u001b[0m\n",
            "\u001b[34m\u001b[1m  You can now view your Streamlit app in your browser.\u001b[0m\n",
            "\u001b[0m\n",
            "\u001b[34m  Network URL: \u001b[0m\u001b[1mhttp://172.28.0.2:8501\u001b[0m\n",
            "\u001b[34m  External URL: \u001b[0m\u001b[1mhttp://34.121.166.15:8501\u001b[0m\n",
            "\u001b[0m\n",
            "\u001b[K\u001b[?25hnpx: installed 22 in 7.983s\n",
            "your url is: https://clear-queens-behave-34-121-166-15.loca.lt\n"
          ]
        }
      ]
    },
    {
      "cell_type": "code",
      "source": [
        "%%writefile streamlit_app.py \n",
        "import streamlit as st\n",
        "import pandas as pd\n",
        "import plotly.express as px\n",
        "st.write('# Avocado Prices dashboard')  #st.title('Avocado Prices dashboard')\n",
        "# https://markdown-editor.github.io/   This will help build markdown\n",
        "st.markdown('''\n",
        "This is a dashboard showing the *average prices* of different types of :avocado:  \n",
        "Data source: [Kaggle](https://www.kaggle.com/datasets/timmate/avocado-prices-2020)\n",
        "''')\n",
        "st.header('Summary statistics')\n",
        "st.header('Line chart by geographies')"
      ],
      "metadata": {
        "colab": {
          "base_uri": "https://localhost:8080/"
        },
        "id": "yLGB39CPkuD4",
        "outputId": "d263f63a-6089-41fb-b784-3f1b7e268db3"
      },
      "execution_count": null,
      "outputs": [
        {
          "output_type": "stream",
          "name": "stdout",
          "text": [
            "Overwriting streamlit_app.py\n"
          ]
        }
      ]
    },
    {
      "cell_type": "code",
      "source": [
        "!streamlit run /content/streamlit_app.py & npx localtunnel --port 8501 "
      ],
      "metadata": {
        "colab": {
          "base_uri": "https://localhost:8080/"
        },
        "id": "UqBIc1N2kt9u",
        "outputId": "912a0a9c-c369-4825-aa10-289ae8c46d1c"
      },
      "execution_count": null,
      "outputs": [
        {
          "output_type": "stream",
          "name": "stdout",
          "text": [
            "\n",
            "Collecting usage statistics. To deactivate, set browser.gatherUsageStats to False.\n",
            "\u001b[0m\n",
            "\u001b[0m\n",
            "\u001b[34m\u001b[1m  You can now view your Streamlit app in your browser.\u001b[0m\n",
            "\u001b[0m\n",
            "\u001b[34m  Network URL: \u001b[0m\u001b[1mhttp://172.28.0.2:8501\u001b[0m\n",
            "\u001b[34m  External URL: \u001b[0m\u001b[1mhttp://34.66.233.187:8501\u001b[0m\n",
            "\u001b[0m\n",
            "\u001b[K\u001b[?25hnpx: installed 22 in 3.453s\n",
            "your url is: https://brown-roses-obey-34-66-233-187.loca.lt\n",
            "\u001b[34m  Stopping...\u001b[0m\n",
            "^C\n"
          ]
        }
      ]
    },
    {
      "cell_type": "code",
      "source": [
        "%%writefile streamlit_app.py \n",
        "import streamlit as st\n",
        "import pandas as pd\n",
        "import plotly.express as px\n",
        "st.write('# Avocado Prices dashboard')  #st.title('Avocado Prices dashboard')\n",
        "# https://markdown-editor.github.io/   This will help build markdown\n",
        "st.markdown('''\n",
        "This is a dashboard showing the *average prices* of different types of :avocado:  \n",
        "Data source: [Kaggle](https://www.kaggle.com/datasets/timmate/avocado-prices-2020)\n",
        "''')\n",
        "st.header('Summary statistics')\n",
        "st.header('Line chart by geographies')\n",
        "st.header('Summary statistics')\n",
        "avocado = pd.read_csv('https://raw.githubusercontent.com/fenago/datasets/main/avocado-updated-2020.csv')\n",
        "avocado_stats = avocado.groupby('type')['average_price'].mean()\n",
        "st.dataframe(avocado_stats)\n",
        "st.dataframe(avocado)\n"
      ],
      "metadata": {
        "colab": {
          "base_uri": "https://localhost:8080/"
        },
        "id": "nGm8Izj9kt48",
        "outputId": "aef28fd8-692e-4a4f-e29d-9e96ec686ac3"
      },
      "execution_count": null,
      "outputs": [
        {
          "output_type": "stream",
          "name": "stdout",
          "text": [
            "Overwriting streamlit_app.py\n"
          ]
        }
      ]
    },
    {
      "cell_type": "code",
      "source": [
        "!streamlit run /content/streamlit_app.py & npx localtunnel --port 8501 "
      ],
      "metadata": {
        "colab": {
          "base_uri": "https://localhost:8080/"
        },
        "id": "pNhh76lBkt1I",
        "outputId": "5befe2bb-b649-49a3-8328-c69edf046ce8"
      },
      "execution_count": null,
      "outputs": [
        {
          "output_type": "stream",
          "name": "stdout",
          "text": [
            "[#########.........] \\ extract:string-width: sill extract get-caller-file@^2.0.\u001b[0m\u001b[K\n",
            "Collecting usage statistics. To deactivate, set browser.gatherUsageStats to False.\n",
            "\u001b[0m\n",
            "\u001b[0m\n",
            "\u001b[34m\u001b[1m  You can now view your Streamlit app in your browser.\u001b[0m\n",
            "\u001b[0m\n",
            "\u001b[34m  Network URL: \u001b[0m\u001b[1mhttp://172.28.0.2:8501\u001b[0m\n",
            "\u001b[34m  External URL: \u001b[0m\u001b[1mhttp://34.66.233.187:8501\u001b[0m\n",
            "\u001b[0m\n",
            "\u001b[K\u001b[?25hnpx: installed 22 in 3.29s\n",
            "your url is: https://lemon-pants-retire-34-66-233-187.loca.lt\n",
            "\u001b[34m  Stopping...\u001b[0m\n",
            "^C\n"
          ]
        }
      ]
    },
    {
      "cell_type": "code",
      "source": [
        "%%writefile streamlit_app.py \n",
        "import streamlit as st\n",
        "import pandas as pd\n",
        "import plotly.express as px\n",
        "st.write('# Avocado Prices dashboard')  #st.title('Avocado Prices dashboard')\n",
        "# https://markdown-editor.github.io/   This will help build markdown\n",
        "st.markdown('''\n",
        "This is a dashboard showing the *average prices* of different types of :avocado:  \n",
        "Data source: [Kaggle](https://www.kaggle.com/datasets/timmate/avocado-prices-2020)\n",
        "''')\n",
        "st.header('Summary statistics')\n",
        "st.header('Line chart by geographies')\n",
        "st.header('Summary statistics')\n",
        "avocado = pd.read_csv('https://raw.githubusercontent.com/fenago/datasets/main/avocado-updated-2020.csv')\n",
        "avocado_stats = avocado.groupby('type')['average_price'].mean()\n",
        "st.dataframe(avocado_stats)\n",
        "st.header('Line chart by geographies')\n",
        "line_fig = px.line(avocado[avocado['geography'] == 'Los Angeles'],\n",
        "                   x='date', y='average_price',\n",
        "                   color='type',\n",
        "                   title='Avocado Prices in Los Angeles')\n",
        "st.plotly_chart(line_fig)"
      ],
      "metadata": {
        "colab": {
          "base_uri": "https://localhost:8080/"
        },
        "id": "HzPHcYsvktfg",
        "outputId": "16f89df0-4676-41a7-c657-e9f43557bebe"
      },
      "execution_count": null,
      "outputs": [
        {
          "output_type": "stream",
          "name": "stdout",
          "text": [
            "Overwriting streamlit_app.py\n"
          ]
        }
      ]
    },
    {
      "cell_type": "code",
      "source": [
        "!streamlit run /content/streamlit_app.py & npx localtunnel --port 8501 "
      ],
      "metadata": {
        "colab": {
          "base_uri": "https://localhost:8080/"
        },
        "id": "RRvwGHLVxucP",
        "outputId": "d5dfca13-ff47-488c-970c-3c17aebb442a"
      },
      "execution_count": null,
      "outputs": [
        {
          "output_type": "stream",
          "name": "stdout",
          "text": [
            "\u001b[K\u001b[?25hnpx: installed 22 in 3.905s\n",
            "your url is: https://cute-corners-admire-34-66-233-187.loca.lt\n",
            "\n",
            "Collecting usage statistics. To deactivate, set browser.gatherUsageStats to False.\n",
            "\u001b[0m\n",
            "\u001b[0m\n",
            "\u001b[34m\u001b[1m  You can now view your Streamlit app in your browser.\u001b[0m\n",
            "\u001b[0m\n",
            "\u001b[34m  Network URL: \u001b[0m\u001b[1mhttp://172.28.0.2:8501\u001b[0m\n",
            "\u001b[34m  External URL: \u001b[0m\u001b[1mhttp://34.66.233.187:8501\u001b[0m\n",
            "\u001b[0m\n",
            "\u001b[34m  Stopping...\u001b[0m\n",
            "^C\n"
          ]
        }
      ]
    },
    {
      "cell_type": "code",
      "source": [
        "%%writefile streamlit_app.py \n",
        "import streamlit as st\n",
        "import pandas as pd\n",
        "import plotly.express as px\n",
        "st.write('# Avocado Prices dashboard')  #st.title('Avocado Prices dashboard')\n",
        "# https://markdown-editor.github.io/   This will help build markdown\n",
        "st.markdown('''\n",
        "This is a dashboard showing the *average prices* of different types of :avocado:  \n",
        "Data source: [Kaggle](https://www.kaggle.com/datasets/timmate/avocado-prices-2020)\n",
        "''')\n",
        "st.header('Summary statistics')\n",
        "st.header('Line chart by geographies')\n",
        "st.header('Summary statistics')\n",
        "avocado = pd.read_csv('https://raw.githubusercontent.com/fenago/datasets/main/avocado-updated-2020.csv')\n",
        "avocado_stats = avocado.groupby('type')['average_price'].mean()\n",
        "st.dataframe(avocado_stats)\n",
        "st.header('Line chart by geographies')\n",
        "line_fig = px.line(avocado[avocado['geography'] == 'Los Angeles'],\n",
        "                   x='date', y='average_price',\n",
        "                   color='type',\n",
        "                   title='Avocado Prices in Los Angeles')\n",
        "st.plotly_chart(line_fig)\n",
        "selected_geography = st.selectbox(label='Geography', options=avocado['geography'].unique())\n",
        "submitted = st.button('Submit')\n",
        "if submitted:\n",
        "    filtered_avocado = avocado[avocado['geography'] == selected_geography]\n",
        "    line_fig = px.line(filtered_avocado,\n",
        "                       x='date', y='average_price',\n",
        "                       color='type',\n",
        "                       title=f'Avocado Prices in {selected_geography}')\n",
        "    st.plotly_chart(line_fig)\n",
        "\n",
        "with st.form('line_chart'):\n",
        "    selected_geography = st.selectbox(label='Geography', options=avocado['geography'].unique())\n",
        "    submitted = st.form_submit_button('Submit')\n",
        "    if submitted:\n",
        "        filtered_avocado = avocado[avocado['geography'] == selected_geography]\n",
        "        line_fig = px.line(filtered_avocado,\n",
        "                           x='date', y='average_price',\n",
        "                           color='type',\n",
        "                           title=f'Avocado Prices in {selected_geography}')\n",
        "        st.plotly_chart(line_fig)"
      ],
      "metadata": {
        "colab": {
          "base_uri": "https://localhost:8080/"
        },
        "id": "2JRIzbzLyOSd",
        "outputId": "3d433c29-c489-4e7d-c402-48d6818d0bc1"
      },
      "execution_count": null,
      "outputs": [
        {
          "output_type": "stream",
          "name": "stdout",
          "text": [
            "Overwriting streamlit_app.py\n"
          ]
        }
      ]
    },
    {
      "cell_type": "code",
      "source": [
        "!streamlit run /content/streamlit_app.py & npx localtunnel --port 8501 "
      ],
      "metadata": {
        "colab": {
          "base_uri": "https://localhost:8080/"
        },
        "id": "iiIlYD3sySFC",
        "outputId": "8bc420a9-e6a5-46e3-ab2f-7b0efa255d83"
      },
      "execution_count": null,
      "outputs": [
        {
          "output_type": "stream",
          "name": "stdout",
          "text": [
            "\u001b[K\u001b[?25h\n",
            "Collecting usage statistics. To deactivate, set browser.gatherUsageStats to False.\n",
            "\u001b[0m\n",
            "npx: installed 22 in 4.099s\n",
            "\u001b[0m\n",
            "\u001b[34m\u001b[1m  You can now view your Streamlit app in your browser.\u001b[0m\n",
            "\u001b[0m\n",
            "\u001b[34m  Network URL: \u001b[0m\u001b[1mhttp://172.28.0.2:8501\u001b[0m\n",
            "\u001b[34m  External URL: \u001b[0m\u001b[1mhttp://34.66.233.187:8501\u001b[0m\n",
            "\u001b[0m\n",
            "your url is: https://orange-clouds-sleep-34-66-233-187.loca.lt\n",
            "\u001b[34m  Stopping...\u001b[0m\n",
            "^C\n"
          ]
        }
      ]
    },
    {
      "cell_type": "code",
      "source": [
        "%%writefile streamlit_app.py \n",
        "import streamlit as st\n",
        "import pandas as pd\n",
        "import plotly.express as px\n",
        "st.write('# Avocado Prices dashboard')  #st.title('Avocado Prices dashboard')\n",
        "# https://markdown-editor.github.io/   This will help build markdown\n",
        "st.markdown('''\n",
        "This is a dashboard showing the *average prices* of different types of :avocado:  \n",
        "Data source: [Kaggle](https://www.kaggle.com/datasets/timmate/avocado-prices-2020)\n",
        "''')\n",
        "st.header('Summary statistics')\n",
        "st.header('Line chart by geographies')\n",
        "st.header('Summary statistics')\n",
        "avocado = pd.read_csv('https://raw.githubusercontent.com/fenago/datasets/main/avocado-updated-2020.csv')\n",
        "avocado_stats = avocado.groupby('type')['average_price'].mean()\n",
        "st.dataframe(avocado_stats)\n",
        "st.header('Line chart by geographies')\n",
        "line_fig = px.line(avocado[avocado['geography'] == 'Los Angeles'],\n",
        "                   x='date', y='average_price',\n",
        "                   color='type',\n",
        "                   title='Avocado Prices in Los Angeles')\n",
        "st.plotly_chart(line_fig)\n",
        "selected_geography = st.selectbox(label='Geography', options=avocado['geography'].unique())\n",
        "submitted = st.button('Submit')\n",
        "if submitted:\n",
        "    filtered_avocado = avocado[avocado['geography'] == selected_geography]\n",
        "    line_fig = px.line(filtered_avocado,\n",
        "                       x='date', y='average_price',\n",
        "                       color='type',\n",
        "                       title=f'Avocado Prices in {selected_geography}')\n",
        "    st.plotly_chart(line_fig)\n",
        "\n",
        "with st.form('line_chart'):\n",
        "    selected_geography = st.selectbox(label='Geography', options=avocado['geography'].unique())\n",
        "    submitted = st.form_submit_button('Submit')\n",
        "    if submitted:\n",
        "        filtered_avocado = avocado[avocado['geography'] == selected_geography]\n",
        "        line_fig = px.line(filtered_avocado,\n",
        "                           x='date', y='average_price',\n",
        "                           color='type',\n",
        "                           title=f'Avocado Prices in {selected_geography}')\n",
        "        st.plotly_chart(line_fig)\n",
        "\n",
        "with st.sidebar:\n",
        "    st.subheader('About')\n",
        "    st.markdown('This dashboard is made by Dr. Ernesto Lee, using **Streamlit**')\n",
        "\n",
        "st.sidebar.image('https://streamlit.io/images/brand/streamlit-mark-color.png', width=50)\n",
        "\n",
        "@st.cache\n",
        "def load_data(path):\n",
        "    dataset = pd.read_csv(path)\n",
        "    return dataset\n",
        "avocado = load_data('https://raw.githubusercontent.com/fenago/datasets/main/avocado-updated-2020.csv')\n",
        "\n",
        "# display dataframe as a table\n",
        "df = pd.read_csv('https://raw.githubusercontent.com/fenago/datasets/main/avocado-updated-2020.csv')\n",
        "st.dataframe(df)"
      ],
      "metadata": {
        "colab": {
          "base_uri": "https://localhost:8080/"
        },
        "id": "PUQvT5MZy0u3",
        "outputId": "95c35564-3af3-4851-f4a8-acb5dfa8b8c8"
      },
      "execution_count": null,
      "outputs": [
        {
          "output_type": "stream",
          "name": "stdout",
          "text": [
            "Overwriting streamlit_app.py\n"
          ]
        }
      ]
    },
    {
      "cell_type": "code",
      "source": [
        "!streamlit run /content/streamlit_app.py & npx localtunnel --port 8501 "
      ],
      "metadata": {
        "colab": {
          "base_uri": "https://localhost:8080/"
        },
        "id": "WEEph5Ziy6ck",
        "outputId": "76b56e24-0b94-443b-9f77-f17a257405eb"
      },
      "execution_count": null,
      "outputs": [
        {
          "output_type": "stream",
          "name": "stdout",
          "text": [
            "\u001b[K\u001b[?25h\n",
            "Collecting usage statistics. To deactivate, set browser.gatherUsageStats to False.\n",
            "\u001b[0m\n",
            "npx: installed 22 in 3.493s\n",
            "\u001b[0m\n",
            "\u001b[34m\u001b[1m  You can now view your Streamlit app in your browser.\u001b[0m\n",
            "\u001b[0m\n",
            "\u001b[34m  Network URL: \u001b[0m\u001b[1mhttp://172.28.0.2:8501\u001b[0m\n",
            "\u001b[34m  External URL: \u001b[0m\u001b[1mhttp://34.66.233.187:8501\u001b[0m\n",
            "\u001b[0m\n",
            "your url is: https://shaggy-toys-share-34-66-233-187.loca.lt\n",
            "\u001b[34m  Stopping...\u001b[0m\n",
            "^C\n"
          ]
        }
      ]
    }
  ]
}