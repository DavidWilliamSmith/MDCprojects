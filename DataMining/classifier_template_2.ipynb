{
  "nbformat": 4,
  "nbformat_minor": 0,
  "metadata": {
    "colab": {
      "provenance": []
    },
    "kernelspec": {
      "name": "python3",
      "display_name": "Python 3"
    },
    "language_info": {
      "name": "python"
    }
  },
  "cells": [
    {
      "cell_type": "code",
      "execution_count": null,
      "metadata": {
        "id": "ELGFrcmC3U3B"
      },
      "outputs": [],
      "source": [
        "#Import your Libraries\n",
        "import numpy as np\n",
        "import pandas as pd\n",
        "from matplotlib import pyplot as plt\n",
        "import seaborn as sns\n",
        "import sklearn.metrics as metrics\n",
        "%matplotlib inline"
      ]
    },
    {
      "cell_type": "code",
      "source": [
        "df = pd.read_csv('https://raw.githubusercontent.com/fenago/classify/main/data/CreditScoring.csv')\n",
        "df.head()"
      ],
      "metadata": {
        "colab": {
          "base_uri": "https://localhost:8080/",
          "height": 206
        },
        "id": "jhPbGlsZ4Dj-",
        "outputId": "d10f302b-3e67-455b-8ac2-b86a721538d8"
      },
      "execution_count": null,
      "outputs": [
        {
          "output_type": "execute_result",
          "data": {
            "text/plain": [
              "   Status  Seniority  Home  Time  Age  Marital  Records  Job  Expenses  \\\n",
              "0       1          9     1    60   30        2        1    3        73   \n",
              "1       1         17     1    60   58        3        1    1        48   \n",
              "2       2         10     2    36   46        2        2    3        90   \n",
              "3       1          0     1    60   24        1        1    1        63   \n",
              "4       1          0     1    36   26        1        1    1        46   \n",
              "\n",
              "   Income  Assets  Debt  Amount  Price  \n",
              "0     129       0     0     800    846  \n",
              "1     131       0     0    1000   1658  \n",
              "2     200    3000     0    2000   2985  \n",
              "3     182    2500     0     900   1325  \n",
              "4     107       0     0     310    910  "
            ],
            "text/html": [
              "\n",
              "  <div id=\"df-271e1605-e3ed-4570-843a-c6b5667dacdb\">\n",
              "    <div class=\"colab-df-container\">\n",
              "      <div>\n",
              "<style scoped>\n",
              "    .dataframe tbody tr th:only-of-type {\n",
              "        vertical-align: middle;\n",
              "    }\n",
              "\n",
              "    .dataframe tbody tr th {\n",
              "        vertical-align: top;\n",
              "    }\n",
              "\n",
              "    .dataframe thead th {\n",
              "        text-align: right;\n",
              "    }\n",
              "</style>\n",
              "<table border=\"1\" class=\"dataframe\">\n",
              "  <thead>\n",
              "    <tr style=\"text-align: right;\">\n",
              "      <th></th>\n",
              "      <th>Status</th>\n",
              "      <th>Seniority</th>\n",
              "      <th>Home</th>\n",
              "      <th>Time</th>\n",
              "      <th>Age</th>\n",
              "      <th>Marital</th>\n",
              "      <th>Records</th>\n",
              "      <th>Job</th>\n",
              "      <th>Expenses</th>\n",
              "      <th>Income</th>\n",
              "      <th>Assets</th>\n",
              "      <th>Debt</th>\n",
              "      <th>Amount</th>\n",
              "      <th>Price</th>\n",
              "    </tr>\n",
              "  </thead>\n",
              "  <tbody>\n",
              "    <tr>\n",
              "      <th>0</th>\n",
              "      <td>1</td>\n",
              "      <td>9</td>\n",
              "      <td>1</td>\n",
              "      <td>60</td>\n",
              "      <td>30</td>\n",
              "      <td>2</td>\n",
              "      <td>1</td>\n",
              "      <td>3</td>\n",
              "      <td>73</td>\n",
              "      <td>129</td>\n",
              "      <td>0</td>\n",
              "      <td>0</td>\n",
              "      <td>800</td>\n",
              "      <td>846</td>\n",
              "    </tr>\n",
              "    <tr>\n",
              "      <th>1</th>\n",
              "      <td>1</td>\n",
              "      <td>17</td>\n",
              "      <td>1</td>\n",
              "      <td>60</td>\n",
              "      <td>58</td>\n",
              "      <td>3</td>\n",
              "      <td>1</td>\n",
              "      <td>1</td>\n",
              "      <td>48</td>\n",
              "      <td>131</td>\n",
              "      <td>0</td>\n",
              "      <td>0</td>\n",
              "      <td>1000</td>\n",
              "      <td>1658</td>\n",
              "    </tr>\n",
              "    <tr>\n",
              "      <th>2</th>\n",
              "      <td>2</td>\n",
              "      <td>10</td>\n",
              "      <td>2</td>\n",
              "      <td>36</td>\n",
              "      <td>46</td>\n",
              "      <td>2</td>\n",
              "      <td>2</td>\n",
              "      <td>3</td>\n",
              "      <td>90</td>\n",
              "      <td>200</td>\n",
              "      <td>3000</td>\n",
              "      <td>0</td>\n",
              "      <td>2000</td>\n",
              "      <td>2985</td>\n",
              "    </tr>\n",
              "    <tr>\n",
              "      <th>3</th>\n",
              "      <td>1</td>\n",
              "      <td>0</td>\n",
              "      <td>1</td>\n",
              "      <td>60</td>\n",
              "      <td>24</td>\n",
              "      <td>1</td>\n",
              "      <td>1</td>\n",
              "      <td>1</td>\n",
              "      <td>63</td>\n",
              "      <td>182</td>\n",
              "      <td>2500</td>\n",
              "      <td>0</td>\n",
              "      <td>900</td>\n",
              "      <td>1325</td>\n",
              "    </tr>\n",
              "    <tr>\n",
              "      <th>4</th>\n",
              "      <td>1</td>\n",
              "      <td>0</td>\n",
              "      <td>1</td>\n",
              "      <td>36</td>\n",
              "      <td>26</td>\n",
              "      <td>1</td>\n",
              "      <td>1</td>\n",
              "      <td>1</td>\n",
              "      <td>46</td>\n",
              "      <td>107</td>\n",
              "      <td>0</td>\n",
              "      <td>0</td>\n",
              "      <td>310</td>\n",
              "      <td>910</td>\n",
              "    </tr>\n",
              "  </tbody>\n",
              "</table>\n",
              "</div>\n",
              "      <button class=\"colab-df-convert\" onclick=\"convertToInteractive('df-271e1605-e3ed-4570-843a-c6b5667dacdb')\"\n",
              "              title=\"Convert this dataframe to an interactive table.\"\n",
              "              style=\"display:none;\">\n",
              "        \n",
              "  <svg xmlns=\"http://www.w3.org/2000/svg\" height=\"24px\"viewBox=\"0 0 24 24\"\n",
              "       width=\"24px\">\n",
              "    <path d=\"M0 0h24v24H0V0z\" fill=\"none\"/>\n",
              "    <path d=\"M18.56 5.44l.94 2.06.94-2.06 2.06-.94-2.06-.94-.94-2.06-.94 2.06-2.06.94zm-11 1L8.5 8.5l.94-2.06 2.06-.94-2.06-.94L8.5 2.5l-.94 2.06-2.06.94zm10 10l.94 2.06.94-2.06 2.06-.94-2.06-.94-.94-2.06-.94 2.06-2.06.94z\"/><path d=\"M17.41 7.96l-1.37-1.37c-.4-.4-.92-.59-1.43-.59-.52 0-1.04.2-1.43.59L10.3 9.45l-7.72 7.72c-.78.78-.78 2.05 0 2.83L4 21.41c.39.39.9.59 1.41.59.51 0 1.02-.2 1.41-.59l7.78-7.78 2.81-2.81c.8-.78.8-2.07 0-2.86zM5.41 20L4 18.59l7.72-7.72 1.47 1.35L5.41 20z\"/>\n",
              "  </svg>\n",
              "      </button>\n",
              "      \n",
              "  <style>\n",
              "    .colab-df-container {\n",
              "      display:flex;\n",
              "      flex-wrap:wrap;\n",
              "      gap: 12px;\n",
              "    }\n",
              "\n",
              "    .colab-df-convert {\n",
              "      background-color: #E8F0FE;\n",
              "      border: none;\n",
              "      border-radius: 50%;\n",
              "      cursor: pointer;\n",
              "      display: none;\n",
              "      fill: #1967D2;\n",
              "      height: 32px;\n",
              "      padding: 0 0 0 0;\n",
              "      width: 32px;\n",
              "    }\n",
              "\n",
              "    .colab-df-convert:hover {\n",
              "      background-color: #E2EBFA;\n",
              "      box-shadow: 0px 1px 2px rgba(60, 64, 67, 0.3), 0px 1px 3px 1px rgba(60, 64, 67, 0.15);\n",
              "      fill: #174EA6;\n",
              "    }\n",
              "\n",
              "    [theme=dark] .colab-df-convert {\n",
              "      background-color: #3B4455;\n",
              "      fill: #D2E3FC;\n",
              "    }\n",
              "\n",
              "    [theme=dark] .colab-df-convert:hover {\n",
              "      background-color: #434B5C;\n",
              "      box-shadow: 0px 1px 3px 1px rgba(0, 0, 0, 0.15);\n",
              "      filter: drop-shadow(0px 1px 2px rgba(0, 0, 0, 0.3));\n",
              "      fill: #FFFFFF;\n",
              "    }\n",
              "  </style>\n",
              "\n",
              "      <script>\n",
              "        const buttonEl =\n",
              "          document.querySelector('#df-271e1605-e3ed-4570-843a-c6b5667dacdb button.colab-df-convert');\n",
              "        buttonEl.style.display =\n",
              "          google.colab.kernel.accessAllowed ? 'block' : 'none';\n",
              "\n",
              "        async function convertToInteractive(key) {\n",
              "          const element = document.querySelector('#df-271e1605-e3ed-4570-843a-c6b5667dacdb');\n",
              "          const dataTable =\n",
              "            await google.colab.kernel.invokeFunction('convertToInteractive',\n",
              "                                                     [key], {});\n",
              "          if (!dataTable) return;\n",
              "\n",
              "          const docLinkHtml = 'Like what you see? Visit the ' +\n",
              "            '<a target=\"_blank\" href=https://colab.research.google.com/notebooks/data_table.ipynb>data table notebook</a>'\n",
              "            + ' to learn more about interactive tables.';\n",
              "          element.innerHTML = '';\n",
              "          dataTable['output_type'] = 'display_data';\n",
              "          await google.colab.output.renderOutput(dataTable, element);\n",
              "          const docLink = document.createElement('div');\n",
              "          docLink.innerHTML = docLinkHtml;\n",
              "          element.appendChild(docLink);\n",
              "        }\n",
              "      </script>\n",
              "    </div>\n",
              "  </div>\n",
              "  "
            ]
          },
          "metadata": {},
          "execution_count": 2
        }
      ]
    },
    {
      "cell_type": "markdown",
      "source": [
        "Notes\n",
        "This session covers data collection and some procedures of data preparation.\n",
        "\n",
        "Commands, functions, and methods:\n",
        "\n",
        "!wget - Linux shell command for downloading data\n",
        "pd.read.csv() - read csv files\n",
        "df.head() - take a look of the dataframe\n",
        "df.head().T - take a look of the transposed dataframe\n",
        "df.columns - retrieve column names of a dataframe\n",
        "df.columns.str.lower() - lowercase all the letters\n",
        "df.columns.str.replace(' ', '_') - replace the space separator\n",
        "df.dtypes - retrieve data types of all series\n",
        "df.index - retrive indices of a dataframe\n",
        "pd.to_numeric() - convert a series values to numerical values. The errors=coerce argument allows making the transformation despite some encountered errors.\n",
        "df.fillna() - replace NAs with some value\n",
        "(df.x == \"yes\").astype(int) - convert x series of yes-no values to numerical values.\n",
        "df['Weight'] = df['Weight'].astype(int) - this takes a single column of data and converts the data type"
      ],
      "metadata": {
        "id": "upaHAIpj4Sl8"
      }
    },
    {
      "cell_type": "code",
      "source": [
        "len(df)"
      ],
      "metadata": {
        "colab": {
          "base_uri": "https://localhost:8080/"
        },
        "id": "2Hf-m2PG4SMK",
        "outputId": "6416707d-c08f-4baa-ba3c-04a8ac11f685"
      },
      "execution_count": null,
      "outputs": [
        {
          "output_type": "execute_result",
          "data": {
            "text/plain": [
              "4455"
            ]
          },
          "metadata": {},
          "execution_count": 4
        }
      ]
    },
    {
      "cell_type": "code",
      "source": [
        "df.describe()"
      ],
      "metadata": {
        "colab": {
          "base_uri": "https://localhost:8080/",
          "height": 364
        },
        "id": "pgPi7qjQ4RRU",
        "outputId": "2cbbced0-075b-4413-bb00-a116752186d0"
      },
      "execution_count": null,
      "outputs": [
        {
          "output_type": "execute_result",
          "data": {
            "text/plain": [
              "            Status    Seniority         Home         Time          Age  \\\n",
              "count  4455.000000  4455.000000  4455.000000  4455.000000  4455.000000   \n",
              "mean      1.281257     7.987205     2.657015    46.441751    37.077666   \n",
              "std       0.450162     8.173444     1.610467    14.655225    10.984856   \n",
              "min       0.000000     0.000000     0.000000     6.000000    18.000000   \n",
              "25%       1.000000     2.000000     2.000000    36.000000    28.000000   \n",
              "50%       1.000000     5.000000     2.000000    48.000000    36.000000   \n",
              "75%       2.000000    12.000000     4.000000    60.000000    45.000000   \n",
              "max       2.000000    48.000000     6.000000    72.000000    68.000000   \n",
              "\n",
              "           Marital      Records          Job     Expenses        Income  \\\n",
              "count  4455.000000  4455.000000  4455.000000  4455.000000  4.455000e+03   \n",
              "mean      1.879012     1.173513     1.675870    55.568799  7.633170e+05   \n",
              "std       0.643748     0.378733     0.954035    19.515878  8.703625e+06   \n",
              "min       0.000000     1.000000     0.000000    35.000000  0.000000e+00   \n",
              "25%       2.000000     1.000000     1.000000    35.000000  8.000000e+01   \n",
              "50%       2.000000     1.000000     1.000000    51.000000  1.200000e+02   \n",
              "75%       2.000000     1.000000     3.000000    72.000000  1.660000e+02   \n",
              "max       5.000000     2.000000     4.000000   180.000000  1.000000e+08   \n",
              "\n",
              "             Assets          Debt       Amount         Price  \n",
              "count  4.455000e+03  4.455000e+03  4455.000000   4455.000000  \n",
              "mean   1.060341e+06  4.043820e+05  1039.021773   1462.875645  \n",
              "std    1.021757e+07  6.344253e+06   474.543007    628.089913  \n",
              "min    0.000000e+00  0.000000e+00   100.000000    105.000000  \n",
              "25%    0.000000e+00  0.000000e+00   700.000000   1117.500000  \n",
              "50%    3.500000e+03  0.000000e+00  1000.000000   1400.000000  \n",
              "75%    6.000000e+03  0.000000e+00  1300.000000   1692.000000  \n",
              "max    1.000000e+08  1.000000e+08  5000.000000  11140.000000  "
            ],
            "text/html": [
              "\n",
              "  <div id=\"df-32ab86af-ea2b-4130-ac11-2f79894d78df\">\n",
              "    <div class=\"colab-df-container\">\n",
              "      <div>\n",
              "<style scoped>\n",
              "    .dataframe tbody tr th:only-of-type {\n",
              "        vertical-align: middle;\n",
              "    }\n",
              "\n",
              "    .dataframe tbody tr th {\n",
              "        vertical-align: top;\n",
              "    }\n",
              "\n",
              "    .dataframe thead th {\n",
              "        text-align: right;\n",
              "    }\n",
              "</style>\n",
              "<table border=\"1\" class=\"dataframe\">\n",
              "  <thead>\n",
              "    <tr style=\"text-align: right;\">\n",
              "      <th></th>\n",
              "      <th>Status</th>\n",
              "      <th>Seniority</th>\n",
              "      <th>Home</th>\n",
              "      <th>Time</th>\n",
              "      <th>Age</th>\n",
              "      <th>Marital</th>\n",
              "      <th>Records</th>\n",
              "      <th>Job</th>\n",
              "      <th>Expenses</th>\n",
              "      <th>Income</th>\n",
              "      <th>Assets</th>\n",
              "      <th>Debt</th>\n",
              "      <th>Amount</th>\n",
              "      <th>Price</th>\n",
              "    </tr>\n",
              "  </thead>\n",
              "  <tbody>\n",
              "    <tr>\n",
              "      <th>count</th>\n",
              "      <td>4455.000000</td>\n",
              "      <td>4455.000000</td>\n",
              "      <td>4455.000000</td>\n",
              "      <td>4455.000000</td>\n",
              "      <td>4455.000000</td>\n",
              "      <td>4455.000000</td>\n",
              "      <td>4455.000000</td>\n",
              "      <td>4455.000000</td>\n",
              "      <td>4455.000000</td>\n",
              "      <td>4.455000e+03</td>\n",
              "      <td>4.455000e+03</td>\n",
              "      <td>4.455000e+03</td>\n",
              "      <td>4455.000000</td>\n",
              "      <td>4455.000000</td>\n",
              "    </tr>\n",
              "    <tr>\n",
              "      <th>mean</th>\n",
              "      <td>1.281257</td>\n",
              "      <td>7.987205</td>\n",
              "      <td>2.657015</td>\n",
              "      <td>46.441751</td>\n",
              "      <td>37.077666</td>\n",
              "      <td>1.879012</td>\n",
              "      <td>1.173513</td>\n",
              "      <td>1.675870</td>\n",
              "      <td>55.568799</td>\n",
              "      <td>7.633170e+05</td>\n",
              "      <td>1.060341e+06</td>\n",
              "      <td>4.043820e+05</td>\n",
              "      <td>1039.021773</td>\n",
              "      <td>1462.875645</td>\n",
              "    </tr>\n",
              "    <tr>\n",
              "      <th>std</th>\n",
              "      <td>0.450162</td>\n",
              "      <td>8.173444</td>\n",
              "      <td>1.610467</td>\n",
              "      <td>14.655225</td>\n",
              "      <td>10.984856</td>\n",
              "      <td>0.643748</td>\n",
              "      <td>0.378733</td>\n",
              "      <td>0.954035</td>\n",
              "      <td>19.515878</td>\n",
              "      <td>8.703625e+06</td>\n",
              "      <td>1.021757e+07</td>\n",
              "      <td>6.344253e+06</td>\n",
              "      <td>474.543007</td>\n",
              "      <td>628.089913</td>\n",
              "    </tr>\n",
              "    <tr>\n",
              "      <th>min</th>\n",
              "      <td>0.000000</td>\n",
              "      <td>0.000000</td>\n",
              "      <td>0.000000</td>\n",
              "      <td>6.000000</td>\n",
              "      <td>18.000000</td>\n",
              "      <td>0.000000</td>\n",
              "      <td>1.000000</td>\n",
              "      <td>0.000000</td>\n",
              "      <td>35.000000</td>\n",
              "      <td>0.000000e+00</td>\n",
              "      <td>0.000000e+00</td>\n",
              "      <td>0.000000e+00</td>\n",
              "      <td>100.000000</td>\n",
              "      <td>105.000000</td>\n",
              "    </tr>\n",
              "    <tr>\n",
              "      <th>25%</th>\n",
              "      <td>1.000000</td>\n",
              "      <td>2.000000</td>\n",
              "      <td>2.000000</td>\n",
              "      <td>36.000000</td>\n",
              "      <td>28.000000</td>\n",
              "      <td>2.000000</td>\n",
              "      <td>1.000000</td>\n",
              "      <td>1.000000</td>\n",
              "      <td>35.000000</td>\n",
              "      <td>8.000000e+01</td>\n",
              "      <td>0.000000e+00</td>\n",
              "      <td>0.000000e+00</td>\n",
              "      <td>700.000000</td>\n",
              "      <td>1117.500000</td>\n",
              "    </tr>\n",
              "    <tr>\n",
              "      <th>50%</th>\n",
              "      <td>1.000000</td>\n",
              "      <td>5.000000</td>\n",
              "      <td>2.000000</td>\n",
              "      <td>48.000000</td>\n",
              "      <td>36.000000</td>\n",
              "      <td>2.000000</td>\n",
              "      <td>1.000000</td>\n",
              "      <td>1.000000</td>\n",
              "      <td>51.000000</td>\n",
              "      <td>1.200000e+02</td>\n",
              "      <td>3.500000e+03</td>\n",
              "      <td>0.000000e+00</td>\n",
              "      <td>1000.000000</td>\n",
              "      <td>1400.000000</td>\n",
              "    </tr>\n",
              "    <tr>\n",
              "      <th>75%</th>\n",
              "      <td>2.000000</td>\n",
              "      <td>12.000000</td>\n",
              "      <td>4.000000</td>\n",
              "      <td>60.000000</td>\n",
              "      <td>45.000000</td>\n",
              "      <td>2.000000</td>\n",
              "      <td>1.000000</td>\n",
              "      <td>3.000000</td>\n",
              "      <td>72.000000</td>\n",
              "      <td>1.660000e+02</td>\n",
              "      <td>6.000000e+03</td>\n",
              "      <td>0.000000e+00</td>\n",
              "      <td>1300.000000</td>\n",
              "      <td>1692.000000</td>\n",
              "    </tr>\n",
              "    <tr>\n",
              "      <th>max</th>\n",
              "      <td>2.000000</td>\n",
              "      <td>48.000000</td>\n",
              "      <td>6.000000</td>\n",
              "      <td>72.000000</td>\n",
              "      <td>68.000000</td>\n",
              "      <td>5.000000</td>\n",
              "      <td>2.000000</td>\n",
              "      <td>4.000000</td>\n",
              "      <td>180.000000</td>\n",
              "      <td>1.000000e+08</td>\n",
              "      <td>1.000000e+08</td>\n",
              "      <td>1.000000e+08</td>\n",
              "      <td>5000.000000</td>\n",
              "      <td>11140.000000</td>\n",
              "    </tr>\n",
              "  </tbody>\n",
              "</table>\n",
              "</div>\n",
              "      <button class=\"colab-df-convert\" onclick=\"convertToInteractive('df-32ab86af-ea2b-4130-ac11-2f79894d78df')\"\n",
              "              title=\"Convert this dataframe to an interactive table.\"\n",
              "              style=\"display:none;\">\n",
              "        \n",
              "  <svg xmlns=\"http://www.w3.org/2000/svg\" height=\"24px\"viewBox=\"0 0 24 24\"\n",
              "       width=\"24px\">\n",
              "    <path d=\"M0 0h24v24H0V0z\" fill=\"none\"/>\n",
              "    <path d=\"M18.56 5.44l.94 2.06.94-2.06 2.06-.94-2.06-.94-.94-2.06-.94 2.06-2.06.94zm-11 1L8.5 8.5l.94-2.06 2.06-.94-2.06-.94L8.5 2.5l-.94 2.06-2.06.94zm10 10l.94 2.06.94-2.06 2.06-.94-2.06-.94-.94-2.06-.94 2.06-2.06.94z\"/><path d=\"M17.41 7.96l-1.37-1.37c-.4-.4-.92-.59-1.43-.59-.52 0-1.04.2-1.43.59L10.3 9.45l-7.72 7.72c-.78.78-.78 2.05 0 2.83L4 21.41c.39.39.9.59 1.41.59.51 0 1.02-.2 1.41-.59l7.78-7.78 2.81-2.81c.8-.78.8-2.07 0-2.86zM5.41 20L4 18.59l7.72-7.72 1.47 1.35L5.41 20z\"/>\n",
              "  </svg>\n",
              "      </button>\n",
              "      \n",
              "  <style>\n",
              "    .colab-df-container {\n",
              "      display:flex;\n",
              "      flex-wrap:wrap;\n",
              "      gap: 12px;\n",
              "    }\n",
              "\n",
              "    .colab-df-convert {\n",
              "      background-color: #E8F0FE;\n",
              "      border: none;\n",
              "      border-radius: 50%;\n",
              "      cursor: pointer;\n",
              "      display: none;\n",
              "      fill: #1967D2;\n",
              "      height: 32px;\n",
              "      padding: 0 0 0 0;\n",
              "      width: 32px;\n",
              "    }\n",
              "\n",
              "    .colab-df-convert:hover {\n",
              "      background-color: #E2EBFA;\n",
              "      box-shadow: 0px 1px 2px rgba(60, 64, 67, 0.3), 0px 1px 3px 1px rgba(60, 64, 67, 0.15);\n",
              "      fill: #174EA6;\n",
              "    }\n",
              "\n",
              "    [theme=dark] .colab-df-convert {\n",
              "      background-color: #3B4455;\n",
              "      fill: #D2E3FC;\n",
              "    }\n",
              "\n",
              "    [theme=dark] .colab-df-convert:hover {\n",
              "      background-color: #434B5C;\n",
              "      box-shadow: 0px 1px 3px 1px rgba(0, 0, 0, 0.15);\n",
              "      filter: drop-shadow(0px 1px 2px rgba(0, 0, 0, 0.3));\n",
              "      fill: #FFFFFF;\n",
              "    }\n",
              "  </style>\n",
              "\n",
              "      <script>\n",
              "        const buttonEl =\n",
              "          document.querySelector('#df-32ab86af-ea2b-4130-ac11-2f79894d78df button.colab-df-convert');\n",
              "        buttonEl.style.display =\n",
              "          google.colab.kernel.accessAllowed ? 'block' : 'none';\n",
              "\n",
              "        async function convertToInteractive(key) {\n",
              "          const element = document.querySelector('#df-32ab86af-ea2b-4130-ac11-2f79894d78df');\n",
              "          const dataTable =\n",
              "            await google.colab.kernel.invokeFunction('convertToInteractive',\n",
              "                                                     [key], {});\n",
              "          if (!dataTable) return;\n",
              "\n",
              "          const docLinkHtml = 'Like what you see? Visit the ' +\n",
              "            '<a target=\"_blank\" href=https://colab.research.google.com/notebooks/data_table.ipynb>data table notebook</a>'\n",
              "            + ' to learn more about interactive tables.';\n",
              "          element.innerHTML = '';\n",
              "          dataTable['output_type'] = 'display_data';\n",
              "          await google.colab.output.renderOutput(dataTable, element);\n",
              "          const docLink = document.createElement('div');\n",
              "          docLink.innerHTML = docLinkHtml;\n",
              "          element.appendChild(docLink);\n",
              "        }\n",
              "      </script>\n",
              "    </div>\n",
              "  </div>\n",
              "  "
            ]
          },
          "metadata": {},
          "execution_count": 5
        }
      ]
    },
    {
      "cell_type": "code",
      "source": [
        "df.shape"
      ],
      "metadata": {
        "colab": {
          "base_uri": "https://localhost:8080/"
        },
        "id": "qgZb8Huz4taK",
        "outputId": "e9190f06-4184-4373-f87b-f592545af3f9"
      },
      "execution_count": null,
      "outputs": [
        {
          "output_type": "execute_result",
          "data": {
            "text/plain": [
              "(4455, 14)"
            ]
          },
          "metadata": {},
          "execution_count": 6
        }
      ]
    },
    {
      "cell_type": "code",
      "source": [
        "df.info()"
      ],
      "metadata": {
        "colab": {
          "base_uri": "https://localhost:8080/"
        },
        "id": "I-hHWCK04yXk",
        "outputId": "59c581ec-14d4-4004-c18f-5af58852570f"
      },
      "execution_count": null,
      "outputs": [
        {
          "output_type": "stream",
          "name": "stdout",
          "text": [
            "<class 'pandas.core.frame.DataFrame'>\n",
            "RangeIndex: 4455 entries, 0 to 4454\n",
            "Data columns (total 14 columns):\n",
            " #   Column     Non-Null Count  Dtype\n",
            "---  ------     --------------  -----\n",
            " 0   Status     4455 non-null   int64\n",
            " 1   Seniority  4455 non-null   int64\n",
            " 2   Home       4455 non-null   int64\n",
            " 3   Time       4455 non-null   int64\n",
            " 4   Age        4455 non-null   int64\n",
            " 5   Marital    4455 non-null   int64\n",
            " 6   Records    4455 non-null   int64\n",
            " 7   Job        4455 non-null   int64\n",
            " 8   Expenses   4455 non-null   int64\n",
            " 9   Income     4455 non-null   int64\n",
            " 10  Assets     4455 non-null   int64\n",
            " 11  Debt       4455 non-null   int64\n",
            " 12  Amount     4455 non-null   int64\n",
            " 13  Price      4455 non-null   int64\n",
            "dtypes: int64(14)\n",
            "memory usage: 487.4 KB\n"
          ]
        }
      ]
    },
    {
      "cell_type": "code",
      "source": [
        "df.nunique()"
      ],
      "metadata": {
        "colab": {
          "base_uri": "https://localhost:8080/"
        },
        "id": "JPRge8LB44T7",
        "outputId": "be83f029-70c0-4537-843d-6a7c456cec05"
      },
      "execution_count": null,
      "outputs": [
        {
          "output_type": "execute_result",
          "data": {
            "text/plain": [
              "Status          3\n",
              "Seniority      47\n",
              "Home            7\n",
              "Time           11\n",
              "Age            50\n",
              "Marital         6\n",
              "Records         2\n",
              "Job             5\n",
              "Expenses       94\n",
              "Income        353\n",
              "Assets        160\n",
              "Debt          183\n",
              "Amount        285\n",
              "Price        1419\n",
              "dtype: int64"
            ]
          },
          "metadata": {},
          "execution_count": 8
        }
      ]
    },
    {
      "cell_type": "code",
      "source": [
        "df.Status.unique()"
      ],
      "metadata": {
        "colab": {
          "base_uri": "https://localhost:8080/"
        },
        "id": "Z40sDs7y5I5Z",
        "outputId": "23234453-ad97-4b9c-9fc7-052f010a743c"
      },
      "execution_count": null,
      "outputs": [
        {
          "output_type": "execute_result",
          "data": {
            "text/plain": [
              "array([1, 2, 0])"
            ]
          },
          "metadata": {},
          "execution_count": 9
        }
      ]
    },
    {
      "cell_type": "code",
      "source": [
        "df.corr()"
      ],
      "metadata": {
        "colab": {
          "base_uri": "https://localhost:8080/",
          "height": 552
        },
        "id": "H6gZE_GP5Q_e",
        "outputId": "5707c0d8-ecfb-4ef6-bdcc-058931524a1d"
      },
      "execution_count": null,
      "outputs": [
        {
          "output_type": "execute_result",
          "data": {
            "text/plain": [
              "             Status  Seniority      Home      Time       Age   Marital  \\\n",
              "Status     1.000000  -0.260312  0.051025  0.099935 -0.094498  0.010535   \n",
              "Seniority -0.260312   1.000000 -0.145878 -0.021320  0.505787  0.163433   \n",
              "Home       0.051025  -0.145878  1.000000 -0.020880 -0.270784 -0.260712   \n",
              "Time       0.099935  -0.021320 -0.020880  1.000000 -0.051966  0.049978   \n",
              "Age       -0.094498   0.505787 -0.270784 -0.051966  1.000000  0.325652   \n",
              "Marital    0.010535   0.163433 -0.260712  0.049978  0.325652  1.000000   \n",
              "Records    0.278638  -0.015674 -0.013205  0.028094  0.060171  0.082440   \n",
              "Job        0.152722  -0.109339 -0.032042 -0.138454  0.179447  0.034105   \n",
              "Expenses   0.029499   0.125798 -0.334092 -0.001059  0.248254  0.210315   \n",
              "Income     0.059807  -0.034262 -0.022968 -0.020246  0.010653  0.004463   \n",
              "Assets     0.032989   0.026380 -0.020389 -0.039491  0.053084 -0.007824   \n",
              "Debt       0.062401   0.005725 -0.043584 -0.051170  0.015971  0.000985   \n",
              "Amount     0.153771  -0.007859 -0.019560  0.431050  0.028907  0.054130   \n",
              "Price      0.010297   0.040922 -0.026542  0.129796  0.048739  0.062537   \n",
              "\n",
              "            Records       Job  Expenses    Income    Assets      Debt  \\\n",
              "Status     0.278638  0.152722  0.029499  0.059807  0.032989  0.062401   \n",
              "Seniority -0.015674 -0.109339  0.125798 -0.034262  0.026380  0.005725   \n",
              "Home      -0.013205 -0.032042 -0.334092 -0.022968 -0.020389 -0.043584   \n",
              "Time       0.028094 -0.138454 -0.001059 -0.020246 -0.039491 -0.051170   \n",
              "Age        0.060171  0.179447  0.248254  0.010653  0.053084  0.015971   \n",
              "Marital    0.082440  0.034105  0.210315  0.004463 -0.007824  0.000985   \n",
              "Records    1.000000  0.033898  0.057329  0.034741  0.004926  0.008197   \n",
              "Job        0.033898  1.000000  0.024170  0.102801  0.049138  0.029067   \n",
              "Expenses   0.057329  0.024170  1.000000  0.010664 -0.023255 -0.018899   \n",
              "Income     0.034741  0.102801  0.010664  1.000000  0.092042  0.116399   \n",
              "Assets     0.004926  0.049138 -0.023255  0.092042  1.000000  0.616823   \n",
              "Debt       0.008197  0.029067 -0.018899  0.116399  0.616823  1.000000   \n",
              "Amount     0.110349  0.055833  0.048958  0.019659  0.014568  0.056259   \n",
              "Price      0.085143  0.056497  0.040162  0.023088  0.029690  0.066406   \n",
              "\n",
              "             Amount     Price  \n",
              "Status     0.153771  0.010297  \n",
              "Seniority -0.007859  0.040922  \n",
              "Home      -0.019560 -0.026542  \n",
              "Time       0.431050  0.129796  \n",
              "Age        0.028907  0.048739  \n",
              "Marital    0.054130  0.062537  \n",
              "Records    0.110349  0.085143  \n",
              "Job        0.055833  0.056497  \n",
              "Expenses   0.048958  0.040162  \n",
              "Income     0.019659  0.023088  \n",
              "Assets     0.014568  0.029690  \n",
              "Debt       0.056259  0.066406  \n",
              "Amount     1.000000  0.725040  \n",
              "Price      0.725040  1.000000  "
            ],
            "text/html": [
              "\n",
              "  <div id=\"df-a3833bf2-5be6-4001-9110-b6f6296970f7\">\n",
              "    <div class=\"colab-df-container\">\n",
              "      <div>\n",
              "<style scoped>\n",
              "    .dataframe tbody tr th:only-of-type {\n",
              "        vertical-align: middle;\n",
              "    }\n",
              "\n",
              "    .dataframe tbody tr th {\n",
              "        vertical-align: top;\n",
              "    }\n",
              "\n",
              "    .dataframe thead th {\n",
              "        text-align: right;\n",
              "    }\n",
              "</style>\n",
              "<table border=\"1\" class=\"dataframe\">\n",
              "  <thead>\n",
              "    <tr style=\"text-align: right;\">\n",
              "      <th></th>\n",
              "      <th>Status</th>\n",
              "      <th>Seniority</th>\n",
              "      <th>Home</th>\n",
              "      <th>Time</th>\n",
              "      <th>Age</th>\n",
              "      <th>Marital</th>\n",
              "      <th>Records</th>\n",
              "      <th>Job</th>\n",
              "      <th>Expenses</th>\n",
              "      <th>Income</th>\n",
              "      <th>Assets</th>\n",
              "      <th>Debt</th>\n",
              "      <th>Amount</th>\n",
              "      <th>Price</th>\n",
              "    </tr>\n",
              "  </thead>\n",
              "  <tbody>\n",
              "    <tr>\n",
              "      <th>Status</th>\n",
              "      <td>1.000000</td>\n",
              "      <td>-0.260312</td>\n",
              "      <td>0.051025</td>\n",
              "      <td>0.099935</td>\n",
              "      <td>-0.094498</td>\n",
              "      <td>0.010535</td>\n",
              "      <td>0.278638</td>\n",
              "      <td>0.152722</td>\n",
              "      <td>0.029499</td>\n",
              "      <td>0.059807</td>\n",
              "      <td>0.032989</td>\n",
              "      <td>0.062401</td>\n",
              "      <td>0.153771</td>\n",
              "      <td>0.010297</td>\n",
              "    </tr>\n",
              "    <tr>\n",
              "      <th>Seniority</th>\n",
              "      <td>-0.260312</td>\n",
              "      <td>1.000000</td>\n",
              "      <td>-0.145878</td>\n",
              "      <td>-0.021320</td>\n",
              "      <td>0.505787</td>\n",
              "      <td>0.163433</td>\n",
              "      <td>-0.015674</td>\n",
              "      <td>-0.109339</td>\n",
              "      <td>0.125798</td>\n",
              "      <td>-0.034262</td>\n",
              "      <td>0.026380</td>\n",
              "      <td>0.005725</td>\n",
              "      <td>-0.007859</td>\n",
              "      <td>0.040922</td>\n",
              "    </tr>\n",
              "    <tr>\n",
              "      <th>Home</th>\n",
              "      <td>0.051025</td>\n",
              "      <td>-0.145878</td>\n",
              "      <td>1.000000</td>\n",
              "      <td>-0.020880</td>\n",
              "      <td>-0.270784</td>\n",
              "      <td>-0.260712</td>\n",
              "      <td>-0.013205</td>\n",
              "      <td>-0.032042</td>\n",
              "      <td>-0.334092</td>\n",
              "      <td>-0.022968</td>\n",
              "      <td>-0.020389</td>\n",
              "      <td>-0.043584</td>\n",
              "      <td>-0.019560</td>\n",
              "      <td>-0.026542</td>\n",
              "    </tr>\n",
              "    <tr>\n",
              "      <th>Time</th>\n",
              "      <td>0.099935</td>\n",
              "      <td>-0.021320</td>\n",
              "      <td>-0.020880</td>\n",
              "      <td>1.000000</td>\n",
              "      <td>-0.051966</td>\n",
              "      <td>0.049978</td>\n",
              "      <td>0.028094</td>\n",
              "      <td>-0.138454</td>\n",
              "      <td>-0.001059</td>\n",
              "      <td>-0.020246</td>\n",
              "      <td>-0.039491</td>\n",
              "      <td>-0.051170</td>\n",
              "      <td>0.431050</td>\n",
              "      <td>0.129796</td>\n",
              "    </tr>\n",
              "    <tr>\n",
              "      <th>Age</th>\n",
              "      <td>-0.094498</td>\n",
              "      <td>0.505787</td>\n",
              "      <td>-0.270784</td>\n",
              "      <td>-0.051966</td>\n",
              "      <td>1.000000</td>\n",
              "      <td>0.325652</td>\n",
              "      <td>0.060171</td>\n",
              "      <td>0.179447</td>\n",
              "      <td>0.248254</td>\n",
              "      <td>0.010653</td>\n",
              "      <td>0.053084</td>\n",
              "      <td>0.015971</td>\n",
              "      <td>0.028907</td>\n",
              "      <td>0.048739</td>\n",
              "    </tr>\n",
              "    <tr>\n",
              "      <th>Marital</th>\n",
              "      <td>0.010535</td>\n",
              "      <td>0.163433</td>\n",
              "      <td>-0.260712</td>\n",
              "      <td>0.049978</td>\n",
              "      <td>0.325652</td>\n",
              "      <td>1.000000</td>\n",
              "      <td>0.082440</td>\n",
              "      <td>0.034105</td>\n",
              "      <td>0.210315</td>\n",
              "      <td>0.004463</td>\n",
              "      <td>-0.007824</td>\n",
              "      <td>0.000985</td>\n",
              "      <td>0.054130</td>\n",
              "      <td>0.062537</td>\n",
              "    </tr>\n",
              "    <tr>\n",
              "      <th>Records</th>\n",
              "      <td>0.278638</td>\n",
              "      <td>-0.015674</td>\n",
              "      <td>-0.013205</td>\n",
              "      <td>0.028094</td>\n",
              "      <td>0.060171</td>\n",
              "      <td>0.082440</td>\n",
              "      <td>1.000000</td>\n",
              "      <td>0.033898</td>\n",
              "      <td>0.057329</td>\n",
              "      <td>0.034741</td>\n",
              "      <td>0.004926</td>\n",
              "      <td>0.008197</td>\n",
              "      <td>0.110349</td>\n",
              "      <td>0.085143</td>\n",
              "    </tr>\n",
              "    <tr>\n",
              "      <th>Job</th>\n",
              "      <td>0.152722</td>\n",
              "      <td>-0.109339</td>\n",
              "      <td>-0.032042</td>\n",
              "      <td>-0.138454</td>\n",
              "      <td>0.179447</td>\n",
              "      <td>0.034105</td>\n",
              "      <td>0.033898</td>\n",
              "      <td>1.000000</td>\n",
              "      <td>0.024170</td>\n",
              "      <td>0.102801</td>\n",
              "      <td>0.049138</td>\n",
              "      <td>0.029067</td>\n",
              "      <td>0.055833</td>\n",
              "      <td>0.056497</td>\n",
              "    </tr>\n",
              "    <tr>\n",
              "      <th>Expenses</th>\n",
              "      <td>0.029499</td>\n",
              "      <td>0.125798</td>\n",
              "      <td>-0.334092</td>\n",
              "      <td>-0.001059</td>\n",
              "      <td>0.248254</td>\n",
              "      <td>0.210315</td>\n",
              "      <td>0.057329</td>\n",
              "      <td>0.024170</td>\n",
              "      <td>1.000000</td>\n",
              "      <td>0.010664</td>\n",
              "      <td>-0.023255</td>\n",
              "      <td>-0.018899</td>\n",
              "      <td>0.048958</td>\n",
              "      <td>0.040162</td>\n",
              "    </tr>\n",
              "    <tr>\n",
              "      <th>Income</th>\n",
              "      <td>0.059807</td>\n",
              "      <td>-0.034262</td>\n",
              "      <td>-0.022968</td>\n",
              "      <td>-0.020246</td>\n",
              "      <td>0.010653</td>\n",
              "      <td>0.004463</td>\n",
              "      <td>0.034741</td>\n",
              "      <td>0.102801</td>\n",
              "      <td>0.010664</td>\n",
              "      <td>1.000000</td>\n",
              "      <td>0.092042</td>\n",
              "      <td>0.116399</td>\n",
              "      <td>0.019659</td>\n",
              "      <td>0.023088</td>\n",
              "    </tr>\n",
              "    <tr>\n",
              "      <th>Assets</th>\n",
              "      <td>0.032989</td>\n",
              "      <td>0.026380</td>\n",
              "      <td>-0.020389</td>\n",
              "      <td>-0.039491</td>\n",
              "      <td>0.053084</td>\n",
              "      <td>-0.007824</td>\n",
              "      <td>0.004926</td>\n",
              "      <td>0.049138</td>\n",
              "      <td>-0.023255</td>\n",
              "      <td>0.092042</td>\n",
              "      <td>1.000000</td>\n",
              "      <td>0.616823</td>\n",
              "      <td>0.014568</td>\n",
              "      <td>0.029690</td>\n",
              "    </tr>\n",
              "    <tr>\n",
              "      <th>Debt</th>\n",
              "      <td>0.062401</td>\n",
              "      <td>0.005725</td>\n",
              "      <td>-0.043584</td>\n",
              "      <td>-0.051170</td>\n",
              "      <td>0.015971</td>\n",
              "      <td>0.000985</td>\n",
              "      <td>0.008197</td>\n",
              "      <td>0.029067</td>\n",
              "      <td>-0.018899</td>\n",
              "      <td>0.116399</td>\n",
              "      <td>0.616823</td>\n",
              "      <td>1.000000</td>\n",
              "      <td>0.056259</td>\n",
              "      <td>0.066406</td>\n",
              "    </tr>\n",
              "    <tr>\n",
              "      <th>Amount</th>\n",
              "      <td>0.153771</td>\n",
              "      <td>-0.007859</td>\n",
              "      <td>-0.019560</td>\n",
              "      <td>0.431050</td>\n",
              "      <td>0.028907</td>\n",
              "      <td>0.054130</td>\n",
              "      <td>0.110349</td>\n",
              "      <td>0.055833</td>\n",
              "      <td>0.048958</td>\n",
              "      <td>0.019659</td>\n",
              "      <td>0.014568</td>\n",
              "      <td>0.056259</td>\n",
              "      <td>1.000000</td>\n",
              "      <td>0.725040</td>\n",
              "    </tr>\n",
              "    <tr>\n",
              "      <th>Price</th>\n",
              "      <td>0.010297</td>\n",
              "      <td>0.040922</td>\n",
              "      <td>-0.026542</td>\n",
              "      <td>0.129796</td>\n",
              "      <td>0.048739</td>\n",
              "      <td>0.062537</td>\n",
              "      <td>0.085143</td>\n",
              "      <td>0.056497</td>\n",
              "      <td>0.040162</td>\n",
              "      <td>0.023088</td>\n",
              "      <td>0.029690</td>\n",
              "      <td>0.066406</td>\n",
              "      <td>0.725040</td>\n",
              "      <td>1.000000</td>\n",
              "    </tr>\n",
              "  </tbody>\n",
              "</table>\n",
              "</div>\n",
              "      <button class=\"colab-df-convert\" onclick=\"convertToInteractive('df-a3833bf2-5be6-4001-9110-b6f6296970f7')\"\n",
              "              title=\"Convert this dataframe to an interactive table.\"\n",
              "              style=\"display:none;\">\n",
              "        \n",
              "  <svg xmlns=\"http://www.w3.org/2000/svg\" height=\"24px\"viewBox=\"0 0 24 24\"\n",
              "       width=\"24px\">\n",
              "    <path d=\"M0 0h24v24H0V0z\" fill=\"none\"/>\n",
              "    <path d=\"M18.56 5.44l.94 2.06.94-2.06 2.06-.94-2.06-.94-.94-2.06-.94 2.06-2.06.94zm-11 1L8.5 8.5l.94-2.06 2.06-.94-2.06-.94L8.5 2.5l-.94 2.06-2.06.94zm10 10l.94 2.06.94-2.06 2.06-.94-2.06-.94-.94-2.06-.94 2.06-2.06.94z\"/><path d=\"M17.41 7.96l-1.37-1.37c-.4-.4-.92-.59-1.43-.59-.52 0-1.04.2-1.43.59L10.3 9.45l-7.72 7.72c-.78.78-.78 2.05 0 2.83L4 21.41c.39.39.9.59 1.41.59.51 0 1.02-.2 1.41-.59l7.78-7.78 2.81-2.81c.8-.78.8-2.07 0-2.86zM5.41 20L4 18.59l7.72-7.72 1.47 1.35L5.41 20z\"/>\n",
              "  </svg>\n",
              "      </button>\n",
              "      \n",
              "  <style>\n",
              "    .colab-df-container {\n",
              "      display:flex;\n",
              "      flex-wrap:wrap;\n",
              "      gap: 12px;\n",
              "    }\n",
              "\n",
              "    .colab-df-convert {\n",
              "      background-color: #E8F0FE;\n",
              "      border: none;\n",
              "      border-radius: 50%;\n",
              "      cursor: pointer;\n",
              "      display: none;\n",
              "      fill: #1967D2;\n",
              "      height: 32px;\n",
              "      padding: 0 0 0 0;\n",
              "      width: 32px;\n",
              "    }\n",
              "\n",
              "    .colab-df-convert:hover {\n",
              "      background-color: #E2EBFA;\n",
              "      box-shadow: 0px 1px 2px rgba(60, 64, 67, 0.3), 0px 1px 3px 1px rgba(60, 64, 67, 0.15);\n",
              "      fill: #174EA6;\n",
              "    }\n",
              "\n",
              "    [theme=dark] .colab-df-convert {\n",
              "      background-color: #3B4455;\n",
              "      fill: #D2E3FC;\n",
              "    }\n",
              "\n",
              "    [theme=dark] .colab-df-convert:hover {\n",
              "      background-color: #434B5C;\n",
              "      box-shadow: 0px 1px 3px 1px rgba(0, 0, 0, 0.15);\n",
              "      filter: drop-shadow(0px 1px 2px rgba(0, 0, 0, 0.3));\n",
              "      fill: #FFFFFF;\n",
              "    }\n",
              "  </style>\n",
              "\n",
              "      <script>\n",
              "        const buttonEl =\n",
              "          document.querySelector('#df-a3833bf2-5be6-4001-9110-b6f6296970f7 button.colab-df-convert');\n",
              "        buttonEl.style.display =\n",
              "          google.colab.kernel.accessAllowed ? 'block' : 'none';\n",
              "\n",
              "        async function convertToInteractive(key) {\n",
              "          const element = document.querySelector('#df-a3833bf2-5be6-4001-9110-b6f6296970f7');\n",
              "          const dataTable =\n",
              "            await google.colab.kernel.invokeFunction('convertToInteractive',\n",
              "                                                     [key], {});\n",
              "          if (!dataTable) return;\n",
              "\n",
              "          const docLinkHtml = 'Like what you see? Visit the ' +\n",
              "            '<a target=\"_blank\" href=https://colab.research.google.com/notebooks/data_table.ipynb>data table notebook</a>'\n",
              "            + ' to learn more about interactive tables.';\n",
              "          element.innerHTML = '';\n",
              "          dataTable['output_type'] = 'display_data';\n",
              "          await google.colab.output.renderOutput(dataTable, element);\n",
              "          const docLink = document.createElement('div');\n",
              "          docLink.innerHTML = docLinkHtml;\n",
              "          element.appendChild(docLink);\n",
              "        }\n",
              "      </script>\n",
              "    </div>\n",
              "  </div>\n",
              "  "
            ]
          },
          "metadata": {},
          "execution_count": 10
        }
      ]
    },
    {
      "cell_type": "code",
      "source": [
        "# Basic Data Cleaning\n",
        "df.columns = df.columns.str.lower().str.replace(' ', '_') # A\n",
        " \n",
        "string_columns = list(df.dtypes[df.dtypes == 'object'].index) # B\n",
        " \n",
        "for col in string_columns:\n",
        "    df[col] = df[col].str.lower().str.replace(' ', '_') # C"
      ],
      "metadata": {
        "id": "e1IGrIA45TlJ"
      },
      "execution_count": null,
      "outputs": []
    },
    {
      "cell_type": "code",
      "source": [
        "df.sample(7)"
      ],
      "metadata": {
        "colab": {
          "base_uri": "https://localhost:8080/",
          "height": 313
        },
        "id": "8SmQcnGE5W5a",
        "outputId": "e82659ec-eb15-4bbf-8407-4c8a2ed2de6e"
      },
      "execution_count": null,
      "outputs": [
        {
          "output_type": "execute_result",
          "data": {
            "text/plain": [
              "      status  seniority  home  time  age  marital  records  job  expenses  \\\n",
              "1818       1          1     3    36   34        2        1    1        45   \n",
              "44         2          2     2    60   43        2        1    2        75   \n",
              "1059       1          6     0    12   25        1        1    1        35   \n",
              "2837       1          7     2    60   44        2        1    1        45   \n",
              "2206       1          4     5    60   28        5        1    1        35   \n",
              "4242       1          0     1    36   34        1        1    2        43   \n",
              "842        1          4     2    60   41        2        1    1        90   \n",
              "\n",
              "      income    assets      debt  amount  price  \n",
              "1818     100      1800      1500     700   1296  \n",
              "44        71      3000         0    1500   1552  \n",
              "1059      69  99999999  99999999     500   1275  \n",
              "2837     112      3500         0    1450   1625  \n",
              "2206     185         0         0    1500   1797  \n",
              "4242      78         0         0    1200   1550  \n",
              "842      250     10000      2000     800    916  "
            ],
            "text/html": [
              "\n",
              "  <div id=\"df-bc5dcf2a-3361-49b7-94a1-72b93324a43f\">\n",
              "    <div class=\"colab-df-container\">\n",
              "      <div>\n",
              "<style scoped>\n",
              "    .dataframe tbody tr th:only-of-type {\n",
              "        vertical-align: middle;\n",
              "    }\n",
              "\n",
              "    .dataframe tbody tr th {\n",
              "        vertical-align: top;\n",
              "    }\n",
              "\n",
              "    .dataframe thead th {\n",
              "        text-align: right;\n",
              "    }\n",
              "</style>\n",
              "<table border=\"1\" class=\"dataframe\">\n",
              "  <thead>\n",
              "    <tr style=\"text-align: right;\">\n",
              "      <th></th>\n",
              "      <th>status</th>\n",
              "      <th>seniority</th>\n",
              "      <th>home</th>\n",
              "      <th>time</th>\n",
              "      <th>age</th>\n",
              "      <th>marital</th>\n",
              "      <th>records</th>\n",
              "      <th>job</th>\n",
              "      <th>expenses</th>\n",
              "      <th>income</th>\n",
              "      <th>assets</th>\n",
              "      <th>debt</th>\n",
              "      <th>amount</th>\n",
              "      <th>price</th>\n",
              "    </tr>\n",
              "  </thead>\n",
              "  <tbody>\n",
              "    <tr>\n",
              "      <th>1818</th>\n",
              "      <td>1</td>\n",
              "      <td>1</td>\n",
              "      <td>3</td>\n",
              "      <td>36</td>\n",
              "      <td>34</td>\n",
              "      <td>2</td>\n",
              "      <td>1</td>\n",
              "      <td>1</td>\n",
              "      <td>45</td>\n",
              "      <td>100</td>\n",
              "      <td>1800</td>\n",
              "      <td>1500</td>\n",
              "      <td>700</td>\n",
              "      <td>1296</td>\n",
              "    </tr>\n",
              "    <tr>\n",
              "      <th>44</th>\n",
              "      <td>2</td>\n",
              "      <td>2</td>\n",
              "      <td>2</td>\n",
              "      <td>60</td>\n",
              "      <td>43</td>\n",
              "      <td>2</td>\n",
              "      <td>1</td>\n",
              "      <td>2</td>\n",
              "      <td>75</td>\n",
              "      <td>71</td>\n",
              "      <td>3000</td>\n",
              "      <td>0</td>\n",
              "      <td>1500</td>\n",
              "      <td>1552</td>\n",
              "    </tr>\n",
              "    <tr>\n",
              "      <th>1059</th>\n",
              "      <td>1</td>\n",
              "      <td>6</td>\n",
              "      <td>0</td>\n",
              "      <td>12</td>\n",
              "      <td>25</td>\n",
              "      <td>1</td>\n",
              "      <td>1</td>\n",
              "      <td>1</td>\n",
              "      <td>35</td>\n",
              "      <td>69</td>\n",
              "      <td>99999999</td>\n",
              "      <td>99999999</td>\n",
              "      <td>500</td>\n",
              "      <td>1275</td>\n",
              "    </tr>\n",
              "    <tr>\n",
              "      <th>2837</th>\n",
              "      <td>1</td>\n",
              "      <td>7</td>\n",
              "      <td>2</td>\n",
              "      <td>60</td>\n",
              "      <td>44</td>\n",
              "      <td>2</td>\n",
              "      <td>1</td>\n",
              "      <td>1</td>\n",
              "      <td>45</td>\n",
              "      <td>112</td>\n",
              "      <td>3500</td>\n",
              "      <td>0</td>\n",
              "      <td>1450</td>\n",
              "      <td>1625</td>\n",
              "    </tr>\n",
              "    <tr>\n",
              "      <th>2206</th>\n",
              "      <td>1</td>\n",
              "      <td>4</td>\n",
              "      <td>5</td>\n",
              "      <td>60</td>\n",
              "      <td>28</td>\n",
              "      <td>5</td>\n",
              "      <td>1</td>\n",
              "      <td>1</td>\n",
              "      <td>35</td>\n",
              "      <td>185</td>\n",
              "      <td>0</td>\n",
              "      <td>0</td>\n",
              "      <td>1500</td>\n",
              "      <td>1797</td>\n",
              "    </tr>\n",
              "    <tr>\n",
              "      <th>4242</th>\n",
              "      <td>1</td>\n",
              "      <td>0</td>\n",
              "      <td>1</td>\n",
              "      <td>36</td>\n",
              "      <td>34</td>\n",
              "      <td>1</td>\n",
              "      <td>1</td>\n",
              "      <td>2</td>\n",
              "      <td>43</td>\n",
              "      <td>78</td>\n",
              "      <td>0</td>\n",
              "      <td>0</td>\n",
              "      <td>1200</td>\n",
              "      <td>1550</td>\n",
              "    </tr>\n",
              "    <tr>\n",
              "      <th>842</th>\n",
              "      <td>1</td>\n",
              "      <td>4</td>\n",
              "      <td>2</td>\n",
              "      <td>60</td>\n",
              "      <td>41</td>\n",
              "      <td>2</td>\n",
              "      <td>1</td>\n",
              "      <td>1</td>\n",
              "      <td>90</td>\n",
              "      <td>250</td>\n",
              "      <td>10000</td>\n",
              "      <td>2000</td>\n",
              "      <td>800</td>\n",
              "      <td>916</td>\n",
              "    </tr>\n",
              "  </tbody>\n",
              "</table>\n",
              "</div>\n",
              "      <button class=\"colab-df-convert\" onclick=\"convertToInteractive('df-bc5dcf2a-3361-49b7-94a1-72b93324a43f')\"\n",
              "              title=\"Convert this dataframe to an interactive table.\"\n",
              "              style=\"display:none;\">\n",
              "        \n",
              "  <svg xmlns=\"http://www.w3.org/2000/svg\" height=\"24px\"viewBox=\"0 0 24 24\"\n",
              "       width=\"24px\">\n",
              "    <path d=\"M0 0h24v24H0V0z\" fill=\"none\"/>\n",
              "    <path d=\"M18.56 5.44l.94 2.06.94-2.06 2.06-.94-2.06-.94-.94-2.06-.94 2.06-2.06.94zm-11 1L8.5 8.5l.94-2.06 2.06-.94-2.06-.94L8.5 2.5l-.94 2.06-2.06.94zm10 10l.94 2.06.94-2.06 2.06-.94-2.06-.94-.94-2.06-.94 2.06-2.06.94z\"/><path d=\"M17.41 7.96l-1.37-1.37c-.4-.4-.92-.59-1.43-.59-.52 0-1.04.2-1.43.59L10.3 9.45l-7.72 7.72c-.78.78-.78 2.05 0 2.83L4 21.41c.39.39.9.59 1.41.59.51 0 1.02-.2 1.41-.59l7.78-7.78 2.81-2.81c.8-.78.8-2.07 0-2.86zM5.41 20L4 18.59l7.72-7.72 1.47 1.35L5.41 20z\"/>\n",
              "  </svg>\n",
              "      </button>\n",
              "      \n",
              "  <style>\n",
              "    .colab-df-container {\n",
              "      display:flex;\n",
              "      flex-wrap:wrap;\n",
              "      gap: 12px;\n",
              "    }\n",
              "\n",
              "    .colab-df-convert {\n",
              "      background-color: #E8F0FE;\n",
              "      border: none;\n",
              "      border-radius: 50%;\n",
              "      cursor: pointer;\n",
              "      display: none;\n",
              "      fill: #1967D2;\n",
              "      height: 32px;\n",
              "      padding: 0 0 0 0;\n",
              "      width: 32px;\n",
              "    }\n",
              "\n",
              "    .colab-df-convert:hover {\n",
              "      background-color: #E2EBFA;\n",
              "      box-shadow: 0px 1px 2px rgba(60, 64, 67, 0.3), 0px 1px 3px 1px rgba(60, 64, 67, 0.15);\n",
              "      fill: #174EA6;\n",
              "    }\n",
              "\n",
              "    [theme=dark] .colab-df-convert {\n",
              "      background-color: #3B4455;\n",
              "      fill: #D2E3FC;\n",
              "    }\n",
              "\n",
              "    [theme=dark] .colab-df-convert:hover {\n",
              "      background-color: #434B5C;\n",
              "      box-shadow: 0px 1px 3px 1px rgba(0, 0, 0, 0.15);\n",
              "      filter: drop-shadow(0px 1px 2px rgba(0, 0, 0, 0.3));\n",
              "      fill: #FFFFFF;\n",
              "    }\n",
              "  </style>\n",
              "\n",
              "      <script>\n",
              "        const buttonEl =\n",
              "          document.querySelector('#df-bc5dcf2a-3361-49b7-94a1-72b93324a43f button.colab-df-convert');\n",
              "        buttonEl.style.display =\n",
              "          google.colab.kernel.accessAllowed ? 'block' : 'none';\n",
              "\n",
              "        async function convertToInteractive(key) {\n",
              "          const element = document.querySelector('#df-bc5dcf2a-3361-49b7-94a1-72b93324a43f');\n",
              "          const dataTable =\n",
              "            await google.colab.kernel.invokeFunction('convertToInteractive',\n",
              "                                                     [key], {});\n",
              "          if (!dataTable) return;\n",
              "\n",
              "          const docLinkHtml = 'Like what you see? Visit the ' +\n",
              "            '<a target=\"_blank\" href=https://colab.research.google.com/notebooks/data_table.ipynb>data table notebook</a>'\n",
              "            + ' to learn more about interactive tables.';\n",
              "          element.innerHTML = '';\n",
              "          dataTable['output_type'] = 'display_data';\n",
              "          await google.colab.output.renderOutput(dataTable, element);\n",
              "          const docLink = document.createElement('div');\n",
              "          docLink.innerHTML = docLinkHtml;\n",
              "          element.appendChild(docLink);\n",
              "        }\n",
              "      </script>\n",
              "    </div>\n",
              "  </div>\n",
              "  "
            ]
          },
          "metadata": {},
          "execution_count": 22
        }
      ]
    },
    {
      "cell_type": "code",
      "source": [
        "for c in ['income', 'assets', 'debt']:\n",
        "    df[c] = df[c].replace(to_replace=99999999, value=np.nan)\n",
        "df = df[df.status != 0]   # Also make sure to treat the target variable"
      ],
      "metadata": {
        "id": "PG-dDdbn5kIr"
      },
      "execution_count": null,
      "outputs": []
    },
    {
      "cell_type": "code",
      "source": [
        "df.status.unique()"
      ],
      "metadata": {
        "colab": {
          "base_uri": "https://localhost:8080/"
        },
        "id": "HIb1twj352DC",
        "outputId": "a8dd6c85-c1a2-4145-917a-d59b6f137d45"
      },
      "execution_count": null,
      "outputs": [
        {
          "output_type": "execute_result",
          "data": {
            "text/plain": [
              "array([1, 2])"
            ]
          },
          "metadata": {},
          "execution_count": 26
        }
      ]
    },
    {
      "cell_type": "code",
      "source": [
        "df['status'].unique()"
      ],
      "metadata": {
        "colab": {
          "base_uri": "https://localhost:8080/"
        },
        "id": "ko06PZnD6Bx8",
        "outputId": "72607593-2422-4669-fae3-7f197a25688a"
      },
      "execution_count": null,
      "outputs": [
        {
          "output_type": "execute_result",
          "data": {
            "text/plain": [
              "array([1, 2])"
            ]
          },
          "metadata": {},
          "execution_count": 27
        }
      ]
    },
    {
      "cell_type": "code",
      "source": [
        "# Replace with your target variable --- df.YOUR_TARGET_VARIABLE  \n",
        "# Look for major data imbalances\n",
        "# Also replace your X label\n",
        "# REPLACE YOUR TARGET VARIABLE\n",
        "plt.figure(figsize=(6, 4))\n",
        "\n",
        "sns.histplot(df.status, bins=40, color='black', alpha=1)\n",
        "plt.ylabel('Frequency')\n",
        "plt.xlabel('status')\n",
        "plt.title('status')\n",
        "\n",
        "plt.show()"
      ],
      "metadata": {
        "colab": {
          "base_uri": "https://localhost:8080/",
          "height": 295
        },
        "id": "NNxz1fqq6H5c",
        "outputId": "c7edb733-7c72-49ae-a1b6-7ead64f34579"
      },
      "execution_count": null,
      "outputs": [
        {
          "output_type": "display_data",
          "data": {
            "text/plain": [
              "<Figure size 432x288 with 1 Axes>"
            ],
            "image/png": "[encoded data removed]"
          },
          "metadata": {
            "needs_background": "light"
          }
        }
      ]
    },
    {
      "cell_type": "code",
      "source": [
        "# Check for nulls --- you do NOT want nulls when you train\n",
        "df.isnull().sum()"
      ],
      "metadata": {
        "colab": {
          "base_uri": "https://localhost:8080/"
        },
        "id": "tTfloKQQ6Qx8",
        "outputId": "3a7d5314-e459-48b5-c819-b16c2265256c"
      },
      "execution_count": null,
      "outputs": [
        {
          "output_type": "execute_result",
          "data": {
            "text/plain": [
              "status        0\n",
              "seniority     0\n",
              "home          0\n",
              "time          0\n",
              "age           0\n",
              "marital       0\n",
              "records       0\n",
              "job           0\n",
              "expenses      0\n",
              "income       34\n",
              "assets       47\n",
              "debt         18\n",
              "amount        0\n",
              "price         0\n",
              "dtype: int64"
            ]
          },
          "metadata": {},
          "execution_count": 29
        }
      ]
    },
    {
      "cell_type": "code",
      "source": [
        "df.status.value_counts() "
      ],
      "metadata": {
        "colab": {
          "base_uri": "https://localhost:8080/"
        },
        "id": "MGLh6HM76W_-",
        "outputId": "6e5c4c8d-fdf8-41bd-b2ef-40ad6f6ba6f8"
      },
      "execution_count": null,
      "outputs": [
        {
          "output_type": "execute_result",
          "data": {
            "text/plain": [
              "1    3200\n",
              "2    1254\n",
              "Name: status, dtype: int64"
            ]
          },
          "metadata": {},
          "execution_count": 30
        }
      ]
    },
    {
      "cell_type": "code",
      "source": [
        "#delete columns --- this may or may NOT be needed.  As before - skip if you don't need it\n",
        "# You will encounter times where you will want to delete columns.  This is how you do that.\n",
        "# df = df.drop(['x5_latitude', 'x6_longitude', 'x1_transaction_date'], axis=1)\n",
        "# df"
      ],
      "metadata": {
        "id": "2AG4eU5M6bWe"
      },
      "execution_count": null,
      "outputs": []
    },
    {
      "cell_type": "code",
      "source": [
        "# Split the data into test, train, validation sets... 80/20\n",
        "from sklearn.model_selection import train_test_split\n",
        "# This gives the 80/20 train test split\n",
        "df_train_full, df_test = train_test_split(df, test_size=0.2, random_state=11)\n",
        "\n",
        "len(df_train_full), len(df_test)\n",
        "# Replace nulls with 0's - these are pandas dataframes\n",
        "df_train_full = df_train_full.fillna(0)\n",
        "\n",
        "df_test = df_test.fillna(0)\n",
        "len(df_train_full),len(df_test)"
      ],
      "metadata": {
        "colab": {
          "base_uri": "https://localhost:8080/"
        },
        "id": "Ix60keEz6iip",
        "outputId": "b7384071-224c-4295-be01-4c865a094fd0"
      },
      "execution_count": null,
      "outputs": [
        {
          "output_type": "execute_result",
          "data": {
            "text/plain": [
              "(3563, 891)"
            ]
          },
          "metadata": {},
          "execution_count": 32
        }
      ]
    },
    {
      "cell_type": "code",
      "source": [
        "#Split the y out into train/test/splits... these are numpy ndarrays ... msrp is your target variables\n",
        "# Replace with your target variable!!!  \n",
        "y_train = (df_train_full.status).values\n",
        "y_test = (df_test.status).values\n",
        "del df_train_full['status']\n",
        "del df_test['status']"
      ],
      "metadata": {
        "id": "D7tZ51oy6tFc"
      },
      "execution_count": null,
      "outputs": []
    },
    {
      "cell_type": "code",
      "source": [
        "len(y_train),len(y_test)"
      ],
      "metadata": {
        "colab": {
          "base_uri": "https://localhost:8080/"
        },
        "id": "EqQIZzgh6zwv",
        "outputId": "7a068812-cf62-4b6d-ad99-2a9e4204abd3"
      },
      "execution_count": null,
      "outputs": [
        {
          "output_type": "execute_result",
          "data": {
            "text/plain": [
              "(3563, 891)"
            ]
          },
          "metadata": {},
          "execution_count": 34
        }
      ]
    },
    {
      "cell_type": "code",
      "source": [
        "# Convert these data frames into a LIST of DICTIONARIES (each element in the list is a dictionary (the record))\n",
        "dict_train = df_train_full.to_dict(orient='records')\n",
        "dict_test = df_test.to_dict(orient='records')"
      ],
      "metadata": {
        "id": "KhPWZMRA64U0"
      },
      "execution_count": null,
      "outputs": []
    },
    {
      "cell_type": "code",
      "source": [
        "# Convert the LIST OF DICTIONARIES into a Feature Matrix (does all of the encoding)\n",
        "from sklearn.feature_extraction import DictVectorizer\n",
        " \n",
        "dv = DictVectorizer(sparse=False)\n",
        " \n",
        "X_train = dv.fit_transform(dict_train)\n",
        "X_test = dv.transform(dict_test)\n",
        "features = dv.get_feature_names()  #Features as they exist in the Vectorized Dictionary (this is an ndarray)"
      ],
      "metadata": {
        "colab": {
          "base_uri": "https://localhost:8080/"
        },
        "id": "YL8BivB169Ck",
        "outputId": "f128132a-ac66-4240-ec59-0e8485ed9e24"
      },
      "execution_count": null,
      "outputs": [
        {
          "output_type": "stream",
          "name": "stderr",
          "text": [
            "/usr/local/lib/python3.7/dist-packages/sklearn/utils/deprecation.py:87: FutureWarning: Function get_feature_names is deprecated; get_feature_names is deprecated in 1.0 and will be removed in 1.2. Please use get_feature_names_out instead.\n",
            "  warnings.warn(msg, category=FutureWarning)\n"
          ]
        }
      ]
    },
    {
      "cell_type": "code",
      "source": [
        "features"
      ],
      "metadata": {
        "colab": {
          "base_uri": "https://localhost:8080/"
        },
        "id": "7ZPmsk8e7B2z",
        "outputId": "fc7046de-5ccb-41ea-95ac-31ffcb74e8e4"
      },
      "execution_count": null,
      "outputs": [
        {
          "output_type": "execute_result",
          "data": {
            "text/plain": [
              "['age',\n",
              " 'amount',\n",
              " 'assets',\n",
              " 'debt',\n",
              " 'expenses',\n",
              " 'home',\n",
              " 'income',\n",
              " 'job',\n",
              " 'marital',\n",
              " 'price',\n",
              " 'records',\n",
              " 'seniority',\n",
              " 'time']"
            ]
          },
          "metadata": {},
          "execution_count": 37
        }
      ]
    },
    {
      "cell_type": "code",
      "source": [
        "X_test.shape"
      ],
      "metadata": {
        "colab": {
          "base_uri": "https://localhost:8080/"
        },
        "id": "FQlsoKyr7HJk",
        "outputId": "528273ca-0606-450d-d439-cffffe9881d6"
      },
      "execution_count": null,
      "outputs": [
        {
          "output_type": "execute_result",
          "data": {
            "text/plain": [
              "(891, 13)"
            ]
          },
          "metadata": {},
          "execution_count": 38
        }
      ]
    },
    {
      "cell_type": "code",
      "source": [
        "# Compare Algorithms with the Algorithm Harness\n",
        "# https://scikit-learn.org/stable/supervised_learning.html#supervised-learning\n",
        "from sklearn.metrics import roc_auc_score\n",
        "from time import time\n",
        "from sklearn.metrics import explained_variance_score,mean_absolute_error,r2_score\n",
        "from pandas import read_csv\n",
        "from matplotlib import pyplot\n",
        "from sklearn.model_selection import KFold\n",
        "from sklearn.model_selection import cross_val_score\n",
        "from sklearn.linear_model import LogisticRegression\n",
        "from sklearn.tree import DecisionTreeClassifier\n",
        "from sklearn.neighbors import KNeighborsClassifier\n",
        "from sklearn.discriminant_analysis import LinearDiscriminantAnalysis\n",
        "from sklearn.naive_bayes import GaussianNB\n",
        "from sklearn.svm import SVC\n",
        "models = []\n",
        "models.append(('LR', LogisticRegression(solver='liblinear')))\n",
        "models.append(('LDA', LinearDiscriminantAnalysis()))\n",
        "models.append(('KNN', KNeighborsClassifier()))\n",
        "models.append(('CART', DecisionTreeClassifier()))\n",
        "models.append(('NB', GaussianNB()))\n",
        "models.append(('SVM', SVC(gamma='auto')))\n",
        "# evaluate each model in turn\n",
        "results = []\n",
        "names = []\n",
        "scoring = 'roc_auc'\n",
        "# you can also use other metrics to score your models: https://iqcode.com/code/python/sklearn-cross-val-score-scoring-options\n",
        "for name, model in models:\n",
        "    start = time()\n",
        "    kfold = KFold(n_splits=10, random_state=7, shuffle=True)\n",
        "    model.fit(X_train, y_train)\n",
        "    train_time = time() - start\n",
        "    cv_results = cross_val_score(model, X_train, y_train, cv=kfold, scoring=scoring)\n",
        "    predict_time = time()-start \n",
        "    results.append(cv_results)\n",
        "    names.append(name)\n",
        "    msg = \"%s: %f (%f)\" % (name, cv_results.mean(), cv_results.std())\n",
        "    #y_pred = model.predict_proba(X_train)[:, 1]\n",
        "    #auc = roc_auc_score(y_train, y_pred)\n",
        "    print(msg)\n",
        "    print(\"Score for each of the 10 K-fold tests: \",cv_results)\n",
        "    print(model)\n",
        "    print(\"\\tTraining time: %0.3fs\" % train_time)\n",
        "    print(\"\\tPrediction time: %0.3fs\" % predict_time)\n",
        "    #y_pred = model.predict(X_test)\n",
        "    #print(\"\\tExplained variance:\", explained_variance_score(y_test, y_pred))\n",
        "    print()\n",
        "    \n",
        "    \n",
        "    \n",
        "# boxplot algorithm comparison\n",
        "fig = pyplot.figure()\n",
        "fig.suptitle('Algorithm Comparison')\n",
        "ax = fig.add_subplot(111)\n",
        "pyplot.boxplot(results)\n",
        "ax.set_xticklabels(names)\n",
        "pyplot.show()"
      ],
      "metadata": {
        "colab": {
          "base_uri": "https://localhost:8080/",
          "height": 1000
        },
        "id": "bg4VnxQk7Tlm",
        "outputId": "09f7880a-c6c1-429a-c984-a45f0153ff33"
      },
      "execution_count": null,
      "outputs": [
        {
          "output_type": "stream",
          "name": "stdout",
          "text": [
            "LR: 0.810092 (0.035482)\n",
            "Score for each of the 10 K-fold tests:  [0.80269355 0.82057004 0.82568843 0.77159455 0.84697401 0.82648454\n",
            " 0.87052458 0.7381332  0.79860322 0.79965651]\n",
            "LogisticRegression(solver='liblinear')\n",
            "\tTraining time: 0.033s\n",
            "\tPrediction time: 0.404s\n",
            "\n",
            "LDA: 0.811220 (0.037792)\n",
            "Score for each of the 10 K-fold tests:  [0.81215401 0.81070394 0.84204827 0.74551282 0.84860558 0.82223487\n",
            " 0.87167581 0.7501942  0.8081452  0.80092593]\n",
            "LinearDiscriminantAnalysis()\n",
            "\tTraining time: 0.021s\n",
            "\tPrediction time: 0.114s\n",
            "\n",
            "KNN: 0.664181 (0.022899)\n",
            "Score for each of the 10 K-fold tests:  [0.66198463 0.67541696 0.61593054 0.62670272 0.676513   0.6732878\n",
            " 0.6726275  0.69469316 0.67011126 0.6745445 ]\n",
            "KNeighborsClassifier()\n",
            "\tTraining time: 0.008s\n",
            "\tPrediction time: 0.129s\n",
            "\n",
            "CART: 0.641200 (0.028942)\n",
            "Score for each of the 10 K-fold tests:  [0.67567958 0.64634719 0.64582689 0.61987179 0.64801745 0.65389869\n",
            " 0.67410492 0.56782779 0.64231769 0.63810484]\n",
            "DecisionTreeClassifier()\n",
            "\tTraining time: 0.017s\n",
            "\tPrediction time: 0.203s\n",
            "\n",
            "NB: 0.774106 (0.035434)\n",
            "Score for each of the 10 K-fold tests:  [0.72424192 0.80412654 0.80275371 0.72592147 0.79381522 0.81259723\n",
            " 0.82075291 0.74209902 0.77143901 0.74331691]\n",
            "GaussianNB()\n",
            "\tTraining time: 0.004s\n",
            "\tPrediction time: 0.031s\n",
            "\n",
            "SVM: 0.502723 (0.008600)\n",
            "Score for each of the 10 K-fold tests:  [0.51082376 0.49690706 0.4972927  0.50062099 0.51149687 0.50134699\n",
            " 0.4855712  0.50030664 0.51758161 0.505283  ]\n",
            "SVC(gamma='auto')\n",
            "\tTraining time: 0.856s\n",
            "\tPrediction time: 8.312s\n",
            "\n"
          ]
        },
        {
          "output_type": "display_data",
          "data": {
            "text/plain": [
              "<Figure size 432x288 with 1 Axes>"
            ],
            "image/png": "[encoded data removed]"
          },
          "metadata": {
            "needs_background": "light"
          }
        }
      ]
    },
    {
      "cell_type": "code",
      "source": [],
      "metadata": {
        "id": "pYwH1naU717E"
      },
      "execution_count": null,
      "outputs": []
    },
    {
      "cell_type": "markdown",
      "source": [
        "# Pick a couple of models to go further"
      ],
      "metadata": {
        "id": "f7Di-ad7724D"
      }
    },
    {
      "cell_type": "code",
      "source": [
        "# Let's assume that the decision tree is the one we want to explore\n",
        "from sklearn.tree import DecisionTreeClassifier\n",
        "dt = DecisionTreeClassifier()\n",
        "dt.fit(X_train, y_train)"
      ],
      "metadata": {
        "colab": {
          "base_uri": "https://localhost:8080/"
        },
        "id": "4UCs27ha762N",
        "outputId": "ad67c72c-bcef-475f-88a4-8ac86c4c4638"
      },
      "execution_count": null,
      "outputs": [
        {
          "output_type": "execute_result",
          "data": {
            "text/plain": [
              "DecisionTreeClassifier()"
            ]
          },
          "metadata": {},
          "execution_count": 40
        }
      ]
    },
    {
      "cell_type": "code",
      "source": [
        "# This will give you the list of Hyperparameters of your model\n",
        "dt.get_params()"
      ],
      "metadata": {
        "colab": {
          "base_uri": "https://localhost:8080/"
        },
        "id": "3UypglqR8BnG",
        "outputId": "84daabc8-9385-42e9-b543-72b2d9b8a0cc"
      },
      "execution_count": null,
      "outputs": [
        {
          "output_type": "execute_result",
          "data": {
            "text/plain": [
              "{'ccp_alpha': 0.0,\n",
              " 'class_weight': None,\n",
              " 'criterion': 'gini',\n",
              " 'max_depth': None,\n",
              " 'max_features': None,\n",
              " 'max_leaf_nodes': None,\n",
              " 'min_impurity_decrease': 0.0,\n",
              " 'min_samples_leaf': 1,\n",
              " 'min_samples_split': 2,\n",
              " 'min_weight_fraction_leaf': 0.0,\n",
              " 'random_state': None,\n",
              " 'splitter': 'best'}"
            ]
          },
          "metadata": {},
          "execution_count": 41
        }
      ]
    },
    {
      "cell_type": "code",
      "source": [
        "# You have converted the dataframe into a list of dictionaries - validate the headers\n",
        "type(X_train)\n",
        "type(dv.get_feature_names())\n",
        "type(dt.feature_importances_)\n",
        "dv.get_feature_names()"
      ],
      "metadata": {
        "colab": {
          "base_uri": "https://localhost:8080/"
        },
        "id": "GRbT0gHr8JPF",
        "outputId": "4b7c6226-9ed4-4f72-955c-51d0929bc6cc"
      },
      "execution_count": null,
      "outputs": [
        {
          "output_type": "stream",
          "name": "stderr",
          "text": [
            "/usr/local/lib/python3.7/dist-packages/sklearn/utils/deprecation.py:87: FutureWarning: Function get_feature_names is deprecated; get_feature_names is deprecated in 1.0 and will be removed in 1.2. Please use get_feature_names_out instead.\n",
            "  warnings.warn(msg, category=FutureWarning)\n"
          ]
        },
        {
          "output_type": "execute_result",
          "data": {
            "text/plain": [
              "['age',\n",
              " 'amount',\n",
              " 'assets',\n",
              " 'debt',\n",
              " 'expenses',\n",
              " 'home',\n",
              " 'income',\n",
              " 'job',\n",
              " 'marital',\n",
              " 'price',\n",
              " 'records',\n",
              " 'seniority',\n",
              " 'time']"
            ]
          },
          "metadata": {},
          "execution_count": 42
        }
      ]
    },
    {
      "cell_type": "code",
      "source": [
        "# These are the model properties.  You can call all of these\n",
        "def get_properties(model):   \n",
        "  return [i for i in model.__dict__ if i.endswith('_')] \n",
        "get_properties(dt)"
      ],
      "metadata": {
        "colab": {
          "base_uri": "https://localhost:8080/"
        },
        "id": "vnRrz9-q8Q9_",
        "outputId": "5036dd15-8f63-4c92-f36b-d55de6c55050"
      },
      "execution_count": null,
      "outputs": [
        {
          "output_type": "execute_result",
          "data": {
            "text/plain": [
              "['n_features_in_',\n",
              " 'n_outputs_',\n",
              " 'classes_',\n",
              " 'n_classes_',\n",
              " 'max_features_',\n",
              " 'tree_']"
            ]
          },
          "metadata": {},
          "execution_count": 43
        }
      ]
    },
    {
      "cell_type": "code",
      "source": [
        "# Very important.  Once you have a trained model - interegate the coefficients to see WHAT is important\n",
        "feature_names=dv.feature_names_\n",
        "# Evaluate the coefficients to learn what the model thinks is important in the predictions.\n",
        "for i,j in zip(feature_names, dt.feature_importances_): print('%.3f' % j, i)"
      ],
      "metadata": {
        "colab": {
          "base_uri": "https://localhost:8080/"
        },
        "id": "c2udUuxn8Ywc",
        "outputId": "1fb3d7c5-f5d8-4acb-d874-7b1db293a724"
      },
      "execution_count": null,
      "outputs": [
        {
          "output_type": "stream",
          "name": "stdout",
          "text": [
            "0.087 age\n",
            "0.119 amount\n",
            "0.069 assets\n",
            "0.024 debt\n",
            "0.061 expenses\n",
            "0.032 home\n",
            "0.178 income\n",
            "0.036 job\n",
            "0.019 marital\n",
            "0.127 price\n",
            "0.084 records\n",
            "0.130 seniority\n",
            "0.035 time\n"
          ]
        }
      ]
    },
    {
      "cell_type": "code",
      "source": [
        "from sklearn.metrics import confusion_matrix\n",
        "from sklearn.metrics import precision_score, recall_score, f1_score, accuracy_score\n",
        "import matplotlib.pyplot as plt\n",
        "# predict_proba predicts the probability and predict just predicts the category\n",
        "# y_pred = dt.predict_proba(X_test)[:, 1]\n",
        "y_pred = dt.predict(X_test)\n",
        "\n",
        "conf_matrix = confusion_matrix(y_true=y_test, y_pred=y_pred)\n",
        "#\n",
        "# Print the confusion matrix using Matplotlib\n",
        "#\n",
        "fig, ax = plt.subplots(figsize=(5, 5))\n",
        "ax.matshow(conf_matrix, cmap=plt.cm.Oranges, alpha=0.3)\n",
        "for i in range(conf_matrix.shape[0]):\n",
        "    for j in range(conf_matrix.shape[1]):\n",
        "        ax.text(x=j, y=i,s=conf_matrix[i, j], va='center', ha='center', size='xx-large')\n",
        " \n",
        "plt.xlabel('Predictions', fontsize=18)\n",
        "plt.ylabel('Actuals', fontsize=18)\n",
        "plt.title('Confusion Matrix', fontsize=18)\n",
        "plt.show()"
      ],
      "metadata": {
        "colab": {
          "base_uri": "https://localhost:8080/",
          "height": 358
        },
        "id": "lCJOwFap9q9S",
        "outputId": "73c7389e-8ebf-4916-c627-f04b7d4da5a6"
      },
      "execution_count": null,
      "outputs": [
        {
          "output_type": "display_data",
          "data": {
            "text/plain": [
              "<Figure size 360x360 with 1 Axes>"
            ],
            "image/png": "[encoded data removed]"
          },
          "metadata": {
            "needs_background": "light"
          }
        }
      ]
    },
    {
      "cell_type": "code",
      "source": [
        "# Read this as a percentage - What proportion of positive identifications was actually correct?\n",
        "print('Precision: %.3f' % precision_score(y_test, y_pred))"
      ],
      "metadata": {
        "colab": {
          "base_uri": "https://localhost:8080/"
        },
        "id": "5I-12WhL-AFI",
        "outputId": "e774e6a8-aaf1-4edb-bc16-daa5911a086f"
      },
      "execution_count": null,
      "outputs": [
        {
          "output_type": "stream",
          "name": "stdout",
          "text": [
            "Precision: 0.815\n"
          ]
        }
      ]
    },
    {
      "cell_type": "code",
      "source": [
        "print('Recall: %.3f' % recall_score(y_test, y_pred))"
      ],
      "metadata": {
        "colab": {
          "base_uri": "https://localhost:8080/"
        },
        "id": "717sAa21-FfG",
        "outputId": "5c7e982b-d3f4-4e2e-d71b-6527721c8c99"
      },
      "execution_count": null,
      "outputs": [
        {
          "output_type": "stream",
          "name": "stdout",
          "text": [
            "Recall: 0.810\n"
          ]
        }
      ]
    },
    {
      "cell_type": "code",
      "source": [
        "print('Accuracy: %.3f' % accuracy_score(y_test, y_pred))"
      ],
      "metadata": {
        "colab": {
          "base_uri": "https://localhost:8080/"
        },
        "id": "5XHme1Pf-Jd9",
        "outputId": "1445e582-87c4-4999-84e5-e105a40a7fd8"
      },
      "execution_count": null,
      "outputs": [
        {
          "output_type": "stream",
          "name": "stdout",
          "text": [
            "Accuracy: 0.735\n"
          ]
        }
      ]
    },
    {
      "cell_type": "code",
      "source": [
        "# This is just for the TRUE --- Not the False\n",
        "print('F1 Score: %.3f' % f1_score(y_test, y_pred))"
      ],
      "metadata": {
        "colab": {
          "base_uri": "https://localhost:8080/"
        },
        "id": "EmanAYgY-cVj",
        "outputId": "8c1ccfec-dcff-42b5-df87-37942304b450"
      },
      "execution_count": null,
      "outputs": [
        {
          "output_type": "stream",
          "name": "stdout",
          "text": [
            "F1 Score: 0.813\n"
          ]
        }
      ]
    },
    {
      "cell_type": "code",
      "source": [
        "from sklearn.metrics import classification_report\n",
        "print(classification_report(y_test, y_pred))"
      ],
      "metadata": {
        "colab": {
          "base_uri": "https://localhost:8080/"
        },
        "id": "6kwNOgAB-lnf",
        "outputId": "6a488e04-55f1-4488-e7cd-da54cbfbd428"
      },
      "execution_count": null,
      "outputs": [
        {
          "output_type": "stream",
          "name": "stdout",
          "text": [
            "              precision    recall  f1-score   support\n",
            "\n",
            "           1       0.82      0.81      0.81       632\n",
            "           2       0.54      0.55      0.55       259\n",
            "\n",
            "    accuracy                           0.74       891\n",
            "   macro avg       0.68      0.68      0.68       891\n",
            "weighted avg       0.74      0.74      0.74       891\n",
            "\n"
          ]
        }
      ]
    },
    {
      "cell_type": "code",
      "source": [
        "# Same info can be found in the score report\n",
        "# Be ver careful about the data types. predict_proba returns a float\n",
        "# predict returns a different data type\n",
        "from sklearn.metrics import f1_score\n",
        "y_pred = dt.predict_proba(X_test)[:, 1]\n",
        "y_pred = y_pred.astype('float')\n",
        "f1_score(y_test, y_pred, average=None)"
      ],
      "metadata": {
        "colab": {
          "base_uri": "https://localhost:8080/"
        },
        "id": "xlXEvYeH_fo_",
        "outputId": "0e2ac4a2-bde7-481d-f854-dcab9af4e455"
      },
      "execution_count": null,
      "outputs": [
        {
          "output_type": "execute_result",
          "data": {
            "text/plain": [
              "array([0.        , 0.26815642, 0.        ])"
            ]
          },
          "metadata": {},
          "execution_count": 51
        }
      ]
    },
    {
      "cell_type": "code",
      "source": [
        "\n",
        "# Take a look at the first 10 rows and compare the predictions.\n",
        "pred_y = dt.predict(X_test)\n",
        "print(\"The first 10 prediction {}\".format(pred_y[:10].round(0)))\n",
        "print(\"The real first 10 labels {}\".format(y_test[:10]))"
      ],
      "metadata": {
        "colab": {
          "base_uri": "https://localhost:8080/"
        },
        "id": "CLSb0A2M_jkp",
        "outputId": "3a18d51d-16c9-4557-e1d3-0db94ee1336f"
      },
      "execution_count": null,
      "outputs": [
        {
          "output_type": "stream",
          "name": "stdout",
          "text": [
            "The first 10 prediction [1 2 1 1 2 1 1 1 1 2]\n",
            "The real first 10 labels [2 1 1 1 2 1 1 1 1 1]\n"
          ]
        }
      ]
    },
    {
      "cell_type": "code",
      "source": [
        "# How to make predictions with brand new values\n",
        "type(df_train_full.head(1))"
      ],
      "metadata": {
        "colab": {
          "base_uri": "https://localhost:8080/"
        },
        "id": "TvS1vOoo_rod",
        "outputId": "a16d4819-6547-4ff6-da44-da9b360d5f6a"
      },
      "execution_count": null,
      "outputs": [
        {
          "output_type": "execute_result",
          "data": {
            "text/plain": [
              "pandas.core.frame.DataFrame"
            ]
          },
          "metadata": {},
          "execution_count": 53
        }
      ]
    },
    {
      "cell_type": "code",
      "source": [
        "# Use double brackets around the iloc to force it to return a pandas dataframe and not a series\n",
        "# Then you can convert ANY record into a dictionary.\n",
        "# This is important because when you want to make a prediction - it must be in this format\n",
        "df_train_full.iloc[[21]]"
      ],
      "metadata": {
        "colab": {
          "base_uri": "https://localhost:8080/",
          "height": 81
        },
        "id": "a0iAZ3Nv_zw0",
        "outputId": "0820c8c6-ecef-45da-dc99-cc58957b1bb9"
      },
      "execution_count": null,
      "outputs": [
        {
          "output_type": "execute_result",
          "data": {
            "text/plain": [
              "      seniority  home  time  age  marital  records  job  expenses  income  \\\n",
              "1043          3     1    36   32        1        1    3        35     0.0   \n",
              "\n",
              "      assets  debt  amount  price  \n",
              "1043     0.0   0.0     950   1350  "
            ],
            "text/html": [
              "\n",
              "  <div id=\"df-bc0f4bd3-099d-4cb2-943b-6d3c93a1f209\">\n",
              "    <div class=\"colab-df-container\">\n",
              "      <div>\n",
              "<style scoped>\n",
              "    .dataframe tbody tr th:only-of-type {\n",
              "        vertical-align: middle;\n",
              "    }\n",
              "\n",
              "    .dataframe tbody tr th {\n",
              "        vertical-align: top;\n",
              "    }\n",
              "\n",
              "    .dataframe thead th {\n",
              "        text-align: right;\n",
              "    }\n",
              "</style>\n",
              "<table border=\"1\" class=\"dataframe\">\n",
              "  <thead>\n",
              "    <tr style=\"text-align: right;\">\n",
              "      <th></th>\n",
              "      <th>seniority</th>\n",
              "      <th>home</th>\n",
              "      <th>time</th>\n",
              "      <th>age</th>\n",
              "      <th>marital</th>\n",
              "      <th>records</th>\n",
              "      <th>job</th>\n",
              "      <th>expenses</th>\n",
              "      <th>income</th>\n",
              "      <th>assets</th>\n",
              "      <th>debt</th>\n",
              "      <th>amount</th>\n",
              "      <th>price</th>\n",
              "    </tr>\n",
              "  </thead>\n",
              "  <tbody>\n",
              "    <tr>\n",
              "      <th>1043</th>\n",
              "      <td>3</td>\n",
              "      <td>1</td>\n",
              "      <td>36</td>\n",
              "      <td>32</td>\n",
              "      <td>1</td>\n",
              "      <td>1</td>\n",
              "      <td>3</td>\n",
              "      <td>35</td>\n",
              "      <td>0.0</td>\n",
              "      <td>0.0</td>\n",
              "      <td>0.0</td>\n",
              "      <td>950</td>\n",
              "      <td>1350</td>\n",
              "    </tr>\n",
              "  </tbody>\n",
              "</table>\n",
              "</div>\n",
              "      <button class=\"colab-df-convert\" onclick=\"convertToInteractive('df-bc0f4bd3-099d-4cb2-943b-6d3c93a1f209')\"\n",
              "              title=\"Convert this dataframe to an interactive table.\"\n",
              "              style=\"display:none;\">\n",
              "        \n",
              "  <svg xmlns=\"http://www.w3.org/2000/svg\" height=\"24px\"viewBox=\"0 0 24 24\"\n",
              "       width=\"24px\">\n",
              "    <path d=\"M0 0h24v24H0V0z\" fill=\"none\"/>\n",
              "    <path d=\"M18.56 5.44l.94 2.06.94-2.06 2.06-.94-2.06-.94-.94-2.06-.94 2.06-2.06.94zm-11 1L8.5 8.5l.94-2.06 2.06-.94-2.06-.94L8.5 2.5l-.94 2.06-2.06.94zm10 10l.94 2.06.94-2.06 2.06-.94-2.06-.94-.94-2.06-.94 2.06-2.06.94z\"/><path d=\"M17.41 7.96l-1.37-1.37c-.4-.4-.92-.59-1.43-.59-.52 0-1.04.2-1.43.59L10.3 9.45l-7.72 7.72c-.78.78-.78 2.05 0 2.83L4 21.41c.39.39.9.59 1.41.59.51 0 1.02-.2 1.41-.59l7.78-7.78 2.81-2.81c.8-.78.8-2.07 0-2.86zM5.41 20L4 18.59l7.72-7.72 1.47 1.35L5.41 20z\"/>\n",
              "  </svg>\n",
              "      </button>\n",
              "      \n",
              "  <style>\n",
              "    .colab-df-container {\n",
              "      display:flex;\n",
              "      flex-wrap:wrap;\n",
              "      gap: 12px;\n",
              "    }\n",
              "\n",
              "    .colab-df-convert {\n",
              "      background-color: #E8F0FE;\n",
              "      border: none;\n",
              "      border-radius: 50%;\n",
              "      cursor: pointer;\n",
              "      display: none;\n",
              "      fill: #1967D2;\n",
              "      height: 32px;\n",
              "      padding: 0 0 0 0;\n",
              "      width: 32px;\n",
              "    }\n",
              "\n",
              "    .colab-df-convert:hover {\n",
              "      background-color: #E2EBFA;\n",
              "      box-shadow: 0px 1px 2px rgba(60, 64, 67, 0.3), 0px 1px 3px 1px rgba(60, 64, 67, 0.15);\n",
              "      fill: #174EA6;\n",
              "    }\n",
              "\n",
              "    [theme=dark] .colab-df-convert {\n",
              "      background-color: #3B4455;\n",
              "      fill: #D2E3FC;\n",
              "    }\n",
              "\n",
              "    [theme=dark] .colab-df-convert:hover {\n",
              "      background-color: #434B5C;\n",
              "      box-shadow: 0px 1px 3px 1px rgba(0, 0, 0, 0.15);\n",
              "      filter: drop-shadow(0px 1px 2px rgba(0, 0, 0, 0.3));\n",
              "      fill: #FFFFFF;\n",
              "    }\n",
              "  </style>\n",
              "\n",
              "      <script>\n",
              "        const buttonEl =\n",
              "          document.querySelector('#df-bc0f4bd3-099d-4cb2-943b-6d3c93a1f209 button.colab-df-convert');\n",
              "        buttonEl.style.display =\n",
              "          google.colab.kernel.accessAllowed ? 'block' : 'none';\n",
              "\n",
              "        async function convertToInteractive(key) {\n",
              "          const element = document.querySelector('#df-bc0f4bd3-099d-4cb2-943b-6d3c93a1f209');\n",
              "          const dataTable =\n",
              "            await google.colab.kernel.invokeFunction('convertToInteractive',\n",
              "                                                     [key], {});\n",
              "          if (!dataTable) return;\n",
              "\n",
              "          const docLinkHtml = 'Like what you see? Visit the ' +\n",
              "            '<a target=\"_blank\" href=https://colab.research.google.com/notebooks/data_table.ipynb>data table notebook</a>'\n",
              "            + ' to learn more about interactive tables.';\n",
              "          element.innerHTML = '';\n",
              "          dataTable['output_type'] = 'display_data';\n",
              "          await google.colab.output.renderOutput(dataTable, element);\n",
              "          const docLink = document.createElement('div');\n",
              "          docLink.innerHTML = docLinkHtml;\n",
              "          element.appendChild(docLink);\n",
              "        }\n",
              "      </script>\n",
              "    </div>\n",
              "  </div>\n",
              "  "
            ]
          },
          "metadata": {},
          "execution_count": 54
        }
      ]
    },
    {
      "cell_type": "code",
      "source": [
        "# How to convert any pandas row into a dictionary... needed for predictions\n",
        "df_train_full.iloc[[21]].to_dict('records')[0]"
      ],
      "metadata": {
        "colab": {
          "base_uri": "https://localhost:8080/"
        },
        "id": "q0iStYWt_4nP",
        "outputId": "e2cdd4d3-18ff-4193-89d4-5b7e54b20263"
      },
      "execution_count": null,
      "outputs": [
        {
          "output_type": "execute_result",
          "data": {
            "text/plain": [
              "{'seniority': 3,\n",
              " 'home': 1,\n",
              " 'time': 36,\n",
              " 'age': 32,\n",
              " 'marital': 1,\n",
              " 'records': 1,\n",
              " 'job': 3,\n",
              " 'expenses': 35,\n",
              " 'income': 0.0,\n",
              " 'assets': 0.0,\n",
              " 'debt': 0.0,\n",
              " 'amount': 950,\n",
              " 'price': 1350}"
            ]
          },
          "metadata": {},
          "execution_count": 56
        }
      ]
    },
    {
      "cell_type": "code",
      "source": [
        "#item = df_train.head(1).to_dict('records')[0]\n",
        "item = df_train_full.iloc[[21]].to_dict('records')[0]\n",
        "actual = y_train[[21]]"
      ],
      "metadata": {
        "id": "uvhohZ29AIYW"
      },
      "execution_count": null,
      "outputs": []
    },
    {
      "cell_type": "code",
      "source": [
        "# The item to be predicted is passed in.  \n",
        "def model_prediction(item, dv, model):\n",
        "    X = dv.transform([item])\n",
        "    y_pred = model.predict(X)\n",
        "    return y_pred[0]"
      ],
      "metadata": {
        "id": "7OqihuJ2AP_9"
      },
      "execution_count": null,
      "outputs": []
    },
    {
      "cell_type": "code",
      "source": [
        "# The item to be predicted is passed in.  \n",
        "def model_prediction_proba(item, dv, model):\n",
        "    X = dv.transform([item])\n",
        "    y_pred = model.predict_proba(X)[:, 1]\n",
        "    return y_pred[0]"
      ],
      "metadata": {
        "id": "XPIALBkHAaRY"
      },
      "execution_count": null,
      "outputs": []
    },
    {
      "cell_type": "code",
      "source": [
        "model_prediction(item,dv,dt)"
      ],
      "metadata": {
        "colab": {
          "base_uri": "https://localhost:8080/"
        },
        "id": "O6nJkz32AeDm",
        "outputId": "749f32dc-70b7-4114-a995-a30f9c46366c"
      },
      "execution_count": null,
      "outputs": [
        {
          "output_type": "execute_result",
          "data": {
            "text/plain": [
              "2"
            ]
          },
          "metadata": {},
          "execution_count": 60
        }
      ]
    },
    {
      "cell_type": "code",
      "source": [
        "model_prediction_proba(item,dv,dt)"
      ],
      "metadata": {
        "colab": {
          "base_uri": "https://localhost:8080/"
        },
        "id": "17ENQLPOAije",
        "outputId": "08e54d6e-d060-4a7d-8f26-02ff65461112"
      },
      "execution_count": null,
      "outputs": [
        {
          "output_type": "execute_result",
          "data": {
            "text/plain": [
              "1.0"
            ]
          },
          "metadata": {},
          "execution_count": 61
        }
      ]
    },
    {
      "cell_type": "code",
      "source": [
        "actual"
      ],
      "metadata": {
        "colab": {
          "base_uri": "https://localhost:8080/"
        },
        "id": "L1bgfnykAnb-",
        "outputId": "6d348f77-eb8a-4406-c29c-08ff5283fa75"
      },
      "execution_count": null,
      "outputs": [
        {
          "output_type": "execute_result",
          "data": {
            "text/plain": [
              "array([2])"
            ]
          },
          "metadata": {},
          "execution_count": 62
        }
      ]
    },
    {
      "cell_type": "code",
      "source": [
        "# How to convert any pandas row into a dictionary... needed for predictions\n",
        "# This will give you a template that you can manipulate to create predictions with new values\n",
        "df_train_full.iloc[[2]].to_dict('records')[0]"
      ],
      "metadata": {
        "colab": {
          "base_uri": "https://localhost:8080/"
        },
        "id": "rXH_dN_rAqiN",
        "outputId": "dc83ee6a-adb0-431f-c55d-127c28ff1234"
      },
      "execution_count": null,
      "outputs": [
        {
          "output_type": "execute_result",
          "data": {
            "text/plain": [
              "{'seniority': 2,\n",
              " 'home': 5,\n",
              " 'time': 36,\n",
              " 'age': 19,\n",
              " 'marital': 2,\n",
              " 'records': 1,\n",
              " 'job': 1,\n",
              " 'expenses': 35,\n",
              " 'income': 162.0,\n",
              " 'assets': 4000.0,\n",
              " 'debt': 100.0,\n",
              " 'amount': 400,\n",
              " 'price': 570}"
            ]
          },
          "metadata": {},
          "execution_count": 63
        }
      ]
    },
    {
      "cell_type": "code",
      "source": [
        "myItem = {'seniority': [2],\n",
        " 'home': [5],\n",
        " 'time': [3],\n",
        " 'age': [39],\n",
        " 'marital': [2],\n",
        " 'records': [1],\n",
        " 'job': [1],\n",
        " 'expenses': [35],\n",
        " 'income': [162.0],\n",
        " 'assets': [4.0],\n",
        " 'debt': [10000000.0],\n",
        " 'amount': [40000000],\n",
        " 'price': [57000000]}"
      ],
      "metadata": {
        "id": "F7ZGHpgAA4OJ"
      },
      "execution_count": null,
      "outputs": []
    },
    {
      "cell_type": "code",
      "source": [
        "newDF = pd.DataFrame.from_dict(myItem)"
      ],
      "metadata": {
        "id": "EMCsRzbUBDeP"
      },
      "execution_count": null,
      "outputs": []
    },
    {
      "cell_type": "code",
      "source": [
        "item = newDF.to_dict('records')[0]"
      ],
      "metadata": {
        "id": "vBM7LAG0Bn04"
      },
      "execution_count": null,
      "outputs": []
    },
    {
      "cell_type": "code",
      "source": [
        "model_prediction(item,dv,dt)"
      ],
      "metadata": {
        "colab": {
          "base_uri": "https://localhost:8080/"
        },
        "id": "4H9WB3iaBsGz",
        "outputId": "93dc1edc-4a03-4083-c4a8-374963f39dad"
      },
      "execution_count": null,
      "outputs": [
        {
          "output_type": "execute_result",
          "data": {
            "text/plain": [
              "2"
            ]
          },
          "metadata": {},
          "execution_count": 69
        }
      ]
    },
    {
      "cell_type": "code",
      "source": [
        "# Hyperparamter tuning"
      ],
      "metadata": {
        "id": "aUyVZiFtBxaP"
      },
      "execution_count": null,
      "outputs": []
    },
    {
      "cell_type": "code",
      "source": [
        "# Look at the model parameters.   You can tune these.\n",
        "dt.get_params()"
      ],
      "metadata": {
        "colab": {
          "base_uri": "https://localhost:8080/"
        },
        "id": "xsiG7nlJBzeb",
        "outputId": "4a4b07ae-edce-4a79-9ff4-dae077a141bc"
      },
      "execution_count": null,
      "outputs": [
        {
          "output_type": "execute_result",
          "data": {
            "text/plain": [
              "{'ccp_alpha': 0.0,\n",
              " 'class_weight': None,\n",
              " 'criterion': 'gini',\n",
              " 'max_depth': None,\n",
              " 'max_features': None,\n",
              " 'max_leaf_nodes': None,\n",
              " 'min_impurity_decrease': 0.0,\n",
              " 'min_samples_leaf': 1,\n",
              " 'min_samples_split': 2,\n",
              " 'min_weight_fraction_leaf': 0.0,\n",
              " 'random_state': None,\n",
              " 'splitter': 'best'}"
            ]
          },
          "metadata": {},
          "execution_count": 70
        }
      ]
    },
    {
      "cell_type": "code",
      "source": [
        "# Look at the model parameters.   You can tune these.\n",
        "dt.get_params()\n",
        "from sklearn.tree import DecisionTreeClassifier\n",
        "from sklearn.model_selection import GridSearchCV\n",
        "params = {'min_samples_leaf': [20, 3],'max_depth': [4,6,8],'min_samples_split': [2,4]}\n",
        "grid_search_cv = GridSearchCV(DecisionTreeClassifier(random_state=42), params, verbose=1, cv=3)\n",
        "grid_search_cv.fit(X_train, y_train)"
      ],
      "metadata": {
        "colab": {
          "base_uri": "https://localhost:8080/"
        },
        "id": "WWn9J_lDB9DF",
        "outputId": "6e03ce44-abab-40b5-818f-01234566d44f"
      },
      "execution_count": null,
      "outputs": [
        {
          "output_type": "stream",
          "name": "stdout",
          "text": [
            "Fitting 3 folds for each of 12 candidates, totalling 36 fits\n"
          ]
        },
        {
          "output_type": "execute_result",
          "data": {
            "text/plain": [
              "GridSearchCV(cv=3, estimator=DecisionTreeClassifier(random_state=42),\n",
              "             param_grid={'max_depth': [4, 6, 8], 'min_samples_leaf': [20, 3],\n",
              "                         'min_samples_split': [2, 4]},\n",
              "             verbose=1)"
            ]
          },
          "metadata": {},
          "execution_count": 71
        }
      ]
    },
    {
      "cell_type": "code",
      "source": [
        "grid_search_cv.best_estimator_    # this will output the best values for the hyperparameters"
      ],
      "metadata": {
        "colab": {
          "base_uri": "https://localhost:8080/"
        },
        "id": "6QHmaoweCRiS",
        "outputId": "5167276f-b775-4577-c20e-47debd3186fc"
      },
      "execution_count": null,
      "outputs": [
        {
          "output_type": "execute_result",
          "data": {
            "text/plain": [
              "DecisionTreeClassifier(max_depth=4, min_samples_leaf=20, random_state=42)"
            ]
          },
          "metadata": {},
          "execution_count": 72
        }
      ]
    },
    {
      "cell_type": "code",
      "source": [
        "# Let's assume that the decision tree is the one we want to explore\n",
        "from sklearn.tree import DecisionTreeClassifier\n",
        "dt = DecisionTreeClassifier(max_depth=4, min_samples_leaf=20, random_state=42)\n",
        "dt.fit(X_train, y_train)"
      ],
      "metadata": {
        "colab": {
          "base_uri": "https://localhost:8080/"
        },
        "id": "kRSuX62dCfp7",
        "outputId": "ca848dfb-f86c-4f7a-acb4-5b946efb220e"
      },
      "execution_count": null,
      "outputs": [
        {
          "output_type": "execute_result",
          "data": {
            "text/plain": [
              "DecisionTreeClassifier(max_depth=4, min_samples_leaf=20, random_state=42)"
            ]
          },
          "metadata": {},
          "execution_count": 73
        }
      ]
    },
    {
      "cell_type": "code",
      "source": [
        "from sklearn.metrics import f1_score\n",
        "y_pred = dt.predict_proba(X_test)[:, 1]\n",
        "y_pred = y_pred.astype('int')\n",
        "f1_score(y_test, y_pred, average=None)"
      ],
      "metadata": {
        "colab": {
          "base_uri": "https://localhost:8080/"
        },
        "id": "XLAkpdj0CqHU",
        "outputId": "9b59d9bb-478c-4b4c-d050-fde4a60c57d9"
      },
      "execution_count": null,
      "outputs": [
        {
          "output_type": "execute_result",
          "data": {
            "text/plain": [
              "array([0., 0., 0.])"
            ]
          },
          "metadata": {},
          "execution_count": 74
        }
      ]
    },
    {
      "cell_type": "code",
      "source": [
        "from sklearn.tree import export_graphviz\n",
        "export_graphviz( \n",
        " grid_search_cv.best_estimator_,\n",
        " out_file=('tree.dot'),\n",
        " feature_names=dv.get_feature_names(),\n",
        " class_names=None,\n",
        " filled=True,\n",
        ")"
      ],
      "metadata": {
        "colab": {
          "base_uri": "https://localhost:8080/"
        },
        "id": "EYyKyD_9CtXk",
        "outputId": "4502f574-765e-4924-fd56-2dc4561c8225"
      },
      "execution_count": null,
      "outputs": [
        {
          "output_type": "stream",
          "name": "stderr",
          "text": [
            "/usr/local/lib/python3.7/dist-packages/sklearn/utils/deprecation.py:87: FutureWarning: Function get_feature_names is deprecated; get_feature_names is deprecated in 1.0 and will be removed in 1.2. Please use get_feature_names_out instead.\n",
            "  warnings.warn(msg, category=FutureWarning)\n"
          ]
        }
      ]
    },
    {
      "cell_type": "code",
      "source": [
        "!pip install pydot\n",
        "import pydot\n",
        "\n",
        "(graph,) = pydot.graph_from_dot_file('tree.dot')\n",
        "graph.write_png('tree.png')"
      ],
      "metadata": {
        "colab": {
          "base_uri": "https://localhost:8080/"
        },
        "id": "LBzOHXqBCyUH",
        "outputId": "8ac9e4cd-dbaa-453d-ff83-8c4d1f651bbb"
      },
      "execution_count": null,
      "outputs": [
        {
          "output_type": "stream",
          "name": "stdout",
          "text": [
            "Looking in indexes: https://pypi.org/simple, https://us-python.pkg.dev/colab-wheels/public/simple/\n",
            "Requirement already satisfied: pydot in /usr/local/lib/python3.7/dist-packages (1.3.0)\n",
            "Requirement already satisfied: pyparsing>=2.1.4 in /usr/local/lib/python3.7/dist-packages (from pydot) (3.0.9)\n"
          ]
        }
      ]
    },
    {
      "cell_type": "code",
      "source": [],
      "metadata": {
        "id": "WeNsBjqSDG7e"
      },
      "execution_count": null,
      "outputs": []
    }
  ]
}