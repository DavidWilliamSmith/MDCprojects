{
 "cells": [
  {
   "cell_type": "code",
   "execution_count": null,
   "id": "6f9fa1c2",
   "metadata": {},
   "outputs": [],
   "source": [
    "import numpy as np\n",
    "import pandas as pd\n",
    "import matplotlib.pyplot as plt"
   ]
  },
  {
   "cell_type": "code",
   "execution_count": null,
   "id": "965ea22e",
   "metadata": {},
   "outputs": [],
   "source": [
    "from sklearn.model_selection import train_test_split\n",
    "\n",
    "from sklearn.metrics import accuracy_score\n",
    "\n",
    "from sklearn.metrics import confusion_matrix\n",
    "\n",
    "from sklearn.metrics import classification_report"
   ]
  },
  {
   "cell_type": "code",
   "execution_count": null,
   "id": "25723459",
   "metadata": {},
   "outputs": [],
   "source": [
    "# Importing the method needed to apply LDA classification\n",
    "\n",
    "from sklearn.discriminant_analysis import LinearDiscriminantAnalysis"
   ]
  },
  {
   "cell_type": "markdown",
   "id": "e2fe35ea",
   "metadata": {},
   "source": [
    "Scikit-learn documentation about discriminant analysis:\n",
    "\n",
    "https://scikit-learn.org/stable/modules/lda_qda.html#lda-qda"
   ]
  },
  {
   "cell_type": "markdown",
   "id": "a8779356",
   "metadata": {},
   "source": [
    "# LDA applied to the Default dataset"
   ]
  },
  {
   "cell_type": "code",
   "execution_count": null,
   "id": "def497e4",
   "metadata": {},
   "outputs": [],
   "source": [
    "Default_df= pd.read_csv('C:\\\\Users\\\\jheredi2\\\\Documents\\\\PythonDataAnalytics\\\\1-Datasets\\\\Default.csv')"
   ]
  },
  {
   "cell_type": "code",
   "execution_count": null,
   "id": "3e2f4b0e",
   "metadata": {},
   "outputs": [],
   "source": [
    "Default_df_dummies= pd.get_dummies(Default_df,columns=['student'], drop_first=True)"
   ]
  },
  {
   "cell_type": "code",
   "execution_count": null,
   "id": "8c4e5a8c",
   "metadata": {},
   "outputs": [],
   "source": [
    "X_train_def, X_test_def, y_train_def, y_test_def= train_test_split (Default_df_dummies.iloc[:,1:], Default_df_dummies['default'], test_size=0.2, random_state=1)"
   ]
  },
  {
   "cell_type": "markdown",
   "id": "a938d036",
   "metadata": {},
   "source": [
    "Use CV via GridSearch to select the values of two hyperparameters: shrinkage level and the solver\n",
    "\n",
    "Choose based on overall accuracy"
   ]
  },
  {
   "cell_type": "code",
   "execution_count": null,
   "id": "d7beb2d9",
   "metadata": {},
   "outputs": [],
   "source": [
    "from sklearn.model_selection import GridSearchCV"
   ]
  },
  {
   "cell_type": "code",
   "execution_count": null,
   "id": "12bdd4ed",
   "metadata": {},
   "outputs": [],
   "source": [
    "shrinkage_parameter= np.linspace(0, 1, 21)\n",
    "shrinkage_parameter"
   ]
  },
  {
   "cell_type": "code",
   "execution_count": null,
   "id": "f356f7c9",
   "metadata": {},
   "outputs": [],
   "source": [
    "hyperparam_grid = {\n",
    "    'shrinkage': shrinkage_parameter,\n",
    "    'solver': ['lsqr', 'eigen'] \n",
    "}"
   ]
  },
  {
   "cell_type": "code",
   "execution_count": null,
   "id": "309c1a23",
   "metadata": {},
   "outputs": [],
   "source": [
    "grid_search= GridSearchCV(estimator= LinearDiscriminantAnalysis(), param_grid=hyperparam_grid, cv=10, scoring='accuracy')"
   ]
  },
  {
   "cell_type": "code",
   "execution_count": null,
   "id": "eb7dda95",
   "metadata": {},
   "outputs": [],
   "source": [
    "grid_search.fit(X_train_def, y_train_def)"
   ]
  },
  {
   "cell_type": "code",
   "execution_count": null,
   "id": "a4557031",
   "metadata": {},
   "outputs": [],
   "source": [
    "grid_search.best_params_"
   ]
  },
  {
   "cell_type": "code",
   "execution_count": null,
   "id": "b25d15be",
   "metadata": {},
   "outputs": [],
   "source": [
    "lda_model_default= LinearDiscriminantAnalysis(shrinkage=0, solver='lsqr')"
   ]
  },
  {
   "cell_type": "code",
   "execution_count": null,
   "id": "088d2f23",
   "metadata": {},
   "outputs": [],
   "source": [
    "lda_model_default.fit(X_train_def, y_train_def)"
   ]
  },
  {
   "cell_type": "code",
   "execution_count": null,
   "id": "21fc1a35",
   "metadata": {},
   "outputs": [],
   "source": [
    "y_pred_default= lda_model_default.predict(X_test_def)"
   ]
  },
  {
   "cell_type": "code",
   "execution_count": null,
   "id": "99123509",
   "metadata": {},
   "outputs": [],
   "source": [
    "confusion_matrix(y_test_def, y_pred_default)"
   ]
  },
  {
   "cell_type": "code",
   "execution_count": null,
   "id": "a59b4d76",
   "metadata": {},
   "outputs": [],
   "source": [
    "print (classification_report(y_test_def, y_pred_default))"
   ]
  },
  {
   "cell_type": "markdown",
   "id": "95be36e3",
   "metadata": {},
   "source": [
    "Use CV via GridSearch to select the values of two hyperparameters: shrinkage level and the solver\n",
    "\n",
    "Choose based on f1-score"
   ]
  },
  {
   "cell_type": "code",
   "execution_count": null,
   "id": "3d7caed0",
   "metadata": {},
   "outputs": [],
   "source": [
    "from sklearn.metrics import f1_score"
   ]
  },
  {
   "cell_type": "code",
   "execution_count": null,
   "id": "ad858972",
   "metadata": {},
   "outputs": [],
   "source": [
    "from sklearn.metrics import make_scorer"
   ]
  },
  {
   "cell_type": "code",
   "execution_count": null,
   "id": "8f614131",
   "metadata": {},
   "outputs": [],
   "source": [
    "f1_scorer = make_scorer(f1_score, pos_label='Yes')"
   ]
  },
  {
   "cell_type": "code",
   "execution_count": null,
   "id": "1aa046b7",
   "metadata": {},
   "outputs": [],
   "source": [
    "grid_search2= GridSearchCV(estimator= LinearDiscriminantAnalysis(), param_grid=hyperparam_grid, cv=10, scoring=f1_scorer)"
   ]
  },
  {
   "cell_type": "code",
   "execution_count": null,
   "id": "f86a6ad9",
   "metadata": {},
   "outputs": [],
   "source": [
    "grid_search2.fit(X_train_def, y_train_def)"
   ]
  },
  {
   "cell_type": "code",
   "execution_count": null,
   "id": "40539d6a",
   "metadata": {},
   "outputs": [],
   "source": [
    "grid_search2.best_params_"
   ]
  },
  {
   "cell_type": "markdown",
   "id": "c77c7096",
   "metadata": {},
   "source": [
    "__No change in the recommended hyperparameter values when compare to the selection based on overall accuracy; therefore, no need to continue__"
   ]
  },
  {
   "cell_type": "markdown",
   "id": "b78bf654",
   "metadata": {},
   "source": [
    "### Checking that the linear discriminant function is actually used to make the classification"
   ]
  },
  {
   "cell_type": "markdown",
   "id": "b14ad853",
   "metadata": {},
   "source": [
    "When discussing the slides we saw that, for a given test observation, the prediction of Y is the class for which the __linear discriminant function is maximum.__\n",
    "\n",
    "There are separate discriminant functions for Y=0 and Y=1\n",
    "\n",
    "In Python, there is NO method that directly returns the linear discriminant function for each class, but there is one method that returns something that serves the same purpose!\n",
    "\n",
    "Scikit-learn has a method that returns __the difference between__ the linear discriminant function for Y=1 __and__ the linear discriminant function for Y=0. This method is called 'decision_function()'."
   ]
  },
  {
   "cell_type": "markdown",
   "id": "1c9a8950",
   "metadata": {},
   "source": [
    "The output of decision_function() is the following difference:\n",
    "\n",
    "decision_function () = Linear discriminant function for Y=Yes - Linear discriminant function for Y=No\n",
    "\n",
    "Let's get __the first 10 values__ returned by decision_function() applied on the test data"
   ]
  },
  {
   "cell_type": "code",
   "execution_count": null,
   "id": "573704d5",
   "metadata": {
    "scrolled": true
   },
   "outputs": [],
   "source": [
    "lda_model_default.decision_function(X_test_def)[:10]"
   ]
  },
  {
   "cell_type": "markdown",
   "id": "a265cd5c",
   "metadata": {},
   "source": [
    "If the decision function was negative for the first 10 test obs, that means the prediction for those obs should be\n",
    "'No'. As we can see next, that is the case:"
   ]
  },
  {
   "cell_type": "code",
   "execution_count": null,
   "id": "2e96107d",
   "metadata": {},
   "outputs": [],
   "source": [
    "lda_model_default.predict(X_test_def)[:10]"
   ]
  },
  {
   "cell_type": "markdown",
   "id": "704f7664",
   "metadata": {},
   "source": [
    "Answer the following question: __What needs to happen for the decision_function to be positive?__\n",
    "\n",
    "\n",
    "Based on your answer to that question, __SHOW__ that Y is classified as Y= Yes only when the decision_function value is positive\n",
    "\n",
    "__Work on this independently !!!!!__"
   ]
  },
  {
   "cell_type": "code",
   "execution_count": null,
   "id": "ab32bc76",
   "metadata": {},
   "outputs": [],
   "source": []
  },
  {
   "cell_type": "code",
   "execution_count": null,
   "id": "09b16bd8",
   "metadata": {},
   "outputs": [],
   "source": []
  },
  {
   "cell_type": "code",
   "execution_count": null,
   "id": "ced9a7f1",
   "metadata": {},
   "outputs": [],
   "source": []
  },
  {
   "cell_type": "code",
   "execution_count": null,
   "id": "d8c1bb12",
   "metadata": {},
   "outputs": [],
   "source": []
  },
  {
   "cell_type": "code",
   "execution_count": null,
   "id": "bab276b6",
   "metadata": {},
   "outputs": [],
   "source": []
  },
  {
   "cell_type": "markdown",
   "id": "ea3d0622",
   "metadata": {},
   "source": [
    "### Changing the probability threshold to see if we get better results\n",
    "\n",
    "##### Find a threshold based on f1-score (since what we want to enhace is class-specific performance rather than overall accuracy)"
   ]
  },
  {
   "cell_type": "code",
   "execution_count": null,
   "id": "d76ae386",
   "metadata": {},
   "outputs": [],
   "source": [
    "array_prob= np.arange(0.05, 0.51, 0.05)"
   ]
  },
  {
   "cell_type": "code",
   "execution_count": null,
   "id": "c00bea92",
   "metadata": {},
   "outputs": [],
   "source": [
    "# Create an array with all the probabilities of Yes\n",
    "\n",
    "prob_yes= lda_model_default.predict_proba(X_test_def)[:,1]"
   ]
  },
  {
   "cell_type": "code",
   "execution_count": null,
   "id": "f133b4dd",
   "metadata": {},
   "outputs": [],
   "source": [
    "dict_predictions = dict()"
   ]
  },
  {
   "cell_type": "code",
   "execution_count": null,
   "id": "4c8a5f66",
   "metadata": {},
   "outputs": [],
   "source": [
    "dict_f1_scores= dict()"
   ]
  },
  {
   "cell_type": "code",
   "execution_count": null,
   "id": "76f90891",
   "metadata": {},
   "outputs": [],
   "source": [
    "# Notice that I had to change the name from y_test to y_test_def\n",
    "\n",
    "for j in array_prob:\n",
    "    dict_predictions[j]=np.empty(y_test_def.size, dtype=object)\n",
    "    for i in np.arange(0, dict_predictions[j].size):\n",
    "        if prob_yes[i] > j:\n",
    "            dict_predictions[j][i]= 'Yes'\n",
    "        else:\n",
    "            dict_predictions[j][i]= 'No'\n",
    "    dict_f1_scores[j]= np.round (f1_score(y_test_def, dict_predictions[j],pos_label='Yes'),3)"
   ]
  },
  {
   "cell_type": "code",
   "execution_count": null,
   "id": "59d9c708",
   "metadata": {},
   "outputs": [],
   "source": [
    "dict_f1_scores"
   ]
  },
  {
   "cell_type": "code",
   "execution_count": null,
   "id": "6f69828c",
   "metadata": {},
   "outputs": [],
   "source": [
    "max(dict_f1_scores, key= dict_f1_scores.get)"
   ]
  },
  {
   "cell_type": "code",
   "execution_count": null,
   "id": "0d4868a6",
   "metadata": {},
   "outputs": [],
   "source": [
    "# This loop computes the prediction of Y (No or Yes) for each test observation\n",
    "# The predictions of Y are stored in an array called 'y_predicted_prob040' \n",
    "# The prediction uses a prob threshold of 0.40\n",
    "\n",
    "y_predicted_prob040=np.empty(y_test_def.size, dtype=object)\n",
    "\n",
    "for i in np.arange(0,y_predicted_prob040.size):\n",
    "    if prob_yes[i] > 0.40:\n",
    "        y_predicted_prob040[i]= 'Yes'\n",
    "    else:\n",
    "        y_predicted_prob040[i]= 'No'"
   ]
  },
  {
   "cell_type": "code",
   "execution_count": null,
   "id": "ffdb1f3d",
   "metadata": {},
   "outputs": [],
   "source": [
    "print (classification_report (y_test_def, y_predicted_prob040))"
   ]
  },
  {
   "cell_type": "markdown",
   "id": "43342769",
   "metadata": {},
   "source": [
    "# QDA applied to the Default dataset"
   ]
  },
  {
   "cell_type": "code",
   "execution_count": null,
   "id": "d0d65a73",
   "metadata": {},
   "outputs": [],
   "source": [
    "# Importing the method needed to apply QDA classification\n",
    "\n",
    "from sklearn.discriminant_analysis import QuadraticDiscriminantAnalysis"
   ]
  },
  {
   "cell_type": "code",
   "execution_count": null,
   "id": "26d946c6",
   "metadata": {},
   "outputs": [],
   "source": [
    "qda_model_default= QuadraticDiscriminantAnalysis()"
   ]
  },
  {
   "cell_type": "code",
   "execution_count": null,
   "id": "c939586c",
   "metadata": {},
   "outputs": [],
   "source": [
    "qda_model_default.fit(X_train_def, y_train_def)"
   ]
  },
  {
   "cell_type": "code",
   "execution_count": null,
   "id": "7d07f477",
   "metadata": {},
   "outputs": [],
   "source": [
    "y_pred_default_qda= qda_model_default.predict(X_test_def)"
   ]
  },
  {
   "cell_type": "code",
   "execution_count": null,
   "id": "0d45a4dc",
   "metadata": {},
   "outputs": [],
   "source": [
    "confusion_matrix(y_test_def, y_pred_default_qda)"
   ]
  },
  {
   "cell_type": "code",
   "execution_count": null,
   "id": "345f5ab6",
   "metadata": {},
   "outputs": [],
   "source": [
    "print(classification_report(y_test_def, y_pred_default_qda))"
   ]
  },
  {
   "cell_type": "markdown",
   "id": "3e87955d",
   "metadata": {},
   "source": [
    "Now, we could change the probability threshold to see if we get better results. However, we will not do it since we have practiced that task a lot !!!"
   ]
  },
  {
   "cell_type": "markdown",
   "id": "9d2cb9f2",
   "metadata": {},
   "source": [
    "## SONAR DATASET"
   ]
  },
  {
   "cell_type": "markdown",
   "id": "7d0bab6f",
   "metadata": {},
   "source": [
    "Dataset description:\n",
    "\n",
    "https://raw.githubusercontent.com/jbrownlee/Datasets/master/sonar.names\n",
    "\n",
    "It looks like class specific-performance is not important in this case (i.e., predicting both classes is equally important); therefore, our goal will be to get a high overall accuracy"
   ]
  },
  {
   "cell_type": "code",
   "execution_count": null,
   "id": "6b737793",
   "metadata": {},
   "outputs": [],
   "source": [
    "url = \"https://raw.githubusercontent.com/jbrownlee/Datasets/master/sonar.csv\""
   ]
  },
  {
   "cell_type": "code",
   "execution_count": null,
   "id": "6f5a435b",
   "metadata": {},
   "outputs": [],
   "source": [
    "sonar_df = pd.read_csv(url, header=None)"
   ]
  },
  {
   "cell_type": "code",
   "execution_count": null,
   "id": "5bc255d7",
   "metadata": {},
   "outputs": [],
   "source": [
    "sonar_df.info()"
   ]
  },
  {
   "cell_type": "code",
   "execution_count": null,
   "id": "ca5f8163",
   "metadata": {},
   "outputs": [],
   "source": [
    "sonar_df.iloc[:,-1].value_counts()"
   ]
  },
  {
   "cell_type": "markdown",
   "id": "120c65c4",
   "metadata": {},
   "source": [
    "### LDA applied to the sonar dataset"
   ]
  },
  {
   "cell_type": "code",
   "execution_count": null,
   "id": "ef62269f",
   "metadata": {},
   "outputs": [],
   "source": [
    "X_train_sonar, X_test_sonar, y_train_sonar, y_test_sonar= train_test_split (sonar_df.iloc[:,:-1], sonar_df.iloc[:,-1], test_size=0.2, random_state=1)"
   ]
  },
  {
   "cell_type": "code",
   "execution_count": null,
   "id": "386990fc",
   "metadata": {},
   "outputs": [],
   "source": [
    "grid_search_sonar= GridSearchCV(estimator= LinearDiscriminantAnalysis(), param_grid=hyperparam_grid, cv=10, scoring='accuracy')"
   ]
  },
  {
   "cell_type": "code",
   "execution_count": null,
   "id": "c69923ff",
   "metadata": {},
   "outputs": [],
   "source": [
    "grid_search_sonar.fit(X_train_sonar, y_train_sonar)"
   ]
  },
  {
   "cell_type": "code",
   "execution_count": null,
   "id": "57f517cf",
   "metadata": {},
   "outputs": [],
   "source": [
    "grid_search_sonar.best_params_"
   ]
  },
  {
   "cell_type": "code",
   "execution_count": null,
   "id": "5fb5da84",
   "metadata": {},
   "outputs": [],
   "source": [
    "lda_model_sonar= LinearDiscriminantAnalysis(shrinkage=0.1, solver='lsqr')"
   ]
  },
  {
   "cell_type": "code",
   "execution_count": null,
   "id": "918a0eee",
   "metadata": {},
   "outputs": [],
   "source": [
    "lda_model_sonar.fit(X_train_sonar, y_train_sonar)"
   ]
  },
  {
   "cell_type": "code",
   "execution_count": null,
   "id": "c1311b07",
   "metadata": {},
   "outputs": [],
   "source": [
    "y_pred_sonar= lda_model_sonar.predict(X_test_sonar)"
   ]
  },
  {
   "cell_type": "code",
   "execution_count": null,
   "id": "17fbdd23",
   "metadata": {},
   "outputs": [],
   "source": [
    "confusion_matrix (y_test_sonar, y_pred_sonar)"
   ]
  },
  {
   "cell_type": "code",
   "execution_count": null,
   "id": "2c51eb09",
   "metadata": {},
   "outputs": [],
   "source": [
    "print(classification_report (y_test_sonar, y_pred_sonar))"
   ]
  },
  {
   "cell_type": "markdown",
   "id": "b4779331",
   "metadata": {},
   "source": [
    "### QDA applied to the sonar dataset\n",
    "\n",
    "WORK ON IT INDEPENDENTLY FOR THREE MINUTES"
   ]
  },
  {
   "cell_type": "code",
   "execution_count": null,
   "id": "8a61303b",
   "metadata": {},
   "outputs": [],
   "source": []
  },
  {
   "cell_type": "code",
   "execution_count": null,
   "id": "5f78cb53",
   "metadata": {},
   "outputs": [],
   "source": []
  },
  {
   "cell_type": "code",
   "execution_count": null,
   "id": "6e908f16",
   "metadata": {},
   "outputs": [],
   "source": []
  },
  {
   "cell_type": "code",
   "execution_count": null,
   "id": "6c0b4caa",
   "metadata": {},
   "outputs": [],
   "source": []
  },
  {
   "cell_type": "markdown",
   "id": "20904d68",
   "metadata": {},
   "source": [
    "### Logistic regression applied to the sonar dataset\n",
    "\n",
    "WORK ON IT INDEPENDENTLY FOR FIVE MINUTES\n",
    "\n",
    "Apply logistic regression following these requirements:\n",
    "\n",
    "a) Of course, standardize the predictors\n",
    "\n",
    "b) Select the hyperparameters using CV via Grid Search\n",
    "\n",
    "c) Select the best hyperparameters based on accuracy"
   ]
  },
  {
   "cell_type": "code",
   "execution_count": null,
   "id": "52e2312f",
   "metadata": {},
   "outputs": [],
   "source": [
    "from sklearn.linear_model import LogisticRegression"
   ]
  },
  {
   "cell_type": "code",
   "execution_count": null,
   "id": "c8329092",
   "metadata": {},
   "outputs": [],
   "source": []
  },
  {
   "cell_type": "code",
   "execution_count": null,
   "id": "bf0e3a09",
   "metadata": {},
   "outputs": [],
   "source": []
  },
  {
   "cell_type": "code",
   "execution_count": null,
   "id": "e9644e0c",
   "metadata": {},
   "outputs": [],
   "source": []
  },
  {
   "cell_type": "code",
   "execution_count": null,
   "id": "b102dab7",
   "metadata": {},
   "outputs": [],
   "source": []
  },
  {
   "cell_type": "code",
   "execution_count": null,
   "id": "8866a014",
   "metadata": {},
   "outputs": [],
   "source": []
  },
  {
   "cell_type": "code",
   "execution_count": null,
   "id": "c8b36cfe",
   "metadata": {},
   "outputs": [],
   "source": []
  },
  {
   "cell_type": "code",
   "execution_count": null,
   "id": "b14ce2d7",
   "metadata": {},
   "outputs": [],
   "source": []
  },
  {
   "cell_type": "code",
   "execution_count": null,
   "id": "04c1385f",
   "metadata": {},
   "outputs": [],
   "source": []
  },
  {
   "cell_type": "code",
   "execution_count": null,
   "id": "a4062277",
   "metadata": {},
   "outputs": [],
   "source": []
  },
  {
   "cell_type": "markdown",
   "id": "52597c2c",
   "metadata": {},
   "source": [
    "### KNN applied to the sonar dataset\n",
    "\n",
    "WORK ON IT INDEPENDENTLY FOR FIVE MINUTES\n",
    "\n",
    "Apply KNN following these requirements:\n",
    "\n",
    "a) Of course, standardize the predictors\n",
    "\n",
    "b) Select the hyperparameters using CV via Grid Search\n",
    "\n",
    "c) Select the best hyperparameters based on accuracy"
   ]
  },
  {
   "cell_type": "code",
   "execution_count": null,
   "id": "f7d366c5",
   "metadata": {},
   "outputs": [],
   "source": [
    "from sklearn.neighbors import KNeighborsClassifier"
   ]
  },
  {
   "cell_type": "code",
   "execution_count": null,
   "id": "5fff833d",
   "metadata": {},
   "outputs": [],
   "source": []
  },
  {
   "cell_type": "code",
   "execution_count": null,
   "id": "baa66786",
   "metadata": {},
   "outputs": [],
   "source": []
  },
  {
   "cell_type": "code",
   "execution_count": null,
   "id": "3be91945",
   "metadata": {},
   "outputs": [],
   "source": []
  },
  {
   "cell_type": "code",
   "execution_count": null,
   "id": "7c8c999f",
   "metadata": {},
   "outputs": [],
   "source": []
  },
  {
   "cell_type": "code",
   "execution_count": null,
   "id": "279e2556",
   "metadata": {},
   "outputs": [],
   "source": []
  },
  {
   "cell_type": "code",
   "execution_count": null,
   "id": "de50563e",
   "metadata": {},
   "outputs": [],
   "source": []
  },
  {
   "cell_type": "code",
   "execution_count": null,
   "id": "867bb6ad",
   "metadata": {},
   "outputs": [],
   "source": []
  },
  {
   "cell_type": "code",
   "execution_count": null,
   "id": "3aa1b887",
   "metadata": {},
   "outputs": [],
   "source": []
  }
 ],
 "metadata": {
  "kernelspec": {
   "display_name": "Python 3",
   "language": "python",
   "name": "python3"
  },
  "language_info": {
   "codemirror_mode": {
    "name": "ipython",
    "version": 3
   },
   "file_extension": ".py",
   "mimetype": "text/x-python",
   "name": "python",
   "nbconvert_exporter": "python",
   "pygments_lexer": "ipython3",
   "version": "3.8.8"
  }
 },
 "nbformat": 4,
 "nbformat_minor": 5
}
