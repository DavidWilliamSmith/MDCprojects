{
 "cells": [
  {
   "cell_type": "code",
   "execution_count": null,
   "id": "5d3a1d30",
   "metadata": {},
   "outputs": [],
   "source": [
    "import numpy as np\n",
    "import pandas as pd\n",
    "import matplotlib.pyplot as plt"
   ]
  },
  {
   "cell_type": "code",
   "execution_count": null,
   "id": "2fd686b4",
   "metadata": {},
   "outputs": [],
   "source": [
    "Default_df= pd.read_csv('C:\\\\Users\\\\jheredi2\\\\Documents\\\\PythonDataAnalytics\\\\1-Datasets\\\\Default.csv')"
   ]
  },
  {
   "cell_type": "code",
   "execution_count": null,
   "id": "7a3fce8a",
   "metadata": {},
   "outputs": [],
   "source": [
    "Default_df.info()"
   ]
  },
  {
   "cell_type": "code",
   "execution_count": null,
   "id": "def8579a",
   "metadata": {},
   "outputs": [],
   "source": [
    "Default_df.head()"
   ]
  },
  {
   "cell_type": "markdown",
   "id": "32d5724d",
   "metadata": {},
   "source": [
    "Problems using the __prediction error rate__ to evaluate the quality of a classifier \n",
    "\n",
    "__Problem 1__: Very often, even if the prediction error of a classifier is low (for example, 2%), it does not mean the classifier is good."
   ]
  },
  {
   "cell_type": "markdown",
   "id": "d544a468",
   "metadata": {},
   "source": [
    "__What % of the obs belong to each class of Y?__"
   ]
  },
  {
   "cell_type": "code",
   "execution_count": null,
   "id": "eb10e139",
   "metadata": {},
   "outputs": [],
   "source": [
    "# Do it here !\n",
    "\n"
   ]
  },
  {
   "cell_type": "markdown",
   "id": "ec6fb97d",
   "metadata": {},
   "source": [
    "__Naive classification strategy__: In the the Default data example, since the 'No' class is so much frequent than the 'Yes' class, we could decide not to apply any classification technique and simply always predict 'No' (= always predict 'No' for any new person that needs to be classified). In other words, always predict that any new person will NOT default.\n",
    "\n",
    "That's the naive classification strategy (or naive classifier): __Always (for all observations) predict the most frequent class.__\n",
    "\n",
    "In this example, this strategy will lead to a prediction error of __around__ 3.33%\n",
    "\n",
    "<br>\n",
    "\n",
    "Let's confirm that the prediction error for the naive classification strategy for the Default data is actually around 3.33%.\n",
    "\n",
    "To do so, let's apply 10 fold CV and evaluate the test prediction error of the naive classification strategy in ten different randomly taken subsets of the Default dataset."
   ]
  },
  {
   "cell_type": "code",
   "execution_count": null,
   "id": "a6aa9b76",
   "metadata": {},
   "outputs": [],
   "source": [
    "from sklearn.model_selection import KFold\n",
    "\n",
    "from sklearn.metrics import accuracy_score"
   ]
  },
  {
   "cell_type": "code",
   "execution_count": null,
   "id": "6cd029ed",
   "metadata": {},
   "outputs": [],
   "source": [
    "k10fold=KFold(n_splits=10, shuffle=True, random_state= 1)"
   ]
  },
  {
   "cell_type": "code",
   "execution_count": null,
   "id": "d5f78dc1",
   "metadata": {},
   "outputs": [],
   "source": [
    "indexes= np.arange(len(Default_df['default']))"
   ]
  },
  {
   "cell_type": "code",
   "execution_count": null,
   "id": "96da72ef",
   "metadata": {},
   "outputs": [],
   "source": [
    "error_scores=[]\n",
    "for train_index, test_index in k10fold.split(indexes):\n",
    "    y_predicted=np.repeat('No', test_index.size)\n",
    "    # Remember that error rate= 1- accuracy, so ...\n",
    "    error_scores.append(1- accuracy_score(Default_df['default'][test_index], y_predicted)) "
   ]
  },
  {
   "cell_type": "code",
   "execution_count": null,
   "id": "c799bc55",
   "metadata": {},
   "outputs": [],
   "source": [
    "error_scores"
   ]
  },
  {
   "cell_type": "code",
   "execution_count": null,
   "id": "c000b274",
   "metadata": {},
   "outputs": [],
   "source": [
    "# If you want to round the error rate values:\n",
    "\n",
    "np.round(np.array(error_scores)*100, 3)"
   ]
  },
  {
   "cell_type": "markdown",
   "id": "6b495ef6",
   "metadata": {},
   "source": [
    "As we can see, the error rate of the naive classifier for each of the 10 folds resulting from CV is between 2.6 and 3.9"
   ]
  },
  {
   "cell_type": "markdown",
   "id": "e25dbb45",
   "metadata": {},
   "source": [
    "#### BACK TO THE SLIDES !!!!!"
   ]
  },
  {
   "cell_type": "markdown",
   "id": "dac46e89",
   "metadata": {},
   "source": [
    "\n",
    "### Class-specific performance and the confusion matrix"
   ]
  },
  {
   "cell_type": "markdown",
   "id": "5d423393",
   "metadata": {},
   "source": [
    "To illustrate these two concepts, I will quickly apply a classification technique called Linear Discriminant Analysis (LDA)\n",
    "\n",
    "We will __not go over the details of this technique tonight__ since that's not the focus now. We will have future sessions to cover LDA. \n",
    "\n",
    "We will apply lDA to obtain the confusion matrix from its predictions"
   ]
  },
  {
   "cell_type": "code",
   "execution_count": null,
   "id": "12599bd8",
   "metadata": {},
   "outputs": [],
   "source": [
    "# LDA application\n",
    "\n",
    "from sklearn.discriminant_analysis import LinearDiscriminantAnalysis"
   ]
  },
  {
   "cell_type": "code",
   "execution_count": null,
   "id": "671077c5",
   "metadata": {},
   "outputs": [],
   "source": [
    "lda_classifier= LinearDiscriminantAnalysis()"
   ]
  },
  {
   "cell_type": "code",
   "execution_count": null,
   "id": "527d1790",
   "metadata": {},
   "outputs": [],
   "source": [
    "Default_df_dummies= pd.get_dummies(Default_df,columns=['student'], drop_first=True)"
   ]
  },
  {
   "cell_type": "code",
   "execution_count": null,
   "id": "58aae1df",
   "metadata": {},
   "outputs": [],
   "source": [
    "lda_classifier.fit(Default_df_dummies[['balance','student_Yes']], Default_df_dummies['default'])"
   ]
  },
  {
   "cell_type": "code",
   "execution_count": null,
   "id": "fa021054",
   "metadata": {},
   "outputs": [],
   "source": [
    "default_predicted= lda_classifier.predict(Default_df_dummies[['balance','student_Yes']])"
   ]
  },
  {
   "cell_type": "markdown",
   "id": "27112ffa",
   "metadata": {},
   "source": [
    "Create the __confusion matrix__ using the array with the predicted values of Y and the array with the actual values of Y\n",
    "\n",
    "A __confusion matrix__ shows how often the classifier 'confuses' both classes"
   ]
  },
  {
   "cell_type": "code",
   "execution_count": null,
   "id": "a1a259ff",
   "metadata": {},
   "outputs": [],
   "source": [
    "from sklearn.metrics import confusion_matrix"
   ]
  },
  {
   "cell_type": "code",
   "execution_count": null,
   "id": "7486828f",
   "metadata": {},
   "outputs": [],
   "source": [
    "confusion_matrix(Default_df_dummies['default'], default_predicted)"
   ]
  },
  {
   "cell_type": "markdown",
   "id": "dfadb55a",
   "metadata": {},
   "source": [
    "Let's tranform this confusion matrix to make it look nicer!"
   ]
  },
  {
   "cell_type": "code",
   "execution_count": null,
   "id": "106df1e1",
   "metadata": {},
   "outputs": [],
   "source": [
    "my_confusion_matrix= pd.DataFrame(confusion_matrix(Default_df_dummies['default'], default_predicted))"
   ]
  },
  {
   "cell_type": "code",
   "execution_count": null,
   "id": "def4056b",
   "metadata": {},
   "outputs": [],
   "source": [
    "my_confusion_matrix"
   ]
  },
  {
   "cell_type": "code",
   "execution_count": null,
   "id": "3b853f1e",
   "metadata": {},
   "outputs": [],
   "source": [
    "my_confusion_matrix.rename(columns={0:'default_pred(No)', 1:'default_pred(Yes)'}, index={0:'default_actual(No)', 1:'default_actual(Yes)'}, inplace= True)\n",
    "my_confusion_matrix"
   ]
  },
  {
   "cell_type": "markdown",
   "id": "2ce87f6d",
   "metadata": {},
   "source": [
    "Let's add the row totals"
   ]
  },
  {
   "cell_type": "code",
   "execution_count": null,
   "id": "956a3048",
   "metadata": {
    "scrolled": true
   },
   "outputs": [],
   "source": [
    "my_confusion_matrix['Row Total']= my_confusion_matrix.sum(axis=1)\n",
    "my_confusion_matrix"
   ]
  },
  {
   "cell_type": "markdown",
   "id": "6259637f",
   "metadata": {},
   "source": [
    "Let's add the column totals"
   ]
  },
  {
   "cell_type": "code",
   "execution_count": null,
   "id": "3c9d873b",
   "metadata": {},
   "outputs": [],
   "source": [
    "my_confusion_matrix.loc[len(my_confusion_matrix.index)] = list(my_confusion_matrix.sum(axis=0))"
   ]
  },
  {
   "cell_type": "code",
   "execution_count": null,
   "id": "b5d66a37",
   "metadata": {},
   "outputs": [],
   "source": [
    "my_confusion_matrix.rename(index={2:'Column Total'},inplace=True)\n",
    "my_confusion_matrix"
   ]
  },
  {
   "cell_type": "markdown",
   "id": "053f0795",
   "metadata": {},
   "source": [
    "#### BACK TO THE SLIDES !!!"
   ]
  },
  {
   "cell_type": "code",
   "execution_count": null,
   "id": "dcca23af",
   "metadata": {},
   "outputs": [],
   "source": [
    "# Compute the prediction accuracy using this table\n",
    "\n"
   ]
  },
  {
   "cell_type": "code",
   "execution_count": null,
   "id": "7df1b4cc",
   "metadata": {},
   "outputs": [],
   "source": [
    "# Compute the prediction error rate using this table\n",
    "\n"
   ]
  },
  {
   "cell_type": "markdown",
   "id": "cb34949f",
   "metadata": {},
   "source": [
    "__Question__: Is the previous error rate the training error rate or the test error rate? "
   ]
  },
  {
   "cell_type": "code",
   "execution_count": null,
   "id": "3c162231",
   "metadata": {},
   "outputs": [],
   "source": [
    "# What is the error rate for the 'No' class? (i.e., What often does the classifier get the 'No' class wrong?)\n",
    "\n"
   ]
  },
  {
   "cell_type": "code",
   "execution_count": null,
   "id": "dd727588",
   "metadata": {},
   "outputs": [],
   "source": [
    "# What is the error rate for the 'Yes' class? (i.e., What often does the classifier get the 'Yes' class wrong?)\n",
    "\n"
   ]
  },
  {
   "cell_type": "code",
   "execution_count": null,
   "id": "58174526",
   "metadata": {},
   "outputs": [],
   "source": [
    "from sklearn.metrics import accuracy_score"
   ]
  },
  {
   "cell_type": "code",
   "execution_count": null,
   "id": "9c444d0a",
   "metadata": {},
   "outputs": [],
   "source": [
    "accuracy_score (Default_df_dummies['default'], default_predicted)"
   ]
  },
  {
   "cell_type": "markdown",
   "id": "741242ec",
   "metadata": {},
   "source": [
    "__Conclusion from the confusion matrix:__\n",
    "\n",
    "The LDA classifier is bad because it has an unacceptably high error rate (~ 76%) for the class we care the most about in this case (the Yes class= detecting the defaulters). It is very bad at detecting the defaulters."
   ]
  },
  {
   "cell_type": "markdown",
   "id": "6e5a3032",
   "metadata": {},
   "source": [
    "#### BACK TO THE SLIDES !!!"
   ]
  },
  {
   "cell_type": "code",
   "execution_count": null,
   "id": "5a57b7e8",
   "metadata": {},
   "outputs": [],
   "source": [
    "from sklearn.metrics import classification_report"
   ]
  },
  {
   "cell_type": "code",
   "execution_count": null,
   "id": "81add127",
   "metadata": {},
   "outputs": [],
   "source": [
    "print (classification_report (Default_df_dummies['default'], default_predicted))"
   ]
  }
 ],
 "metadata": {
  "kernelspec": {
   "display_name": "Python 3",
   "language": "python",
   "name": "python3"
  },
  "language_info": {
   "codemirror_mode": {
    "name": "ipython",
    "version": 3
   },
   "file_extension": ".py",
   "mimetype": "text/x-python",
   "name": "python",
   "nbconvert_exporter": "python",
   "pygments_lexer": "ipython3",
   "version": "3.8.8"
  }
 },
 "nbformat": 4,
 "nbformat_minor": 5
}
