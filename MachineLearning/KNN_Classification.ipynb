{
 "cells": [
  {
   "cell_type": "code",
   "execution_count": 1,
   "id": "f2b32ffc",
   "metadata": {},
   "outputs": [],
   "source": [
    "import numpy as np\n",
    "import pandas as pd\n",
    "import matplotlib.pyplot as plt"
   ]
  },
  {
   "cell_type": "code",
   "execution_count": 2,
   "id": "81801284",
   "metadata": {},
   "outputs": [],
   "source": [
    "from sklearn.model_selection import train_test_split\n",
    "\n",
    "from sklearn.metrics import accuracy_score\n",
    "\n",
    "from sklearn.metrics import confusion_matrix\n",
    "\n",
    "from sklearn.metrics import classification_report"
   ]
  },
  {
   "cell_type": "code",
   "execution_count": 3,
   "id": "0210c279",
   "metadata": {},
   "outputs": [],
   "source": [
    "# Importing the method needed to apply KNN classification\n",
    "\n",
    "from sklearn.neighbors import KNeighborsClassifier"
   ]
  },
  {
   "cell_type": "markdown",
   "id": "a985e692",
   "metadata": {},
   "source": [
    "### About the method KNeighborsClassifier() that we are about to apply\n",
    "\n",
    "https://scikit-learn.org/stable/modules/generated/sklearn.neighbors.KNeighborsClassifier.html\n",
    "\n",
    "Minkowski_distance:\n",
    "\n",
    "https://en.wikipedia.org/wiki/Minkowski_distance"
   ]
  },
  {
   "cell_type": "markdown",
   "id": "2109bb23",
   "metadata": {},
   "source": [
    "# KNN classification on the Default dataset"
   ]
  },
  {
   "cell_type": "markdown",
   "id": "fda34c27",
   "metadata": {},
   "source": [
    "### Finding a good K"
   ]
  },
  {
   "cell_type": "markdown",
   "id": "af24cfa9",
   "metadata": {},
   "source": [
    "The __book approach__ (= the standard approach) to find a good K is to try several Ks and __select the best one based on CV__. The best K is the one leading to the lowest test error.\n",
    "\n",
    "Let's try this approach now! \n",
    "\n",
    "We will be selecting the K leading to the highest accuracy (which is the same as the one leading to the lowest error)"
   ]
  },
  {
   "cell_type": "markdown",
   "id": "dd3970a6",
   "metadata": {},
   "source": [
    "__Choosing K via CV based on overall accuracy__\n",
    "\n",
    "__CV is applied using GridSearch()__"
   ]
  },
  {
   "cell_type": "code",
   "execution_count": 4,
   "id": "f2fdda45",
   "metadata": {},
   "outputs": [],
   "source": [
    "Default_df= pd.read_csv('C:\\\\Users\\\\jheredi2\\\\Documents\\\\PythonDataAnalytics\\\\1-Datasets\\\\Default.csv')"
   ]
  },
  {
   "cell_type": "code",
   "execution_count": 5,
   "id": "ba7a0875",
   "metadata": {},
   "outputs": [],
   "source": [
    "Default_df_dummies= pd.get_dummies(Default_df,columns=['student'], drop_first=True)"
   ]
  },
  {
   "cell_type": "code",
   "execution_count": 6,
   "id": "6b9f2b7f",
   "metadata": {},
   "outputs": [],
   "source": [
    "X_train_def, X_test_def, y_train_def, y_test_def= train_test_split (Default_df_dummies.iloc[:,1:], Default_df_dummies['default'], test_size=0.2, random_state=1)"
   ]
  },
  {
   "cell_type": "code",
   "execution_count": 7,
   "id": "5d18aaf7",
   "metadata": {},
   "outputs": [],
   "source": [
    "from sklearn.model_selection import GridSearchCV"
   ]
  },
  {
   "cell_type": "code",
   "execution_count": 8,
   "id": "97224f2d",
   "metadata": {},
   "outputs": [],
   "source": [
    "from sklearn.pipeline import make_pipeline\n",
    "from sklearn.preprocessing import StandardScaler"
   ]
  },
  {
   "cell_type": "code",
   "execution_count": 9,
   "id": "8752a6fa",
   "metadata": {},
   "outputs": [],
   "source": [
    "pipe_default_CVSearch = make_pipeline(StandardScaler(), KNeighborsClassifier())"
   ]
  },
  {
   "cell_type": "code",
   "execution_count": 10,
   "id": "666df4c5",
   "metadata": {},
   "outputs": [
    {
     "data": {
      "text/plain": [
       "dict_keys(['memory', 'steps', 'verbose', 'standardscaler', 'kneighborsclassifier', 'standardscaler__copy', 'standardscaler__with_mean', 'standardscaler__with_std', 'kneighborsclassifier__algorithm', 'kneighborsclassifier__leaf_size', 'kneighborsclassifier__metric', 'kneighborsclassifier__metric_params', 'kneighborsclassifier__n_jobs', 'kneighborsclassifier__n_neighbors', 'kneighborsclassifier__p', 'kneighborsclassifier__weights'])"
      ]
     },
     "execution_count": 10,
     "metadata": {},
     "output_type": "execute_result"
    }
   ],
   "source": [
    "pipe_default_CVSearch.get_params().keys()"
   ]
  },
  {
   "cell_type": "code",
   "execution_count": 11,
   "id": "934c8538",
   "metadata": {},
   "outputs": [],
   "source": [
    "# Trying K from 1 to 100\n",
    "\n",
    "k= np.arange(1,101)"
   ]
  },
  {
   "cell_type": "code",
   "execution_count": 15,
   "id": "547b218a",
   "metadata": {},
   "outputs": [],
   "source": [
    "hyperparam_grid = {\n",
    "    'kneighborsclassifier__n_neighbors': k,\n",
    "    'kneighborsclassifier__algorithm':['brute'],\n",
    "    'kneighborsclassifier__weights':['uniform', 'distance']\n",
    "}"
   ]
  },
  {
   "cell_type": "code",
   "execution_count": 16,
   "id": "00250ad8",
   "metadata": {},
   "outputs": [],
   "source": [
    "grid_search= GridSearchCV(estimator= pipe_default_CVSearch, param_grid=hyperparam_grid, cv=10, scoring='accuracy')"
   ]
  },
  {
   "cell_type": "markdown",
   "id": "c9cd3605",
   "metadata": {},
   "source": [
    "__DO NOT RUN NEXT CELL !!!!__"
   ]
  },
  {
   "cell_type": "code",
   "execution_count": 17,
   "id": "04ab1434",
   "metadata": {},
   "outputs": [
    {
     "data": {
      "text/plain": [
       "GridSearchCV(cv=10,\n",
       "             estimator=Pipeline(steps=[('standardscaler', StandardScaler()),\n",
       "                                       ('kneighborsclassifier',\n",
       "                                        KNeighborsClassifier())]),\n",
       "             param_grid={'kneighborsclassifier__algorithm': ['brute'],\n",
       "                         'kneighborsclassifier__n_neighbors': array([  1,   2,   3,   4,   5,   6,   7,   8,   9,  10,  11,  12,  13,\n",
       "        14,  15,  16,  17,  18,  19,  20,  21,  22,  23,  24,  25,  26,\n",
       "        27,  28,  29,  30,  31,  32,  33,  34,  35,  36,  37,  38,  39,\n",
       "        40,  41,  42,  43,  44,  45,  46,  47,  48,  49,  50,  51,  52,\n",
       "        53,  54,  55,  56,  57,  58,  59,  60,  61,  62,  63,  64,  65,\n",
       "        66,  67,  68,  69,  70,  71,  72,  73,  74,  75,  76,  77,  78,\n",
       "        79,  80,  81,  82,  83,  84,  85,  86,  87,  88,  89,  90,  91,\n",
       "        92,  93,  94,  95,  96,  97,  98,  99, 100]),\n",
       "                         'kneighborsclassifier__weights': ['uniform',\n",
       "                                                           'distance']},\n",
       "             scoring='accuracy')"
      ]
     },
     "execution_count": 17,
     "metadata": {},
     "output_type": "execute_result"
    }
   ],
   "source": [
    "grid_search.fit(X_train_def, y_train_def)"
   ]
  },
  {
   "cell_type": "code",
   "execution_count": 18,
   "id": "64e9bc58",
   "metadata": {},
   "outputs": [
    {
     "data": {
      "text/plain": [
       "{'kneighborsclassifier__algorithm': 'brute',\n",
       " 'kneighborsclassifier__n_neighbors': 11,\n",
       " 'kneighborsclassifier__weights': 'uniform'}"
      ]
     },
     "execution_count": 18,
     "metadata": {},
     "output_type": "execute_result"
    }
   ],
   "source": [
    "grid_search.best_params_"
   ]
  },
  {
   "cell_type": "code",
   "execution_count": 19,
   "id": "41a0edcb",
   "metadata": {},
   "outputs": [],
   "source": [
    "pipe_default= make_pipeline(StandardScaler(), KNeighborsClassifier(algorithm='brute', n_neighbors=11, weights= 'uniform'))"
   ]
  },
  {
   "cell_type": "code",
   "execution_count": 20,
   "id": "f00eee9f",
   "metadata": {},
   "outputs": [
    {
     "data": {
      "text/plain": [
       "Pipeline(steps=[('standardscaler', StandardScaler()),\n",
       "                ('kneighborsclassifier',\n",
       "                 KNeighborsClassifier(algorithm='brute', n_neighbors=11))])"
      ]
     },
     "execution_count": 20,
     "metadata": {},
     "output_type": "execute_result"
    }
   ],
   "source": [
    "pipe_default.fit(X_train_def, y_train_def)"
   ]
  },
  {
   "cell_type": "markdown",
   "id": "6cdd909a",
   "metadata": {},
   "source": [
    "__Note__: Notice that, as we discussed we went over the slides, the KNN method does not fit any model.\n",
    "\n",
    "Therefore, when we call the fit() method on a KNN classifier, we are just telling the method to save the training data in memory. The method uses this data to classify new test observations. \n",
    "\n",
    "The training data stored in memory when fit() is called is the __reference data__ used to compute the distances and __identify the K nearest neighbors to the test observations that we want to classify.__"
   ]
  },
  {
   "cell_type": "code",
   "execution_count": 21,
   "id": "013a8859",
   "metadata": {},
   "outputs": [],
   "source": [
    "y_predicted_test_default= pipe_default.predict(X_test_def)"
   ]
  },
  {
   "cell_type": "code",
   "execution_count": 22,
   "id": "50fd900e",
   "metadata": {},
   "outputs": [
    {
     "data": {
      "text/plain": [
       "array([[1924,   17],\n",
       "       [  40,   19]], dtype=int64)"
      ]
     },
     "execution_count": 22,
     "metadata": {},
     "output_type": "execute_result"
    }
   ],
   "source": [
    "confusion_matrix (y_test_def, y_predicted_test_default)"
   ]
  },
  {
   "cell_type": "code",
   "execution_count": 23,
   "id": "1f116c48",
   "metadata": {},
   "outputs": [
    {
     "name": "stdout",
     "output_type": "stream",
     "text": [
      "              precision    recall  f1-score   support\n",
      "\n",
      "          No       0.98      0.99      0.99      1941\n",
      "         Yes       0.53      0.32      0.40        59\n",
      "\n",
      "    accuracy                           0.97      2000\n",
      "   macro avg       0.75      0.66      0.69      2000\n",
      "weighted avg       0.97      0.97      0.97      2000\n",
      "\n"
     ]
    }
   ],
   "source": [
    "print (classification_report (y_test_def, y_predicted_test_default))"
   ]
  },
  {
   "cell_type": "markdown",
   "id": "4c14b1c9",
   "metadata": {},
   "source": [
    "__Changing the probability threshold for the above classifier (the KNN witk k=11)__"
   ]
  },
  {
   "cell_type": "code",
   "execution_count": 35,
   "id": "03e41313",
   "metadata": {},
   "outputs": [],
   "source": [
    "array_prob= np.arange(0.05, 0.51, 0.05)"
   ]
  },
  {
   "cell_type": "code",
   "execution_count": 36,
   "id": "494eaa38",
   "metadata": {},
   "outputs": [],
   "source": [
    "prob_yes_default= pipe_default.predict_proba(X_test_def)[:,1]"
   ]
  },
  {
   "cell_type": "code",
   "execution_count": 37,
   "id": "fd9347a6",
   "metadata": {},
   "outputs": [],
   "source": [
    "dict_predictions_default= dict()"
   ]
  },
  {
   "cell_type": "code",
   "execution_count": 38,
   "id": "c289989d",
   "metadata": {},
   "outputs": [],
   "source": [
    "dict_f1_scores_default= dict()"
   ]
  },
  {
   "cell_type": "code",
   "execution_count": 39,
   "id": "5f34b18b",
   "metadata": {},
   "outputs": [],
   "source": [
    "for j in array_prob:\n",
    "    dict_predictions_default[j]=np.empty(y_test_def.size, dtype=object)\n",
    "    for i in np.arange(0, dict_predictions_default[j].size):\n",
    "        if prob_yes_default[i] > j:\n",
    "            dict_predictions_default[j][i]= 'Yes'\n",
    "        else:\n",
    "            dict_predictions_default[j][i]= 'No'\n",
    "    dict_f1_scores_default[j]= np.round (f1_score(y_test_def, dict_predictions_default[j],pos_label='Yes'),3)"
   ]
  },
  {
   "cell_type": "code",
   "execution_count": 40,
   "id": "e6e71b89",
   "metadata": {},
   "outputs": [
    {
     "data": {
      "text/plain": [
       "{0.05: 0.261,\n",
       " 0.1: 0.357,\n",
       " 0.15000000000000002: 0.357,\n",
       " 0.2: 0.369,\n",
       " 0.25: 0.369,\n",
       " 0.3: 0.393,\n",
       " 0.35000000000000003: 0.393,\n",
       " 0.4: 0.396,\n",
       " 0.45: 0.396,\n",
       " 0.5: 0.4}"
      ]
     },
     "execution_count": 40,
     "metadata": {},
     "output_type": "execute_result"
    }
   ],
   "source": [
    "dict_f1_scores_default"
   ]
  },
  {
   "cell_type": "markdown",
   "id": "7c397ca1",
   "metadata": {},
   "source": [
    "Nothing to change because the max f1 score happens using the default threshold of 0.5 (the result with threshold 0.5 were obtained above already (when predict() is called, it uses a threshold of 0.5)"
   ]
  },
  {
   "cell_type": "markdown",
   "id": "eb29ce4a",
   "metadata": {},
   "source": [
    "__Choosing K via CV based on the f1-score__\n",
    "\n",
    "__CV is applied using GridSearch()__"
   ]
  },
  {
   "cell_type": "code",
   "execution_count": 24,
   "id": "afc3189c",
   "metadata": {},
   "outputs": [],
   "source": [
    "from sklearn.metrics import f1_score"
   ]
  },
  {
   "cell_type": "code",
   "execution_count": 25,
   "id": "d7bc2604",
   "metadata": {},
   "outputs": [],
   "source": [
    "from sklearn.metrics import make_scorer"
   ]
  },
  {
   "cell_type": "code",
   "execution_count": 26,
   "id": "5b8ba13c",
   "metadata": {},
   "outputs": [],
   "source": [
    "f1_scorer = make_scorer(f1_score, pos_label='Yes')"
   ]
  },
  {
   "cell_type": "code",
   "execution_count": 27,
   "id": "18482754",
   "metadata": {},
   "outputs": [],
   "source": [
    "grid_search_f1= GridSearchCV(estimator= pipe_default_CVSearch, param_grid=hyperparam_grid, cv=10, scoring=f1_scorer)"
   ]
  },
  {
   "cell_type": "markdown",
   "id": "6c46b2f5",
   "metadata": {},
   "source": [
    "__DO NOT RUN NEXT CELL !!!!__"
   ]
  },
  {
   "cell_type": "code",
   "execution_count": 28,
   "id": "d01d2130",
   "metadata": {},
   "outputs": [
    {
     "data": {
      "text/plain": [
       "GridSearchCV(cv=10,\n",
       "             estimator=Pipeline(steps=[('standardscaler', StandardScaler()),\n",
       "                                       ('kneighborsclassifier',\n",
       "                                        KNeighborsClassifier())]),\n",
       "             param_grid={'kneighborsclassifier__algorithm': ['brute'],\n",
       "                         'kneighborsclassifier__n_neighbors': array([  1,   2,   3,   4,   5,   6,   7,   8,   9,  10,  11,  12,  13,\n",
       "        14,  15,  16,  17,  18,  19,  20,  21,  22,  23,  24,  25,  26,\n",
       "        27,  28,  29,  30,  31,  32,  33,  34,  35,  36,  37,  38,  39,\n",
       "        40,  41,  42,  43,  44,  45,  46,  47,  48,  49,  50,  51,  52,\n",
       "        53,  54,  55,  56,  57,  58,  59,  60,  61,  62,  63,  64,  65,\n",
       "        66,  67,  68,  69,  70,  71,  72,  73,  74,  75,  76,  77,  78,\n",
       "        79,  80,  81,  82,  83,  84,  85,  86,  87,  88,  89,  90,  91,\n",
       "        92,  93,  94,  95,  96,  97,  98,  99, 100]),\n",
       "                         'kneighborsclassifier__weights': ['uniform',\n",
       "                                                           'distance']},\n",
       "             scoring=make_scorer(f1_score, pos_label=Yes))"
      ]
     },
     "execution_count": 28,
     "metadata": {},
     "output_type": "execute_result"
    }
   ],
   "source": [
    "grid_search_f1.fit(X_train_def, y_train_def)"
   ]
  },
  {
   "cell_type": "code",
   "execution_count": 29,
   "id": "be854625",
   "metadata": {},
   "outputs": [
    {
     "data": {
      "text/plain": [
       "{'kneighborsclassifier__algorithm': 'brute',\n",
       " 'kneighborsclassifier__n_neighbors': 7,\n",
       " 'kneighborsclassifier__weights': 'uniform'}"
      ]
     },
     "execution_count": 29,
     "metadata": {},
     "output_type": "execute_result"
    }
   ],
   "source": [
    "grid_search_f1.best_params_"
   ]
  },
  {
   "cell_type": "code",
   "execution_count": 30,
   "id": "4d1f4d9c",
   "metadata": {},
   "outputs": [],
   "source": [
    "pipe_default2= make_pipeline(StandardScaler(), KNeighborsClassifier(algorithm='brute', n_neighbors=7, weights= 'uniform'))"
   ]
  },
  {
   "cell_type": "code",
   "execution_count": 31,
   "id": "5bb34850",
   "metadata": {},
   "outputs": [
    {
     "data": {
      "text/plain": [
       "Pipeline(steps=[('standardscaler', StandardScaler()),\n",
       "                ('kneighborsclassifier',\n",
       "                 KNeighborsClassifier(algorithm='brute', n_neighbors=7))])"
      ]
     },
     "execution_count": 31,
     "metadata": {},
     "output_type": "execute_result"
    }
   ],
   "source": [
    "pipe_default2.fit(X_train_def, y_train_def)"
   ]
  },
  {
   "cell_type": "code",
   "execution_count": 32,
   "id": "e2120132",
   "metadata": {},
   "outputs": [],
   "source": [
    "y_predicted_test_default2= pipe_default2.predict(X_test_def)"
   ]
  },
  {
   "cell_type": "code",
   "execution_count": 33,
   "id": "bc22f883",
   "metadata": {},
   "outputs": [
    {
     "data": {
      "text/plain": [
       "array([[1920,   21],\n",
       "       [  37,   22]], dtype=int64)"
      ]
     },
     "execution_count": 33,
     "metadata": {},
     "output_type": "execute_result"
    }
   ],
   "source": [
    "confusion_matrix (y_test_def, y_predicted_test_default2)"
   ]
  },
  {
   "cell_type": "code",
   "execution_count": 34,
   "id": "08fb945c",
   "metadata": {},
   "outputs": [
    {
     "name": "stdout",
     "output_type": "stream",
     "text": [
      "              precision    recall  f1-score   support\n",
      "\n",
      "          No       0.98      0.99      0.99      1941\n",
      "         Yes       0.51      0.37      0.43        59\n",
      "\n",
      "    accuracy                           0.97      2000\n",
      "   macro avg       0.75      0.68      0.71      2000\n",
      "weighted avg       0.97      0.97      0.97      2000\n",
      "\n"
     ]
    }
   ],
   "source": [
    "print (classification_report (y_test_def, y_predicted_test_default2))"
   ]
  },
  {
   "cell_type": "markdown",
   "id": "b084f487",
   "metadata": {},
   "source": [
    "__Choosing K via CV based on overall accuracy__\n",
    "\n",
    "__CV is applied using cross_val_score() method__"
   ]
  },
  {
   "cell_type": "code",
   "execution_count": 42,
   "id": "ef19d46e",
   "metadata": {},
   "outputs": [],
   "source": [
    "from sklearn.model_selection import cross_val_score"
   ]
  },
  {
   "cell_type": "code",
   "execution_count": 43,
   "id": "a8ec2305",
   "metadata": {},
   "outputs": [],
   "source": [
    "overall_accuracy_k =[]\n",
    "for i in k:\n",
    "    pipe_loop = make_pipeline(StandardScaler(), KNeighborsClassifier(n_neighbors=i, algorithm='brute', weights= 'uniform'))\n",
    "    cv_scores= cross_val_score(pipe_loop, X_train_def, y_train_def, scoring= 'accuracy',cv=10)\n",
    "    overall_accuracy_k.append(np.round(np.mean(cv_scores),4))"
   ]
  },
  {
   "cell_type": "code",
   "execution_count": 44,
   "id": "aba690fa",
   "metadata": {},
   "outputs": [
    {
     "data": {
      "text/plain": [
       "10"
      ]
     },
     "execution_count": 44,
     "metadata": {},
     "output_type": "execute_result"
    }
   ],
   "source": [
    "# For what value of K does the max accuracy happen?\n",
    "# Let's get the index at which the max happens and lets use that index to retrieve the K later\n",
    "\n",
    "overall_accuracy_k.index(max(overall_accuracy_k))"
   ]
  },
  {
   "cell_type": "code",
   "execution_count": 46,
   "id": "79db3f51",
   "metadata": {},
   "outputs": [
    {
     "data": {
      "text/plain": [
       "11"
      ]
     },
     "execution_count": 46,
     "metadata": {},
     "output_type": "execute_result"
    }
   ],
   "source": [
    "# For what value of K does the max accuracy happens?\n",
    "\n",
    "k[overall_accuracy_k.index(max(overall_accuracy_k))]"
   ]
  },
  {
   "cell_type": "markdown",
   "id": "e713d52a",
   "metadata": {},
   "source": [
    "We also got k=11 when we applied CV via GridSearch() and used the accuracy as the metric"
   ]
  },
  {
   "cell_type": "markdown",
   "id": "1c9dd21f",
   "metadata": {},
   "source": [
    "__Choosing K via CV based on f1-score__\n",
    "\n",
    "__CV is applied using cross_val_score() method__"
   ]
  },
  {
   "cell_type": "markdown",
   "id": "9240d367",
   "metadata": {},
   "source": [
    "WORK ON IT INDEPENDENTLY FOR 5 MINS !"
   ]
  }
 ],
 "metadata": {
  "kernelspec": {
   "display_name": "Python 3",
   "language": "python",
   "name": "python3"
  },
  "language_info": {
   "codemirror_mode": {
    "name": "ipython",
    "version": 3
   },
   "file_extension": ".py",
   "mimetype": "text/x-python",
   "name": "python",
   "nbconvert_exporter": "python",
   "pygments_lexer": "ipython3",
   "version": "3.8.8"
  }
 },
 "nbformat": 4,
 "nbformat_minor": 5
}
