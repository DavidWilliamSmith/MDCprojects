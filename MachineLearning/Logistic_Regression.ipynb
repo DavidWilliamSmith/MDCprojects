{
 "cells": [
  {
   "cell_type": "code",
   "execution_count": 1,
   "id": "cf98716e",
   "metadata": {},
   "outputs": [],
   "source": [
    "import numpy as np\n",
    "import pandas as pd\n",
    "import matplotlib.pyplot as plt"
   ]
  },
  {
   "cell_type": "code",
   "execution_count": 2,
   "id": "e1ff96b4",
   "metadata": {},
   "outputs": [],
   "source": [
    "# Importing the method to apply logistic regression\n",
    "\n",
    "from sklearn.linear_model import LogisticRegression"
   ]
  },
  {
   "cell_type": "code",
   "execution_count": 3,
   "id": "26a4a986",
   "metadata": {},
   "outputs": [],
   "source": [
    "# Importing libraries to evaluate the quality of the model\n",
    "\n",
    "from sklearn.model_selection import train_test_split\n",
    "\n",
    "from sklearn.metrics import accuracy_score\n",
    "\n",
    "from sklearn.metrics import confusion_matrix\n",
    "\n",
    "from sklearn.metrics import classification_report"
   ]
  },
  {
   "cell_type": "markdown",
   "id": "76a5de94",
   "metadata": {},
   "source": [
    "# Logistic Regression applied to the Caravan dataset"
   ]
  },
  {
   "cell_type": "code",
   "execution_count": 4,
   "id": "f0a3ef84",
   "metadata": {},
   "outputs": [],
   "source": [
    "Caravan_df= pd.read_csv('C:\\\\Users\\\\jheredi2\\\\Documents\\\\PythonDataAnalytics\\\\1-Datasets\\\\Caravan.csv')"
   ]
  },
  {
   "cell_type": "code",
   "execution_count": 5,
   "id": "cda5da00",
   "metadata": {},
   "outputs": [],
   "source": [
    "# Excluding the first predictor from the analysis\n",
    "\n",
    "X_train, X_test, y_train, y_test= train_test_split (Caravan_df.iloc[:,1:-1], Caravan_df['Purchase'], test_size=0.2, random_state=1)"
   ]
  },
  {
   "cell_type": "markdown",
   "id": "29e26e0a",
   "metadata": {},
   "source": [
    "##### The LogisticRegression() method in scikit-learn\n",
    "\n",
    "- There are multiple hyperparameters that can be tuned when this method is applied. For example:\n",
    "\n",
    "a) Whether regularization is applied or not, and what kind of regularization is applied (L1, L2, L1 and L2 combined)\n",
    "\n",
    "b) The value of the regularization parameter (lamda)\n",
    "\n",
    "c) The algortithm/method used to obtain the maximum for the likelihood function\n",
    "\n",
    "d) max_iter: Max number of iterations that the algortithm/method will run to find the maximum of the likelihood function\n",
    "\n",
    "And many other hyperparameters\n",
    "\n",
    "\n",
    "- Initially, we are going to apply Logistic Regression with the default hyperparameter values. Later, we will learn how to apply CV to select good values for some of these hyperparameters.\n",
    "\n",
    "<br>\n",
    "\n",
    "- The default values for some hyperparameters are:\n",
    "\n",
    "Regularization: L2\n",
    "\n",
    "Lamda= 1\n",
    "\n",
    "Algorithm/method used to obtain the maximum for the likelihood function: 'lbfgs' algorithm (the limited-memory Broyden–Fletcher–Goldfarb–Shanno algorithm)\n",
    "\n",
    "max_iter = 100"
   ]
  },
  {
   "cell_type": "code",
   "execution_count": 8,
   "id": "76206b8e",
   "metadata": {},
   "outputs": [],
   "source": [
    "logistic_model= LogisticRegression(max_iter= 1000)"
   ]
  },
  {
   "cell_type": "markdown",
   "id": "1f88201c",
   "metadata": {},
   "source": [
    "__Note__: I tried using the default value for max_iter= 100, but the algorithm couldn't find a maximum. Then, I tried with 500 and it did not work either. However, 1000 iterations did work!"
   ]
  },
  {
   "cell_type": "code",
   "execution_count": 9,
   "id": "6fdea9bd",
   "metadata": {},
   "outputs": [
    {
     "data": {
      "text/plain": [
       "LogisticRegression(max_iter=1000)"
      ]
     },
     "execution_count": 9,
     "metadata": {},
     "output_type": "execute_result"
    }
   ],
   "source": [
    "logistic_model.fit(X_train, y_train)"
   ]
  },
  {
   "cell_type": "code",
   "execution_count": 10,
   "id": "1964b3be",
   "metadata": {},
   "outputs": [],
   "source": [
    "y_predicted_test= logistic_model.predict(X_test)"
   ]
  },
  {
   "cell_type": "code",
   "execution_count": 11,
   "id": "158a0fc1",
   "metadata": {},
   "outputs": [
    {
     "data": {
      "text/plain": [
       "array([[1098,    3],\n",
       "       [  64,    0]], dtype=int64)"
      ]
     },
     "execution_count": 11,
     "metadata": {},
     "output_type": "execute_result"
    }
   ],
   "source": [
    "confusion_matrix(y_test, y_predicted_test)"
   ]
  },
  {
   "cell_type": "markdown",
   "id": "943f4918",
   "metadata": {},
   "source": [
    "It is not even worth to obtain the classification report because this classifier never predicts the Yes class correctly. But, in any case, let's do it."
   ]
  },
  {
   "cell_type": "code",
   "execution_count": 12,
   "id": "8dc26664",
   "metadata": {},
   "outputs": [
    {
     "name": "stdout",
     "output_type": "stream",
     "text": [
      "              precision    recall  f1-score   support\n",
      "\n",
      "          No       0.94      1.00      0.97      1101\n",
      "         Yes       0.00      0.00      0.00        64\n",
      "\n",
      "    accuracy                           0.94      1165\n",
      "   macro avg       0.47      0.50      0.49      1165\n",
      "weighted avg       0.89      0.94      0.92      1165\n",
      "\n"
     ]
    }
   ],
   "source": [
    "print (classification_report (y_test, y_predicted_test))"
   ]
  },
  {
   "cell_type": "markdown",
   "id": "ef2a47ab",
   "metadata": {},
   "source": [
    "### Changing the probability threshold to see if we get better results!\n",
    "\n",
    "Let's select the best threshold based on f1-score"
   ]
  },
  {
   "cell_type": "code",
   "execution_count": 6,
   "id": "e39fc497",
   "metadata": {},
   "outputs": [],
   "source": [
    "from sklearn.metrics import f1_score"
   ]
  },
  {
   "cell_type": "code",
   "execution_count": 14,
   "id": "c4fa6895",
   "metadata": {},
   "outputs": [],
   "source": [
    "# Create an array with all the probabilities of Yes\n",
    "\n",
    "prob_yes= logistic_model.predict_proba(X_test)[:,1]"
   ]
  },
  {
   "cell_type": "code",
   "execution_count": 15,
   "id": "6ababdee",
   "metadata": {},
   "outputs": [],
   "source": [
    "array_prob= np.arange(0.05, 0.51, 0.05)"
   ]
  },
  {
   "cell_type": "code",
   "execution_count": 16,
   "id": "33a3c915",
   "metadata": {},
   "outputs": [],
   "source": [
    "dict_predictions = dict()"
   ]
  },
  {
   "cell_type": "code",
   "execution_count": 17,
   "id": "ee82e8cf",
   "metadata": {},
   "outputs": [],
   "source": [
    "dict_f1_scores= dict()"
   ]
  },
  {
   "cell_type": "code",
   "execution_count": 18,
   "id": "296e9427",
   "metadata": {},
   "outputs": [],
   "source": [
    "for j in array_prob:\n",
    "    dict_predictions[j]=np.empty(y_test.size, dtype=object)\n",
    "    for i in np.arange(0, dict_predictions[j].size):\n",
    "        if prob_yes[i] > j:\n",
    "            dict_predictions[j][i]= 'Yes'\n",
    "        else:\n",
    "            dict_predictions[j][i]= 'No'\n",
    "    dict_f1_scores[j]= np.round (f1_score(y_test, dict_predictions[j],pos_label='Yes'),3)"
   ]
  },
  {
   "cell_type": "code",
   "execution_count": 19,
   "id": "7841b068",
   "metadata": {},
   "outputs": [
    {
     "data": {
      "text/plain": [
       "{0.05: 0.176,\n",
       " 0.1: 0.191,\n",
       " 0.15000000000000002: 0.203,\n",
       " 0.2: 0.14,\n",
       " 0.25: 0.124,\n",
       " 0.3: 0.071,\n",
       " 0.35000000000000003: 0.052,\n",
       " 0.4: 0.056,\n",
       " 0.45: 0.0,\n",
       " 0.5: 0.0}"
      ]
     },
     "execution_count": 19,
     "metadata": {},
     "output_type": "execute_result"
    }
   ],
   "source": [
    "dict_f1_scores"
   ]
  },
  {
   "cell_type": "code",
   "execution_count": 18,
   "id": "b582e308",
   "metadata": {},
   "outputs": [
    {
     "data": {
      "text/plain": [
       "0.15000000000000002"
      ]
     },
     "execution_count": 18,
     "metadata": {},
     "output_type": "execute_result"
    }
   ],
   "source": [
    "max(dict_f1_scores, key= dict_f1_scores.get)"
   ]
  },
  {
   "cell_type": "code",
   "execution_count": 19,
   "id": "b2c818ae",
   "metadata": {},
   "outputs": [
    {
     "data": {
      "text/plain": [
       "0.203"
      ]
     },
     "execution_count": 19,
     "metadata": {},
     "output_type": "execute_result"
    }
   ],
   "source": [
    "max(dict_f1_scores.values())"
   ]
  },
  {
   "cell_type": "code",
   "execution_count": 20,
   "id": "d7553d66",
   "metadata": {},
   "outputs": [],
   "source": [
    "# This loop computes the prediction of Y (No or Yes) for each test observation\n",
    "# The predictions of Y are stored in an array called 'y_predicted_prob015' \n",
    "# The prediction uses a prob threshold of 0.15\n",
    "\n",
    "y_predicted_prob015=np.empty(y_test.size, dtype=object)\n",
    "\n",
    "for i in np.arange(0,y_predicted_prob015.size):\n",
    "    if prob_yes[i] > 0.15:\n",
    "        y_predicted_prob015[i]= 'Yes'\n",
    "    else:\n",
    "        y_predicted_prob015[i]= 'No'"
   ]
  },
  {
   "cell_type": "code",
   "execution_count": 21,
   "id": "544b5168",
   "metadata": {},
   "outputs": [
    {
     "data": {
      "text/plain": [
       "array([[1006,   95],\n",
       "       [  46,   18]], dtype=int64)"
      ]
     },
     "execution_count": 21,
     "metadata": {},
     "output_type": "execute_result"
    }
   ],
   "source": [
    "confusion_matrix (y_test, y_predicted_prob015)"
   ]
  },
  {
   "cell_type": "code",
   "execution_count": 22,
   "id": "5e3faf2c",
   "metadata": {},
   "outputs": [
    {
     "name": "stdout",
     "output_type": "stream",
     "text": [
      "              precision    recall  f1-score   support\n",
      "\n",
      "          No       0.96      0.91      0.93      1101\n",
      "         Yes       0.16      0.28      0.20        64\n",
      "\n",
      "    accuracy                           0.88      1165\n",
      "   macro avg       0.56      0.60      0.57      1165\n",
      "weighted avg       0.91      0.88      0.89      1165\n",
      "\n"
     ]
    }
   ],
   "source": [
    "print (classification_report (y_test, y_predicted_prob015))"
   ]
  },
  {
   "cell_type": "markdown",
   "id": "50bce90d",
   "metadata": {},
   "source": [
    "### Changing the class weights to see if we get better results!"
   ]
  },
  {
   "cell_type": "markdown",
   "id": "edfb8438",
   "metadata": {},
   "source": [
    "__From the scikit-learn online documentation:__\n",
    "\n",
    "class_weight: dict or ‘balanced’, default=None\n",
    "\n",
    "Weights associated with classes in the form {class_label: weight}. If not given, all classes are supposed to have weight one.\n",
    "\n",
    "The “balanced” mode uses the values of y to automatically adjust weights inversely proportional to class frequencies in the input data as:\n",
    "\n",
    "n_samples / (n_classes * np.bincount(y))"
   ]
  },
  {
   "cell_type": "code",
   "execution_count": 24,
   "id": "1eae82f8",
   "metadata": {},
   "outputs": [
    {
     "data": {
      "text/plain": [
       "4657"
      ]
     },
     "execution_count": 24,
     "metadata": {},
     "output_type": "execute_result"
    }
   ],
   "source": [
    "# n_samples\n",
    "X_train.shape[0]"
   ]
  },
  {
   "cell_type": "code",
   "execution_count": 25,
   "id": "c5fd1541",
   "metadata": {},
   "outputs": [],
   "source": [
    "# n_classes= 2"
   ]
  },
  {
   "cell_type": "code",
   "execution_count": 30,
   "id": "5332ba40",
   "metadata": {},
   "outputs": [
    {
     "data": {
      "text/plain": [
       "array([4373,  284], dtype=int64)"
      ]
     },
     "execution_count": 30,
     "metadata": {},
     "output_type": "execute_result"
    }
   ],
   "source": [
    "np.array(y_train.value_counts())"
   ]
  },
  {
   "cell_type": "code",
   "execution_count": 31,
   "id": "7dfa61fd",
   "metadata": {},
   "outputs": [
    {
     "data": {
      "text/plain": [
       "array([0.53247199, 8.19894366])"
      ]
     },
     "execution_count": 31,
     "metadata": {},
     "output_type": "execute_result"
    }
   ],
   "source": [
    "X_train.shape[0]/(2*np.array(y_train.value_counts()))"
   ]
  },
  {
   "cell_type": "code",
   "execution_count": 32,
   "id": "c00d15ba",
   "metadata": {},
   "outputs": [
    {
     "data": {
      "text/plain": [
       "15.452830188679243"
      ]
     },
     "execution_count": 32,
     "metadata": {},
     "output_type": "execute_result"
    }
   ],
   "source": [
    "8.19/0.53"
   ]
  },
  {
   "cell_type": "markdown",
   "id": "30f8bdd7",
   "metadata": {},
   "source": [
    "__How does changing the class weights influences the classifier?__\n",
    "\n",
    "\"The difference in weights will influence the classification of the classes during the training phase. The whole purpose is to penalize the misclassification made by the minority class by setting a higher class weight and at the same time reducing weight for the majority class.\"\n",
    "\n",
    "\"It penalizes mistakes in samples of class[i] with class_weight[i]. So higher class-weight means you want to put more emphasis on a class.\""
   ]
  },
  {
   "cell_type": "code",
   "execution_count": 33,
   "id": "f3c61fe1",
   "metadata": {},
   "outputs": [],
   "source": [
    "logistic_model2= LogisticRegression(max_iter= 10000, class_weight='balanced')"
   ]
  },
  {
   "cell_type": "code",
   "execution_count": 34,
   "id": "3c69ffa5",
   "metadata": {},
   "outputs": [
    {
     "data": {
      "text/plain": [
       "LogisticRegression(class_weight='balanced', max_iter=10000)"
      ]
     },
     "execution_count": 34,
     "metadata": {},
     "output_type": "execute_result"
    }
   ],
   "source": [
    "logistic_model2.fit(X_train, y_train)"
   ]
  },
  {
   "cell_type": "code",
   "execution_count": 36,
   "id": "4a35bf56",
   "metadata": {},
   "outputs": [],
   "source": [
    "y_predicted_test2= logistic_model2.predict(X_test)"
   ]
  },
  {
   "cell_type": "code",
   "execution_count": 37,
   "id": "529d3f4c",
   "metadata": {},
   "outputs": [
    {
     "data": {
      "text/plain": [
       "array([[795, 306],\n",
       "       [ 25,  39]], dtype=int64)"
      ]
     },
     "execution_count": 37,
     "metadata": {},
     "output_type": "execute_result"
    }
   ],
   "source": [
    "confusion_matrix (y_test, y_predicted_test2)"
   ]
  },
  {
   "cell_type": "code",
   "execution_count": 38,
   "id": "15daef5d",
   "metadata": {},
   "outputs": [
    {
     "name": "stdout",
     "output_type": "stream",
     "text": [
      "              precision    recall  f1-score   support\n",
      "\n",
      "          No       0.97      0.72      0.83      1101\n",
      "         Yes       0.11      0.61      0.19        64\n",
      "\n",
      "    accuracy                           0.72      1165\n",
      "   macro avg       0.54      0.67      0.51      1165\n",
      "weighted avg       0.92      0.72      0.79      1165\n",
      "\n"
     ]
    }
   ],
   "source": [
    "print (classification_report (y_test, y_predicted_test2))"
   ]
  },
  {
   "cell_type": "markdown",
   "id": "9111797c",
   "metadata": {},
   "source": [
    "### Standardizing the predictors before applying the classification technique"
   ]
  },
  {
   "cell_type": "markdown",
   "id": "bf6a0644",
   "metadata": {},
   "source": [
    "__Standardizing__ means converting the values of a variable into Z scores by subtracting the mean and dividing by the standard deviation.\n",
    "\n",
    "A different operation is __normalizing__, which entails scaling the values of a variable in the [0, 1] range by substracting the minimun from each value and dividing by the range.\n",
    "\n",
    "Standardizing is most commonly 'required' than normalizing"
   ]
  },
  {
   "cell_type": "markdown",
   "id": "fdab166c",
   "metadata": {},
   "source": [
    "__From the scikit-learn online documentation:__\n",
    "\n",
    "Standardization of datasets is a common requirement __for many__ machine learning estimators implemented in scikit-learn; they might behave badly if the individual features do not more or less look like standard normally distributed data: Gaussian with zero mean and unit variance.\n",
    "\n",
    "In practice we often ignore the shape of the distribution and just transform the data to center it by removing the mean value of each feature, then scale it by dividing non-constant features by their standard deviation.\n",
    "\n",
    "For instance, __many elements used in the objective function of a learning algorithm__ (such as the RBF kernel of Support Vector Machines or __the l1 and l2 regularizers of linear models__) may assume that all features are centered around zero or have variance in the same order. If a feature has a variance that is orders of magnitude larger than others, it might dominate the objective function and make the estimator unable to learn from other features correctly as expected.\n",
    "\n",
    "\n",
    "Because the default application of Logistic Regression in scikit-learn uses L2 regularization, we should standardized the predictors before applying this technique."
   ]
  },
  {
   "cell_type": "markdown",
   "id": "67e8058c",
   "metadata": {},
   "source": [
    "Note: It is not recommended to stardandized the predictors before splitting the data into training and testing.\n",
    "\n",
    "So, in principle you can split the dataset and afterwards standardize each part (training and test) individually \n",
    "\n",
    "Or ...\n",
    "\n",
    "You can standardize as part of a pipeline applicationin scikit-learn (RECOMMENDED!)"
   ]
  },
  {
   "cell_type": "code",
   "execution_count": 7,
   "id": "6e926e22",
   "metadata": {},
   "outputs": [],
   "source": [
    "from sklearn.pipeline import make_pipeline\n",
    "\n",
    "# The method StandardScaler() is the one used to standardize the predictors\n",
    "\n",
    "from sklearn.preprocessing import StandardScaler"
   ]
  },
  {
   "cell_type": "code",
   "execution_count": 51,
   "id": "fe876215",
   "metadata": {},
   "outputs": [],
   "source": [
    "pipe_caravan = make_pipeline(StandardScaler(), LogisticRegression(max_iter= 1000))"
   ]
  },
  {
   "cell_type": "code",
   "execution_count": 52,
   "id": "ea1b7205",
   "metadata": {},
   "outputs": [
    {
     "data": {
      "text/plain": [
       "Pipeline(steps=[('standardscaler', StandardScaler()),\n",
       "                ('logisticregression', LogisticRegression(max_iter=1000))])"
      ]
     },
     "execution_count": 52,
     "metadata": {},
     "output_type": "execute_result"
    }
   ],
   "source": [
    "pipe_caravan.fit(X_train, y_train)"
   ]
  },
  {
   "cell_type": "code",
   "execution_count": 42,
   "id": "7d966cee",
   "metadata": {},
   "outputs": [],
   "source": [
    "y_predicted_test3= pipe_caravan.predict(X_test)"
   ]
  },
  {
   "cell_type": "code",
   "execution_count": 43,
   "id": "25523df0",
   "metadata": {},
   "outputs": [
    {
     "data": {
      "text/plain": [
       "array([[1097,    4],\n",
       "       [  64,    0]], dtype=int64)"
      ]
     },
     "execution_count": 43,
     "metadata": {},
     "output_type": "execute_result"
    }
   ],
   "source": [
    "confusion_matrix (y_test, y_predicted_test3)"
   ]
  },
  {
   "cell_type": "code",
   "execution_count": 44,
   "id": "2de6bbd6",
   "metadata": {},
   "outputs": [
    {
     "name": "stdout",
     "output_type": "stream",
     "text": [
      "              precision    recall  f1-score   support\n",
      "\n",
      "          No       0.94      1.00      0.97      1101\n",
      "         Yes       0.00      0.00      0.00        64\n",
      "\n",
      "    accuracy                           0.94      1165\n",
      "   macro avg       0.47      0.50      0.48      1165\n",
      "weighted avg       0.89      0.94      0.92      1165\n",
      "\n"
     ]
    }
   ],
   "source": [
    "print (classification_report (y_test, y_predicted_test3))"
   ]
  },
  {
   "cell_type": "markdown",
   "id": "4a573566",
   "metadata": {},
   "source": [
    "### Standardizing and changing the weights"
   ]
  },
  {
   "cell_type": "code",
   "execution_count": 53,
   "id": "bbe2eb51",
   "metadata": {},
   "outputs": [],
   "source": [
    "pipe_caravan2 = make_pipeline(StandardScaler(), LogisticRegression(max_iter= 1000, class_weight='balanced'))"
   ]
  },
  {
   "cell_type": "code",
   "execution_count": 54,
   "id": "5f591e74",
   "metadata": {},
   "outputs": [
    {
     "data": {
      "text/plain": [
       "Pipeline(steps=[('standardscaler', StandardScaler()),\n",
       "                ('logisticregression',\n",
       "                 LogisticRegression(class_weight='balanced', max_iter=1000))])"
      ]
     },
     "execution_count": 54,
     "metadata": {},
     "output_type": "execute_result"
    }
   ],
   "source": [
    "pipe_caravan2.fit(X_train, y_train)"
   ]
  },
  {
   "cell_type": "code",
   "execution_count": 55,
   "id": "9047e01c",
   "metadata": {},
   "outputs": [],
   "source": [
    "y_predicted_test4= pipe_caravan2.predict(X_test)"
   ]
  },
  {
   "cell_type": "code",
   "execution_count": 56,
   "id": "d73b3e52",
   "metadata": {},
   "outputs": [
    {
     "data": {
      "text/plain": [
       "array([[793, 308],\n",
       "       [ 26,  38]], dtype=int64)"
      ]
     },
     "execution_count": 56,
     "metadata": {},
     "output_type": "execute_result"
    }
   ],
   "source": [
    "confusion_matrix (y_test, y_predicted_test4)"
   ]
  },
  {
   "cell_type": "code",
   "execution_count": 57,
   "id": "199d6591",
   "metadata": {},
   "outputs": [
    {
     "name": "stdout",
     "output_type": "stream",
     "text": [
      "              precision    recall  f1-score   support\n",
      "\n",
      "          No       0.97      0.72      0.83      1101\n",
      "         Yes       0.11      0.59      0.19        64\n",
      "\n",
      "    accuracy                           0.71      1165\n",
      "   macro avg       0.54      0.66      0.51      1165\n",
      "weighted avg       0.92      0.71      0.79      1165\n",
      "\n"
     ]
    }
   ],
   "source": [
    "print (classification_report (y_test, y_predicted_test4))"
   ]
  },
  {
   "cell_type": "markdown",
   "id": "c8876596",
   "metadata": {},
   "source": [
    "### Standardizing and changing the probability threshold"
   ]
  },
  {
   "cell_type": "code",
   "execution_count": 58,
   "id": "31823fc6",
   "metadata": {},
   "outputs": [],
   "source": [
    "pipe_caravan3 = make_pipeline(StandardScaler(), LogisticRegression(max_iter= 1000))"
   ]
  },
  {
   "cell_type": "code",
   "execution_count": 59,
   "id": "d4464be9",
   "metadata": {},
   "outputs": [
    {
     "data": {
      "text/plain": [
       "Pipeline(steps=[('standardscaler', StandardScaler()),\n",
       "                ('logisticregression', LogisticRegression(max_iter=1000))])"
      ]
     },
     "execution_count": 59,
     "metadata": {},
     "output_type": "execute_result"
    }
   ],
   "source": [
    "pipe_caravan3.fit(X_train, y_train)"
   ]
  },
  {
   "cell_type": "code",
   "execution_count": 60,
   "id": "9d46b5cc",
   "metadata": {},
   "outputs": [],
   "source": [
    "prob_yes2= pipe_caravan3.predict_proba(X_test)[:,1]"
   ]
  },
  {
   "cell_type": "code",
   "execution_count": 61,
   "id": "5e329110",
   "metadata": {},
   "outputs": [],
   "source": [
    "dict_predictions2={}"
   ]
  },
  {
   "cell_type": "code",
   "execution_count": 62,
   "id": "b4590870",
   "metadata": {},
   "outputs": [],
   "source": [
    "dict_f1_scores2={}"
   ]
  },
  {
   "cell_type": "code",
   "execution_count": 63,
   "id": "04b04c3a",
   "metadata": {},
   "outputs": [],
   "source": [
    "for j in array_prob:\n",
    "    dict_predictions2[j]=np.empty(y_test.size, dtype=object)\n",
    "    for i in np.arange(0, dict_predictions2[j].size):\n",
    "        if prob_yes2[i] > j:\n",
    "            dict_predictions2[j][i]= 'Yes'\n",
    "        else:\n",
    "            dict_predictions2[j][i]= 'No'\n",
    "    dict_f1_scores2[j]= np.round (f1_score(y_test, dict_predictions2[j],pos_label='Yes'),3)"
   ]
  },
  {
   "cell_type": "code",
   "execution_count": 64,
   "id": "f3292ff2",
   "metadata": {},
   "outputs": [
    {
     "data": {
      "text/plain": [
       "{0.05: 0.174,\n",
       " 0.1: 0.181,\n",
       " 0.15000000000000002: 0.201,\n",
       " 0.2: 0.168,\n",
       " 0.25: 0.143,\n",
       " 0.3: 0.067,\n",
       " 0.35000000000000003: 0.05,\n",
       " 0.4: 0.053,\n",
       " 0.45: 0.0,\n",
       " 0.5: 0.0}"
      ]
     },
     "execution_count": 64,
     "metadata": {},
     "output_type": "execute_result"
    }
   ],
   "source": [
    "dict_f1_scores2"
   ]
  },
  {
   "cell_type": "code",
   "execution_count": 65,
   "id": "80891b78",
   "metadata": {},
   "outputs": [],
   "source": [
    "y_predicted_prob015_2=np.empty(y_test.size, dtype=object)\n",
    "\n",
    "for i in np.arange(0,y_predicted_prob015_2.size):\n",
    "    if prob_yes2[i] > 0.15:\n",
    "        y_predicted_prob015_2[i]= 'Yes'\n",
    "    else:\n",
    "        y_predicted_prob015_2[i]= 'No'"
   ]
  },
  {
   "cell_type": "code",
   "execution_count": 66,
   "id": "a6186d79",
   "metadata": {},
   "outputs": [
    {
     "data": {
      "text/plain": [
       "array([[1004,   97],\n",
       "       [  46,   18]], dtype=int64)"
      ]
     },
     "execution_count": 66,
     "metadata": {},
     "output_type": "execute_result"
    }
   ],
   "source": [
    "confusion_matrix (y_test, y_predicted_prob015_2)"
   ]
  },
  {
   "cell_type": "code",
   "execution_count": 67,
   "id": "2ba2dc37",
   "metadata": {},
   "outputs": [
    {
     "name": "stdout",
     "output_type": "stream",
     "text": [
      "              precision    recall  f1-score   support\n",
      "\n",
      "          No       0.96      0.91      0.93      1101\n",
      "         Yes       0.16      0.28      0.20        64\n",
      "\n",
      "    accuracy                           0.88      1165\n",
      "   macro avg       0.56      0.60      0.57      1165\n",
      "weighted avg       0.91      0.88      0.89      1165\n",
      "\n"
     ]
    }
   ],
   "source": [
    "print (classification_report (y_test, y_predicted_prob015_2))"
   ]
  },
  {
   "cell_type": "markdown",
   "id": "1d4013c3",
   "metadata": {},
   "source": [
    "__START HERE ON TUESDAY__"
   ]
  },
  {
   "cell_type": "markdown",
   "id": "47da77c1",
   "metadata": {},
   "source": [
    "### Tuning hyperparameters via CV"
   ]
  },
  {
   "cell_type": "markdown",
   "id": "93cc3c77",
   "metadata": {},
   "source": [
    "We are going to apply GridSearchCV() to __tune two parameters: Lamda__ (the regularization parameter) and __the class weights__\n",
    "\n",
    "We tune the class weights in case we do not want to use the default weights used by scikit-learn. As we saw before, the default is class_weight= 'balanced'"
   ]
  },
  {
   "cell_type": "markdown",
   "id": "787f338b",
   "metadata": {},
   "source": [
    "__Lambda__: The penalty parameter\n",
    "\n",
    "In scikit-learn, we do not directly tune lambda but the inverse of lambda, a parameter called C. \n",
    "\n",
    "Lambda= 1/ C\n",
    "\n",
    "See next from the scikit-learn documentation:\n",
    "\n",
    "C float, default=1.0\n",
    "\n",
    "Inverse of regularization strength; must be a positive float. Smaller values of C specify stronger regularization."
   ]
  },
  {
   "cell_type": "code",
   "execution_count": 8,
   "id": "2cb16bb4",
   "metadata": {},
   "outputs": [],
   "source": [
    "from sklearn.model_selection import GridSearchCV"
   ]
  },
  {
   "cell_type": "code",
   "execution_count": 9,
   "id": "c820f23b",
   "metadata": {},
   "outputs": [],
   "source": [
    "pipe_caravan_CVSearch = make_pipeline(StandardScaler(), LogisticRegression())"
   ]
  },
  {
   "cell_type": "code",
   "execution_count": 10,
   "id": "98bf3ea8",
   "metadata": {},
   "outputs": [
    {
     "data": {
      "text/plain": [
       "array([0.001     , 0.02138776, 0.04177551, 0.06216327, 0.08255102,\n",
       "       0.10293878, 0.12332653, 0.14371429, 0.16410204, 0.1844898 ,\n",
       "       0.20487755, 0.22526531, 0.24565306, 0.26604082, 0.28642857,\n",
       "       0.30681633, 0.32720408, 0.34759184, 0.36797959, 0.38836735,\n",
       "       0.4087551 , 0.42914286, 0.44953061, 0.46991837, 0.49030612,\n",
       "       0.51069388, 0.53108163, 0.55146939, 0.57185714, 0.5922449 ,\n",
       "       0.61263265, 0.63302041, 0.65340816, 0.67379592, 0.69418367,\n",
       "       0.71457143, 0.73495918, 0.75534694, 0.77573469, 0.79612245,\n",
       "       0.8165102 , 0.83689796, 0.85728571, 0.87767347, 0.89806122,\n",
       "       0.91844898, 0.93883673, 0.95922449, 0.97961224, 1.        ])"
      ]
     },
     "execution_count": 10,
     "metadata": {},
     "output_type": "execute_result"
    }
   ],
   "source": [
    "# Values of C that we are trying\n",
    "\n",
    "C_hyper= np.linspace(0.001, 1, 50)\n",
    "C_hyper"
   ]
  },
  {
   "cell_type": "code",
   "execution_count": 11,
   "id": "7859f52f",
   "metadata": {},
   "outputs": [
    {
     "data": {
      "text/plain": [
       "array([1000.        ,   46.75572519,   23.93746947,   16.08667104,\n",
       "         12.11372064,    9.71451229,    8.10855535,    6.9582505 ,\n",
       "          6.09376943,    5.42035398,    4.88096424,    4.43921   ,\n",
       "          4.07078176,    3.75882172,    3.49127182,    3.25927897,\n",
       "          3.05619659,    2.87693753,    2.71754201,    2.57488177,\n",
       "          2.44645264,    2.33022636,    2.22454261,    2.12802918,\n",
       "          2.03954214,    1.9581202 ,    1.8829497 ,    1.81333728,\n",
       "          1.74868848,    1.6884907 ,    1.63229954,    1.5797279 ,\n",
       "          1.53043696,    1.48412891,    1.44054094,    1.39944022,\n",
       "          1.36061978,    1.32389495,    1.28910052,    1.25608818,\n",
       "          1.22472444,    1.1948888 ,    1.16647225,    1.1393759 ,\n",
       "          1.11350983,    1.08879211,    1.06514793,    1.04250883,\n",
       "          1.02081207,    1.        ])"
      ]
     },
     "execution_count": 11,
     "metadata": {},
     "output_type": "execute_result"
    }
   ],
   "source": [
    "# Values of lambda that we are trying\n",
    "\n",
    "1/C_hyper"
   ]
  },
  {
   "cell_type": "code",
   "execution_count": 26,
   "id": "5f4db7ca",
   "metadata": {},
   "outputs": [
    {
     "data": {
      "text/plain": [
       "array([0. , 0.1, 0.2, 0.3, 0.4, 0.5, 0.6, 0.7, 0.8, 0.9, 1. ])"
      ]
     },
     "execution_count": 26,
     "metadata": {},
     "output_type": "execute_result"
    }
   ],
   "source": [
    "weights = np.round (np.linspace(0.0,1,11), 2)\n",
    "weights"
   ]
  },
  {
   "cell_type": "markdown",
   "id": "779c9477",
   "metadata": {},
   "source": [
    "_Random question:_ In the next cell, think about another way of assigning the class weight value (a way that does not use a loop)"
   ]
  },
  {
   "cell_type": "code",
   "execution_count": 13,
   "id": "0ae24f9b",
   "metadata": {},
   "outputs": [],
   "source": [
    "hyperparam_grid = {\n",
    "    'logisticregression__C': C_hyper,\n",
    "    'logisticregression__class_weight': [{'No':x, 'Yes':1.0-x} for x in weights],\n",
    "    'logisticregression__max_iter':[10000]\n",
    "}"
   ]
  },
  {
   "cell_type": "code",
   "execution_count": 14,
   "id": "a516bda8",
   "metadata": {},
   "outputs": [],
   "source": [
    "grid_search= GridSearchCV(estimator= pipe_caravan_CVSearch, param_grid=hyperparam_grid, cv=5)"
   ]
  },
  {
   "cell_type": "markdown",
   "id": "97acc8b1",
   "metadata": {},
   "source": [
    "##### DO NOT RUN THE NEXT CELL. JUST OBSERVER RESULTS!"
   ]
  },
  {
   "cell_type": "code",
   "execution_count": 15,
   "id": "15afc229",
   "metadata": {},
   "outputs": [
    {
     "data": {
      "text/plain": [
       "GridSearchCV(cv=5,\n",
       "             estimator=Pipeline(steps=[('standardscaler', StandardScaler()),\n",
       "                                       ('logisticregression',\n",
       "                                        LogisticRegression())]),\n",
       "             param_grid={'logisticregression__C': array([0.001     , 0.02138776, 0.04177551, 0.06216327, 0.08255102,\n",
       "       0.10293878, 0.12332653, 0.14371429, 0.16410204, 0.1844898 ,\n",
       "       0.20487755, 0.22526531, 0.24565306, 0.26604082, 0.28642857,\n",
       "       0.30681633, 0.32720408,...\n",
       "                         'logisticregression__class_weight': [{'No': 0.0,\n",
       "                                                               'Yes': 1.0},\n",
       "                                                              {'No': 0.1,\n",
       "                                                               'Yes': 0.9},\n",
       "                                                              {'No': 0.2,\n",
       "                                                               'Yes': 0.8},\n",
       "                                                              {'No': 0.3,\n",
       "                                                               'Yes': 0.7},\n",
       "                                                              {'No': 0.4,\n",
       "                                                               'Yes': 0.6},\n",
       "                                                              {'No': 0.5,\n",
       "                                                               'Yes': 0.5},\n",
       "                                                              {'No': 0.6,\n",
       "                                                               'Yes': 0.4},\n",
       "                                                              {'No': 0.7,\n",
       "                                                               'Yes': 0.30000000000000004},\n",
       "                                                              {'No': 0.8,\n",
       "                                                               'Yes': 0.19999999999999996},\n",
       "                                                              {'No': 0.9,\n",
       "                                                               'Yes': 0.09999999999999998},\n",
       "                                                              {'No': 1.0,\n",
       "                                                               'Yes': 0.0}],\n",
       "                         'logisticregression__max_iter': [10000]})"
      ]
     },
     "execution_count": 15,
     "metadata": {},
     "output_type": "execute_result"
    }
   ],
   "source": [
    "grid_search.fit(X_train, y_train)"
   ]
  },
  {
   "cell_type": "code",
   "execution_count": 16,
   "id": "55a624c5",
   "metadata": {},
   "outputs": [
    {
     "data": {
      "text/plain": [
       "{'logisticregression__C': 0.021387755102040818,\n",
       " 'logisticregression__class_weight': {'No': 0.7, 'Yes': 0.30000000000000004},\n",
       " 'logisticregression__max_iter': 10000}"
      ]
     },
     "execution_count": 16,
     "metadata": {},
     "output_type": "execute_result"
    }
   ],
   "source": [
    "grid_search.best_params_"
   ]
  },
  {
   "cell_type": "code",
   "execution_count": 30,
   "id": "bb90d360",
   "metadata": {},
   "outputs": [],
   "source": [
    "pipe_caravan4 = make_pipeline(StandardScaler(), LogisticRegression(max_iter= 10000, class_weight={'No': 0.7, 'Yes': 0.3}, C=0.021387755102040818))"
   ]
  },
  {
   "cell_type": "code",
   "execution_count": 31,
   "id": "9596e8b9",
   "metadata": {},
   "outputs": [
    {
     "data": {
      "text/plain": [
       "Pipeline(steps=[('standardscaler', StandardScaler()),\n",
       "                ('logisticregression',\n",
       "                 LogisticRegression(C=0.021387755102040818,\n",
       "                                    class_weight={'No': 0.7, 'Yes': 0.3},\n",
       "                                    max_iter=10000))])"
      ]
     },
     "execution_count": 31,
     "metadata": {},
     "output_type": "execute_result"
    }
   ],
   "source": [
    "pipe_caravan4.fit(X_train, y_train)"
   ]
  },
  {
   "cell_type": "code",
   "execution_count": 32,
   "id": "6532804f",
   "metadata": {},
   "outputs": [],
   "source": [
    "y_predicted_test5= pipe_caravan4.predict(X_test)"
   ]
  },
  {
   "cell_type": "code",
   "execution_count": 33,
   "id": "3544425c",
   "metadata": {},
   "outputs": [
    {
     "data": {
      "text/plain": [
       "array([[1100,    1],\n",
       "       [  64,    0]], dtype=int64)"
      ]
     },
     "execution_count": 33,
     "metadata": {},
     "output_type": "execute_result"
    }
   ],
   "source": [
    "confusion_matrix (y_test, y_predicted_test5)"
   ]
  },
  {
   "cell_type": "code",
   "execution_count": 34,
   "id": "61407a48",
   "metadata": {},
   "outputs": [
    {
     "name": "stdout",
     "output_type": "stream",
     "text": [
      "              precision    recall  f1-score   support\n",
      "\n",
      "          No       0.95      1.00      0.97      1101\n",
      "         Yes       0.00      0.00      0.00        64\n",
      "\n",
      "    accuracy                           0.94      1165\n",
      "   macro avg       0.47      0.50      0.49      1165\n",
      "weighted avg       0.89      0.94      0.92      1165\n",
      "\n"
     ]
    }
   ],
   "source": [
    "print (classification_report (y_test, y_predicted_test5))"
   ]
  },
  {
   "cell_type": "markdown",
   "id": "3470e13f",
   "metadata": {},
   "source": [
    "The GridSearch CV was optimizing the overall accuracy. We might want to run a CV grid search to search for the best f1-score"
   ]
  },
  {
   "cell_type": "markdown",
   "id": "82e6ced6",
   "metadata": {},
   "source": [
    "### Repeat Grid Search but using f1-score as the scoring function in CV"
   ]
  },
  {
   "cell_type": "code",
   "execution_count": 22,
   "id": "8a09501f",
   "metadata": {},
   "outputs": [],
   "source": [
    "from sklearn.metrics import make_scorer"
   ]
  },
  {
   "cell_type": "code",
   "execution_count": 23,
   "id": "7c96adc7",
   "metadata": {},
   "outputs": [],
   "source": [
    "f1_scorer = make_scorer(f1_score, pos_label='Yes')"
   ]
  },
  {
   "cell_type": "code",
   "execution_count": 27,
   "id": "a31b92a0",
   "metadata": {},
   "outputs": [],
   "source": [
    "grid_search2= GridSearchCV(estimator= pipe_caravan_CVSearch, param_grid=hyperparam_grid, cv=5, scoring=f1_scorer)"
   ]
  },
  {
   "cell_type": "markdown",
   "id": "2568f129",
   "metadata": {},
   "source": [
    "##### DO NOT RUN THE NEXT CELL. JUST OBSERVER RESULTS!"
   ]
  },
  {
   "cell_type": "code",
   "execution_count": 28,
   "id": "71433a70",
   "metadata": {},
   "outputs": [
    {
     "data": {
      "text/plain": [
       "GridSearchCV(cv=5,\n",
       "             estimator=Pipeline(steps=[('standardscaler', StandardScaler()),\n",
       "                                       ('logisticregression',\n",
       "                                        LogisticRegression())]),\n",
       "             param_grid={'logisticregression__C': array([0.001     , 0.02138776, 0.04177551, 0.06216327, 0.08255102,\n",
       "       0.10293878, 0.12332653, 0.14371429, 0.16410204, 0.1844898 ,\n",
       "       0.20487755, 0.22526531, 0.24565306, 0.26604082, 0.28642857,\n",
       "       0.30681633, 0.32720408,...\n",
       "                                                               'Yes': 1.0},\n",
       "                                                              {'No': 0.1,\n",
       "                                                               'Yes': 0.9},\n",
       "                                                              {'No': 0.2,\n",
       "                                                               'Yes': 0.8},\n",
       "                                                              {'No': 0.3,\n",
       "                                                               'Yes': 0.7},\n",
       "                                                              {'No': 0.4,\n",
       "                                                               'Yes': 0.6},\n",
       "                                                              {'No': 0.5,\n",
       "                                                               'Yes': 0.5},\n",
       "                                                              {'No': 0.6,\n",
       "                                                               'Yes': 0.4},\n",
       "                                                              {'No': 0.7,\n",
       "                                                               'Yes': 0.30000000000000004},\n",
       "                                                              {'No': 0.8,\n",
       "                                                               'Yes': 0.19999999999999996},\n",
       "                                                              {'No': 0.9,\n",
       "                                                               'Yes': 0.09999999999999998},\n",
       "                                                              {'No': 1.0,\n",
       "                                                               'Yes': 0.0}],\n",
       "                         'logisticregression__max_iter': [10000]},\n",
       "             scoring=make_scorer(f1_score, pos_label=Yes))"
      ]
     },
     "execution_count": 28,
     "metadata": {},
     "output_type": "execute_result"
    }
   ],
   "source": [
    "grid_search2.fit(X_train, y_train)"
   ]
  },
  {
   "cell_type": "code",
   "execution_count": 29,
   "id": "cf3650a1",
   "metadata": {},
   "outputs": [
    {
     "data": {
      "text/plain": [
       "{'logisticregression__C': 0.021387755102040818,\n",
       " 'logisticregression__class_weight': {'No': 0.1, 'Yes': 0.9},\n",
       " 'logisticregression__max_iter': 10000}"
      ]
     },
     "execution_count": 29,
     "metadata": {},
     "output_type": "execute_result"
    }
   ],
   "source": [
    "grid_search2.best_params_"
   ]
  },
  {
   "cell_type": "code",
   "execution_count": 35,
   "id": "c8d5db66",
   "metadata": {},
   "outputs": [],
   "source": [
    "pipe_caravan5 = make_pipeline(StandardScaler(), LogisticRegression(max_iter= 10000, class_weight={'No': 0.1, 'Yes': 0.9}, C=0.021387755102040818))"
   ]
  },
  {
   "cell_type": "code",
   "execution_count": 36,
   "id": "72aec1f7",
   "metadata": {},
   "outputs": [
    {
     "data": {
      "text/plain": [
       "Pipeline(steps=[('standardscaler', StandardScaler()),\n",
       "                ('logisticregression',\n",
       "                 LogisticRegression(C=0.021387755102040818,\n",
       "                                    class_weight={'No': 0.1, 'Yes': 0.9},\n",
       "                                    max_iter=10000))])"
      ]
     },
     "execution_count": 36,
     "metadata": {},
     "output_type": "execute_result"
    }
   ],
   "source": [
    "pipe_caravan5.fit(X_train, y_train)"
   ]
  },
  {
   "cell_type": "code",
   "execution_count": 37,
   "id": "81e703a9",
   "metadata": {},
   "outputs": [],
   "source": [
    "y_predicted_test6= pipe_caravan5.predict(X_test)"
   ]
  },
  {
   "cell_type": "code",
   "execution_count": 38,
   "id": "6182601a",
   "metadata": {},
   "outputs": [
    {
     "data": {
      "text/plain": [
       "array([[939, 162],\n",
       "       [ 39,  25]], dtype=int64)"
      ]
     },
     "execution_count": 38,
     "metadata": {},
     "output_type": "execute_result"
    }
   ],
   "source": [
    "confusion_matrix (y_test, y_predicted_test6)"
   ]
  },
  {
   "cell_type": "code",
   "execution_count": 39,
   "id": "b962db08",
   "metadata": {},
   "outputs": [
    {
     "name": "stdout",
     "output_type": "stream",
     "text": [
      "              precision    recall  f1-score   support\n",
      "\n",
      "          No       0.96      0.85      0.90      1101\n",
      "         Yes       0.13      0.39      0.20        64\n",
      "\n",
      "    accuracy                           0.83      1165\n",
      "   macro avg       0.55      0.62      0.55      1165\n",
      "weighted avg       0.91      0.83      0.86      1165\n",
      "\n"
     ]
    }
   ],
   "source": [
    "print (classification_report (y_test, y_predicted_test6))"
   ]
  },
  {
   "cell_type": "markdown",
   "id": "61010d43",
   "metadata": {},
   "source": [
    "# Logistic Regression applied to the Default dataset"
   ]
  },
  {
   "cell_type": "code",
   "execution_count": 59,
   "id": "27abcddc",
   "metadata": {},
   "outputs": [],
   "source": [
    "Default_df= pd.read_csv('C:\\\\Users\\\\jheredi2\\\\Documents\\\\PythonDataAnalytics\\\\1-Datasets\\\\Default.csv')"
   ]
  },
  {
   "cell_type": "code",
   "execution_count": 60,
   "id": "ae81cffd",
   "metadata": {},
   "outputs": [],
   "source": [
    "Default_df_dummies= pd.get_dummies(Default_df,columns=['student'], drop_first=True)"
   ]
  },
  {
   "cell_type": "code",
   "execution_count": 61,
   "id": "dfb5c016",
   "metadata": {},
   "outputs": [],
   "source": [
    "X_train_def, X_test_def, y_train_def, y_test_def= train_test_split (Default_df_dummies.iloc[:,1:], Default_df['default'], test_size=0.2, random_state=1)"
   ]
  },
  {
   "cell_type": "markdown",
   "id": "60f27653",
   "metadata": {},
   "source": [
    "### Standardizing and changing probability threshold"
   ]
  },
  {
   "cell_type": "code",
   "execution_count": 62,
   "id": "8319b5fe",
   "metadata": {},
   "outputs": [],
   "source": [
    "pipe_default = make_pipeline(StandardScaler(), LogisticRegression(max_iter= 1000))"
   ]
  },
  {
   "cell_type": "code",
   "execution_count": 63,
   "id": "d7ca008f",
   "metadata": {},
   "outputs": [
    {
     "data": {
      "text/plain": [
       "Pipeline(steps=[('standardscaler', StandardScaler()),\n",
       "                ('logisticregression', LogisticRegression(max_iter=1000))])"
      ]
     },
     "execution_count": 63,
     "metadata": {},
     "output_type": "execute_result"
    }
   ],
   "source": [
    "pipe_default.fit(X_train_def, y_train_def)"
   ]
  },
  {
   "cell_type": "code",
   "execution_count": 64,
   "id": "4e30be64",
   "metadata": {},
   "outputs": [],
   "source": [
    "prob_yes_default= pipe_default.predict_proba(X_test_def)[:,1]"
   ]
  },
  {
   "cell_type": "code",
   "execution_count": 65,
   "id": "0c0f6665",
   "metadata": {},
   "outputs": [],
   "source": [
    "dict_predictions_default= dict()"
   ]
  },
  {
   "cell_type": "code",
   "execution_count": 66,
   "id": "57400e6a",
   "metadata": {},
   "outputs": [],
   "source": [
    "dict_f1_scores_default= dict()"
   ]
  },
  {
   "cell_type": "code",
   "execution_count": 67,
   "id": "1b622fe5",
   "metadata": {},
   "outputs": [],
   "source": [
    "for j in array_prob:\n",
    "    dict_predictions_default[j]=np.empty(y_test_def.size, dtype=object)\n",
    "    for i in np.arange(0, dict_predictions_default[j].size):\n",
    "        if prob_yes_default[i] > j:\n",
    "            dict_predictions_default[j][i]= 'Yes'\n",
    "        else:\n",
    "            dict_predictions_default[j][i]= 'No'\n",
    "    dict_f1_scores_default[j]= np.round (f1_score(y_test_def, dict_predictions_default[j],pos_label='Yes'),3)"
   ]
  },
  {
   "cell_type": "code",
   "execution_count": 68,
   "id": "91a2f0d1",
   "metadata": {},
   "outputs": [
    {
     "data": {
      "text/plain": [
       "{0.05: 0.308,\n",
       " 0.1: 0.359,\n",
       " 0.15000000000000002: 0.381,\n",
       " 0.2: 0.37,\n",
       " 0.25: 0.394,\n",
       " 0.3: 0.38,\n",
       " 0.35000000000000003: 0.396,\n",
       " 0.4: 0.388,\n",
       " 0.45: 0.409,\n",
       " 0.5: 0.409}"
      ]
     },
     "execution_count": 68,
     "metadata": {},
     "output_type": "execute_result"
    }
   ],
   "source": [
    "dict_f1_scores_default"
   ]
  },
  {
   "cell_type": "markdown",
   "id": "61b26995",
   "metadata": {},
   "source": [
    "The highest f1-score happens with threshold=0.5, which is the default threshold used when predict() is called. So..."
   ]
  },
  {
   "cell_type": "code",
   "execution_count": 69,
   "id": "e9639328",
   "metadata": {},
   "outputs": [],
   "source": [
    "y_predicted_test_default= pipe_default.predict(X_test_def)"
   ]
  },
  {
   "cell_type": "code",
   "execution_count": 70,
   "id": "a3dfae35",
   "metadata": {},
   "outputs": [
    {
     "data": {
      "text/plain": [
       "array([[1930,   11],\n",
       "       [  41,   18]], dtype=int64)"
      ]
     },
     "execution_count": 70,
     "metadata": {},
     "output_type": "execute_result"
    }
   ],
   "source": [
    "confusion_matrix (y_test_def, y_predicted_test_default)"
   ]
  },
  {
   "cell_type": "code",
   "execution_count": 71,
   "id": "f06bdf37",
   "metadata": {},
   "outputs": [
    {
     "name": "stdout",
     "output_type": "stream",
     "text": [
      "              precision    recall  f1-score   support\n",
      "\n",
      "          No       0.98      0.99      0.99      1941\n",
      "         Yes       0.62      0.31      0.41        59\n",
      "\n",
      "    accuracy                           0.97      2000\n",
      "   macro avg       0.80      0.65      0.70      2000\n",
      "weighted avg       0.97      0.97      0.97      2000\n",
      "\n"
     ]
    }
   ],
   "source": [
    "print (classification_report (y_test_def, y_predicted_test_default))"
   ]
  },
  {
   "cell_type": "markdown",
   "id": "766cea93",
   "metadata": {},
   "source": [
    "### Standardizing and changing the weights (use \"balanced\" for the weights hyperparameter)"
   ]
  },
  {
   "cell_type": "markdown",
   "id": "c6333a0d",
   "metadata": {},
   "source": [
    "WORK INDEPENDENTLY FOR 10 MINUTES!!!"
   ]
  },
  {
   "cell_type": "code",
   "execution_count": null,
   "id": "23e72a9a",
   "metadata": {},
   "outputs": [],
   "source": []
  },
  {
   "cell_type": "code",
   "execution_count": null,
   "id": "65a8b372",
   "metadata": {},
   "outputs": [],
   "source": []
  },
  {
   "cell_type": "code",
   "execution_count": null,
   "id": "5c45a3b4",
   "metadata": {},
   "outputs": [],
   "source": []
  },
  {
   "cell_type": "code",
   "execution_count": null,
   "id": "3846dfc9",
   "metadata": {},
   "outputs": [],
   "source": []
  },
  {
   "cell_type": "code",
   "execution_count": null,
   "id": "119bbf6a",
   "metadata": {},
   "outputs": [],
   "source": []
  },
  {
   "cell_type": "code",
   "execution_count": null,
   "id": "423e40c9",
   "metadata": {},
   "outputs": [],
   "source": []
  },
  {
   "cell_type": "markdown",
   "id": "e7d18e58",
   "metadata": {},
   "source": [
    "### Tuning hyperparameters via CV "
   ]
  },
  {
   "cell_type": "markdown",
   "id": "d958a974",
   "metadata": {},
   "source": [
    "WORK INDEPENDENTLY FOR 10 MINUTES!!!"
   ]
  },
  {
   "cell_type": "code",
   "execution_count": null,
   "id": "dc677c52",
   "metadata": {},
   "outputs": [],
   "source": []
  },
  {
   "cell_type": "code",
   "execution_count": null,
   "id": "c4eaec9c",
   "metadata": {},
   "outputs": [],
   "source": []
  },
  {
   "cell_type": "code",
   "execution_count": null,
   "id": "3e3eda56",
   "metadata": {},
   "outputs": [],
   "source": []
  },
  {
   "cell_type": "code",
   "execution_count": null,
   "id": "8f16096a",
   "metadata": {},
   "outputs": [],
   "source": []
  }
 ],
 "metadata": {
  "kernelspec": {
   "display_name": "Python 3",
   "language": "python",
   "name": "python3"
  },
  "language_info": {
   "codemirror_mode": {
    "name": "ipython",
    "version": 3
   },
   "file_extension": ".py",
   "mimetype": "text/x-python",
   "name": "python",
   "nbconvert_exporter": "python",
   "pygments_lexer": "ipython3",
   "version": "3.8.8"
  }
 },
 "nbformat": 4,
 "nbformat_minor": 5
}
