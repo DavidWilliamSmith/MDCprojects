{
 "cells": [
  {
   "cell_type": "code",
   "execution_count": null,
   "id": "7055edfa",
   "metadata": {},
   "outputs": [],
   "source": [
    "import numpy as np\n",
    "import pandas as pd\n",
    "import matplotlib.pyplot as plt"
   ]
  },
  {
   "cell_type": "code",
   "execution_count": null,
   "id": "e17ba47b",
   "metadata": {},
   "outputs": [],
   "source": [
    "Default_df= pd.read_csv('C:\\\\Users\\\\jheredi2\\\\Documents\\\\PythonDataAnalytics\\\\1-Datasets\\\\Default.csv')"
   ]
  },
  {
   "cell_type": "code",
   "execution_count": null,
   "id": "14044109",
   "metadata": {},
   "outputs": [],
   "source": [
    "from sklearn.naive_bayes import GaussianNB"
   ]
  },
  {
   "cell_type": "code",
   "execution_count": null,
   "id": "f245a79f",
   "metadata": {},
   "outputs": [],
   "source": [
    "Default_df_dummies= pd.get_dummies(Default_df,columns=['student'], drop_first=True)"
   ]
  },
  {
   "cell_type": "code",
   "execution_count": null,
   "id": "0928f063",
   "metadata": {},
   "outputs": [],
   "source": [
    "Default_df_dummies.info()"
   ]
  },
  {
   "cell_type": "code",
   "execution_count": null,
   "id": "31e6aed0",
   "metadata": {},
   "outputs": [],
   "source": [
    "nb_classifier_default = GaussianNB()"
   ]
  },
  {
   "cell_type": "code",
   "execution_count": null,
   "id": "5e5c46a6",
   "metadata": {},
   "outputs": [],
   "source": [
    "nb_classifier_default.fit(Default_df_dummies.iloc[:,1:], Default_df_dummies['default'])"
   ]
  },
  {
   "cell_type": "markdown",
   "id": "2a7afb6d",
   "metadata": {},
   "source": [
    "__Curiosity__: Because we are applying NB using the Normal distribution as the underlying probability distribution, scikit-learn allows us to retrieve the estimated mean and standard deviation used to charactetize each predictor (remember that the Normal distribution is characterized by the mean and the standard deviation)"
   ]
  },
  {
   "cell_type": "code",
   "execution_count": null,
   "id": "1df3fb5f",
   "metadata": {},
   "outputs": [],
   "source": [
    "nb_classifier_default.sigma_"
   ]
  },
  {
   "cell_type": "code",
   "execution_count": null,
   "id": "d96b5f32",
   "metadata": {},
   "outputs": [],
   "source": [
    "nb_classifier_default.theta_"
   ]
  },
  {
   "cell_type": "code",
   "execution_count": null,
   "id": "4bfc1f35",
   "metadata": {},
   "outputs": [],
   "source": [
    "default_predicted= nb_classifier_default.predict(Default_df_dummies.iloc[:,1:])"
   ]
  },
  {
   "cell_type": "code",
   "execution_count": null,
   "id": "75029d80",
   "metadata": {},
   "outputs": [],
   "source": [
    "from sklearn.metrics import confusion_matrix"
   ]
  },
  {
   "cell_type": "code",
   "execution_count": null,
   "id": "afdc30b6",
   "metadata": {},
   "outputs": [],
   "source": [
    "confusion_matrix(Default_df_dummies['default'], default_predicted)"
   ]
  },
  {
   "cell_type": "code",
   "execution_count": null,
   "id": "2a752dc3",
   "metadata": {},
   "outputs": [],
   "source": [
    "from sklearn.metrics import classification_report"
   ]
  },
  {
   "cell_type": "code",
   "execution_count": null,
   "id": "8bba1f09",
   "metadata": {},
   "outputs": [],
   "source": [
    "print (classification_report (Default_df_dummies['default'], default_predicted))"
   ]
  },
  {
   "cell_type": "markdown",
   "id": "b7a0f20e",
   "metadata": {},
   "source": [
    "__Compute the prediction error rate of the Naive Bayes on test data__"
   ]
  },
  {
   "cell_type": "code",
   "execution_count": null,
   "id": "ee73d65b",
   "metadata": {},
   "outputs": [],
   "source": [
    "from sklearn.model_selection import train_test_split"
   ]
  },
  {
   "cell_type": "code",
   "execution_count": null,
   "id": "97b04994",
   "metadata": {},
   "outputs": [],
   "source": [
    "X_train, X_test, y_train, y_test= train_test_split (Default_df_dummies.iloc[:,1:], Default_df_dummies['default'], test_size=0.2, random_state=1)"
   ]
  },
  {
   "cell_type": "code",
   "execution_count": null,
   "id": "dab1a70f",
   "metadata": {},
   "outputs": [],
   "source": [
    "nb_classifier_default2 = GaussianNB()"
   ]
  },
  {
   "cell_type": "code",
   "execution_count": null,
   "id": "862f3b55",
   "metadata": {
    "scrolled": true
   },
   "outputs": [],
   "source": [
    "nb_classifier_default2.fit(X_train, y_train)"
   ]
  },
  {
   "cell_type": "code",
   "execution_count": null,
   "id": "62224794",
   "metadata": {},
   "outputs": [],
   "source": [
    "default_predicted_test= nb_classifier_default2.predict(X_test)"
   ]
  },
  {
   "cell_type": "code",
   "execution_count": null,
   "id": "e28f7e51",
   "metadata": {},
   "outputs": [],
   "source": [
    "confusion_matrix(y_test, default_predicted_test)"
   ]
  },
  {
   "cell_type": "code",
   "execution_count": null,
   "id": "d0910750",
   "metadata": {},
   "outputs": [],
   "source": [
    "print (classification_report (y_test, default_predicted_test))"
   ]
  },
  {
   "cell_type": "markdown",
   "id": "97c8bbee",
   "metadata": {},
   "source": [
    "### Apply Naive Bayes to the Caravan data set"
   ]
  },
  {
   "cell_type": "markdown",
   "id": "0314499e",
   "metadata": {},
   "source": [
    "###  Info about the Caravan dataset\n",
    "\n",
    "The data contains 5822 real customer records. Each record consists of 86 variables, containing\n",
    "sociodemographic data (variables 1-43) and product ownership (variables 44-86). The sociodemographic\n",
    "data is derived from zip codes. All customers living in areas with the same zip code have\n",
    "the same sociodemographic attributes. Variable 86 (Purchase) indicates whether the customer purchased\n",
    "a caravan insurance policy (__this is the outcome variable__). Further information on the individual variables can be obtained\n",
    "at http://www.liacs.nl/~putten/library/cc2000/data.html"
   ]
  },
  {
   "cell_type": "code",
   "execution_count": null,
   "id": "6f8d5d12",
   "metadata": {},
   "outputs": [],
   "source": [
    "Caravan_df= pd.read_csv('C:\\\\Users\\\\jheredi2\\\\Documents\\\\PythonDataAnalytics\\\\1-Datasets\\\\Caravan.csv')"
   ]
  },
  {
   "cell_type": "code",
   "execution_count": null,
   "id": "8c0db0c5",
   "metadata": {
    "scrolled": true
   },
   "outputs": [],
   "source": [
    "Caravan_df.info()"
   ]
  },
  {
   "cell_type": "code",
   "execution_count": null,
   "id": "6ce998a6",
   "metadata": {},
   "outputs": [],
   "source": [
    "Caravan_df.head(10)"
   ]
  },
  {
   "cell_type": "code",
   "execution_count": null,
   "id": "64cf39f9",
   "metadata": {},
   "outputs": [],
   "source": [
    "X_train_cara, X_test_cara, y_train_cara, y_test_cara= train_test_split (Caravan_df.iloc[:,:-1], Caravan_df['Purchase'], test_size=0.2, random_state=1)"
   ]
  },
  {
   "cell_type": "code",
   "execution_count": null,
   "id": "ceefe3a7",
   "metadata": {},
   "outputs": [],
   "source": [
    "nb_classifier_caravan = GaussianNB()"
   ]
  },
  {
   "cell_type": "code",
   "execution_count": null,
   "id": "d12e7c12",
   "metadata": {},
   "outputs": [],
   "source": [
    "nb_classifier_caravan.fit(X_train_cara, y_train_cara)"
   ]
  },
  {
   "cell_type": "code",
   "execution_count": null,
   "id": "357b3bf9",
   "metadata": {},
   "outputs": [],
   "source": [
    "caravan_predicted_test= nb_classifier_caravan.predict(X_test_cara)"
   ]
  },
  {
   "cell_type": "code",
   "execution_count": null,
   "id": "f6dd249b",
   "metadata": {},
   "outputs": [],
   "source": [
    "confusion_matrix(y_test_cara, caravan_predicted_test)"
   ]
  },
  {
   "cell_type": "code",
   "execution_count": null,
   "id": "71b8fd3d",
   "metadata": {},
   "outputs": [],
   "source": [
    "print (classification_report (y_test_cara, caravan_predicted_test))"
   ]
  },
  {
   "cell_type": "code",
   "execution_count": null,
   "id": "89bae81b",
   "metadata": {},
   "outputs": [],
   "source": [
    "from sklearn.naive_bayes import MultinomialNB"
   ]
  },
  {
   "cell_type": "code",
   "execution_count": null,
   "id": "1a8192c7",
   "metadata": {},
   "outputs": [],
   "source": [
    "nb_classifier_multi_caravan = MultinomialNB()"
   ]
  },
  {
   "cell_type": "code",
   "execution_count": null,
   "id": "68eeac4c",
   "metadata": {},
   "outputs": [],
   "source": [
    "nb_classifier_multi_caravan.fit(X_train_cara, y_train_cara)"
   ]
  },
  {
   "cell_type": "code",
   "execution_count": null,
   "id": "bfe83ff6",
   "metadata": {},
   "outputs": [],
   "source": [
    "caravan_predicted_test_multi= nb_classifier_multi_caravan.predict(X_test_cara)"
   ]
  },
  {
   "cell_type": "code",
   "execution_count": null,
   "id": "e04a935b",
   "metadata": {},
   "outputs": [],
   "source": [
    "confusion_matrix(y_test_cara, caravan_predicted_test_multi)"
   ]
  },
  {
   "cell_type": "code",
   "execution_count": null,
   "id": "638b11b1",
   "metadata": {},
   "outputs": [],
   "source": [
    "print (classification_report (y_test_cara, caravan_predicted_test_multi))"
   ]
  }
 ],
 "metadata": {
  "kernelspec": {
   "display_name": "Python 3",
   "language": "python",
   "name": "python3"
  },
  "language_info": {
   "codemirror_mode": {
    "name": "ipython",
    "version": 3
   },
   "file_extension": ".py",
   "mimetype": "text/x-python",
   "name": "python",
   "nbconvert_exporter": "python",
   "pygments_lexer": "ipython3",
   "version": "3.8.8"
  }
 },
 "nbformat": 4,
 "nbformat_minor": 5
}
