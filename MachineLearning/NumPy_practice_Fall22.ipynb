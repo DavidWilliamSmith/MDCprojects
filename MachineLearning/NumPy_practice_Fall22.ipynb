{
 "cells": [
  {
   "cell_type": "markdown",
   "id": "466f5359",
   "metadata": {},
   "source": [
    "### Intro to lists\n",
    "\n",
    "Lists are data structures that come with Python (no package needed to use them)\n",
    "\n",
    "Although lists are not a NumPy product (i.e., you do not need NumPy to use lists), we will do a brief intro to lists because they are a very basic and widely used data structure."
   ]
  },
  {
   "cell_type": "code",
   "execution_count": 1,
   "id": "4fc9c2f0",
   "metadata": {},
   "outputs": [
    {
     "data": {
      "text/plain": [
       "[8, 23, 22, 0, 10]"
      ]
     },
     "execution_count": 1,
     "metadata": {},
     "output_type": "execute_result"
    }
   ],
   "source": [
    "# Let's create a list, L1, with five numbers in it\n",
    "\n",
    "L1= [8,23,22,0,10]\n",
    "L1"
   ]
  },
  {
   "cell_type": "code",
   "execution_count": 2,
   "id": "5ef999ed",
   "metadata": {},
   "outputs": [
    {
     "data": {
      "text/plain": [
       "list"
      ]
     },
     "execution_count": 2,
     "metadata": {},
     "output_type": "execute_result"
    }
   ],
   "source": [
    "type(L1)"
   ]
  },
  {
   "cell_type": "code",
   "execution_count": 3,
   "id": "54ad257d",
   "metadata": {},
   "outputs": [
    {
     "data": {
      "text/plain": [
       "[8, 23, 22, 0, 10, 'a', 'b']"
      ]
     },
     "execution_count": 3,
     "metadata": {},
     "output_type": "execute_result"
    }
   ],
   "source": [
    "L2= L1 + ['a','b']\n",
    "L2"
   ]
  },
  {
   "cell_type": "markdown",
   "id": "9d7be186",
   "metadata": {},
   "source": [
    "With lists, the \"+\" operator adds the elements to the list."
   ]
  },
  {
   "cell_type": "code",
   "execution_count": 4,
   "id": "6852a65e",
   "metadata": {},
   "outputs": [
    {
     "data": {
      "text/plain": [
       "list"
      ]
     },
     "execution_count": 4,
     "metadata": {},
     "output_type": "execute_result"
    }
   ],
   "source": [
    "type(L2)"
   ]
  },
  {
   "cell_type": "code",
   "execution_count": 5,
   "id": "1d5aeee0",
   "metadata": {},
   "outputs": [],
   "source": [
    "# Another way of adding elements to a list is by using the extend() method\n",
    "\n",
    "L2.extend(['c', 'd'])"
   ]
  },
  {
   "cell_type": "code",
   "execution_count": 6,
   "id": "0bd9e746",
   "metadata": {},
   "outputs": [
    {
     "data": {
      "text/plain": [
       "[8, 23, 22, 0, 10, 'a', 'b', 'c', 'd']"
      ]
     },
     "execution_count": 6,
     "metadata": {},
     "output_type": "execute_result"
    }
   ],
   "source": [
    "L2"
   ]
  },
  {
   "cell_type": "markdown",
   "id": "99341174",
   "metadata": {},
   "source": [
    "The method append() is used to add one single element. See next:"
   ]
  },
  {
   "cell_type": "code",
   "execution_count": 7,
   "id": "f61b651e",
   "metadata": {},
   "outputs": [],
   "source": [
    "L1.append(5)"
   ]
  },
  {
   "cell_type": "code",
   "execution_count": 8,
   "id": "a8fa09ad",
   "metadata": {},
   "outputs": [
    {
     "data": {
      "text/plain": [
       "[8, 23, 22, 0, 10, 5]"
      ]
     },
     "execution_count": 8,
     "metadata": {},
     "output_type": "execute_result"
    }
   ],
   "source": [
    "L1"
   ]
  },
  {
   "cell_type": "code",
   "execution_count": 9,
   "id": "648ba053",
   "metadata": {},
   "outputs": [
    {
     "ename": "TypeError",
     "evalue": "'int' object is not iterable",
     "output_type": "error",
     "traceback": [
      "\u001b[1;31m---------------------------------------------------------------------------\u001b[0m",
      "\u001b[1;31mTypeError\u001b[0m                                 Traceback (most recent call last)",
      "\u001b[1;32m<ipython-input-9-49f220c9526a>\u001b[0m in \u001b[0;36m<module>\u001b[1;34m\u001b[0m\n\u001b[1;32m----> 1\u001b[1;33m \u001b[0mL1\u001b[0m\u001b[1;33m.\u001b[0m\u001b[0mextend\u001b[0m\u001b[1;33m(\u001b[0m\u001b[1;36m20\u001b[0m\u001b[1;33m)\u001b[0m\u001b[1;33m\u001b[0m\u001b[1;33m\u001b[0m\u001b[0m\n\u001b[0m",
      "\u001b[1;31mTypeError\u001b[0m: 'int' object is not iterable"
     ]
    }
   ],
   "source": [
    "L1.extend(20)"
   ]
  },
  {
   "cell_type": "markdown",
   "id": "3e99616c",
   "metadata": {},
   "source": [
    "Use extend() when adding more than one item and append() when adding only one item"
   ]
  },
  {
   "cell_type": "code",
   "execution_count": 10,
   "id": "6a7f44ea",
   "metadata": {},
   "outputs": [],
   "source": [
    "L1.append(20)"
   ]
  },
  {
   "cell_type": "code",
   "execution_count": 11,
   "id": "3a955bac",
   "metadata": {},
   "outputs": [
    {
     "data": {
      "text/plain": [
       "[8, 23, 22, 0, 10, 5, 20]"
      ]
     },
     "execution_count": 11,
     "metadata": {},
     "output_type": "execute_result"
    }
   ],
   "source": [
    "L1"
   ]
  },
  {
   "cell_type": "markdown",
   "id": "ea8c5182",
   "metadata": {},
   "source": [
    "Does append work for more than one item? Yes, but..."
   ]
  },
  {
   "cell_type": "code",
   "execution_count": 12,
   "id": "9fd7f7b6",
   "metadata": {},
   "outputs": [],
   "source": [
    "L1.append([30, 40])"
   ]
  },
  {
   "cell_type": "code",
   "execution_count": 13,
   "id": "26b33098",
   "metadata": {},
   "outputs": [
    {
     "data": {
      "text/plain": [
       "[8, 23, 22, 0, 10, 5, 20, [30, 40]]"
      ]
     },
     "execution_count": 13,
     "metadata": {},
     "output_type": "execute_result"
    }
   ],
   "source": [
    "L1"
   ]
  },
  {
   "cell_type": "code",
   "execution_count": 14,
   "id": "faf771da",
   "metadata": {},
   "outputs": [],
   "source": [
    "# Remove the last element of L1 and add them back using extend()\n",
    "\n",
    "L1.remove([30,40])"
   ]
  },
  {
   "cell_type": "code",
   "execution_count": 15,
   "id": "07e68648",
   "metadata": {},
   "outputs": [
    {
     "data": {
      "text/plain": [
       "[8, 23, 22, 0, 10, 5, 20]"
      ]
     },
     "execution_count": 15,
     "metadata": {},
     "output_type": "execute_result"
    }
   ],
   "source": [
    "L1"
   ]
  },
  {
   "cell_type": "code",
   "execution_count": 16,
   "id": "bec4b1fb",
   "metadata": {},
   "outputs": [],
   "source": [
    "L1.extend([30, 40])"
   ]
  },
  {
   "cell_type": "code",
   "execution_count": 17,
   "id": "03c3b774",
   "metadata": {},
   "outputs": [
    {
     "data": {
      "text/plain": [
       "[8, 23, 22, 0, 10, 5, 20, 30, 40]"
      ]
     },
     "execution_count": 17,
     "metadata": {},
     "output_type": "execute_result"
    }
   ],
   "source": [
    "L1"
   ]
  },
  {
   "cell_type": "markdown",
   "id": "5577965a",
   "metadata": {},
   "source": [
    "#### Indexing lists"
   ]
  },
  {
   "cell_type": "code",
   "execution_count": 18,
   "id": "a6ed89fc",
   "metadata": {},
   "outputs": [
    {
     "data": {
      "text/plain": [
       "[8, 23, 22, 0, 10, 'a', 'b', 'c', 'd']"
      ]
     },
     "execution_count": 18,
     "metadata": {},
     "output_type": "execute_result"
    }
   ],
   "source": [
    "L2"
   ]
  },
  {
   "cell_type": "code",
   "execution_count": 19,
   "id": "4559e0bb",
   "metadata": {},
   "outputs": [
    {
     "data": {
      "text/plain": [
       "8"
      ]
     },
     "execution_count": 19,
     "metadata": {},
     "output_type": "execute_result"
    }
   ],
   "source": [
    "# Retrieve first element of the L2 list and return its type\n",
    "\n",
    "L2[0]"
   ]
  },
  {
   "cell_type": "code",
   "execution_count": 20,
   "id": "8ac25e12",
   "metadata": {},
   "outputs": [
    {
     "data": {
      "text/plain": [
       "int"
      ]
     },
     "execution_count": 20,
     "metadata": {},
     "output_type": "execute_result"
    }
   ],
   "source": [
    "type(L2[0])"
   ]
  },
  {
   "cell_type": "code",
   "execution_count": 21,
   "id": "eebe5937",
   "metadata": {},
   "outputs": [
    {
     "data": {
      "text/plain": [
       "'d'"
      ]
     },
     "execution_count": 21,
     "metadata": {},
     "output_type": "execute_result"
    }
   ],
   "source": [
    "# Retrieve the last element of the L2 list and return its type\n",
    "\n",
    "L2[-1]"
   ]
  },
  {
   "cell_type": "code",
   "execution_count": 22,
   "id": "091d5a89",
   "metadata": {},
   "outputs": [
    {
     "data": {
      "text/plain": [
       "'d'"
      ]
     },
     "execution_count": 22,
     "metadata": {},
     "output_type": "execute_result"
    }
   ],
   "source": [
    "# Retrieve the last element of the L2 list and return its type. Alternative 2\n",
    "\n",
    "L2[len(L2)-1]"
   ]
  },
  {
   "cell_type": "code",
   "execution_count": 26,
   "id": "43845a0c",
   "metadata": {
    "scrolled": true
   },
   "outputs": [
    {
     "data": {
      "text/plain": [
       "str"
      ]
     },
     "execution_count": 26,
     "metadata": {},
     "output_type": "execute_result"
    }
   ],
   "source": [
    "type(L2[-1])"
   ]
  },
  {
   "cell_type": "code",
   "execution_count": 27,
   "id": "d67f06b8",
   "metadata": {},
   "outputs": [
    {
     "data": {
      "text/plain": [
       "[8, 23, 22, 0, 10, 'a', 'b', 'c', 'd']"
      ]
     },
     "execution_count": 27,
     "metadata": {},
     "output_type": "execute_result"
    }
   ],
   "source": [
    "L2"
   ]
  },
  {
   "cell_type": "code",
   "execution_count": 28,
   "id": "aa257d6a",
   "metadata": {},
   "outputs": [
    {
     "data": {
      "text/plain": [
       "1"
      ]
     },
     "execution_count": 28,
     "metadata": {},
     "output_type": "execute_result"
    }
   ],
   "source": [
    "# Return the index of an item from a list\n",
    "\n",
    "# Example: Get the index of the value 23 in L2\n",
    "\n",
    "L2.index(23)"
   ]
  },
  {
   "cell_type": "code",
   "execution_count": 29,
   "id": "d416d1aa",
   "metadata": {},
   "outputs": [
    {
     "data": {
      "text/plain": [
       "8"
      ]
     },
     "execution_count": 29,
     "metadata": {},
     "output_type": "execute_result"
    }
   ],
   "source": [
    "L2.index('d')"
   ]
  },
  {
   "cell_type": "code",
   "execution_count": null,
   "id": "ae44d5b2",
   "metadata": {},
   "outputs": [],
   "source": [
    "# Example: Get the index of the value 'a' in L2"
   ]
  },
  {
   "cell_type": "code",
   "execution_count": 30,
   "id": "63405e6a",
   "metadata": {},
   "outputs": [
    {
     "data": {
      "text/plain": [
       "5"
      ]
     },
     "execution_count": 30,
     "metadata": {},
     "output_type": "execute_result"
    }
   ],
   "source": [
    "L2.index('a')"
   ]
  },
  {
   "cell_type": "markdown",
   "id": "eb266fca",
   "metadata": {},
   "source": [
    "### NumPy arrays\n",
    "\n",
    "Unlike Python lists, NumPy arrays can only contain data of the same type. If types do not match, NumPy will cast the values to have the same type.\n",
    "\n",
    "__Note__: Cast is what in R is called coerce"
   ]
  },
  {
   "cell_type": "code",
   "execution_count": 32,
   "id": "ddb219d0",
   "metadata": {},
   "outputs": [],
   "source": [
    "# Import the NumPy package\n",
    "\n",
    "import numpy as np"
   ]
  },
  {
   "cell_type": "markdown",
   "id": "54da4338",
   "metadata": {},
   "source": [
    "#### Create an array from a list"
   ]
  },
  {
   "cell_type": "code",
   "execution_count": 33,
   "id": "86094da8",
   "metadata": {},
   "outputs": [
    {
     "data": {
      "text/plain": [
       "array([ 8, 23, 22,  0, 10,  5, 20, 30, 40])"
      ]
     },
     "execution_count": 33,
     "metadata": {},
     "output_type": "execute_result"
    }
   ],
   "source": [
    "# Here we create an array from L1 by using the method array()\n",
    "\n",
    "a1=np.array(L1)\n",
    "a1"
   ]
  },
  {
   "cell_type": "code",
   "execution_count": 34,
   "id": "218bd4bc",
   "metadata": {},
   "outputs": [
    {
     "data": {
      "text/plain": [
       "numpy.ndarray"
      ]
     },
     "execution_count": 34,
     "metadata": {},
     "output_type": "execute_result"
    }
   ],
   "source": [
    "type(a1)"
   ]
  },
  {
   "cell_type": "code",
   "execution_count": 35,
   "id": "19e1f5f7",
   "metadata": {},
   "outputs": [
    {
     "data": {
      "text/plain": [
       "array(['8', '23', '22', '0', '10', 'a', 'b', 'c', 'd'], dtype='<U11')"
      ]
     },
     "execution_count": 35,
     "metadata": {},
     "output_type": "execute_result"
    }
   ],
   "source": [
    "a2= np.array(L2)\n",
    "a2"
   ]
  },
  {
   "cell_type": "markdown",
   "id": "d16190e8",
   "metadata": {},
   "source": [
    "__dtype__ is the property of an array that tells us the type of data it contains\n",
    "\n",
    "https://numpy.org/doc/stable/reference/arrays.dtypes.html"
   ]
  },
  {
   "cell_type": "code",
   "execution_count": 36,
   "id": "9426db9f",
   "metadata": {},
   "outputs": [
    {
     "data": {
      "text/plain": [
       "numpy.ndarray"
      ]
     },
     "execution_count": 36,
     "metadata": {},
     "output_type": "execute_result"
    }
   ],
   "source": [
    "type (a2)"
   ]
  },
  {
   "cell_type": "code",
   "execution_count": 39,
   "id": "2bec8859",
   "metadata": {},
   "outputs": [
    {
     "data": {
      "text/plain": [
       "numpy.str_"
      ]
     },
     "execution_count": 39,
     "metadata": {},
     "output_type": "execute_result"
    }
   ],
   "source": [
    "# Retrieve the first element of the a2 array and return its type\n",
    "\n",
    "type(a2[0])"
   ]
  },
  {
   "cell_type": "markdown",
   "id": "543f33c1",
   "metadata": {},
   "source": [
    "All elements of a2 were casted to string because we transformed L2 into an array"
   ]
  },
  {
   "cell_type": "code",
   "execution_count": 45,
   "id": "2ba7ae4a",
   "metadata": {},
   "outputs": [
    {
     "data": {
      "text/plain": [
       "array([ 5,  4,  8, 10,  1])"
      ]
     },
     "execution_count": 45,
     "metadata": {},
     "output_type": "execute_result"
    }
   ],
   "source": [
    "# Another way of creating an array from a list:\n",
    "\n",
    "arrayx= np.array([5,4,8,10, 1])\n",
    "arrayx"
   ]
  },
  {
   "cell_type": "markdown",
   "id": "bfe7e304",
   "metadata": {},
   "source": [
    "#### Create an array using the NumPy methods to generate arrays"
   ]
  },
  {
   "cell_type": "code",
   "execution_count": 41,
   "id": "489623d9",
   "metadata": {},
   "outputs": [
    {
     "data": {
      "text/plain": [
       "array([1, 1, 1, 1, 1, 1, 1, 1, 1, 1])"
      ]
     },
     "execution_count": 41,
     "metadata": {},
     "output_type": "execute_result"
    }
   ],
   "source": [
    "# We can use np.full() to create an array with the same number repeated many times\n",
    "# Ex, create an array with 1 repeated 10 times\n",
    "\n",
    "np.full(10, 1)"
   ]
  },
  {
   "cell_type": "code",
   "execution_count": 42,
   "id": "1b0706b7",
   "metadata": {},
   "outputs": [
    {
     "data": {
      "text/plain": [
       "array([0, 0, 0, 0, 0, 0, 0, 0, 0, 0])"
      ]
     },
     "execution_count": 42,
     "metadata": {},
     "output_type": "execute_result"
    }
   ],
   "source": [
    "np.full(10, 0)"
   ]
  },
  {
   "cell_type": "code",
   "execution_count": 43,
   "id": "397de23c",
   "metadata": {},
   "outputs": [
    {
     "data": {
      "text/plain": [
       "array([ 1,  2,  3,  4,  5,  6,  7,  8,  9, 10, 11, 12, 13, 14, 15, 16, 17,\n",
       "       18, 19, 20])"
      ]
     },
     "execution_count": 43,
     "metadata": {},
     "output_type": "execute_result"
    }
   ],
   "source": [
    "# We can use the NumPy arange() method to generate sequences\n",
    "# Ex. Let's generate a sequence with the numbers from 1 to 20\n",
    "\n",
    "np.arange(1,21)"
   ]
  },
  {
   "cell_type": "code",
   "execution_count": 44,
   "id": "0273b1c0",
   "metadata": {},
   "outputs": [
    {
     "data": {
      "text/plain": [
       "array([ 1,  3,  5,  7,  9, 11, 13, 15, 17, 19])"
      ]
     },
     "execution_count": 44,
     "metadata": {},
     "output_type": "execute_result"
    }
   ],
   "source": [
    "# Ex. Let's generate a sequence with the numbers from 1 to 20, in steps of 2\n",
    "\n",
    "np.arange(1,21,2)"
   ]
  },
  {
   "cell_type": "code",
   "execution_count": 55,
   "id": "9986cc30",
   "metadata": {},
   "outputs": [
    {
     "data": {
      "text/plain": [
       "array([0.        , 0.11111111, 0.22222222, 0.33333333, 0.44444444,\n",
       "       0.55555556, 0.66666667, 0.77777778, 0.88888889, 1.        ])"
      ]
     },
     "execution_count": 55,
     "metadata": {},
     "output_type": "execute_result"
    }
   ],
   "source": [
    "# Use linspace() to generate a sequence of numbers with decimals between an interval\n",
    "# Ex: Use it to generate 10 numbers between 0 and 1\n",
    "\n",
    "np.linspace(0,1,10)"
   ]
  },
  {
   "cell_type": "code",
   "execution_count": 56,
   "id": "9163593c",
   "metadata": {},
   "outputs": [
    {
     "data": {
      "text/plain": [
       "array([0. , 0.1, 0.2, 0.3, 0.4, 0.5, 0.6, 0.7, 0.8, 0.9, 1. ])"
      ]
     },
     "execution_count": 56,
     "metadata": {},
     "output_type": "execute_result"
    }
   ],
   "source": [
    "np.linspace(0,1,11)"
   ]
  },
  {
   "cell_type": "code",
   "execution_count": 60,
   "id": "c20a5c43",
   "metadata": {},
   "outputs": [
    {
     "data": {
      "text/plain": [
       "array([0.        , 0.05263158, 0.10526316, 0.15789474, 0.21052632,\n",
       "       0.26315789, 0.31578947, 0.36842105, 0.42105263, 0.47368421,\n",
       "       0.52631579, 0.57894737, 0.63157895, 0.68421053, 0.73684211,\n",
       "       0.78947368, 0.84210526, 0.89473684, 0.94736842, 1.        ])"
      ]
     },
     "execution_count": 60,
     "metadata": {},
     "output_type": "execute_result"
    }
   ],
   "source": [
    "    np.linspace(0,1,20)"
   ]
  },
  {
   "cell_type": "code",
   "execution_count": 61,
   "id": "5e6c0eea",
   "metadata": {},
   "outputs": [
    {
     "data": {
      "text/plain": [
       "array([1. , 1.1, 1.2, 1.3, 1.4, 1.5, 1.6, 1.7, 1.8, 1.9, 2. ])"
      ]
     },
     "execution_count": 61,
     "metadata": {},
     "output_type": "execute_result"
    }
   ],
   "source": [
    "np.linspace(1,2,11)"
   ]
  },
  {
   "cell_type": "code",
   "execution_count": 62,
   "id": "8cd0377f",
   "metadata": {
    "scrolled": true
   },
   "outputs": [
    {
     "data": {
      "text/plain": [
       "array([ 1.,  3.,  5.,  7.,  9., 11., 13., 15., 17., 19., 21.])"
      ]
     },
     "execution_count": 62,
     "metadata": {},
     "output_type": "execute_result"
    }
   ],
   "source": [
    "np.linspace(1,21,11)"
   ]
  },
  {
   "cell_type": "code",
   "execution_count": null,
   "id": "0ad063ce",
   "metadata": {},
   "outputs": [],
   "source": [
    "np.arange(1,22,2)"
   ]
  },
  {
   "cell_type": "markdown",
   "id": "6985afa6",
   "metadata": {},
   "source": [
    "#### Numpy methods to generate random arrays"
   ]
  },
  {
   "cell_type": "code",
   "execution_count": 63,
   "id": "a99b1d1e",
   "metadata": {},
   "outputs": [
    {
     "data": {
      "text/plain": [
       "array([ 6, 12, 13,  9, 10])"
      ]
     },
     "execution_count": 63,
     "metadata": {},
     "output_type": "execute_result"
    }
   ],
   "source": [
    "# Use randint() to create a random sample of integers taken from an interval of intergers\n",
    "# Ex, generate five random numbers from 1 to 20\n",
    "\n",
    "np.random.seed(1)\n",
    "\n",
    "np.random.randint(1,21,5)"
   ]
  },
  {
   "cell_type": "code",
   "execution_count": 66,
   "id": "a0366d12",
   "metadata": {},
   "outputs": [
    {
     "data": {
      "text/plain": [
       "array([ 5,  6, 34, 23, -5, 10, 23, 45,  7,  9])"
      ]
     },
     "execution_count": 66,
     "metadata": {},
     "output_type": "execute_result"
    }
   ],
   "source": [
    "# Use choice() to take a random sample from a group of values\n",
    "\n",
    "# Ex: Get 5 random numbers from x without replacement\n",
    "\n",
    "x= np.array([5,6, 34, 23, -5, 10, 23, 45,7,9])\n",
    "x"
   ]
  },
  {
   "cell_type": "code",
   "execution_count": 67,
   "id": "79275142",
   "metadata": {},
   "outputs": [
    {
     "data": {
      "text/plain": [
       "array([34,  9, 23, -5,  5])"
      ]
     },
     "execution_count": 67,
     "metadata": {},
     "output_type": "execute_result"
    }
   ],
   "source": [
    "np.random.seed(1)\n",
    "np.random.choice(x,5,replace=False)"
   ]
  },
  {
   "cell_type": "code",
   "execution_count": 68,
   "id": "972d32f6",
   "metadata": {},
   "outputs": [
    {
     "data": {
      "text/plain": [
       "array([10,  7,  9, 10,  5])"
      ]
     },
     "execution_count": 68,
     "metadata": {},
     "output_type": "execute_result"
    }
   ],
   "source": [
    "np.random.seed(1)\n",
    "np.random.choice(x,5,replace=True)"
   ]
  },
  {
   "cell_type": "code",
   "execution_count": 73,
   "id": "c6b97637",
   "metadata": {},
   "outputs": [
    {
     "data": {
      "text/plain": [
       "array([ 1.62434536, -0.61175641, -0.52817175, -1.07296862,  0.86540763,\n",
       "       -2.3015387 ,  1.74481176, -0.7612069 ,  0.3190391 , -0.24937038,\n",
       "        1.46210794, -2.06014071, -0.3224172 , -0.38405435,  1.13376944,\n",
       "       -1.09989127, -0.17242821, -0.87785842,  0.04221375,  0.58281521])"
      ]
     },
     "execution_count": 73,
     "metadata": {},
     "output_type": "execute_result"
    }
   ],
   "source": [
    "# Generate an array with Normal data\n",
    "\n",
    "# Ex: Generate 20 values from a variable with normal distribution with mean=0 and  variance =1\n",
    "\n",
    "np.random.seed(1)\n",
    "np.random.normal(0,1,20)"
   ]
  },
  {
   "cell_type": "markdown",
   "id": "6d7efc2f",
   "metadata": {},
   "source": [
    "### Indexing and slicing arrays"
   ]
  },
  {
   "cell_type": "markdown",
   "id": "5159e5eb",
   "metadata": {},
   "source": [
    "Let's practice indexing and slicing with 2 dimensional arrays. But first, let's create a one-dimensional array to see the\n",
    "difference with a two-dimensional array."
   ]
  },
  {
   "cell_type": "code",
   "execution_count": 69,
   "id": "611171cc",
   "metadata": {},
   "outputs": [
    {
     "data": {
      "text/plain": [
       "array([1, 1, 1, 1, 1, 1, 1, 1, 1, 1])"
      ]
     },
     "execution_count": 69,
     "metadata": {},
     "output_type": "execute_result"
    }
   ],
   "source": [
    "np.full(10, 1)"
   ]
  },
  {
   "cell_type": "code",
   "execution_count": 70,
   "id": "014b78a8",
   "metadata": {},
   "outputs": [
    {
     "data": {
      "text/plain": [
       "1"
      ]
     },
     "execution_count": 70,
     "metadata": {},
     "output_type": "execute_result"
    }
   ],
   "source": [
    "np.full(10, 1).ndim"
   ]
  },
  {
   "cell_type": "code",
   "execution_count": 71,
   "id": "e73eddbf",
   "metadata": {},
   "outputs": [
    {
     "data": {
      "text/plain": [
       "(10,)"
      ]
     },
     "execution_count": 71,
     "metadata": {},
     "output_type": "execute_result"
    }
   ],
   "source": [
    "np.full(10, 1).shape"
   ]
  },
  {
   "cell_type": "markdown",
   "id": "60621203",
   "metadata": {},
   "source": [
    "Now, let's create a two dimensional arrays with 4 rows and 4 columns"
   ]
  },
  {
   "cell_type": "code",
   "execution_count": 72,
   "id": "d1c6db74",
   "metadata": {},
   "outputs": [
    {
     "data": {
      "text/plain": [
       "array([[1, 1, 1, 1],\n",
       "       [1, 1, 1, 1],\n",
       "       [1, 1, 1, 1],\n",
       "       [1, 1, 1, 1],\n",
       "       [1, 1, 1, 1],\n",
       "       [1, 1, 1, 1]])"
      ]
     },
     "execution_count": 72,
     "metadata": {},
     "output_type": "execute_result"
    }
   ],
   "source": [
    "np.full((6,4),1)"
   ]
  },
  {
   "cell_type": "code",
   "execution_count": 74,
   "id": "b56c0f88",
   "metadata": {},
   "outputs": [
    {
     "data": {
      "text/plain": [
       "array([ 1,  2,  3,  4,  5,  6,  7,  8,  9, 10, 11, 12, 13, 14, 15, 16, 17,\n",
       "       18, 19, 20])"
      ]
     },
     "execution_count": 74,
     "metadata": {},
     "output_type": "execute_result"
    }
   ],
   "source": [
    "np.arange(1,21)"
   ]
  },
  {
   "cell_type": "code",
   "execution_count": 75,
   "id": "5aeab6b8",
   "metadata": {},
   "outputs": [
    {
     "data": {
      "text/plain": [
       "array([[ 1,  2,  3,  4,  5],\n",
       "       [ 6,  7,  8,  9, 10],\n",
       "       [11, 12, 13, 14, 15],\n",
       "       [16, 17, 18, 19, 20]])"
      ]
     },
     "execution_count": 75,
     "metadata": {},
     "output_type": "execute_result"
    }
   ],
   "source": [
    "np.arange(1,21).reshape(4,5)"
   ]
  },
  {
   "cell_type": "code",
   "execution_count": 76,
   "id": "bf5dd514",
   "metadata": {},
   "outputs": [
    {
     "data": {
      "text/plain": [
       "array([[ 1,  2,  3,  4],\n",
       "       [ 5,  6,  7,  8],\n",
       "       [ 9, 10, 11, 12],\n",
       "       [13, 14, 15, 16],\n",
       "       [17, 18, 19, 20]])"
      ]
     },
     "execution_count": 76,
     "metadata": {},
     "output_type": "execute_result"
    }
   ],
   "source": [
    "np.arange(1,21).reshape(5,4)"
   ]
  },
  {
   "cell_type": "code",
   "execution_count": 78,
   "id": "e78a9939",
   "metadata": {
    "scrolled": true
   },
   "outputs": [
    {
     "data": {
      "text/plain": [
       "array([[ 1,  2,  3,  4],\n",
       "       [ 5,  6,  7,  8],\n",
       "       [ 9, 10, 11, 12],\n",
       "       [13, 14, 15, 16],\n",
       "       [17, 18, 19, 20]])"
      ]
     },
     "execution_count": 78,
     "metadata": {},
     "output_type": "execute_result"
    }
   ],
   "source": [
    "# Let's create a two dimensional array called \"mat\"\n",
    "\n",
    "mat= np.arange(1,21).reshape(5,4)\n",
    "mat"
   ]
  },
  {
   "cell_type": "markdown",
   "id": "e8694880",
   "metadata": {},
   "source": [
    "##### Indexing"
   ]
  },
  {
   "cell_type": "code",
   "execution_count": 79,
   "id": "7dad14b7",
   "metadata": {},
   "outputs": [
    {
     "data": {
      "text/plain": [
       "1"
      ]
     },
     "execution_count": 79,
     "metadata": {},
     "output_type": "execute_result"
    }
   ],
   "source": [
    "mat[0,0]"
   ]
  },
  {
   "cell_type": "code",
   "execution_count": 80,
   "id": "1b925ef9",
   "metadata": {},
   "outputs": [
    {
     "data": {
      "text/plain": [
       "11"
      ]
     },
     "execution_count": 80,
     "metadata": {},
     "output_type": "execute_result"
    }
   ],
   "source": [
    "mat[2,2]"
   ]
  },
  {
   "cell_type": "code",
   "execution_count": 81,
   "id": "ce4506d7",
   "metadata": {},
   "outputs": [
    {
     "data": {
      "text/plain": [
       "4"
      ]
     },
     "execution_count": 81,
     "metadata": {},
     "output_type": "execute_result"
    }
   ],
   "source": [
    "mat[0,-1]"
   ]
  },
  {
   "cell_type": "code",
   "execution_count": 82,
   "id": "375b0216",
   "metadata": {},
   "outputs": [
    {
     "data": {
      "text/plain": [
       "20"
      ]
     },
     "execution_count": 82,
     "metadata": {},
     "output_type": "execute_result"
    }
   ],
   "source": [
    "mat[-1,-1]"
   ]
  },
  {
   "cell_type": "markdown",
   "id": "3f673353",
   "metadata": {},
   "source": [
    "##### Slicing"
   ]
  },
  {
   "cell_type": "code",
   "execution_count": 83,
   "id": "fbb62ee5",
   "metadata": {},
   "outputs": [
    {
     "data": {
      "text/plain": [
       "array([[ 1,  2,  3,  4],\n",
       "       [ 5,  6,  7,  8],\n",
       "       [ 9, 10, 11, 12],\n",
       "       [13, 14, 15, 16],\n",
       "       [17, 18, 19, 20]])"
      ]
     },
     "execution_count": 83,
     "metadata": {},
     "output_type": "execute_result"
    }
   ],
   "source": [
    "mat"
   ]
  },
  {
   "cell_type": "code",
   "execution_count": 84,
   "id": "7c3376e4",
   "metadata": {},
   "outputs": [
    {
     "data": {
      "text/plain": [
       "array([[1, 2, 3, 4],\n",
       "       [5, 6, 7, 8]])"
      ]
     },
     "execution_count": 84,
     "metadata": {},
     "output_type": "execute_result"
    }
   ],
   "source": [
    "# Slicing the first two rows\n",
    "\n",
    "mat[0:2,]\n",
    "\n",
    "# 0:2 this will include 0 and 1 since the last index is excluded"
   ]
  },
  {
   "cell_type": "code",
   "execution_count": 85,
   "id": "0b49511c",
   "metadata": {},
   "outputs": [
    {
     "data": {
      "text/plain": [
       "array([[1, 2, 3, 4],\n",
       "       [5, 6, 7, 8]])"
      ]
     },
     "execution_count": 85,
     "metadata": {},
     "output_type": "execute_result"
    }
   ],
   "source": [
    "# Slicing the first two rows\n",
    "\n",
    "mat[[0,1],]"
   ]
  },
  {
   "cell_type": "code",
   "execution_count": 89,
   "id": "18e23af7",
   "metadata": {},
   "outputs": [
    {
     "data": {
      "text/plain": [
       "array([[1, 2, 3, 4],\n",
       "       [5, 6, 7, 8]])"
      ]
     },
     "execution_count": 89,
     "metadata": {},
     "output_type": "execute_result"
    }
   ],
   "source": [
    "# Slicing the first two rows\n",
    "\n",
    "mat[[0,1],:]"
   ]
  },
  {
   "cell_type": "code",
   "execution_count": 88,
   "id": "c61081ef",
   "metadata": {},
   "outputs": [
    {
     "data": {
      "text/plain": [
       "array([[ 1,  2],\n",
       "       [ 5,  6],\n",
       "       [ 9, 10],\n",
       "       [13, 14],\n",
       "       [17, 18]])"
      ]
     },
     "execution_count": 88,
     "metadata": {},
     "output_type": "execute_result"
    }
   ],
   "source": [
    "# Slicing the first two columns\n",
    "\n",
    "mat[:,[0,1]]"
   ]
  },
  {
   "cell_type": "code",
   "execution_count": 90,
   "id": "5974efce",
   "metadata": {},
   "outputs": [
    {
     "data": {
      "text/plain": [
       "array([[ 1,  2,  3,  4],\n",
       "       [ 9, 10, 11, 12]])"
      ]
     },
     "execution_count": 90,
     "metadata": {},
     "output_type": "execute_result"
    }
   ],
   "source": [
    "# The first and third rows\n",
    "\n",
    "# Well... the index of the first row is 0 and the index of the third row is 2\n",
    "\n",
    "mat[[0,2],]"
   ]
  },
  {
   "cell_type": "code",
   "execution_count": 91,
   "id": "74bb62f8",
   "metadata": {},
   "outputs": [
    {
     "data": {
      "text/plain": [
       "array([[1, 2],\n",
       "       [5, 6]])"
      ]
     },
     "execution_count": 91,
     "metadata": {},
     "output_type": "execute_result"
    }
   ],
   "source": [
    "# The first two rows and columns\n",
    "\n",
    "mat[0:2,0:2]"
   ]
  },
  {
   "cell_type": "code",
   "execution_count": 93,
   "id": "a488daab",
   "metadata": {},
   "outputs": [
    {
     "data": {
      "text/plain": [
       "array([[1, 2],\n",
       "       [5, 6]])"
      ]
     },
     "execution_count": 93,
     "metadata": {},
     "output_type": "execute_result"
    }
   ],
   "source": [
    "# The first two rows and columns\n",
    "\n",
    "mat [[0,1],0:2]"
   ]
  },
  {
   "cell_type": "code",
   "execution_count": 95,
   "id": "432db721",
   "metadata": {},
   "outputs": [
    {
     "data": {
      "text/plain": [
       "array([[ 1,  2,  3,  4],\n",
       "       [ 5,  6,  7,  8],\n",
       "       [ 9, 10, 11, 12],\n",
       "       [13, 14, 15, 16],\n",
       "       [17, 18, 19, 20]])"
      ]
     },
     "execution_count": 95,
     "metadata": {},
     "output_type": "execute_result"
    }
   ],
   "source": [
    "mat"
   ]
  },
  {
   "cell_type": "code",
   "execution_count": 96,
   "id": "67272724",
   "metadata": {},
   "outputs": [
    {
     "name": "stdout",
     "output_type": "stream",
     "text": [
      "[[2 3]\n",
      " [6 7]]\n",
      "[[2 3]\n",
      " [6 7]]\n"
     ]
    }
   ],
   "source": [
    "# The first two rows and cols 2 and 3\n",
    "\n",
    "print(mat[0:2, 1:3])\n",
    "\n",
    "# or ...\n",
    "\n",
    "print(mat[0:2,[1,2]])"
   ]
  },
  {
   "cell_type": "code",
   "execution_count": 98,
   "id": "e36253da",
   "metadata": {},
   "outputs": [
    {
     "data": {
      "text/plain": [
       "array([5, 6, 7, 8])"
      ]
     },
     "execution_count": 98,
     "metadata": {},
     "output_type": "execute_result"
    }
   ],
   "source": [
    "# What if you do not specify if you want the rows or cols?\n",
    "\n",
    "mat[1]"
   ]
  },
  {
   "cell_type": "markdown",
   "id": "c881f979",
   "metadata": {},
   "source": [
    "### Some methods and properties of arrays"
   ]
  },
  {
   "cell_type": "code",
   "execution_count": 99,
   "id": "7f1acc3b",
   "metadata": {},
   "outputs": [
    {
     "data": {
      "text/plain": [
       "array([ 8, 23, 22,  0, 10,  5, 20, 30, 40])"
      ]
     },
     "execution_count": 99,
     "metadata": {},
     "output_type": "execute_result"
    }
   ],
   "source": [
    "a1"
   ]
  },
  {
   "cell_type": "code",
   "execution_count": 100,
   "id": "7d32a1f4",
   "metadata": {},
   "outputs": [
    {
     "data": {
      "text/plain": [
       "array([[ 1,  2,  3,  4],\n",
       "       [ 5,  6,  7,  8],\n",
       "       [ 9, 10, 11, 12],\n",
       "       [13, 14, 15, 16],\n",
       "       [17, 18, 19, 20]])"
      ]
     },
     "execution_count": 100,
     "metadata": {},
     "output_type": "execute_result"
    }
   ],
   "source": [
    "mat"
   ]
  },
  {
   "cell_type": "code",
   "execution_count": 101,
   "id": "46f7edb5",
   "metadata": {},
   "outputs": [
    {
     "name": "stdout",
     "output_type": "stream",
     "text": [
      "<class 'numpy.ndarray'>\n",
      "<class 'numpy.ndarray'>\n"
     ]
    }
   ],
   "source": [
    "print(type(a1))\n",
    "print(type(mat))"
   ]
  },
  {
   "cell_type": "code",
   "execution_count": 102,
   "id": "e4c7c56c",
   "metadata": {},
   "outputs": [
    {
     "data": {
      "text/plain": [
       "dtype('int32')"
      ]
     },
     "execution_count": 102,
     "metadata": {},
     "output_type": "execute_result"
    }
   ],
   "source": [
    "a1.dtype"
   ]
  },
  {
   "cell_type": "code",
   "execution_count": 103,
   "id": "45c86d9b",
   "metadata": {},
   "outputs": [
    {
     "data": {
      "text/plain": [
       "array(['8', '23', '22', '0', '10', 'a', 'b', 'c', 'd'], dtype='<U11')"
      ]
     },
     "execution_count": 103,
     "metadata": {},
     "output_type": "execute_result"
    }
   ],
   "source": [
    "a2"
   ]
  },
  {
   "cell_type": "code",
   "execution_count": 104,
   "id": "9fc092d6",
   "metadata": {},
   "outputs": [
    {
     "data": {
      "text/plain": [
       "dtype('<U11')"
      ]
     },
     "execution_count": 104,
     "metadata": {},
     "output_type": "execute_result"
    }
   ],
   "source": [
    "a2.dtype"
   ]
  },
  {
   "cell_type": "code",
   "execution_count": 105,
   "id": "e87d90e1",
   "metadata": {},
   "outputs": [
    {
     "data": {
      "text/plain": [
       "9"
      ]
     },
     "execution_count": 105,
     "metadata": {},
     "output_type": "execute_result"
    }
   ],
   "source": [
    "a1.size"
   ]
  },
  {
   "cell_type": "code",
   "execution_count": 106,
   "id": "b1d99aec",
   "metadata": {},
   "outputs": [
    {
     "data": {
      "text/plain": [
       "20"
      ]
     },
     "execution_count": 106,
     "metadata": {},
     "output_type": "execute_result"
    }
   ],
   "source": [
    "mat.size"
   ]
  },
  {
   "cell_type": "code",
   "execution_count": 107,
   "id": "d28efaf4",
   "metadata": {},
   "outputs": [
    {
     "data": {
      "text/plain": [
       "1"
      ]
     },
     "execution_count": 107,
     "metadata": {},
     "output_type": "execute_result"
    }
   ],
   "source": [
    "a1.ndim"
   ]
  },
  {
   "cell_type": "code",
   "execution_count": 108,
   "id": "363b1816",
   "metadata": {},
   "outputs": [
    {
     "data": {
      "text/plain": [
       "2"
      ]
     },
     "execution_count": 108,
     "metadata": {},
     "output_type": "execute_result"
    }
   ],
   "source": [
    "mat.ndim"
   ]
  },
  {
   "cell_type": "code",
   "execution_count": 109,
   "id": "ffed7a7c",
   "metadata": {},
   "outputs": [
    {
     "data": {
      "text/plain": [
       "(9,)"
      ]
     },
     "execution_count": 109,
     "metadata": {},
     "output_type": "execute_result"
    }
   ],
   "source": [
    "a1.shape"
   ]
  },
  {
   "cell_type": "code",
   "execution_count": 110,
   "id": "f77373fe",
   "metadata": {},
   "outputs": [
    {
     "data": {
      "text/plain": [
       "(5, 4)"
      ]
     },
     "execution_count": 110,
     "metadata": {},
     "output_type": "execute_result"
    }
   ],
   "source": [
    "mat.shape"
   ]
  },
  {
   "cell_type": "code",
   "execution_count": 111,
   "id": "c0f2cccf",
   "metadata": {},
   "outputs": [
    {
     "data": {
      "text/plain": [
       "array([ 8, 23, 22,  0, 10,  5, 20, 30, 40])"
      ]
     },
     "execution_count": 111,
     "metadata": {},
     "output_type": "execute_result"
    }
   ],
   "source": [
    "# Vectorize operations on NumPy arrays\n",
    "\n",
    "a1"
   ]
  },
  {
   "cell_type": "code",
   "execution_count": 112,
   "id": "d00ceb6f",
   "metadata": {},
   "outputs": [
    {
     "data": {
      "text/plain": [
       "array([ 9, 24, 23,  1, 11,  6, 21, 31, 41])"
      ]
     },
     "execution_count": 112,
     "metadata": {},
     "output_type": "execute_result"
    }
   ],
   "source": [
    "a1 + 1"
   ]
  },
  {
   "cell_type": "code",
   "execution_count": 113,
   "id": "a6b3cf7e",
   "metadata": {},
   "outputs": [
    {
     "data": {
      "text/plain": [
       "array([16, 46, 44,  0, 20, 10, 40, 60, 80])"
      ]
     },
     "execution_count": 113,
     "metadata": {},
     "output_type": "execute_result"
    }
   ],
   "source": [
    "a1*2"
   ]
  },
  {
   "cell_type": "code",
   "execution_count": 115,
   "id": "a85ba57d",
   "metadata": {},
   "outputs": [
    {
     "data": {
      "text/plain": [
       "158"
      ]
     },
     "execution_count": 115,
     "metadata": {},
     "output_type": "execute_result"
    }
   ],
   "source": [
    "# The sum method in NumPy\n",
    "\n",
    "np.sum(a1)"
   ]
  },
  {
   "cell_type": "code",
   "execution_count": 117,
   "id": "e0daa6a0",
   "metadata": {},
   "outputs": [
    {
     "data": {
      "text/plain": [
       "158"
      ]
     },
     "execution_count": 117,
     "metadata": {},
     "output_type": "execute_result"
    }
   ],
   "source": [
    "# We can also use the Python built-in sum to add the elements of an array\n",
    "\n",
    "sum(a1)"
   ]
  },
  {
   "cell_type": "code",
   "execution_count": 118,
   "id": "9f8c3d98",
   "metadata": {},
   "outputs": [
    {
     "data": {
      "text/plain": [
       "array([[ 1,  2,  3,  4],\n",
       "       [ 5,  6,  7,  8],\n",
       "       [ 9, 10, 11, 12],\n",
       "       [13, 14, 15, 16],\n",
       "       [17, 18, 19, 20]])"
      ]
     },
     "execution_count": 118,
     "metadata": {},
     "output_type": "execute_result"
    }
   ],
   "source": [
    "mat"
   ]
  },
  {
   "cell_type": "code",
   "execution_count": 119,
   "id": "c1a74269",
   "metadata": {},
   "outputs": [
    {
     "data": {
      "text/plain": [
       "array([10, 26, 42, 58, 74])"
      ]
     },
     "execution_count": 119,
     "metadata": {},
     "output_type": "execute_result"
    }
   ],
   "source": [
    "# Row total\n",
    "\n",
    "np.sum(mat,axis=1)"
   ]
  },
  {
   "cell_type": "code",
   "execution_count": 120,
   "id": "7f19a91a",
   "metadata": {},
   "outputs": [
    {
     "data": {
      "text/plain": [
       "array([45, 50, 55, 60])"
      ]
     },
     "execution_count": 120,
     "metadata": {},
     "output_type": "execute_result"
    }
   ],
   "source": [
    "# Column total\n",
    "\n",
    "np.sum(mat,axis=0)"
   ]
  },
  {
   "cell_type": "code",
   "execution_count": 121,
   "id": "3d3f9755",
   "metadata": {},
   "outputs": [
    {
     "data": {
      "text/plain": [
       "210"
      ]
     },
     "execution_count": 121,
     "metadata": {},
     "output_type": "execute_result"
    }
   ],
   "source": [
    "np.sum(mat)"
   ]
  },
  {
   "cell_type": "code",
   "execution_count": 122,
   "id": "5ecfae40",
   "metadata": {},
   "outputs": [
    {
     "data": {
      "text/plain": [
       "array([45, 50, 55, 60])"
      ]
     },
     "execution_count": 122,
     "metadata": {},
     "output_type": "execute_result"
    }
   ],
   "source": [
    "sum(mat)"
   ]
  },
  {
   "cell_type": "markdown",
   "id": "b30fde52",
   "metadata": {},
   "source": [
    "The np.sort() can be used to sort an array"
   ]
  },
  {
   "cell_type": "code",
   "execution_count": 48,
   "id": "be62a005",
   "metadata": {},
   "outputs": [
    {
     "data": {
      "text/plain": [
       "array([ 5,  4,  8, 10,  1])"
      ]
     },
     "execution_count": 48,
     "metadata": {},
     "output_type": "execute_result"
    }
   ],
   "source": [
    "arrayx"
   ]
  },
  {
   "cell_type": "code",
   "execution_count": 50,
   "id": "76d2be57",
   "metadata": {},
   "outputs": [
    {
     "data": {
      "text/plain": [
       "array([ 1,  4,  5,  8, 10])"
      ]
     },
     "execution_count": 50,
     "metadata": {},
     "output_type": "execute_result"
    }
   ],
   "source": [
    "np.sort(arrayx)"
   ]
  },
  {
   "cell_type": "markdown",
   "id": "15ada7f3",
   "metadata": {},
   "source": [
    "np.sort() does not work \"in place\", meaning that it does not sort the original array"
   ]
  },
  {
   "cell_type": "code",
   "execution_count": 47,
   "id": "49181d59",
   "metadata": {},
   "outputs": [
    {
     "data": {
      "text/plain": [
       "array([ 5,  4,  8, 10,  1])"
      ]
     },
     "execution_count": 47,
     "metadata": {},
     "output_type": "execute_result"
    }
   ],
   "source": [
    "arrayx"
   ]
  },
  {
   "cell_type": "markdown",
   "id": "0d2ce8e0",
   "metadata": {},
   "source": [
    "In contrast to np.sort(), the method to sort lists (which is sort()), do the sorting in place (= it changes the original list)"
   ]
  },
  {
   "cell_type": "code",
   "execution_count": 51,
   "id": "37b6e6dc",
   "metadata": {},
   "outputs": [
    {
     "data": {
      "text/plain": [
       "[5, 4, 8, 10, 1]"
      ]
     },
     "execution_count": 51,
     "metadata": {},
     "output_type": "execute_result"
    }
   ],
   "source": [
    "listx= [5,  4,  8, 10,  1]\n",
    "listx"
   ]
  },
  {
   "cell_type": "code",
   "execution_count": 53,
   "id": "a4da7abf",
   "metadata": {},
   "outputs": [],
   "source": [
    "listx.sort()"
   ]
  },
  {
   "cell_type": "code",
   "execution_count": 54,
   "id": "13212b37",
   "metadata": {},
   "outputs": [
    {
     "data": {
      "text/plain": [
       "[1, 4, 5, 8, 10]"
      ]
     },
     "execution_count": 54,
     "metadata": {},
     "output_type": "execute_result"
    }
   ],
   "source": [
    "listx"
   ]
  },
  {
   "cell_type": "markdown",
   "id": "6dfe8f45",
   "metadata": {},
   "source": [
    "#### Boolean arrays\n",
    "#### Indexing using Boolean arrays (= using a Boolean mask)"
   ]
  },
  {
   "cell_type": "code",
   "execution_count": 123,
   "id": "8da48d01",
   "metadata": {},
   "outputs": [
    {
     "data": {
      "text/plain": [
       "array([ 4,  7,  1,  3, 10,  9,  9,  0])"
      ]
     },
     "execution_count": 123,
     "metadata": {},
     "output_type": "execute_result"
    }
   ],
   "source": [
    "a3= np.array([4,7,1,3,10,9,9,0])\n",
    "a3"
   ]
  },
  {
   "cell_type": "code",
   "execution_count": 124,
   "id": "4fada62a",
   "metadata": {},
   "outputs": [
    {
     "data": {
      "text/plain": [
       "array([False,  True, False, False,  True,  True,  True, False])"
      ]
     },
     "execution_count": 124,
     "metadata": {},
     "output_type": "execute_result"
    }
   ],
   "source": [
    "a3>5"
   ]
  },
  {
   "cell_type": "code",
   "execution_count": 125,
   "id": "4eebb349",
   "metadata": {},
   "outputs": [
    {
     "data": {
      "text/plain": [
       "array([False,  True, False, False,  True,  True,  True, False])"
      ]
     },
     "execution_count": 125,
     "metadata": {},
     "output_type": "execute_result"
    }
   ],
   "source": [
    "a4= a3>5\n",
    "a4"
   ]
  },
  {
   "cell_type": "code",
   "execution_count": 126,
   "id": "0749b7d0",
   "metadata": {},
   "outputs": [
    {
     "data": {
      "text/plain": [
       "dtype('bool')"
      ]
     },
     "execution_count": 126,
     "metadata": {},
     "output_type": "execute_result"
    }
   ],
   "source": [
    "a4.dtype"
   ]
  },
  {
   "cell_type": "code",
   "execution_count": 128,
   "id": "670a845d",
   "metadata": {},
   "outputs": [
    {
     "data": {
      "text/plain": [
       "array([ 7, 10,  9,  9])"
      ]
     },
     "execution_count": 128,
     "metadata": {},
     "output_type": "execute_result"
    }
   ],
   "source": [
    "# Let's get the elements in a3 greater than 5\n",
    "\n",
    "a3[a3>5]"
   ]
  },
  {
   "cell_type": "code",
   "execution_count": 129,
   "id": "b672ec6e",
   "metadata": {},
   "outputs": [
    {
     "data": {
      "text/plain": [
       "array([7, 9, 9])"
      ]
     },
     "execution_count": 129,
     "metadata": {},
     "output_type": "execute_result"
    }
   ],
   "source": [
    "# Let's get the elements in a3 greater than 5 and less than 10\n",
    "\n",
    "a3[(a3>5) & (a3<10)]"
   ]
  },
  {
   "cell_type": "code",
   "execution_count": 130,
   "id": "fb0e614d",
   "metadata": {},
   "outputs": [
    {
     "data": {
      "text/plain": [
       "array([False,  True, False, False,  True,  True,  True, False])"
      ]
     },
     "execution_count": 130,
     "metadata": {},
     "output_type": "execute_result"
    }
   ],
   "source": [
    "a3>5"
   ]
  },
  {
   "cell_type": "code",
   "execution_count": 131,
   "id": "2cabef8c",
   "metadata": {},
   "outputs": [
    {
     "data": {
      "text/plain": [
       "4"
      ]
     },
     "execution_count": 131,
     "metadata": {},
     "output_type": "execute_result"
    }
   ],
   "source": [
    "# Let's get how many elements in a3 are greater than 5\n",
    "\n",
    "np.sum (a3>5)"
   ]
  },
  {
   "cell_type": "code",
   "execution_count": 133,
   "id": "6674ee77",
   "metadata": {},
   "outputs": [
    {
     "data": {
      "text/plain": [
       "3"
      ]
     },
     "execution_count": 133,
     "metadata": {},
     "output_type": "execute_result"
    }
   ],
   "source": [
    "# Let's get how many elements in a3 are greater than 5 and less than 10\n",
    "\n",
    "np.sum((a3>5) & (a3<10))"
   ]
  },
  {
   "cell_type": "markdown",
   "id": "aced64c5",
   "metadata": {},
   "source": [
    "### Practice\n",
    "#### Read the precipitation dataset"
   ]
  },
  {
   "cell_type": "code",
   "execution_count": null,
   "id": "82b90ae9",
   "metadata": {},
   "outputs": [],
   "source": [
    "# Read the precipitation data as a local csv file\n",
    "\n",
    "# The Pandas package is needed to read this csv file\n",
    "\n",
    "import pandas as pd"
   ]
  },
  {
   "cell_type": "code",
   "execution_count": null,
   "id": "13b9d70d",
   "metadata": {},
   "outputs": [],
   "source": [
    "rain_df= pd.read_csv('C:\\\\Users\\\\jheredi2\\\\Documents\\\\PythonDataAnalytics\\\\1-Datasets\\\\rain_dataset.csv')"
   ]
  },
  {
   "cell_type": "code",
   "execution_count": null,
   "id": "2dfd389a",
   "metadata": {},
   "outputs": [],
   "source": [
    "rain_df.info()"
   ]
  },
  {
   "cell_type": "code",
   "execution_count": null,
   "id": "7b383647",
   "metadata": {},
   "outputs": [],
   "source": [
    "# Create an array with the values from the column \"PRCP\" (the precipitation data)\n",
    "\n",
    "rain_array= rain_df['PRCP'].values"
   ]
  },
  {
   "cell_type": "code",
   "execution_count": null,
   "id": "de6aee2f",
   "metadata": {},
   "outputs": [],
   "source": [
    "type(rain_array)"
   ]
  },
  {
   "cell_type": "markdown",
   "id": "33b0585c",
   "metadata": {},
   "source": [
    "Alternative way of creating the array: \n",
    "\n",
    "rain_array= rain_df.PRCP.values"
   ]
  },
  {
   "cell_type": "markdown",
   "id": "a22bef75",
   "metadata": {},
   "source": [
    "#### Applying Numpy methods on rain array"
   ]
  },
  {
   "cell_type": "code",
   "execution_count": null,
   "id": "1036ecea",
   "metadata": {},
   "outputs": [],
   "source": [
    "rain_array[0:5]"
   ]
  },
  {
   "cell_type": "markdown",
   "id": "929b11ff",
   "metadata": {},
   "source": [
    "First convert rain_array to inches by dividing by 254 (rain data is in one tenth of ml)"
   ]
  },
  {
   "cell_type": "code",
   "execution_count": null,
   "id": "f52f3fc0",
   "metadata": {},
   "outputs": [],
   "source": [
    "rain_array=rain_array/254\n",
    "rain_array[0:20]"
   ]
  },
  {
   "cell_type": "code",
   "execution_count": null,
   "id": "40fcc557",
   "metadata": {},
   "outputs": [],
   "source": [
    "# Count how many days rained \n",
    "\n",
    "np.sum(rain_array>0)"
   ]
  },
  {
   "cell_type": "code",
   "execution_count": null,
   "id": "304c4ead",
   "metadata": {},
   "outputs": [],
   "source": [
    "# Count how many days the inches of rain were btw 0.5 and 1\n",
    "\n",
    "np.sum((rain_array>=0.5)&(rain_array<=1))"
   ]
  },
  {
   "cell_type": "code",
   "execution_count": null,
   "id": "61dc25f2",
   "metadata": {},
   "outputs": [],
   "source": [
    "# Get the median precipitation on rainy days in 2014 (inches)\n",
    "\n",
    "# How do we get the values of rain in rainy days?\n",
    "\n",
    "rain_array[rain_array>0]"
   ]
  },
  {
   "cell_type": "code",
   "execution_count": null,
   "id": "29dc7159",
   "metadata": {},
   "outputs": [],
   "source": [
    "# Now apply the median() on the previous array\n",
    "\n",
    "np.median(rain_array[rain_array>0])"
   ]
  },
  {
   "cell_type": "code",
   "execution_count": null,
   "id": "bcfb7adf",
   "metadata": {},
   "outputs": [],
   "source": [
    "round(np.median(rain_array[rain_array>0]),2)"
   ]
  },
  {
   "cell_type": "code",
   "execution_count": null,
   "id": "236637e6",
   "metadata": {},
   "outputs": [],
   "source": [
    "# Median precipitation on summer days in 2014 (inches)\n",
    "# What are the summer days? \n",
    "# The first day of summer is day 172 (which is June 21st) and the upper limit is day 262\n",
    "# First, create an array with the day of the year (from 1 to 365)\n",
    "\n",
    "day_year= np.arange(1,366)"
   ]
  },
  {
   "cell_type": "code",
   "execution_count": null,
   "id": "e132893f",
   "metadata": {},
   "outputs": [],
   "source": [
    "# Create a Boolean array with True for Summer days\n",
    "\n",
    "is_summer_day= (day_year>=172) & (day_year<=262)\n",
    "\n",
    "is_summer_day.dtype"
   ]
  },
  {
   "cell_type": "code",
   "execution_count": null,
   "id": "d4ef472f",
   "metadata": {},
   "outputs": [],
   "source": [
    "np.median(rain_array[is_summer_day])"
   ]
  },
  {
   "cell_type": "code",
   "execution_count": null,
   "id": "048407b1",
   "metadata": {},
   "outputs": [],
   "source": [
    "# Mean precipitation on summer days in 2014 (inches)\n",
    "\n",
    "np.mean(rain_array[is_summer_day])"
   ]
  },
  {
   "cell_type": "code",
   "execution_count": null,
   "id": "0a7679a7",
   "metadata": {},
   "outputs": [],
   "source": [
    "# Maximum precipitation on summer days in 2014 (inches)\n",
    "\n",
    "np.max(rain_array[is_summer_day])"
   ]
  },
  {
   "cell_type": "code",
   "execution_count": null,
   "id": "d32a8f80",
   "metadata": {},
   "outputs": [],
   "source": [
    "# Median precipitation on non-summer rainy days (inches)\n",
    "\n",
    "# Here we have two conditions: rainy and non-summer\n",
    "\n",
    "# We can use ~ \n",
    "\n",
    "# This operattor (~) negates Boolean values of a NumPy array\n",
    "\n",
    "np.median(rain_array[(rain_array>0)&~(is_summer_day)])"
   ]
  }
 ],
 "metadata": {
  "kernelspec": {
   "display_name": "Python 3",
   "language": "python",
   "name": "python3"
  },
  "language_info": {
   "codemirror_mode": {
    "name": "ipython",
    "version": 3
   },
   "file_extension": ".py",
   "mimetype": "text/x-python",
   "name": "python",
   "nbconvert_exporter": "python",
   "pygments_lexer": "ipython3",
   "version": "3.8.8"
  }
 },
 "nbformat": 4,
 "nbformat_minor": 5
}
