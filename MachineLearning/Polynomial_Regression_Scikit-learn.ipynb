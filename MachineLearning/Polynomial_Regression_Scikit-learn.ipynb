{
 "cells": [
  {
   "cell_type": "markdown",
   "id": "6ecbdf15",
   "metadata": {},
   "source": [
    "### Polynomial Regression using Scikit-learn\n",
    "\n",
    "<br>"
   ]
  },
  {
   "cell_type": "code",
   "execution_count": null,
   "id": "50ca5fd1",
   "metadata": {},
   "outputs": [],
   "source": [
    "# Import useful libraries\n",
    "\n",
    "import numpy as np\n",
    "import pandas as pd\n",
    "import matplotlib.pyplot as plt\n",
    "from sklearn.linear_model import LinearRegression\n",
    "from sklearn.preprocessing import PolynomialFeatures"
   ]
  },
  {
   "cell_type": "markdown",
   "id": "0b01df88",
   "metadata": {},
   "source": [
    "\n",
    "Let's apply polynomial regression using the Auto dataset. You can find a csv file with this dataset on Blackboard.\n",
    "\n",
    "The Auto datset contains data about gas mileage, horsepower, # cylinders, and other information for 392 types of vehicles.\n",
    "\n",
    "In this example, our predictor will be __horsepower__ and the outcome __gas mileage (mpg)__"
   ]
  },
  {
   "cell_type": "code",
   "execution_count": null,
   "id": "f50b622e",
   "metadata": {},
   "outputs": [],
   "source": [
    "Auto_df=pd.read_csv('C:\\\\Users\\\\jheredi2\\\\Documents\\\\PythonDataAnalytics\\\\1-Datasets\\\\Auto_ISLR.csv')"
   ]
  },
  {
   "cell_type": "code",
   "execution_count": null,
   "id": "44ac7287",
   "metadata": {},
   "outputs": [],
   "source": [
    "Auto_df.info()"
   ]
  },
  {
   "cell_type": "markdown",
   "id": "df5e8f62",
   "metadata": {},
   "source": [
    "#### Are horsepower and mpg related?"
   ]
  },
  {
   "cell_type": "code",
   "execution_count": null,
   "id": "6b99fae1",
   "metadata": {},
   "outputs": [],
   "source": [
    "Auto_df[['mpg','horsepower']].corr()"
   ]
  },
  {
   "cell_type": "markdown",
   "id": "ab668f20",
   "metadata": {},
   "source": [
    "Let's do a scatterplot to get a better sense of their relationship and identify potential outliers!"
   ]
  },
  {
   "cell_type": "code",
   "execution_count": null,
   "id": "a77b5dbe",
   "metadata": {},
   "outputs": [],
   "source": [
    "plt.style.use('seaborn') # This command is just to make the graph looks nicer\n",
    "\n",
    "plt.scatter(Auto_df['horsepower'], Auto_df['mpg'],c='blue',marker='o')\n",
    "\n",
    "plt.xlabel(\"Horsepower\")\n",
    "\n",
    "plt.ylabel(\"MPG\")\n",
    "\n",
    "plt.axhline(Auto_df['mpg'].mean(),c='red',ls='--')\n",
    "\n",
    "plt.show()"
   ]
  },
  {
   "cell_type": "markdown",
   "id": "043a9fe8",
   "metadata": {},
   "source": [
    "### Fitting a polynomial model of second degree for mpg based on horsepower:\n",
    "\n",
    "__Estimated mpg__ = bo + b1 * horsepower + b2 * (horsepower squared)"
   ]
  },
  {
   "cell_type": "markdown",
   "id": "7070a9cc",
   "metadata": {},
   "source": [
    "The method PolynomialFeatures() from scikit-learn allows us to specify what kind of polynomial model we want to fit with the data; that is, it allows us to specify the degree of the polynomial; whether we want to incorporate the interaction term, and other specifications.\n",
    "\n"
   ]
  },
  {
   "cell_type": "code",
   "execution_count": null,
   "id": "cf6a30bc",
   "metadata": {},
   "outputs": [],
   "source": [
    "poly2_object= PolynomialFeatures(degree=2)"
   ]
  },
  {
   "cell_type": "markdown",
   "id": "a626847e",
   "metadata": {},
   "source": [
    "The variable used to store the output of PolynomialFeatures() is then use to create the matrix with the X \n",
    "values of X, X squared, X cubed, etc. To do that, we use the method fit_transform().\n",
    "\n",
    "The predictor (or predictors) need to be converted into a NumPy array before they are passed to fit_transform ().\n",
    "\n",
    "Also, __very important__, in any method part of scikit-learn, the NumPy array containing the values of the predictors MUST have two dimensions.\n",
    "\n",
    "So, what do we do in this case where we only have one predictor? To store the values of one predictor, we only need need a one-dimensional array, so what do we do?\n",
    "\n",
    "We transform the array with the values of the predictor in a two dimensional array where the number of columns equals 1. That is, we create a column array = an array with m rows and 1 column.\n",
    "\n",
    "We can use the reshape() method to do that."
   ]
  },
  {
   "cell_type": "code",
   "execution_count": null,
   "id": "14149440",
   "metadata": {},
   "outputs": [],
   "source": [
    "# Horsepower as one dimensional array\n",
    "np.array(Auto_df['horsepower'])"
   ]
  },
  {
   "cell_type": "code",
   "execution_count": null,
   "id": "5d8922f9",
   "metadata": {
    "scrolled": true
   },
   "outputs": [],
   "source": [
    "X= np.array(Auto_df['horsepower']).reshape(-1,1)"
   ]
  },
  {
   "cell_type": "code",
   "execution_count": null,
   "id": "2b45389e",
   "metadata": {},
   "outputs": [],
   "source": [
    "# Horsepower as a two dimensional array with m rows and 1 column\n",
    "\n",
    "X"
   ]
  },
  {
   "cell_type": "markdown",
   "id": "013954a4",
   "metadata": {},
   "source": [
    "An alternative to using reshape() is to use this code: X= np.array(Auto_df['horsepower'])[:, np.newaxis]\n",
    "\n",
    "This would also create a column array with two dimensions."
   ]
  },
  {
   "cell_type": "markdown",
   "id": "663e78f8",
   "metadata": {},
   "source": [
    "Next, let's use fit_transform() to create the matrix with the values of X and X squared."
   ]
  },
  {
   "cell_type": "code",
   "execution_count": null,
   "id": "cb67b6b1",
   "metadata": {},
   "outputs": [],
   "source": [
    "X_poly2= poly2_object.fit_transform(X)\n",
    "X_poly2"
   ]
  },
  {
   "cell_type": "markdown",
   "id": "a7104304",
   "metadata": {},
   "source": [
    "Next, the outcome variable also needs to be converted into an array. However, the outcome variable needs to be stored in a uni-dimensional array!!!\n",
    "\n",
    "__Do not convert the array with values of Y into a column array !!!__"
   ]
  },
  {
   "cell_type": "code",
   "execution_count": null,
   "id": "ab73b4b2",
   "metadata": {},
   "outputs": [],
   "source": [
    "y= np.array(Auto_df['mpg'])"
   ]
  },
  {
   "cell_type": "markdown",
   "id": "9fe8ea95",
   "metadata": {},
   "source": [
    "Now, we need to specify how we are going to obtain the polynomial regression of degree 2.\n",
    "\n",
    "We need to specify what method we will use to obtain the coefficients of the polynomial regression of degree 2.\n",
    "\n",
    "As discussed in the slides in polynomial regression we can still use OLS to achieve this purpose.\n",
    "\n",
    "In scikit-learn, to use OLS, we call the function LinearRegression()"
   ]
  },
  {
   "cell_type": "code",
   "execution_count": null,
   "id": "b2be6aa7",
   "metadata": {},
   "outputs": [],
   "source": [
    "model_poly2 = LinearRegression(fit_intercept=True)"
   ]
  },
  {
   "cell_type": "markdown",
   "id": "25b921f1",
   "metadata": {},
   "source": [
    "Now we use the linear regression object (reg_object1) to fit a model where the X are the polynomial features stored \n",
    "in X_poly2."
   ]
  },
  {
   "cell_type": "code",
   "execution_count": null,
   "id": "247020b1",
   "metadata": {},
   "outputs": [],
   "source": [
    "model_poly2.fit(X_poly2, y)"
   ]
  },
  {
   "cell_type": "code",
   "execution_count": null,
   "id": "dae1317d",
   "metadata": {},
   "outputs": [],
   "source": [
    "# Getting the equation coefficients\n",
    "\n",
    "model_poly2.coef_"
   ]
  },
  {
   "cell_type": "code",
   "execution_count": null,
   "id": "3f7d1fad",
   "metadata": {
    "scrolled": true
   },
   "outputs": [],
   "source": [
    "model_poly2.intercept_"
   ]
  },
  {
   "cell_type": "markdown",
   "id": "18a0092c",
   "metadata": {},
   "source": [
    "Let's use the polynomial equation to predict values of __mpg__\n",
    "\n",
    "For example, let's predict the value of mpg based on horsepower for the first five training observations."
   ]
  },
  {
   "cell_type": "code",
   "execution_count": null,
   "id": "02a8eaaf",
   "metadata": {},
   "outputs": [],
   "source": [
    "model_poly2.predict(X_poly2)[0:5]"
   ]
  },
  {
   "cell_type": "markdown",
   "id": "1e455a01",
   "metadata": {},
   "source": [
    "An alternative (although LONGER!) way of getting the same predictions is using the coefficients and writing out the equation.\n",
    "\n",
    "As practice, let's predict usinf this alternative way"
   ]
  },
  {
   "cell_type": "code",
   "execution_count": null,
   "id": "57d57ceb",
   "metadata": {},
   "outputs": [],
   "source": [
    "# To retrieve the individual coefficients we can do this:\n",
    "\n",
    "model_poly2.coef_"
   ]
  },
  {
   "cell_type": "code",
   "execution_count": null,
   "id": "79b37b92",
   "metadata": {},
   "outputs": [],
   "source": [
    "print(model_poly2.coef_[1])\n",
    "print(model_poly2.coef_[2])"
   ]
  },
  {
   "cell_type": "code",
   "execution_count": null,
   "id": "74bdf303",
   "metadata": {},
   "outputs": [],
   "source": [
    "model_poly2.intercept_"
   ]
  },
  {
   "cell_type": "code",
   "execution_count": null,
   "id": "7830cacc",
   "metadata": {},
   "outputs": [],
   "source": [
    "# Writing out the equation: coefficients * values of X\n",
    "\n",
    "model_poly2.intercept_ + model_poly2.coef_[1]* (Auto_df['horsepower'].values[0:5]) + model_poly2.coef_[2]* ( (Auto_df['horsepower'].values**2)[0:5])"
   ]
  },
  {
   "cell_type": "markdown",
   "id": "521f0504",
   "metadata": {},
   "source": [
    "\n",
    "__QUESTION__: The expression in the previous code cell shows two important properties of arrays: __vectorization__ and __recycling__. When are these properties manifested in this expression?"
   ]
  },
  {
   "cell_type": "code",
   "execution_count": null,
   "id": "50ccc86c",
   "metadata": {},
   "outputs": [],
   "source": [
    "# vectorization\n",
    "y1= 2* np.array([3,4,5])\n",
    "y1"
   ]
  },
  {
   "cell_type": "code",
   "execution_count": null,
   "id": "571f5a0f",
   "metadata": {},
   "outputs": [],
   "source": [
    "# recycling\n",
    "1 + y1"
   ]
  },
  {
   "cell_type": "markdown",
   "id": "b507089b",
   "metadata": {},
   "source": [
    "Now, let's use predict() to predict the value of mpg based for five NEW test observations. \n",
    "\n",
    "We need to generate five new values of horsepower. How to make sure that the new values of horsepower that I use make sense? \n",
    "\n",
    "Make sense = They are values in the range of possible values of horsepower"
   ]
  },
  {
   "cell_type": "code",
   "execution_count": null,
   "id": "335d9098",
   "metadata": {},
   "outputs": [],
   "source": [
    "Auto_df['horsepower'].describe()"
   ]
  },
  {
   "cell_type": "code",
   "execution_count": null,
   "id": "472e54b7",
   "metadata": {},
   "outputs": [],
   "source": [
    "X_test= np.arange(100,121,5).reshape(-1,1)\n",
    "X_test"
   ]
  },
  {
   "cell_type": "code",
   "execution_count": null,
   "id": "f2794502",
   "metadata": {},
   "outputs": [],
   "source": [
    "X_poly2_test= poly2_object.fit_transform(X_test)\n",
    "X_poly2_test"
   ]
  },
  {
   "cell_type": "code",
   "execution_count": null,
   "id": "1ab1c78d",
   "metadata": {},
   "outputs": [],
   "source": [
    "model_poly2.predict(X_poly2_test)"
   ]
  },
  {
   "cell_type": "markdown",
   "id": "ef71a911",
   "metadata": {},
   "source": [
    "### Let's evaluate the quality of this second-degree polynomial equation"
   ]
  },
  {
   "cell_type": "markdown",
   "id": "ace38da5",
   "metadata": {},
   "source": [
    "#### R squared"
   ]
  },
  {
   "cell_type": "code",
   "execution_count": null,
   "id": "43d43f88",
   "metadata": {},
   "outputs": [],
   "source": [
    "# Obtain R SQUARED for polynomial model\n",
    "\n",
    "from sklearn.metrics import r2_score"
   ]
  },
  {
   "cell_type": "code",
   "execution_count": null,
   "id": "be75b9f2",
   "metadata": {},
   "outputs": [],
   "source": [
    "np.round (r2_score(y, model_poly2.predict(X_poly2)), 2)"
   ]
  },
  {
   "cell_type": "markdown",
   "id": "9f556772",
   "metadata": {},
   "source": [
    "#### Adjusted R squared\n",
    "\n",
    "Adj R sq is not included in scikit learn, but we can create a formula to get it. Computing Adj R sq is not needed now since we are not comparing models, but it could be useful when comparing polynomials of different degrees.\n",
    "\n",
    "As a reference and reminder, you can check out the formula of adj R sq that we discussed in the R class (or you can find it in a book or online).\n",
    "\n",
    "__Note__: As an alternative to the formula I am going to use to get Adj R sq, you can use the formula where Adj R sq is obtained directly from R sq (you can search for this formula online)."
   ]
  },
  {
   "cell_type": "code",
   "execution_count": null,
   "id": "359965eb",
   "metadata": {},
   "outputs": [],
   "source": [
    "# Obtain sum of square of residuals (abbreviated as SSR or SSE)\n",
    "\n",
    "sse=sum((y -model_poly2.predict(X_poly2))**2)\n",
    "sse"
   ]
  },
  {
   "cell_type": "code",
   "execution_count": null,
   "id": "3b628dea",
   "metadata": {},
   "outputs": [],
   "source": [
    "top_adj_r2=sse/(y.size-2-1)\n",
    "\n",
    "# The \"2\" in this formula represents that we have two predictors in the model: X and X squared"
   ]
  },
  {
   "cell_type": "code",
   "execution_count": null,
   "id": "da731bd0",
   "metadata": {},
   "outputs": [],
   "source": [
    "bottom_adj_r2= (sum((y-y.mean())**2))/(y.size-1)"
   ]
  },
  {
   "cell_type": "code",
   "execution_count": null,
   "id": "f4df2838",
   "metadata": {},
   "outputs": [],
   "source": [
    "# ADJ R SQUARED for polynomial model\n",
    "\n",
    "np.round (1-(top_adj_r2/bottom_adj_r2), 2)"
   ]
  },
  {
   "cell_type": "markdown",
   "id": "95a00062",
   "metadata": {},
   "source": [
    "#### Cross validation to estimates test prediction error"
   ]
  },
  {
   "cell_type": "code",
   "execution_count": null,
   "id": "be6b2468",
   "metadata": {},
   "outputs": [],
   "source": [
    "from sklearn.model_selection import cross_val_score"
   ]
  },
  {
   "cell_type": "markdown",
   "id": "bf5fb94d",
   "metadata": {},
   "source": [
    "<br>\n",
    "\n",
    "Some comments about the __cross_val_score()__ method\n",
    "\n",
    "1) The parameter 'scoring' (SEE next code cell) refers to what metric is used to evaluate the quality of the estimated model. Some options are:\n",
    "\n",
    "scoring='r2' (default)\n",
    "\n",
    "scoring='neg_mean_squared_error'\n",
    "\n",
    "scoring= 'neg_root_mean_squared_error'\n",
    "\n",
    "2) When we set the parameter 'cv' equals to a number k, the dataset will be splitted in k groups (folds), but the splitting does not occur randomly. That is, the groups are formed by spliting the data in k subsequent k parts.\n",
    "\n",
    "You have the option of using a CV splitter method to shuffle the groups(folds) used by __cross_val_score()__ "
   ]
  },
  {
   "cell_type": "code",
   "execution_count": null,
   "id": "9bd34def",
   "metadata": {},
   "outputs": [],
   "source": [
    "cross_val_score(model_poly2.fit(X_poly2,y), X_poly2, y, scoring= 'neg_mean_squared_error', cv=10)"
   ]
  },
  {
   "cell_type": "code",
   "execution_count": null,
   "id": "278d6f89",
   "metadata": {},
   "outputs": [],
   "source": [
    "# Save the previous values in an object and multiply them by -1\n",
    "\n",
    "cv_values= -1*cross_val_score(model_poly2.fit(X_poly2,y), X_poly2, y, scoring= 'neg_mean_squared_error', cv=10)\n",
    "cv_values"
   ]
  },
  {
   "cell_type": "code",
   "execution_count": null,
   "id": "297fad14",
   "metadata": {},
   "outputs": [],
   "source": [
    "# Estimated test Mean Squared Error for the polynomial model of second degree based on CV\n",
    "\n",
    "np.round (cv_values.mean(), 2)"
   ]
  },
  {
   "cell_type": "markdown",
   "id": "5b48e077",
   "metadata": {},
   "source": [
    "A scatterplot that shows the second degree polynomial curve"
   ]
  },
  {
   "cell_type": "code",
   "execution_count": null,
   "id": "440b36fd",
   "metadata": {},
   "outputs": [],
   "source": [
    "plt.style.use('seaborn')\n",
    "\n",
    "plt.scatter(Auto_df['horsepower'], Auto_df['mpg'],c='blue',marker='o')\n",
    "\n",
    "plt.xlabel(\"Horsepower\")\n",
    "\n",
    "plt.ylabel(\"MPG\")\n",
    "\n",
    "plt.axhline(Auto_df['mpg'].mean(),c='red',ls='--')\n",
    "\n",
    "# To plot the polynomial curve, you are required to create an array of sorted data for the x axis. You cannot use \n",
    "# the values of the X variable unless they are sorted. Why? The plot() method from pyplot starts joining \n",
    "# the points with a line in the order that they are stored in the X and Y variables. So, if the values are not sorted, \n",
    "# you get a mess of lines crossing each other. Try it and you will see !!!\n",
    "\n",
    "xaxis=np.arange(50,225,5).reshape(-1,1)\n",
    "\n",
    "# Linear Regression line\n",
    "plt.plot(xaxis, LinearRegression().fit(X,y).predict(xaxis), c='red', ls='-', linewidth=3)\n",
    "\n",
    "# Second degree poly curve\n",
    "plt.plot(xaxis, model_poly2.fit(X_poly2, y).predict(poly2_object.fit_transform(xaxis)), c='orange', ls='-', linewidth=3)\n",
    "\n",
    "plt.show()"
   ]
  },
  {
   "cell_type": "markdown",
   "id": "dd30f97b",
   "metadata": {},
   "source": [
    "### Fitting a polynomial model of third degree for mpg based on horsepower:\n",
    "\n",
    "__Estimated mpg__ = bo + b1 * horsepower + b2 * (horsepower squared) + b3 * (horsepower cubed)\n",
    "\n",
    "Later, we will compare the second and third degree polynomials"
   ]
  },
  {
   "cell_type": "code",
   "execution_count": null,
   "id": "5ab77152",
   "metadata": {},
   "outputs": [],
   "source": [
    "poly3_object= PolynomialFeatures(degree=3)"
   ]
  },
  {
   "cell_type": "code",
   "execution_count": null,
   "id": "8d5af07a",
   "metadata": {},
   "outputs": [],
   "source": [
    "# X was already created before!\n",
    "\n",
    "X_poly3= poly3_object.fit_transform(X)\n",
    "\n",
    "X_poly3"
   ]
  },
  {
   "cell_type": "code",
   "execution_count": null,
   "id": "888d4043",
   "metadata": {},
   "outputs": [],
   "source": [
    "model_poly3 = LinearRegression(fit_intercept=True)"
   ]
  },
  {
   "cell_type": "code",
   "execution_count": null,
   "id": "4c44409b",
   "metadata": {},
   "outputs": [],
   "source": [
    "# y was already created before!\n",
    "\n",
    "model_poly3.fit(X_poly3, y)"
   ]
  },
  {
   "cell_type": "code",
   "execution_count": null,
   "id": "ba657c61",
   "metadata": {},
   "outputs": [],
   "source": [
    "model_poly3.coef_"
   ]
  },
  {
   "cell_type": "code",
   "execution_count": null,
   "id": "e7bd8885",
   "metadata": {
    "scrolled": true
   },
   "outputs": [],
   "source": [
    "model_poly3.intercept_"
   ]
  },
  {
   "cell_type": "markdown",
   "id": "c0ad9c65",
   "metadata": {},
   "source": [
    "#### R squared"
   ]
  },
  {
   "cell_type": "code",
   "execution_count": null,
   "id": "eda188a9",
   "metadata": {},
   "outputs": [],
   "source": [
    "# Obtain R SQUARED for polynomial model of degree 3\n",
    "\n",
    "np.round (r2_score(y, model_poly3.predict(X_poly3)), 2)"
   ]
  },
  {
   "cell_type": "markdown",
   "id": "fb1f059c",
   "metadata": {},
   "source": [
    "#### Adjusted R squared"
   ]
  },
  {
   "cell_type": "code",
   "execution_count": null,
   "id": "9106b6cc",
   "metadata": {},
   "outputs": [],
   "source": [
    "# Obtain sum of square of residuals (abbreviated as SSR or SSE)\n",
    "\n",
    "sse=sum((y - model_poly3.predict(X_poly3))**2)\n",
    "sse"
   ]
  },
  {
   "cell_type": "code",
   "execution_count": null,
   "id": "e67593b2",
   "metadata": {},
   "outputs": [],
   "source": [
    "top_adj_r2=sse/(y.size-3-1)\n",
    "\n",
    "# The \"3\" in this formula represents that we have three predictors in the model: X, X squared, and X cubed."
   ]
  },
  {
   "cell_type": "code",
   "execution_count": null,
   "id": "5705f2a5",
   "metadata": {},
   "outputs": [],
   "source": [
    "bottom_adj_r2= (sum((y-y.mean())**2))/(y.size-1)"
   ]
  },
  {
   "cell_type": "code",
   "execution_count": null,
   "id": "1c7495e0",
   "metadata": {
    "scrolled": true
   },
   "outputs": [],
   "source": [
    "# ADJ R SQUARED for polynomial model of degree 3\n",
    "\n",
    "np.round (1-(top_adj_r2/bottom_adj_r2), 2)"
   ]
  },
  {
   "cell_type": "markdown",
   "id": "cbe4dc8c",
   "metadata": {},
   "source": [
    "<br>\n",
    "\n",
    "What is this value of Adj R sq telling us about the third degree poly when compared to the second degree poly?"
   ]
  },
  {
   "cell_type": "markdown",
   "id": "a9490891",
   "metadata": {},
   "source": [
    "#### Cross validation to estimate test prediction error"
   ]
  },
  {
   "cell_type": "code",
   "execution_count": null,
   "id": "93dfb7a8",
   "metadata": {},
   "outputs": [],
   "source": [
    "cross_val_score(model_poly3.fit(X_poly3,y), X_poly3, y, scoring= 'neg_mean_squared_error', cv=10)"
   ]
  },
  {
   "cell_type": "code",
   "execution_count": null,
   "id": "c993ae02",
   "metadata": {},
   "outputs": [],
   "source": [
    "# Save the previous values in an object and multiply them by -1\n",
    "\n",
    "cv_values= -1*cross_val_score(model_poly3.fit(X_poly3,y), X_poly3, y, scoring= 'neg_mean_squared_error', cv=10)\n",
    "cv_values"
   ]
  },
  {
   "cell_type": "code",
   "execution_count": null,
   "id": "71659107",
   "metadata": {
    "scrolled": true
   },
   "outputs": [],
   "source": [
    "# Estimated test Mean Squared Error for the polynomial model of third degree based on CV\n",
    "\n",
    "np.round (cv_values.mean(), 2)"
   ]
  },
  {
   "cell_type": "markdown",
   "id": "25a71fc2",
   "metadata": {},
   "source": [
    "<br>\n",
    "\n",
    "What is this CV score telling us about the third degree poly when compared to the second degree poly?"
   ]
  }
 ],
 "metadata": {
  "kernelspec": {
   "display_name": "Python 3",
   "language": "python",
   "name": "python3"
  },
  "language_info": {
   "codemirror_mode": {
    "name": "ipython",
    "version": 3
   },
   "file_extension": ".py",
   "mimetype": "text/x-python",
   "name": "python",
   "nbconvert_exporter": "python",
   "pygments_lexer": "ipython3",
   "version": "3.8.8"
  }
 },
 "nbformat": 4,
 "nbformat_minor": 5
}
