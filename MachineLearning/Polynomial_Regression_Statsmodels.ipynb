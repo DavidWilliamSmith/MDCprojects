{
 "cells": [
  {
   "cell_type": "markdown",
   "id": "a44eef0e",
   "metadata": {},
   "source": [
    "### Polynomial Regression using Statsmodels\n",
    "\n",
    "<br>"
   ]
  },
  {
   "cell_type": "code",
   "execution_count": null,
   "id": "4d7f4244",
   "metadata": {},
   "outputs": [],
   "source": [
    "# Import useful libraries\n",
    "\n",
    "import pandas as pd\n",
    "import numpy as np\n",
    "import statsmodels.formula.api as smf\n",
    "import matplotlib.pyplot as plt"
   ]
  },
  {
   "cell_type": "code",
   "execution_count": null,
   "id": "f0d5553c",
   "metadata": {},
   "outputs": [],
   "source": [
    "Auto_df=pd.read_csv('C:\\\\Users\\\\jheredi2\\\\Documents\\\\PythonDataAnalytics\\\\1-Datasets\\\\Auto_ISLR.csv')"
   ]
  },
  {
   "cell_type": "markdown",
   "id": "0aeb3ae1",
   "metadata": {},
   "source": [
    "### Fitting a polynomial model of second degree for mpg based on horsepower"
   ]
  },
  {
   "cell_type": "code",
   "execution_count": null,
   "id": "e022bb05",
   "metadata": {},
   "outputs": [],
   "source": [
    "regression_object1=smf.ols('mpg~horsepower+I(horsepower**2)', data=Auto_df)"
   ]
  },
  {
   "cell_type": "code",
   "execution_count": null,
   "id": "412ab8ce",
   "metadata": {},
   "outputs": [],
   "source": [
    "regression_model1= regression_object1.fit()"
   ]
  },
  {
   "cell_type": "code",
   "execution_count": null,
   "id": "0fd659fb",
   "metadata": {},
   "outputs": [],
   "source": [
    "regression_model1.summary() "
   ]
  },
  {
   "cell_type": "markdown",
   "id": "ac146779",
   "metadata": {},
   "source": [
    "Use the predict() method to predict the value of mpg based on horsepower for the first five training observations "
   ]
  },
  {
   "cell_type": "code",
   "execution_count": null,
   "id": "867211b1",
   "metadata": {},
   "outputs": [],
   "source": [
    "regression_model1.predict()[0:5]"
   ]
  },
  {
   "cell_type": "markdown",
   "id": "2b9554d7",
   "metadata": {},
   "source": [
    "An alternative (LONGER!) way of getting the same predictions: writing out the equation with the coefficients"
   ]
  },
  {
   "cell_type": "code",
   "execution_count": null,
   "id": "f461460c",
   "metadata": {},
   "outputs": [],
   "source": [
    "regression_model1.params[0]+ regression_model1.params[1]*(Auto_df['horsepower'].values[0:5]) + regression_model1.params[2]*((Auto_df['horsepower'].values**2)[0:5])"
   ]
  },
  {
   "cell_type": "markdown",
   "id": "52464f9f",
   "metadata": {},
   "source": [
    "Use predict() to predict the value of mpg based on the polynomial equation for five NEW test observations.\n",
    "\n",
    "We need to generate five new values of horsepower. These values will be 100, 105, 110, 115, and 120."
   ]
  },
  {
   "cell_type": "code",
   "execution_count": null,
   "id": "153b3176",
   "metadata": {},
   "outputs": [],
   "source": [
    "regression_model1.predict({'horsepower':np.arange(100, 121,5)})"
   ]
  },
  {
   "cell_type": "markdown",
   "id": "70c7ed4b",
   "metadata": {},
   "source": [
    "### Evaluating the quality of the estimated polynomial equation\n",
    "\n",
    "R sq and Adj R sq were already obtained when the summary method() was applied.\n",
    "\n",
    "We might still be interested in computing the test error based on CV. Next ..."
   ]
  },
  {
   "cell_type": "markdown",
   "id": "9cb11eb8",
   "metadata": {},
   "source": [
    "__A basic implementation of CV for this problem__"
   ]
  },
  {
   "cell_type": "code",
   "execution_count": null,
   "id": "a626f7e2",
   "metadata": {},
   "outputs": [],
   "source": [
    "from sklearn.model_selection import KFold"
   ]
  },
  {
   "cell_type": "code",
   "execution_count": null,
   "id": "605898f9",
   "metadata": {},
   "outputs": [],
   "source": [
    "k10fold=KFold(n_splits=10, shuffle=False)"
   ]
  },
  {
   "cell_type": "markdown",
   "id": "71a11b10",
   "metadata": {},
   "source": [
    "The library KFold has a method called split() that we can use to generate the indexes needed to split\n",
    "the data in 10 groups."
   ]
  },
  {
   "cell_type": "code",
   "execution_count": null,
   "id": "18ea2637",
   "metadata": {},
   "outputs": [],
   "source": [
    "# Get an array with the indexes to use to split the data\n",
    "\n",
    "indexes= np.arange(len(Auto_df['mpg']))\n",
    "# The next two commands are to check that the array 'indexes' contains the indexes we want\n",
    "print(indexes[0:5])\n",
    "print(indexes[-5:])"
   ]
  },
  {
   "cell_type": "markdown",
   "id": "3f2057bd",
   "metadata": {},
   "source": [
    "Now, we create an empty array to save the Mean Squared Error resulting after each iteration of cross validation.\n",
    "\n",
    "The last step will be to get the mean of the values stored in this array."
   ]
  },
  {
   "cell_type": "markdown",
   "id": "c314f7c8",
   "metadata": {},
   "source": [
    "__Note__: Notice how in a previous loop that we did we did not create an empty array but an empty list.\n",
    "Then, we used the method append() to add each new element to the list after each loop iteration.\n",
    "\n",
    "__As practice__, you can try doing this loop using an empty list instead of an empty arrray!"
   ]
  },
  {
   "cell_type": "code",
   "execution_count": null,
   "id": "3e927c02",
   "metadata": {},
   "outputs": [],
   "source": [
    "cv_scores=np.empty(shape=10)"
   ]
  },
  {
   "cell_type": "code",
   "execution_count": null,
   "id": "e6e99ed3",
   "metadata": {},
   "outputs": [],
   "source": [
    "i=0\n",
    "for train_index, test_index in k10fold.split(indexes):\n",
    "    regression_model=smf.ols('mpg~horsepower+I(horsepower**2)', data=Auto_df.iloc[train_index,]).fit()\n",
    "    predictions=regression_model.predict(Auto_df['horsepower'][test_index])\n",
    "    # The next line computes the test Mean Squared Error for each iteration\n",
    "    cv_scores[i]=sum((Auto_df['mpg'][test_index] -predictions)**2)/(test_index.size)\n",
    "    i=i+1"
   ]
  },
  {
   "cell_type": "code",
   "execution_count": null,
   "id": "a10cdc71",
   "metadata": {
    "scrolled": true
   },
   "outputs": [],
   "source": [
    "cv_scores"
   ]
  },
  {
   "cell_type": "code",
   "execution_count": null,
   "id": "5b69ee85",
   "metadata": {
    "scrolled": true
   },
   "outputs": [],
   "source": [
    "np.round (cv_scores.mean(), 2)"
   ]
  },
  {
   "cell_type": "markdown",
   "id": "864d8bc8",
   "metadata": {},
   "source": [
    "This is the exact same CV error that we got when we applied scikit-learn !!!"
   ]
  },
  {
   "cell_type": "markdown",
   "id": "23e5a0a0",
   "metadata": {},
   "source": [
    "<br>\n",
    "\n",
    "__COMBINING PREDICTORS WITH POLYNOMIAL TERMS AND LINEAR TERMS__\n",
    "\n",
    "\n",
    "I think the __possibility of easily combining__ polynomial terms from one predictor and linear terms from others is one of the advantages of Statsmodels compared to Sciki-learn. \n",
    "\n",
    "<br>"
   ]
  },
  {
   "cell_type": "markdown",
   "id": "35a7a845",
   "metadata": {},
   "source": [
    "In the previous notebook we checked that a third degree polynomial based on horsepower does not improve a second degree\n",
    "polynomial.\n",
    "\n",
    "An interesting idea to pursue now is attempting to add a second variable to the second degree polynomial based on horsepower. Let's practice including an additional predictor linearly (= a first degree term only)"
   ]
  },
  {
   "cell_type": "markdown",
   "id": "83a296c1",
   "metadata": {},
   "source": [
    "What's a good choice to add as a second predictor to the second degree polynomial based on horsepower?\n",
    "\n",
    "Let's find a list of possible predictors that can be added:"
   ]
  },
  {
   "cell_type": "code",
   "execution_count": null,
   "id": "4c2e82f1",
   "metadata": {},
   "outputs": [],
   "source": [
    "Auto_df.columns"
   ]
  },
  {
   "cell_type": "markdown",
   "id": "000421dd",
   "metadata": {},
   "source": [
    "Now, we can create an __array with the column names__ of __POTENTIAL predictors__.\n",
    "\n",
    "Then, we can loop through this array to choose the best predictor to add to the polynomial based on horsepower.\n",
    "\n",
    "We are excluding the following columns from the column names array:\n",
    "\n",
    "'mpg' (Why is it being excluded)?\n",
    "\n",
    "'horsepower' (Why is it being excluded)?\n",
    "\n",
    "'name' (because it is a column with the car model name... useless for prediction purposes)\n",
    "\n",
    "'origin' (because it needs to be fixed and cleaned before being reading for processing. To avoid spending time of this cleaning, we are going to exclude it)"
   ]
  },
  {
   "cell_type": "code",
   "execution_count": null,
   "id": "446513c9",
   "metadata": {},
   "outputs": [],
   "source": [
    "columns_auto= Auto_df.columns.difference(['mpg','horsepower','name','origin'])\n",
    "columns_auto"
   ]
  },
  {
   "cell_type": "markdown",
   "id": "55bc3bdf",
   "metadata": {},
   "source": [
    "<br>\n",
    "\n",
    "__Question__: Among these five predictors, what's the best one to include to the polynomial model of second degree based on horsepower?\n",
    "\n",
    "__Answer__: When addded to the poly model based on horsepower, which one of these five variables produces the highest increase in R sq?.... (Why do I focus on Rsq here instead of on Adj R sq?)\n",
    "\n",
    "<br>"
   ]
  },
  {
   "cell_type": "markdown",
   "id": "1226e963",
   "metadata": {},
   "source": [
    "Let's create an empty, one column data frame to store the values of R sq for each model"
   ]
  },
  {
   "cell_type": "code",
   "execution_count": null,
   "id": "e06ac3d5",
   "metadata": {
    "scrolled": true
   },
   "outputs": [],
   "source": [
    "data_out= pd.DataFrame({'R sq':np.empty(shape=5)}, index=list(columns_auto))\n",
    "data_out"
   ]
  },
  {
   "cell_type": "markdown",
   "id": "00ecdeaa",
   "metadata": {},
   "source": [
    "The following loop tests the model that combines the second degree poly on horsepower and each of the predictors.\n",
    "\n",
    "At each iteration, the R sq for each model is recorded."
   ]
  },
  {
   "cell_type": "code",
   "execution_count": null,
   "id": "29ff006b",
   "metadata": {},
   "outputs": [],
   "source": [
    "for i in columns_auto:\n",
    "    regression_object=smf.ols('mpg~horsepower+I(horsepower**2)'+ '+' + i, data=Auto_df)\n",
    "    model=regression_object.fit()\n",
    "    data_out.loc[i,]=model.rsquared"
   ]
  },
  {
   "cell_type": "code",
   "execution_count": null,
   "id": "5a4bbab0",
   "metadata": {},
   "outputs": [],
   "source": [
    "data_out"
   ]
  },
  {
   "cell_type": "code",
   "execution_count": null,
   "id": "23676d33",
   "metadata": {},
   "outputs": [],
   "source": [
    "data_out.loc[data_out['R sq']== max(data_out['R sq'])]"
   ]
  },
  {
   "cell_type": "markdown",
   "id": "f6b9ef9b",
   "metadata": {},
   "source": [
    "The highest R sq is for the model that combines the polynomial of second degree on horsepower together with the linear term of year."
   ]
  },
  {
   "cell_type": "code",
   "execution_count": null,
   "id": "83181dee",
   "metadata": {},
   "outputs": [],
   "source": [
    "regression_object2=smf.ols('mpg~horsepower+I(horsepower**2)+year', data=Auto_df)"
   ]
  },
  {
   "cell_type": "code",
   "execution_count": null,
   "id": "4f4f2ac7",
   "metadata": {},
   "outputs": [],
   "source": [
    "regression_model2=regression_object2.fit()"
   ]
  },
  {
   "cell_type": "code",
   "execution_count": null,
   "id": "cb4f18a6",
   "metadata": {},
   "outputs": [],
   "source": [
    "regression_model2.summary()"
   ]
  },
  {
   "cell_type": "markdown",
   "id": "8d20a30d",
   "metadata": {},
   "source": [
    "<br>\n",
    "It seems that adding the linear term of year to the poly model based on horsepower produces a valuable increase.\n",
    "\n",
    "Adj R squared is 77.4 %, compared to 68.6% for the the poly model based on horsepower."
   ]
  },
  {
   "cell_type": "markdown",
   "id": "372e2796",
   "metadata": {},
   "source": [
    "<br>\n",
    "If you want to be more certain that there is practical value in adding year to the poly model, you may apply\n",
    "CV to find out if the test prediction error shows a reduction.\n",
    "\n",
    "__DO INDEPENDENTLY IF INTERESTED!__"
   ]
  },
  {
   "cell_type": "markdown",
   "id": "3c7c388c",
   "metadata": {},
   "source": [
    "<br>\n",
    "\n",
    "__LAST QUESTION:__\n",
    "\n",
    "Does it make sense to include year in the previous equation only with a linear term or with both a linear\n",
    "and quadratic term?\n",
    "\n",
    "Estimated mpg= bo + b1 * horsepower + b2 * (horsepower)^2 + b3 * year\n",
    "\n",
    "or ...\n",
    "\n",
    "Estimated mpg= bo + b1 * horsepower + b2 * (horsepower)^2 + b3 * year + b4 * (year)^2"
   ]
  },
  {
   "cell_type": "markdown",
   "id": "4dc32352",
   "metadata": {},
   "source": [
    "<br>\n",
    "This question is asking if  “it makes sense...\". To know if that proposition even makes sense, you can do a plot of the residuals of the previous equation versus the variable in question (year in this case) to see if a quadratic term seems reasonable.\n",
    "\n",
    "Do a plot of the residuals versus year"
   ]
  },
  {
   "cell_type": "code",
   "execution_count": null,
   "id": "e1699f12",
   "metadata": {},
   "outputs": [],
   "source": [
    "plt.style.use('seaborn')\n",
    "\n",
    "plt.scatter(Auto_df['year'], Auto_df['mpg']-regression_model2.predict() ,c='blue',marker='o')\n",
    "\n",
    "plt.xlabel(\"Year\")\n",
    "\n",
    "plt.ylabel(\"Residuals\")\n",
    "\n",
    "plt.axhline(0,c='red',ls='--')\n",
    "\n",
    "plt.show()"
   ]
  }
 ],
 "metadata": {
  "kernelspec": {
   "display_name": "Python 3",
   "language": "python",
   "name": "python3"
  },
  "language_info": {
   "codemirror_mode": {
    "name": "ipython",
    "version": 3
   },
   "file_extension": ".py",
   "mimetype": "text/x-python",
   "name": "python",
   "nbconvert_exporter": "python",
   "pygments_lexer": "ipython3",
   "version": "3.8.8"
  }
 },
 "nbformat": 4,
 "nbformat_minor": 5
}
