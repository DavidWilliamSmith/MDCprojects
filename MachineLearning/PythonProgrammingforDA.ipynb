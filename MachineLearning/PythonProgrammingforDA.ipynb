{
 "cells": [
  {
   "cell_type": "code",
   "execution_count": 1,
   "id": "83c177cf",
   "metadata": {},
   "outputs": [],
   "source": [
    "import numpy as np\n",
    "import pandas as pd"
   ]
  },
  {
   "cell_type": "markdown",
   "id": "acada650",
   "metadata": {},
   "source": [
    "# Intro"
   ]
  },
  {
   "cell_type": "markdown",
   "id": "81c4ade6",
   "metadata": {},
   "source": [
    "In this notebook, we go over a few  __programming building blocks__ that could be helpful when you use Python for Data Analytics tasks."
   ]
  },
  {
   "cell_type": "markdown",
   "id": "f280981e",
   "metadata": {},
   "source": [
    "# Writing a Python function"
   ]
  },
  {
   "cell_type": "markdown",
   "id": "2b0ee072",
   "metadata": {},
   "source": [
    "__When should we write a Python function?__\n",
    "\n",
    "Whenever we notice that we need to re-utilize the same code chunks many times. If we notice that we need the same lines of code in different analyses, we could write a function to encapsulate the logic contained in this code and then re-aply it easily!\n",
    "\n",
    "We will see multiple situations in the two ML classes where we could write a function because we re-use the same code logic multiple times with different datasets or with the same dataset but in different circumstances."
   ]
  },
  {
   "cell_type": "markdown",
   "id": "82629fa6",
   "metadata": {},
   "source": [
    "__How to define a function?__\n",
    "\n",
    "https://www.programiz.com/python-programming/function"
   ]
  },
  {
   "cell_type": "markdown",
   "id": "87782be9",
   "metadata": {},
   "source": [
    "Syntax of a function definition:\n",
    "\n",
    "def function_name(parameters):\n",
    ">\"\"\"docstring\"\"\"<br>\n",
    ">Python statements<br>\n",
    ">return () or print ()"
   ]
  },
  {
   "cell_type": "markdown",
   "id": "8bd8364f",
   "metadata": {},
   "source": [
    "__A function definition consists of the following components__ (according to the previous website):\n",
    "\n",
    "- Keyword __def__ that marks the start of the function header\n",
    "- The function name that we want to give to the function\n",
    "- Parameters through which we pass values to a function. Some functions do not take any parameters\n",
    "- A colon (:) to mark the end of the function header\n",
    "- Optional documentation string (docstring) to describe what the function does\n",
    "- One or more valid python statements that make up the function body. Statements must be indented (using the tab key)\n",
    "- A return or a print statement to return/print a value from the function"
   ]
  },
  {
   "cell_type": "markdown",
   "id": "a6886e57",
   "metadata": {},
   "source": [
    "__Example__:Define a function that computes the euclidean distance between two arrays"
   ]
  },
  {
   "cell_type": "code",
   "execution_count": 112,
   "id": "91dc03d0",
   "metadata": {},
   "outputs": [],
   "source": [
    "def my_euclidean_dist_calculator(x,y):\n",
    "    return np.round (np.sqrt(np.sum(np.square(x-y))), 2)"
   ]
  },
  {
   "cell_type": "markdown",
   "id": "04f6094c",
   "metadata": {},
   "source": [
    "An alternative to the previous function definition is:\n",
    "\n",
    "def my_euclidean_dist_calculator(x,y):\\\n",
    "&emsp;out= np.round (np.sqrt(np.sum(np.square(x-y))), 2)\\\n",
    "&emsp;return out"
   ]
  },
  {
   "cell_type": "code",
   "execution_count": 6,
   "id": "e091e3e7",
   "metadata": {},
   "outputs": [],
   "source": [
    "array1= np.array([1,1,1,1])\n",
    "array2= np.array([1,-1,0,0])"
   ]
  },
  {
   "cell_type": "code",
   "execution_count": 7,
   "id": "2a19e904",
   "metadata": {},
   "outputs": [
    {
     "data": {
      "text/plain": [
       "2.45"
      ]
     },
     "execution_count": 7,
     "metadata": {},
     "output_type": "execute_result"
    }
   ],
   "source": [
    "# Calling the newly defined my_euclidean_dist_calculator function\n",
    "\n",
    "my_euclidean_dist_calculator(array1, array2)"
   ]
  },
  {
   "cell_type": "markdown",
   "id": "c32ec108",
   "metadata": {},
   "source": [
    "When a function returns a value (or values), you can assign the results of the function to an object and then keep doing operations on this object. See next example:"
   ]
  },
  {
   "cell_type": "code",
   "execution_count": 8,
   "id": "9ff7d702",
   "metadata": {},
   "outputs": [
    {
     "name": "stdout",
     "output_type": "stream",
     "text": [
      "Long distance\n"
     ]
    }
   ],
   "source": [
    "distance_value= my_euclidean_dist_calculator(array1, array2)\n",
    "\n",
    "if distance_value < 1:\n",
    "    print ('Short distance')\n",
    "else:\n",
    "    print ('Long distance')"
   ]
  },
  {
   "cell_type": "markdown",
   "id": "d4d11b36",
   "metadata": {},
   "source": [
    "__Example__: Define a function that obtains a __confusion matrix__ from two arrays: one with the actual values of Y and a second one with the predicted values of Y given by a ML algorithm. Y is a binary dependent (outcome) variable.\n",
    "\n",
    "For a reminder of what a confusion matrix is, follow this link:\n",
    "\n",
    "https://docs.google.com/presentation/d/11-hEfhOYDwwyZvy2as3QyTDW0VWrJdmb3SYs7flwatY/edit?usp=sharing"
   ]
  },
  {
   "cell_type": "code",
   "execution_count": 12,
   "id": "42559db2",
   "metadata": {},
   "outputs": [],
   "source": [
    "def my_confusion_matrix (y_actual, y_predicted):\n",
    "    \"\"\"\n",
    "    This function computes the confusion matrix based on ...\n",
    "    more text\n",
    "    more text\n",
    "    \"\"\"\n",
    "    confusion_table = pd.crosstab(y_actual, y_predicted)\n",
    "    confusion_table.index.name = 'Actual'\n",
    "    confusion_table.columns.name = 'Predicted'\n",
    "    confusion_table['Row Total']= confusion_table.sum(axis=1)\n",
    "    confusion_table.loc['Column Total'] = confusion_table.sum(axis = 0)\n",
    "    return (confusion_table)"
   ]
  },
  {
   "cell_type": "code",
   "execution_count": 13,
   "id": "c8f1beb3",
   "metadata": {},
   "outputs": [
    {
     "name": "stdout",
     "output_type": "stream",
     "text": [
      "Help on function my_confusion_matrix in module __main__:\n",
      "\n",
      "my_confusion_matrix(y_actual, y_predicted)\n",
      "    This function computes the confusion matrix based on ...\n",
      "    more text\n",
      "    more text\n",
      "\n"
     ]
    }
   ],
   "source": [
    "# The documentation that we create when we write a function can be printed by calling the method help()\n",
    "\n",
    "help(my_confusion_matrix)"
   ]
  },
  {
   "cell_type": "markdown",
   "id": "10c738de",
   "metadata": {},
   "source": [
    "Let's test my_confusion_matrix() function"
   ]
  },
  {
   "cell_type": "markdown",
   "id": "5592877c",
   "metadata": {},
   "source": [
    "First, generate simulated values for a binary Y variable"
   ]
  },
  {
   "cell_type": "code",
   "execution_count": 14,
   "id": "0c71e72e",
   "metadata": {
    "scrolled": true
   },
   "outputs": [
    {
     "data": {
      "text/plain": [
       "array([1, 1, 0, 0, 1, 1, 1, 1, 1, 0, 0, 1, 0, 1, 1, 0, 0, 1, 0, 0, 0, 1,\n",
       "       0, 0, 1, 0, 0, 0, 1, 0, 0, 0, 1, 1, 1, 1, 1, 0, 0, 0, 1, 1, 1, 1,\n",
       "       1, 1, 0, 1, 1, 0, 0, 1, 0, 0, 1, 1, 1, 0, 1, 0, 0, 1, 1, 0, 1, 1,\n",
       "       1, 1, 0, 0, 1, 1, 0, 0, 0, 0, 1, 1, 1, 0, 1, 0, 0, 1, 1, 0, 1, 1,\n",
       "       0, 1, 0, 0, 1, 1, 1, 0, 1, 1, 0, 1])"
      ]
     },
     "execution_count": 14,
     "metadata": {},
     "output_type": "execute_result"
    }
   ],
   "source": [
    "np.random.seed(seed= 1)\n",
    "y_values= np.random.randint(0,2,size=100)\n",
    "y_values"
   ]
  },
  {
   "cell_type": "markdown",
   "id": "1356d35c",
   "metadata": {},
   "source": [
    "Generate predicted values of Y (that mostly (~ 90% of the times) coincide with the values in y_values)\n",
    "\n",
    "__DO NOT EXPLAIN THE FOLLOWING TWO CODE CHUNKS. NOT IMPORTANT TO UNDERSTAND NOW!!!__"
   ]
  },
  {
   "cell_type": "code",
   "execution_count": 15,
   "id": "0fa4698a",
   "metadata": {},
   "outputs": [
    {
     "data": {
      "text/plain": [
       "array([ True,  True,  True,  True,  True,  True,  True,  True,  True,\n",
       "        True,  True,  True,  True,  True,  True,  True,  True,  True,\n",
       "        True,  True,  True, False,  True,  True,  True,  True,  True,\n",
       "        True,  True,  True,  True,  True, False,  True,  True,  True,\n",
       "        True,  True,  True,  True, False,  True,  True,  True,  True,\n",
       "        True, False,  True,  True,  True,  True,  True,  True,  True,\n",
       "        True,  True,  True,  True,  True,  True,  True,  True,  True,\n",
       "        True,  True,  True,  True,  True, False,  True, False,  True,\n",
       "        True,  True,  True,  True, False,  True,  True,  True,  True,\n",
       "        True,  True,  True,  True,  True,  True, False,  True,  True,\n",
       "        True, False,  True,  True,  True,  True, False,  True,  True,\n",
       "        True])"
      ]
     },
     "execution_count": 15,
     "metadata": {},
     "output_type": "execute_result"
    }
   ],
   "source": [
    "np.random.seed(seed= 1)\n",
    "\n",
    "threshold= np.random.uniform(low=0, high=1, size= 100)\n",
    "\n",
    "threshold <0.9"
   ]
  },
  {
   "cell_type": "code",
   "execution_count": 16,
   "id": "d72f961e",
   "metadata": {},
   "outputs": [
    {
     "data": {
      "text/plain": [
       "array([1, 1, 0, 0, 1, 1, 1, 1, 1, 0, 0, 1, 0, 1, 1, 0, 0, 1, 0, 0, 0, 0,\n",
       "       0, 0, 1, 0, 0, 0, 1, 0, 0, 0, 0, 1, 1, 1, 1, 0, 0, 0, 0, 1, 1, 1,\n",
       "       1, 1, 0, 1, 1, 0, 0, 1, 0, 0, 1, 1, 1, 0, 1, 0, 0, 1, 1, 0, 1, 1,\n",
       "       1, 1, 0, 0, 0, 1, 0, 0, 0, 0, 0, 1, 1, 0, 1, 0, 0, 1, 1, 0, 1, 0,\n",
       "       0, 1, 0, 0, 1, 1, 1, 0, 0, 1, 0, 1])"
      ]
     },
     "execution_count": 16,
     "metadata": {},
     "output_type": "execute_result"
    }
   ],
   "source": [
    "y_predictions= (threshold <0.9) * y_values\n",
    "\n",
    "y_predictions"
   ]
  },
  {
   "cell_type": "code",
   "execution_count": 17,
   "id": "467f5aa7",
   "metadata": {
    "scrolled": true
   },
   "outputs": [
    {
     "data": {
      "text/html": [
       "<div>\n",
       "<style scoped>\n",
       "    .dataframe tbody tr th:only-of-type {\n",
       "        vertical-align: middle;\n",
       "    }\n",
       "\n",
       "    .dataframe tbody tr th {\n",
       "        vertical-align: top;\n",
       "    }\n",
       "\n",
       "    .dataframe thead th {\n",
       "        text-align: right;\n",
       "    }\n",
       "</style>\n",
       "<table border=\"1\" class=\"dataframe\">\n",
       "  <thead>\n",
       "    <tr style=\"text-align: right;\">\n",
       "      <th>Predicted</th>\n",
       "      <th>0</th>\n",
       "      <th>1</th>\n",
       "      <th>Row Total</th>\n",
       "    </tr>\n",
       "    <tr>\n",
       "      <th>Actual</th>\n",
       "      <th></th>\n",
       "      <th></th>\n",
       "      <th></th>\n",
       "    </tr>\n",
       "  </thead>\n",
       "  <tbody>\n",
       "    <tr>\n",
       "      <th>0</th>\n",
       "      <td>45</td>\n",
       "      <td>0</td>\n",
       "      <td>45</td>\n",
       "    </tr>\n",
       "    <tr>\n",
       "      <th>1</th>\n",
       "      <td>7</td>\n",
       "      <td>48</td>\n",
       "      <td>55</td>\n",
       "    </tr>\n",
       "    <tr>\n",
       "      <th>Column Total</th>\n",
       "      <td>52</td>\n",
       "      <td>48</td>\n",
       "      <td>100</td>\n",
       "    </tr>\n",
       "  </tbody>\n",
       "</table>\n",
       "</div>"
      ],
      "text/plain": [
       "Predicted      0   1  Row Total\n",
       "Actual                         \n",
       "0             45   0         45\n",
       "1              7  48         55\n",
       "Column Total  52  48        100"
      ]
     },
     "execution_count": 17,
     "metadata": {},
     "output_type": "execute_result"
    }
   ],
   "source": [
    "# Calling my_confusion_matrix() function to obtain a confusion matrix with the data in y_values and y_predictions\n",
    "\n",
    "my_confusion_matrix (y_values, y_predictions)"
   ]
  },
  {
   "cell_type": "markdown",
   "id": "5183b2e8",
   "metadata": {},
   "source": [
    "As we did before, we can save the output of applying the my_confusion_matrix () function in a variable and use this variable to do further analyses. For example, we can use this variable to easily retrieve the different cells of the confusion matrix. See next:                                            "
   ]
  },
  {
   "cell_type": "code",
   "execution_count": 18,
   "id": "12fb3688",
   "metadata": {},
   "outputs": [],
   "source": [
    "confusion_matrix1 = my_confusion_matrix (y_values, y_predictions)"
   ]
  },
  {
   "cell_type": "markdown",
   "id": "980b4974",
   "metadata": {},
   "source": [
    "Let's get the number of true negative and true positives from the confusion matrix"
   ]
  },
  {
   "cell_type": "code",
   "execution_count": 19,
   "id": "cf71510d",
   "metadata": {},
   "outputs": [
    {
     "data": {
      "text/plain": [
       "45"
      ]
     },
     "execution_count": 19,
     "metadata": {},
     "output_type": "execute_result"
    }
   ],
   "source": [
    "# True negative\n",
    "\n",
    "confusion_matrix1.iloc[0,0]"
   ]
  },
  {
   "cell_type": "code",
   "execution_count": 20,
   "id": "e704771f",
   "metadata": {},
   "outputs": [
    {
     "data": {
      "text/plain": [
       "48"
      ]
     },
     "execution_count": 20,
     "metadata": {},
     "output_type": "execute_result"
    }
   ],
   "source": [
    "# True positive\n",
    "\n",
    "confusion_matrix1.iloc[1,1]"
   ]
  },
  {
   "cell_type": "code",
   "execution_count": 21,
   "id": "4d5855aa",
   "metadata": {},
   "outputs": [],
   "source": [
    "# A different version of the previous function, where instead of returning a value, something gets printed\n",
    "\n",
    "def my_confusion_matrix_ver2 (y_actual, y_predicted):\n",
    "    \"\"\"\n",
    "    This function computes the confusion matrix\n",
    "    ...\n",
    "    ...\n",
    "    \"\"\"\n",
    "    confusion_table = pd.crosstab(y_actual, y_predicted)\n",
    "    confusion_table.index.name = 'Actual'\n",
    "    confusion_table.columns.name = 'Predicted'\n",
    "    confusion_table['Row Total']= confusion_table.sum(axis=1)\n",
    "    confusion_table.loc['Column Total'] = confusion_table.sum(axis = 0)\n",
    "    print('     Confusion Matrix')\n",
    "    print ()\n",
    "    print (confusion_table)"
   ]
  },
  {
   "cell_type": "code",
   "execution_count": 22,
   "id": "6bc6722e",
   "metadata": {},
   "outputs": [
    {
     "name": "stdout",
     "output_type": "stream",
     "text": [
      "     Confusion Matrix\n",
      "\n",
      "Predicted      0   1  Row Total\n",
      "Actual                         \n",
      "0             45   0         45\n",
      "1              7  48         55\n",
      "Column Total  52  48        100\n"
     ]
    }
   ],
   "source": [
    "my_confusion_matrix_ver2 (y_values, y_predictions)"
   ]
  },
  {
   "cell_type": "markdown",
   "id": "fb9747b6",
   "metadata": {},
   "source": [
    "### How to re-use a self-created function in other notebooks?\n",
    "\n",
    "For example, how can we call and use the functions we wrote above (my_euclidean_dist_calculator and my_confusion_matrix) in other notebooks that we open?\n",
    "\n",
    "Visit this webpage for a short explanation:\n",
    "\n",
    "https://problemsolvingwithpython.com/07-Functions-and-Modules/07.05-Calling-Functions-from-Other-Files/\n",
    "\n",
    "\n",
    "Let's do a demonstration of how to do it!"
   ]
  },
  {
   "cell_type": "markdown",
   "id": "5ca9cb6b",
   "metadata": {},
   "source": [
    "# How to loop through different data structures"
   ]
  },
  {
   "cell_type": "markdown",
   "id": "e4c68013",
   "metadata": {},
   "source": [
    "We will only review For Loops (While Loops and For Loops are _usually_ interchangeable)"
   ]
  },
  {
   "cell_type": "markdown",
   "id": "00090e18",
   "metadata": {},
   "source": [
    "__One the most basic things you can do with a loop__ is to \"visit\" each element of a unidimensional data structure (e.g., a unidimensional array, a list) and use each element to trigger some action.\n",
    "\n",
    "Example 1: Print each value from an array"
   ]
  },
  {
   "cell_type": "code",
   "execution_count": 2,
   "id": "347b390d",
   "metadata": {},
   "outputs": [],
   "source": [
    "# Let's creat an array of random numbers first\n",
    "\n",
    "np.random.seed(seed= 1)\n",
    "array_x= np.random.randint(0,21, 10)"
   ]
  },
  {
   "cell_type": "code",
   "execution_count": 3,
   "id": "c503b9c2",
   "metadata": {},
   "outputs": [
    {
     "name": "stdout",
     "output_type": "stream",
     "text": [
      "5\n",
      "11\n",
      "12\n",
      "8\n",
      "9\n",
      "11\n",
      "5\n",
      "15\n",
      "0\n",
      "16\n"
     ]
    }
   ],
   "source": [
    "# Let's print each value from array_x\n",
    "\n",
    "for element in array_x:\n",
    "    print (element)"
   ]
  },
  {
   "cell_type": "markdown",
   "id": "94cb755b",
   "metadata": {},
   "source": [
    "Remember to indent the body of a Foor loop. Any code inside the foor loop must be indented. You can indent it using one Tab."
   ]
  },
  {
   "cell_type": "markdown",
   "id": "2dfc5e65",
   "metadata": {},
   "source": [
    "Example 2: Print whether each value of an array is even or odd"
   ]
  },
  {
   "cell_type": "markdown",
   "id": "ba2139fa",
   "metadata": {},
   "source": [
    "In the previous loop we used the variable 'element' as the __loop variable__ (the one which value changes after each iteration of the loop)\n",
    "\n",
    "However, it is customary to use single words to name the loop variable. For example, 'i', 'j', 'k', etc."
   ]
  },
  {
   "cell_type": "code",
   "execution_count": 4,
   "id": "6a68212d",
   "metadata": {},
   "outputs": [
    {
     "name": "stdout",
     "output_type": "stream",
     "text": [
      "odd\n",
      "odd\n",
      "even\n",
      "even\n",
      "odd\n",
      "odd\n",
      "odd\n",
      "odd\n",
      "even\n",
      "even\n"
     ]
    }
   ],
   "source": [
    "# Note: Explain the indentation in this loop\n",
    "\n",
    "for i in array_x:\n",
    "    if i%2==0:\n",
    "        print('even')\n",
    "    else:\n",
    "        print ('odd')"
   ]
  },
  {
   "cell_type": "markdown",
   "id": "b90ee791",
   "metadata": {},
   "source": [
    "When writing conditional statements (e.g., IF-ELSE structures), the body of these statements must be indended too."
   ]
  },
  {
   "cell_type": "markdown",
   "id": "dd01b16b",
   "metadata": {},
   "source": [
    "__Another thing you can do with a loop__ is to visit each element of a unidimensional structure and stop the search once something happens (e.g., once you find a number)"
   ]
  },
  {
   "cell_type": "markdown",
   "id": "bd85a4df",
   "metadata": {},
   "source": [
    "Example: Find whether the number 12 is in array_x\n",
    "\n",
    "__Note__: You do not need a loop to do this (see below for a non-loop alternative), but we are going to use a loop to practice."
   ]
  },
  {
   "cell_type": "code",
   "execution_count": 6,
   "id": "54732fd9",
   "metadata": {},
   "outputs": [
    {
     "name": "stdout",
     "output_type": "stream",
     "text": [
      "5\n",
      "11\n",
      "12\n",
      "The number was found\n"
     ]
    }
   ],
   "source": [
    "# Version 1\n",
    "\n",
    "for number in array_x:\n",
    "    print (number) # printing each element is optional. No needed to satisfy what is being asked.\n",
    "    if number==12:\n",
    "        print ('The number was found')\n",
    "        break"
   ]
  },
  {
   "cell_type": "code",
   "execution_count": 10,
   "id": "0466e6ae",
   "metadata": {},
   "outputs": [
    {
     "name": "stdout",
     "output_type": "stream",
     "text": [
      "5\n",
      "11\n",
      "12\n",
      "8\n",
      "9\n",
      "11\n",
      "5\n",
      "15\n",
      "0\n",
      "16\n",
      "The number was not found\n"
     ]
    }
   ],
   "source": [
    "# Not so important to understand this version. More important to understand version 1.\n",
    "# Version 2: It is better than version 1 because it tells us when the number is not found\n",
    "# Try it with 12 (which is in the array) and then with 20 (which is not)\n",
    "\n",
    "count=0\n",
    "for number in array_x:\n",
    "    count +=1\n",
    "    print (number)\n",
    "    if number==20:\n",
    "        print ('The number was found')\n",
    "        break\n",
    "if count==array_x.size: # this conditional should not be inside the loop. Only needs to be checked after loop is done\n",
    "    print ('The number was not found')"
   ]
  },
  {
   "cell_type": "markdown",
   "id": "f6c7118f",
   "metadata": {},
   "source": [
    "How to check if a number is in an array WITHOUT using a loop"
   ]
  },
  {
   "cell_type": "code",
   "execution_count": 14,
   "id": "eef23fe6",
   "metadata": {},
   "outputs": [
    {
     "data": {
      "text/plain": [
       "True"
      ]
     },
     "execution_count": 14,
     "metadata": {},
     "output_type": "execute_result"
    }
   ],
   "source": [
    "# Check if 12 is in array_x\n",
    "\n",
    "np.any(array_x==12)"
   ]
  },
  {
   "cell_type": "code",
   "execution_count": 15,
   "id": "fc7896cc",
   "metadata": {},
   "outputs": [
    {
     "data": {
      "text/plain": [
       "False"
      ]
     },
     "execution_count": 15,
     "metadata": {},
     "output_type": "execute_result"
    }
   ],
   "source": [
    "# Check if 20 is in array_x\n",
    "\n",
    "np.any(array_x==20)"
   ]
  },
  {
   "cell_type": "markdown",
   "id": "e142be7f",
   "metadata": {},
   "source": [
    "__EACH OF YOU WORK ON THIS FOR A COUPLE OF MINUTES__: \n",
    "\n",
    "__Use the function np.any()__ to write a conditional statement that returns the message 'The number was found' if the number is in the array. Otherwise, return the message 'The number was not found'"
   ]
  },
  {
   "cell_type": "code",
   "execution_count": 20,
   "id": "c76ee24b",
   "metadata": {},
   "outputs": [],
   "source": [
    "# DO IT HERE\n"
   ]
  },
  {
   "cell_type": "markdown",
   "id": "8450be7f",
   "metadata": {},
   "source": [
    "__Another thing you can do with a loop__ is to loop through the positions of a unidimensional structure. The previous loops looped through the elements of the array, but you can also loop through the positions. Sometimes you might care about the positions, but not the elements of the array."
   ]
  },
  {
   "cell_type": "markdown",
   "id": "321d14fa",
   "metadata": {},
   "source": [
    "Example, write a loop to return the index at which an element is at in an array.\n",
    "\n",
    "__Note__: You do not need a loop to do this (see below for a non-loop alternative), but we are going to use a loop to practice."
   ]
  },
  {
   "cell_type": "code",
   "execution_count": 30,
   "id": "84edecf8",
   "metadata": {
    "scrolled": true
   },
   "outputs": [
    {
     "data": {
      "text/plain": [
       "array([ 5, 11, 12,  8,  9, 11,  5, 15,  0, 16])"
      ]
     },
     "execution_count": 30,
     "metadata": {},
     "output_type": "execute_result"
    }
   ],
   "source": [
    "array_x"
   ]
  },
  {
   "cell_type": "code",
   "execution_count": 62,
   "id": "0f6763bf",
   "metadata": {},
   "outputs": [
    {
     "name": "stdout",
     "output_type": "stream",
     "text": [
      "The number was not found\n"
     ]
    }
   ],
   "source": [
    "Notfound= True\n",
    "for position in np.arange(array_x.size): # np.arange(array_x.size) returns this sequence: 0, 1, ... (size -1)\n",
    "    if array_x[position]==20:\n",
    "        print ('The number was found at index',':',position)\n",
    "        Notfound= False\n",
    "        break\n",
    "if Notfound:\n",
    "    print ('The number was not found')"
   ]
  },
  {
   "cell_type": "markdown",
   "id": "f5ea7e0d",
   "metadata": {},
   "source": [
    "To loop through the positions of a unidimensional structure, one handy function is enumerate(), which returns a tuple for each value of the array (or list). Each tuple contains the index and the value."
   ]
  },
  {
   "cell_type": "code",
   "execution_count": 43,
   "id": "05df6301",
   "metadata": {},
   "outputs": [
    {
     "name": "stdout",
     "output_type": "stream",
     "text": [
      "(0, 5)\n",
      "(1, 11)\n",
      "(2, 12)\n",
      "(3, 8)\n",
      "(4, 9)\n",
      "(5, 11)\n",
      "(6, 5)\n",
      "(7, 15)\n",
      "(8, 0)\n",
      "(9, 16)\n"
     ]
    }
   ],
   "source": [
    "for i in enumerate(array_x):\n",
    "    print(i)"
   ]
  },
  {
   "cell_type": "markdown",
   "id": "484e12d6",
   "metadata": {},
   "source": [
    "So, we could loop through the results of enumerate() and, for each position of an array, get the index, the value, or both if we want to. See next:"
   ]
  },
  {
   "cell_type": "code",
   "execution_count": 48,
   "id": "2fdfae5f",
   "metadata": {},
   "outputs": [
    {
     "name": "stdout",
     "output_type": "stream",
     "text": [
      "0 , 5\n",
      "1 , 11\n",
      "2 , 12\n",
      "3 , 8\n",
      "4 , 9\n",
      "5 , 11\n",
      "6 , 5\n",
      "7 , 15\n",
      "8 , 0\n",
      "9 , 16\n"
     ]
    }
   ],
   "source": [
    "for index,value in enumerate(array_x):\n",
    "    print(index,',', value)"
   ]
  },
  {
   "cell_type": "markdown",
   "id": "2f36e1b2",
   "metadata": {},
   "source": [
    "Now let's use enumerate() to returns the index at which an element is at in an array."
   ]
  },
  {
   "cell_type": "code",
   "execution_count": 78,
   "id": "d3eaca48",
   "metadata": {},
   "outputs": [
    {
     "name": "stdout",
     "output_type": "stream",
     "text": [
      "The number was found at index : 9\n"
     ]
    }
   ],
   "source": [
    "Notfound= True\n",
    "for index, value in enumerate(array_x):\n",
    "    if value==16:\n",
    "        print ('The number was found at index',':', index)\n",
    "        Notfound= False\n",
    "        break\n",
    "if Notfound: # this conditional does not need to be inside the loop\n",
    "    print ('The number was not found')"
   ]
  },
  {
   "cell_type": "markdown",
   "id": "52d36a4e",
   "metadata": {},
   "source": [
    "How to get the index of a number in an array WITHOUT using a loop"
   ]
  },
  {
   "cell_type": "code",
   "execution_count": 79,
   "id": "d2e336d2",
   "metadata": {},
   "outputs": [
    {
     "data": {
      "text/plain": [
       "(array([9], dtype=int64),)"
      ]
     },
     "execution_count": 79,
     "metadata": {},
     "output_type": "execute_result"
    }
   ],
   "source": [
    "# Get the index where 16 is at\n",
    "\n",
    "np.where(array_x==16)"
   ]
  },
  {
   "cell_type": "code",
   "execution_count": 80,
   "id": "aa4c5e64",
   "metadata": {},
   "outputs": [
    {
     "data": {
      "text/plain": [
       "array([9], dtype=int64)"
      ]
     },
     "execution_count": 80,
     "metadata": {},
     "output_type": "execute_result"
    }
   ],
   "source": [
    "np.where(array_x==16)[0]"
   ]
  },
  {
   "cell_type": "code",
   "execution_count": 81,
   "id": "8bd3c774",
   "metadata": {},
   "outputs": [
    {
     "data": {
      "text/plain": [
       "array([], dtype=int64)"
      ]
     },
     "execution_count": 81,
     "metadata": {},
     "output_type": "execute_result"
    }
   ],
   "source": [
    "# Check if 20 is in array_x\n",
    "\n",
    "np.where(array_x==20)[0]"
   ]
  },
  {
   "cell_type": "markdown",
   "id": "5099b1ba",
   "metadata": {},
   "source": [
    "An alternative to using np.where() is to convert the array to a list and apply the .index() method"
   ]
  },
  {
   "cell_type": "code",
   "execution_count": 82,
   "id": "bf896cc9",
   "metadata": {},
   "outputs": [
    {
     "data": {
      "text/plain": [
       "9"
      ]
     },
     "execution_count": 82,
     "metadata": {},
     "output_type": "execute_result"
    }
   ],
   "source": [
    "list(array_x).index(16)"
   ]
  },
  {
   "cell_type": "code",
   "execution_count": 83,
   "id": "fb8df48b",
   "metadata": {},
   "outputs": [
    {
     "ename": "ValueError",
     "evalue": "20 is not in list",
     "output_type": "error",
     "traceback": [
      "\u001b[1;31m---------------------------------------------------------------------------\u001b[0m",
      "\u001b[1;31mValueError\u001b[0m                                Traceback (most recent call last)",
      "\u001b[1;32m<ipython-input-83-cb6e30c2b823>\u001b[0m in \u001b[0;36m<module>\u001b[1;34m\u001b[0m\n\u001b[1;32m----> 1\u001b[1;33m \u001b[0mlist\u001b[0m\u001b[1;33m(\u001b[0m\u001b[0marray_x\u001b[0m\u001b[1;33m)\u001b[0m\u001b[1;33m.\u001b[0m\u001b[0mindex\u001b[0m\u001b[1;33m(\u001b[0m\u001b[1;36m20\u001b[0m\u001b[1;33m)\u001b[0m\u001b[1;33m\u001b[0m\u001b[1;33m\u001b[0m\u001b[0m\n\u001b[0m",
      "\u001b[1;31mValueError\u001b[0m: 20 is not in list"
     ]
    }
   ],
   "source": [
    "list(array_x).index(20)"
   ]
  },
  {
   "cell_type": "markdown",
   "id": "67769c08",
   "metadata": {},
   "source": [
    "## Other loop examples. OPTIONAL !\n",
    "## Just go over them if time permits"
   ]
  },
  {
   "cell_type": "markdown",
   "id": "6cce4c69",
   "metadata": {},
   "source": [
    "__Example__: Generate a sample of 5 random numbers for a Z normal distribution and compute the sample mean. Repeat these process 15 times (= generate 15 samples and compute the mean for each of them)"
   ]
  },
  {
   "cell_type": "code",
   "execution_count": 89,
   "id": "0b9eaae4",
   "metadata": {},
   "outputs": [],
   "source": [
    "numberofsamples= 15\n",
    "\n",
    "# Create an empty array called 'sample_means' to save the mean computed from each sample\n",
    "\n",
    "sample_means= np.empty(numberofsamples, dtype= float)"
   ]
  },
  {
   "cell_type": "code",
   "execution_count": 91,
   "id": "0bdc1d66",
   "metadata": {},
   "outputs": [],
   "source": [
    "for i in np.arange(numberofsamples): # i goes from 0 to 14, that is, 15 numbers (there are 15 samples)\n",
    "    np.random.seed(i) # Why would it be incorrect to write np.random,seed(1) (using seed=1 for all interations)????\n",
    "    sample_of_five= np.random.normal(0,1,size= 5)\n",
    "    sample_means[i]= np.mean(sample_of_five) # sample_means in position i will store the sample mean for the sample generated on each loop iteration"
   ]
  },
  {
   "cell_type": "code",
   "execution_count": 97,
   "id": "63818e12",
   "metadata": {},
   "outputs": [
    {
     "name": "stdout",
     "output_type": "stream",
     "text": [
      "[ 1.45027975  0.05537124 -0.55247711  0.03615098 -0.03401978  0.47972925\n",
      " -0.55016628  0.17520035 -0.88946479 -0.35914921  0.22288346 -0.33655732\n",
      " -0.18271867  0.35875734 -0.05443286]\n",
      "-0.01204091057882513\n"
     ]
    }
   ],
   "source": [
    "print (sample_means)\n",
    "print (np.mean(sample_means))"
   ]
  },
  {
   "cell_type": "markdown",
   "id": "a7d85546",
   "metadata": {},
   "source": [
    "Repeating the previous loop but, instead of using an array, using a list\n",
    "\n",
    "If you do not want to create an empty array, you can always create an empty list and start appending elements to the empty list inside the loop."
   ]
  },
  {
   "cell_type": "code",
   "execution_count": 98,
   "id": "a82909c8",
   "metadata": {},
   "outputs": [],
   "source": [
    "# here, sample_means2 is an empty list\n",
    "\n",
    "sample_means2= []"
   ]
  },
  {
   "cell_type": "code",
   "execution_count": 99,
   "id": "9f4dabdf",
   "metadata": {},
   "outputs": [],
   "source": [
    "for i in np.arange(numberofsamples): \n",
    "    np.random.seed(i)\n",
    "    sample= np.random.normal(0,1,size= 5)\n",
    "    sample_means2.append(np.mean(sample))"
   ]
  },
  {
   "cell_type": "code",
   "execution_count": 100,
   "id": "f8039c58",
   "metadata": {},
   "outputs": [
    {
     "name": "stdout",
     "output_type": "stream",
     "text": [
      "[1.4502797455584104, 0.055371240983643745, -0.5524771094180257, 0.036150977227085324, -0.03401978049233899, 0.4797292467947679, -0.5501662819948029, 0.17520035026177536, -0.8894647931139439, -0.3591492077112229, 0.22288346207572268, -0.33655731527333477, -0.1827186702696239, 0.3587573370935722, -0.05443286040406155]\n",
      "-0.01204091057882513\n"
     ]
    }
   ],
   "source": [
    "print (sample_means2)\n",
    "print (np.mean(sample_means2))"
   ]
  },
  {
   "cell_type": "markdown",
   "id": "df41fc7f",
   "metadata": {},
   "source": [
    "#### Two nested loops\n",
    "\n",
    "\n",
    "We can use two nested loops when we need an action A to repeat many times and action A itself requires many repetitive steps.\n",
    "\n",
    "For example, array 1 and array 2 are two dimensional arrays, both with 10 rows and 3 columns\n",
    "\n",
    "Compute the distance between each row of array 1 and all rows in array 2."
   ]
  },
  {
   "cell_type": "code",
   "execution_count": 109,
   "id": "38ab97fe",
   "metadata": {},
   "outputs": [
    {
     "data": {
      "text/plain": [
       "array([[38, 13, 73],\n",
       "       [10, 76,  6],\n",
       "       [80, 65, 17],\n",
       "       [ 2, 77, 72],\n",
       "       [ 7, 26, 51],\n",
       "       [21, 19, 85],\n",
       "       [12, 29, 30],\n",
       "       [15, 51, 69],\n",
       "       [88, 88, 95],\n",
       "       [97, 87, 14]])"
      ]
     },
     "execution_count": 109,
     "metadata": {},
     "output_type": "execute_result"
    }
   ],
   "source": [
    "# Create array1\n",
    "\n",
    "np.random.seed(1)\n",
    "\n",
    "array1= np.random.randint(1,100,30).reshape(10,3)\n",
    "\n",
    "array1"
   ]
  },
  {
   "cell_type": "code",
   "execution_count": 110,
   "id": "2048bb45",
   "metadata": {},
   "outputs": [
    {
     "data": {
      "text/plain": [
       "array([[41, 16, 73],\n",
       "       [23, 44, 83],\n",
       "       [76,  8, 35],\n",
       "       [50, 96, 76],\n",
       "       [86, 48, 64],\n",
       "       [32, 91, 21],\n",
       "       [38, 40, 68],\n",
       "       [ 5, 43, 52],\n",
       "       [39, 34, 59],\n",
       "       [68, 70, 89]])"
      ]
     },
     "execution_count": 110,
     "metadata": {},
     "output_type": "execute_result"
    }
   ],
   "source": [
    "# Create array2\n",
    "\n",
    "np.random.seed(2)\n",
    "\n",
    "array2= np.random.randint(1,100,30).reshape(10,3)\n",
    "\n",
    "array2"
   ]
  },
  {
   "cell_type": "markdown",
   "id": "2c655e04",
   "metadata": {},
   "source": [
    "a) We need to compute the distance from each row in array1 to all rows in array2\n",
    "\n",
    "b) We need to go through array1 many times (as many times as the number of rows in array1). We can write onne loop to take care of this.\n",
    "\n",
    "c) Then, we can use another loop to go through the rows in array2"
   ]
  },
  {
   "cell_type": "code",
   "execution_count": 113,
   "id": "46f0c588",
   "metadata": {},
   "outputs": [],
   "source": [
    "distances=[]\n",
    "for i in np.arange(array1.shape[0]): # array1.shape[0] gives us the number of rows in array1\n",
    "    for j in np.arange(array2.shape[0]): # array2.shape[0] gives us the number of rows in array2\n",
    "        distances.append(my_euclidean_dist_calculator(array1[i,:], array2[j,:]))"
   ]
  },
  {
   "cell_type": "code",
   "execution_count": 115,
   "id": "248be7e1",
   "metadata": {},
   "outputs": [
    {
     "data": {
      "text/plain": [
       "100"
      ]
     },
     "execution_count": 115,
     "metadata": {},
     "output_type": "execute_result"
    }
   ],
   "source": [
    "# There are 10 rows in array1 and 10 rows in array2, so  we should have 10*10= 100 distance values\n",
    "\n",
    "len (distances)"
   ]
  },
  {
   "cell_type": "code",
   "execution_count": 116,
   "id": "e98c440b",
   "metadata": {},
   "outputs": [
    {
     "data": {
      "text/plain": [
       "[4.24,\n",
       " 35.86,\n",
       " 53.97,\n",
       " 83.92,\n",
       " 60.08,\n",
       " 93.94,\n",
       " 27.46,\n",
       " 49.3,\n",
       " 25.26,\n",
       " 66.37,\n",
       " 95.13,\n",
       " 84.39,\n",
       " 99.1,\n",
       " 83.07,\n",
       " 99.62,\n",
       " 30.56,\n",
       " 76.97,\n",
       " 56.83,\n",
       " 73.58,\n",
       " 101.43,\n",
       " 84.01,\n",
       " 89.7,\n",
       " 59.91,\n",
       " 73.09,\n",
       " 50.34,\n",
       " 54.74,\n",
       " 70.64,\n",
       " 85.64,\n",
       " 66.38,\n",
       " 73.16,\n",
       " 72.41,\n",
       " 40.63,\n",
       " 107.73,\n",
       " 51.78,\n",
       " 89.22,\n",
       " 60.8,\n",
       " 51.78,\n",
       " 39.56,\n",
       " 58.2,\n",
       " 68.51,\n",
       " 41.71,\n",
       " 40.05,\n",
       " 73.08,\n",
       " 85.87,\n",
       " 83.03,\n",
       " 75.83,\n",
       " 38.03,\n",
       " 17.15,\n",
       " 33.94,\n",
       " 84.27,\n",
       " 23.52,\n",
       " 25.16,\n",
       " 75.14,\n",
       " 82.77,\n",
       " 74.21,\n",
       " 96.96,\n",
       " 31.92,\n",
       " 43.83,\n",
       " 35.0,\n",
       " 69.47,\n",
       " 53.47,\n",
       " 56.17,\n",
       " 67.54,\n",
       " 89.72,\n",
       " 83.62,\n",
       " 65.76,\n",
       " 47.34,\n",
       " 27.0,\n",
       " 39.94,\n",
       " 91.09,\n",
       " 43.78,\n",
       " 17.58,\n",
       " 82.01,\n",
       " 57.44,\n",
       " 71.24,\n",
       " 64.75,\n",
       " 25.51,\n",
       " 21.28,\n",
       " 31.06,\n",
       " 59.75,\n",
       " 88.75,\n",
       " 79.4,\n",
       " 100.72,\n",
       " 43.23,\n",
       " 50.65,\n",
       " 92.85,\n",
       " 74.38,\n",
       " 103.74,\n",
       " 81.32,\n",
       " 27.57,\n",
       " 107.97,\n",
       " 109.94,\n",
       " 84.4,\n",
       " 78.32,\n",
       " 64.36,\n",
       " 65.5,\n",
       " 92.77,\n",
       " 108.83,\n",
       " 90.54,\n",
       " 82.19]"
      ]
     },
     "execution_count": 116,
     "metadata": {},
     "output_type": "execute_result"
    }
   ],
   "source": [
    "distances"
   ]
  }
 ],
 "metadata": {
  "kernelspec": {
   "display_name": "Python 3",
   "language": "python",
   "name": "python3"
  },
  "language_info": {
   "codemirror_mode": {
    "name": "ipython",
    "version": 3
   },
   "file_extension": ".py",
   "mimetype": "text/x-python",
   "name": "python",
   "nbconvert_exporter": "python",
   "pygments_lexer": "ipython3",
   "version": "3.8.8"
  }
 },
 "nbformat": 4,
 "nbformat_minor": 5
}
