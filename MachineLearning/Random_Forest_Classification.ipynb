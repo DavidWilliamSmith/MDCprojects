{
 "cells": [
  {
   "cell_type": "code",
   "execution_count": 1,
   "id": "5ae5dc72",
   "metadata": {},
   "outputs": [],
   "source": [
    "import numpy as np\n",
    "import pandas as pd\n",
    "import matplotlib.pyplot as plt"
   ]
  },
  {
   "cell_type": "code",
   "execution_count": 2,
   "id": "dacfafd3",
   "metadata": {},
   "outputs": [],
   "source": [
    "from sklearn.model_selection import train_test_split\n",
    "from sklearn.metrics import accuracy_score\n",
    "from sklearn.metrics import f1_score\n",
    "from sklearn.metrics import confusion_matrix\n",
    "from sklearn.metrics import classification_report"
   ]
  },
  {
   "cell_type": "code",
   "execution_count": 3,
   "id": "b795e45d",
   "metadata": {},
   "outputs": [],
   "source": [
    "from sklearn.ensemble import RandomForestClassifier"
   ]
  },
  {
   "cell_type": "markdown",
   "id": "836a65f0",
   "metadata": {},
   "source": [
    "# The Caravan dataset"
   ]
  },
  {
   "cell_type": "code",
   "execution_count": 4,
   "id": "756c128f",
   "metadata": {},
   "outputs": [],
   "source": [
    "Caravan_df= pd.read_csv('C:\\\\Users\\\\jheredi2\\\\Documents\\\\PythonDataAnalytics\\\\1-Datasets\\\\Caravan.csv')"
   ]
  },
  {
   "cell_type": "code",
   "execution_count": 5,
   "id": "3061912c",
   "metadata": {},
   "outputs": [],
   "source": [
    "# Excluding the first predictor from the Caravan data set\n",
    "\n",
    "X_train, X_test, y_train, y_test= train_test_split (Caravan_df.iloc[:,1:-1], Caravan_df['Purchase'], test_size=0.2, random_state=1)"
   ]
  },
  {
   "cell_type": "markdown",
   "id": "e8b67869",
   "metadata": {},
   "source": [
    "## Applying Bagging (i.e., Non-random Forest) to the Caravan dataset"
   ]
  },
  {
   "cell_type": "markdown",
   "id": "bec3f427",
   "metadata": {},
   "source": [
    "__Reminder from ML 1__ (for more reminders, review ML 1 notebook about random forest regression)\n",
    "\n",
    "The difference between Bagging and RF is that for the former, max_features=n_features; whereas for the latter, max_features < n_features\n",
    "\n",
    "When applying Bagging, how to set max_features=n_features?\n",
    "\n",
    "From scikit-learn: If max_features is None or 1.0, then max_features=n_features"
   ]
  },
  {
   "cell_type": "markdown",
   "id": "2d9fa0ed",
   "metadata": {},
   "source": [
    "### Basic application: select based on accuracy (= error) and without changing any tuning hyperparameter"
   ]
  },
  {
   "cell_type": "markdown",
   "id": "ccfc5426",
   "metadata": {},
   "source": [
    "Let's grow the trees in the forest using Entropy first. Later on, we might try (if time permits) both the Gini index and Entropy and choose the best between the two.\n",
    "\n",
    "We are going to use the theory-based approach that we learned in ML 1, which uses the Out-Of-the-Bag (i.e.,oob) observations  to choose the best configuration for the forest.\n",
    "\n",
    "Let's __based our decision on the oob accuracy__ (i.e., select the forest with the highest oob accuracy = lowest oob error)"
   ]
  },
  {
   "cell_type": "code",
   "execution_count": 6,
   "id": "7d076940",
   "metadata": {},
   "outputs": [],
   "source": [
    "# Number of trees to include in the forest.\n",
    "# We are considering only a few options because the computations in random forests classification are intense!\n",
    "\n",
    "number_of_trees=np.array ([100, 250, 500, 750, 1000])"
   ]
  },
  {
   "cell_type": "code",
   "execution_count": 7,
   "id": "2d564422",
   "metadata": {},
   "outputs": [],
   "source": [
    "accuracy_score_oob=[]\n",
    "for i in number_of_trees:\n",
    "    bag_loop= RandomForestClassifier(n_estimators = i, criterion='entropy', oob_score= True, max_features=None, random_state=1)\n",
    "    bag_loop.fit(X_train, y_train)\n",
    "    accuracy_score_oob.append (np.round (bag_loop.oob_score_,3)) \n",
    "    # the attribute ob_score_ computes the accuracy based on the oob observations"
   ]
  },
  {
   "cell_type": "code",
   "execution_count": 8,
   "id": "336fbf1c",
   "metadata": {},
   "outputs": [
    {
     "data": {
      "text/plain": [
       "0.924"
      ]
     },
     "execution_count": 8,
     "metadata": {},
     "output_type": "execute_result"
    }
   ],
   "source": [
    "max(accuracy_score_oob)"
   ]
  },
  {
   "cell_type": "code",
   "execution_count": 9,
   "id": "d262adc5",
   "metadata": {},
   "outputs": [],
   "source": [
    "indexmax_bagging= accuracy_score_oob.index(max(accuracy_score_oob))"
   ]
  },
  {
   "cell_type": "code",
   "execution_count": 10,
   "id": "d8f4dca7",
   "metadata": {},
   "outputs": [
    {
     "data": {
      "text/plain": [
       "100"
      ]
     },
     "execution_count": 10,
     "metadata": {},
     "output_type": "execute_result"
    }
   ],
   "source": [
    "number_of_trees[indexmax_bagging]"
   ]
  },
  {
   "cell_type": "markdown",
   "id": "12b7a26b",
   "metadata": {},
   "source": [
    "__Estimate the metrics (on the test data) for the previous forest__"
   ]
  },
  {
   "cell_type": "code",
   "execution_count": 11,
   "id": "3af7a929",
   "metadata": {},
   "outputs": [],
   "source": [
    "bagging_forest_caravan= RandomForestClassifier(n_estimators = 100, criterion='entropy', max_features=None, random_state=1)"
   ]
  },
  {
   "cell_type": "code",
   "execution_count": 12,
   "id": "23196fc4",
   "metadata": {},
   "outputs": [
    {
     "data": {
      "text/plain": [
       "RandomForestClassifier(criterion='entropy', max_features=None, random_state=1)"
      ]
     },
     "execution_count": 12,
     "metadata": {},
     "output_type": "execute_result"
    }
   ],
   "source": [
    "bagging_forest_caravan.fit(X_train, y_train)"
   ]
  },
  {
   "cell_type": "code",
   "execution_count": 13,
   "id": "781141b4",
   "metadata": {},
   "outputs": [],
   "source": [
    "y_predicted_caravan_bagging= bagging_forest_caravan.predict (X_test)"
   ]
  },
  {
   "cell_type": "code",
   "execution_count": 14,
   "id": "6aabfd52",
   "metadata": {},
   "outputs": [
    {
     "data": {
      "text/plain": [
       "array([[1075,   26],\n",
       "       [  59,    5]], dtype=int64)"
      ]
     },
     "execution_count": 14,
     "metadata": {},
     "output_type": "execute_result"
    }
   ],
   "source": [
    "confusion_matrix(y_test, y_predicted_caravan_bagging)"
   ]
  },
  {
   "cell_type": "code",
   "execution_count": 15,
   "id": "81ae5206",
   "metadata": {},
   "outputs": [
    {
     "name": "stdout",
     "output_type": "stream",
     "text": [
      "              precision    recall  f1-score   support\n",
      "\n",
      "          No       0.95      0.98      0.96      1101\n",
      "         Yes       0.16      0.08      0.11        64\n",
      "\n",
      "    accuracy                           0.93      1165\n",
      "   macro avg       0.55      0.53      0.53      1165\n",
      "weighted avg       0.90      0.93      0.91      1165\n",
      "\n"
     ]
    }
   ],
   "source": [
    "print (classification_report (y_test, y_predicted_caravan_bagging))"
   ]
  },
  {
   "cell_type": "markdown",
   "id": "31ec972d",
   "metadata": {},
   "source": [
    "NOTHING SURPRINSING!\n",
    "\n",
    "For unbalanced datasets, if you select the best classifier based on overall accuracy (or equivalently, overall error), you usually do not get good values for the class-specific performance metrics!"
   ]
  },
  {
   "cell_type": "markdown",
   "id": "4f514607",
   "metadata": {},
   "source": [
    "### Let's change the probability threshold of the previous forest and compute the metrics again"
   ]
  },
  {
   "cell_type": "code",
   "execution_count": 16,
   "id": "6f0314f4",
   "metadata": {},
   "outputs": [],
   "source": [
    "# Array of probability thresholds\n",
    "\n",
    "array_prob= np.arange(0.05, 0.51, 0.05)"
   ]
  },
  {
   "cell_type": "code",
   "execution_count": 17,
   "id": "31738fa9",
   "metadata": {},
   "outputs": [],
   "source": [
    "prob_yes_bagging_forest= bagging_forest_caravan.predict_proba(X_test)[:,1]"
   ]
  },
  {
   "cell_type": "code",
   "execution_count": 18,
   "id": "a16feee0",
   "metadata": {},
   "outputs": [],
   "source": [
    "dict_predictions= dict()"
   ]
  },
  {
   "cell_type": "code",
   "execution_count": 19,
   "id": "97f3fa59",
   "metadata": {},
   "outputs": [],
   "source": [
    "dict_f1_scores= dict()"
   ]
  },
  {
   "cell_type": "code",
   "execution_count": 20,
   "id": "4e2fafdd",
   "metadata": {},
   "outputs": [],
   "source": [
    "for j in array_prob:\n",
    "    dict_predictions[j]=np.empty(y_test.size, dtype=object)\n",
    "    for i in np.arange(0, dict_predictions[j].size):\n",
    "        if prob_yes_bagging_forest[i] > j:\n",
    "            dict_predictions[j][i]= 'Yes'\n",
    "        else:\n",
    "            dict_predictions[j][i]= 'No'\n",
    "    dict_f1_scores[j]= np.round (f1_score(y_test, dict_predictions[j],pos_label='Yes'),3)"
   ]
  },
  {
   "cell_type": "code",
   "execution_count": 21,
   "id": "7a0f3e76",
   "metadata": {},
   "outputs": [
    {
     "data": {
      "text/plain": [
       "{0.05: 0.205,\n",
       " 0.1: 0.174,\n",
       " 0.15000000000000002: 0.206,\n",
       " 0.2: 0.203,\n",
       " 0.25: 0.164,\n",
       " 0.3: 0.142,\n",
       " 0.35000000000000003: 0.137,\n",
       " 0.4: 0.109,\n",
       " 0.45: 0.097,\n",
       " 0.5: 0.105}"
      ]
     },
     "execution_count": 21,
     "metadata": {},
     "output_type": "execute_result"
    }
   ],
   "source": [
    "dict_f1_scores"
   ]
  },
  {
   "cell_type": "code",
   "execution_count": 22,
   "id": "b0a87025",
   "metadata": {},
   "outputs": [
    {
     "data": {
      "text/plain": [
       "0.15000000000000002"
      ]
     },
     "execution_count": 22,
     "metadata": {},
     "output_type": "execute_result"
    }
   ],
   "source": [
    "max(dict_f1_scores, key= dict_f1_scores.get)"
   ]
  },
  {
   "cell_type": "code",
   "execution_count": 23,
   "id": "920fe7b0",
   "metadata": {},
   "outputs": [
    {
     "data": {
      "text/plain": [
       "0.206"
      ]
     },
     "execution_count": 23,
     "metadata": {},
     "output_type": "execute_result"
    }
   ],
   "source": [
    "max(dict_f1_scores.values())"
   ]
  },
  {
   "cell_type": "code",
   "execution_count": 24,
   "id": "3799954b",
   "metadata": {},
   "outputs": [],
   "source": [
    "# This loop computes the prediction of Y (No or Yes) for each test observation\n",
    "# The predictions of Y are stored in an array called 'y_predicted_prob015' \n",
    "# The prediction uses a prob threshold of 0.15\n",
    "\n",
    "y_predicted_prob015=np.empty(y_test.size, dtype=object)\n",
    "\n",
    "for i in np.arange(0,y_predicted_prob015.size):\n",
    "    if prob_yes_bagging_forest[i] > 0.15:\n",
    "        y_predicted_prob015[i]= 'Yes'\n",
    "    else:\n",
    "        y_predicted_prob015[i]= 'No'"
   ]
  },
  {
   "cell_type": "code",
   "execution_count": 25,
   "id": "452862f5",
   "metadata": {},
   "outputs": [
    {
     "data": {
      "text/plain": [
       "array([[982, 119],\n",
       "       [ 43,  21]], dtype=int64)"
      ]
     },
     "execution_count": 25,
     "metadata": {},
     "output_type": "execute_result"
    }
   ],
   "source": [
    "confusion_matrix (y_test, y_predicted_prob015)"
   ]
  },
  {
   "cell_type": "code",
   "execution_count": 26,
   "id": "260fa664",
   "metadata": {},
   "outputs": [
    {
     "name": "stdout",
     "output_type": "stream",
     "text": [
      "              precision    recall  f1-score   support\n",
      "\n",
      "          No       0.96      0.89      0.92      1101\n",
      "         Yes       0.15      0.33      0.21        64\n",
      "\n",
      "    accuracy                           0.86      1165\n",
      "   macro avg       0.55      0.61      0.56      1165\n",
      "weighted avg       0.91      0.86      0.88      1165\n",
      "\n"
     ]
    }
   ],
   "source": [
    "print (classification_report (y_test, y_predicted_prob015))"
   ]
  },
  {
   "cell_type": "markdown",
   "id": "a42b0021",
   "metadata": {},
   "source": [
    "### Let's change the class weights and compute the metrics again\n",
    "\n",
    "The classes will be weighted differently using class_weight= 'balanced'"
   ]
  },
  {
   "cell_type": "code",
   "execution_count": 36,
   "id": "326a8eb2",
   "metadata": {},
   "outputs": [],
   "source": [
    "accuracy_score_oob2=[]\n",
    "for i in number_of_trees:\n",
    "    bag_loop= RandomForestClassifier(n_estimators = i, criterion='entropy', class_weight= 'balanced', oob_score= True, max_features=None, random_state=1)\n",
    "    bag_loop.fit(X_train, y_train)\n",
    "    accuracy_score_oob2.append (np.round (bag_loop.oob_score_,3)) \n",
    "    # the attribute ob_score_ computes the accuracy based on the oob observations"
   ]
  },
  {
   "cell_type": "code",
   "execution_count": 37,
   "id": "456477d1",
   "metadata": {},
   "outputs": [
    {
     "data": {
      "text/plain": [
       "0.925"
      ]
     },
     "execution_count": 37,
     "metadata": {},
     "output_type": "execute_result"
    }
   ],
   "source": [
    "max(accuracy_score_oob2)"
   ]
  },
  {
   "cell_type": "code",
   "execution_count": 38,
   "id": "0d4eba5d",
   "metadata": {},
   "outputs": [],
   "source": [
    "indexmax_bagging2= accuracy_score_oob2.index(max(accuracy_score_oob2))"
   ]
  },
  {
   "cell_type": "code",
   "execution_count": 39,
   "id": "e8c5c0f4",
   "metadata": {},
   "outputs": [
    {
     "data": {
      "text/plain": [
       "750"
      ]
     },
     "execution_count": 39,
     "metadata": {},
     "output_type": "execute_result"
    }
   ],
   "source": [
    "number_of_trees[indexmax_bagging2]"
   ]
  },
  {
   "cell_type": "markdown",
   "id": "f3c672a7",
   "metadata": {},
   "source": [
    "__Estimate the metrics (on the test data) for the previous forest__"
   ]
  },
  {
   "cell_type": "code",
   "execution_count": 40,
   "id": "a6401344",
   "metadata": {},
   "outputs": [],
   "source": [
    "bagging_forest_caravan2= RandomForestClassifier(n_estimators = 750, criterion='entropy', class_weight= 'balanced', max_features=None, random_state=1)"
   ]
  },
  {
   "cell_type": "code",
   "execution_count": 41,
   "id": "7712d608",
   "metadata": {},
   "outputs": [
    {
     "data": {
      "text/plain": [
       "RandomForestClassifier(class_weight='balanced', criterion='entropy',\n",
       "                       max_features=None, n_estimators=750, random_state=1)"
      ]
     },
     "execution_count": 41,
     "metadata": {},
     "output_type": "execute_result"
    }
   ],
   "source": [
    "bagging_forest_caravan2.fit(X_train, y_train)"
   ]
  },
  {
   "cell_type": "code",
   "execution_count": 42,
   "id": "8488e212",
   "metadata": {},
   "outputs": [],
   "source": [
    "y_predicted_caravan_bagging2= bagging_forest_caravan2.predict (X_test)"
   ]
  },
  {
   "cell_type": "code",
   "execution_count": 43,
   "id": "fe7f3eb0",
   "metadata": {},
   "outputs": [
    {
     "data": {
      "text/plain": [
       "array([[1071,   30],\n",
       "       [  60,    4]], dtype=int64)"
      ]
     },
     "execution_count": 43,
     "metadata": {},
     "output_type": "execute_result"
    }
   ],
   "source": [
    "confusion_matrix(y_test, y_predicted_caravan_bagging2)"
   ]
  },
  {
   "cell_type": "code",
   "execution_count": 44,
   "id": "3451df11",
   "metadata": {},
   "outputs": [
    {
     "name": "stdout",
     "output_type": "stream",
     "text": [
      "              precision    recall  f1-score   support\n",
      "\n",
      "          No       0.95      0.97      0.96      1101\n",
      "         Yes       0.12      0.06      0.08        64\n",
      "\n",
      "    accuracy                           0.92      1165\n",
      "   macro avg       0.53      0.52      0.52      1165\n",
      "weighted avg       0.90      0.92      0.91      1165\n",
      "\n"
     ]
    }
   ],
   "source": [
    "print(classification_report(y_test, y_predicted_caravan_bagging2))"
   ]
  },
  {
   "cell_type": "markdown",
   "id": "79bf0099",
   "metadata": {},
   "source": [
    "### Let's change the class weights and select the best forest configuration based on f1-score\n",
    "\n",
    "\n",
    "We are selecting the forest configuration that leads to the highest oob f1-score and the classes will be weighted differently using class_weight= 'balanced'"
   ]
  },
  {
   "cell_type": "markdown",
   "id": "daa67574",
   "metadata": {},
   "source": [
    "Note: We need a little trick to be able to compute any metric different from the accuacy on the oob observations. Sci-kit learn only includes the option to compute the accuracy. That \"trick\" is applied on the last statement of the following loop"
   ]
  },
  {
   "cell_type": "code",
   "execution_count": 27,
   "id": "7db951d5",
   "metadata": {},
   "outputs": [],
   "source": [
    "f1_score_oob=[]\n",
    "for i in number_of_trees:\n",
    "    bag_loop= RandomForestClassifier(n_estimators = i, criterion='entropy', class_weight= 'balanced', oob_score= True, max_features=None, random_state=1)\n",
    "    bag_loop.fit(X_train, y_train.map({'Yes': 1, 'No': 0}))\n",
    "    f1_score_oob.append (np.round (f1_score(y_train.map({'Yes': 1, 'No': 0}), pd.Series(np.argmax(bag_loop.oob_decision_function_,axis=1)),pos_label=1),3)) "
   ]
  },
  {
   "cell_type": "code",
   "execution_count": 28,
   "id": "4d0e18a4",
   "metadata": {},
   "outputs": [
    {
     "data": {
      "text/plain": [
       "0.103"
      ]
     },
     "execution_count": 28,
     "metadata": {},
     "output_type": "execute_result"
    }
   ],
   "source": [
    "max(f1_score_oob)"
   ]
  },
  {
   "cell_type": "code",
   "execution_count": 29,
   "id": "d0318b11",
   "metadata": {},
   "outputs": [],
   "source": [
    "indexmax_bagging_f1_score= f1_score_oob.index(max(f1_score_oob))"
   ]
  },
  {
   "cell_type": "code",
   "execution_count": 30,
   "id": "3c0ad290",
   "metadata": {},
   "outputs": [
    {
     "data": {
      "text/plain": [
       "750"
      ]
     },
     "execution_count": 30,
     "metadata": {},
     "output_type": "execute_result"
    }
   ],
   "source": [
    "number_of_trees[indexmax_bagging_f1_score]"
   ]
  },
  {
   "cell_type": "markdown",
   "id": "18b27f66",
   "metadata": {},
   "source": [
    "Selecting based on f1-score also results in a forest with 750 trees. Nothing changed from the previous attempt\n",
    "\n",
    "We do not need to obtain the confusion matrix and classification report again because we will get the same results. The previous configuration was also 750 trees and class_weight= 'balanced'"
   ]
  },
  {
   "cell_type": "markdown",
   "id": "995e6e2a",
   "metadata": {},
   "source": [
    "## Applying Random Forest to the Caravan dataset"
   ]
  },
  {
   "cell_type": "markdown",
   "id": "9d01a7e7",
   "metadata": {},
   "source": [
    "Let's apply RF and tune both the number of trees and the max_features hyperparameter\n",
    "\n",
    "max_feature will change from around sqrt(p) to around p/2"
   ]
  },
  {
   "cell_type": "markdown",
   "id": "0ebbed89",
   "metadata": {},
   "source": [
    "Let's apply the Grid Search approach BECAUSE USING THE OOB APPROACH GAVE ME SOME ERRORS I DID NOT HAVE TIME TO FIX!!!"
   ]
  },
  {
   "cell_type": "markdown",
   "id": "d72b8f64",
   "metadata": {},
   "source": [
    "### Basic application: select based on accuracy (= error) "
   ]
  },
  {
   "cell_type": "code",
   "execution_count": 62,
   "id": "cf98c688",
   "metadata": {},
   "outputs": [],
   "source": [
    "from sklearn.model_selection import GridSearchCV"
   ]
  },
  {
   "cell_type": "code",
   "execution_count": 94,
   "id": "4f604aa8",
   "metadata": {},
   "outputs": [],
   "source": [
    "# I reduceD the number of options for the number of trees to lessen the burden of the grid search\n",
    "\n",
    "number_of_trees2=np.array ([250, 750, 1000])"
   ]
  },
  {
   "cell_type": "markdown",
   "id": "9e89cb19",
   "metadata": {},
   "source": [
    "Number of features to consider?"
   ]
  },
  {
   "cell_type": "code",
   "execution_count": 46,
   "id": "87908866",
   "metadata": {},
   "outputs": [
    {
     "name": "stdout",
     "output_type": "stream",
     "text": [
      "86\n",
      "9.273618495495704\n",
      "43.0\n"
     ]
    }
   ],
   "source": [
    "print(Caravan_df.shape[1])\n",
    "print(np.sqrt(Caravan_df.shape[1]))\n",
    "print(Caravan_df.shape[1]/2)"
   ]
  },
  {
   "cell_type": "code",
   "execution_count": 87,
   "id": "5ee86f34",
   "metadata": {},
   "outputs": [],
   "source": [
    "number_of_features=np.array ([10, 20, 30, 40, 50])"
   ]
  },
  {
   "cell_type": "code",
   "execution_count": 88,
   "id": "64ae4860",
   "metadata": {},
   "outputs": [],
   "source": [
    "hyperparam_grid_rf = {\n",
    "    'criterion': ['entropy'],\n",
    "    'n_estimators': number_of_trees2,   \n",
    "     'max_features': number_of_features\n",
    "}"
   ]
  },
  {
   "cell_type": "code",
   "execution_count": 126,
   "id": "d6241038",
   "metadata": {},
   "outputs": [],
   "source": [
    "gridSearch_rf = GridSearchCV(RandomForestClassifier(), hyperparam_grid_rf, cv=3,scoring='accuracy')\n",
    "\n",
    "# CV=3. Reducing the number of folds to speed up computation"
   ]
  },
  {
   "cell_type": "markdown",
   "id": "e26b38e2",
   "metadata": {},
   "source": [
    "DO NOT RUN THE NEXT CELL. IT WILL TAKE TOO LONG! (5 -6 MINUTES)\n",
    "\n",
    "YOU DO NOT NEED TO RUN IT. YOU ONLY NEED TO OBSERVE THE RESULTS\n",
    "\n",
    "YOU WON'T NEED TO DO THIS IN THE EXAM"
   ]
  },
  {
   "cell_type": "code",
   "execution_count": 92,
   "id": "9f3d53f5",
   "metadata": {},
   "outputs": [
    {
     "data": {
      "text/plain": [
       "GridSearchCV(cv=3, estimator=RandomForestClassifier(),\n",
       "             param_grid={'criterion': ['entropy'],\n",
       "                         'max_features': array([10, 20, 30, 40, 50]),\n",
       "                         'n_estimators': array([ 250,  750, 1000])},\n",
       "             scoring='accuracy')"
      ]
     },
     "execution_count": 92,
     "metadata": {},
     "output_type": "execute_result"
    }
   ],
   "source": [
    "gridSearch_rf.fit(X_train, y_train)"
   ]
  },
  {
   "cell_type": "code",
   "execution_count": 93,
   "id": "550d7602",
   "metadata": {},
   "outputs": [
    {
     "name": "stdout",
     "output_type": "stream",
     "text": [
      "Parameters:  {'criterion': 'entropy', 'max_features': 20, 'n_estimators': 750}\n"
     ]
    }
   ],
   "source": [
    "print('Parameters: ', gridSearch_rf.best_params_)"
   ]
  },
  {
   "cell_type": "code",
   "execution_count": 95,
   "id": "7633f4f2",
   "metadata": {},
   "outputs": [],
   "source": [
    "rf_caravan= RandomForestClassifier(n_estimators = 750, criterion='entropy', max_features=20, random_state=1)"
   ]
  },
  {
   "cell_type": "code",
   "execution_count": 96,
   "id": "522b47c0",
   "metadata": {},
   "outputs": [
    {
     "data": {
      "text/plain": [
       "RandomForestClassifier(criterion='entropy', max_features=20, n_estimators=750,\n",
       "                       random_state=1)"
      ]
     },
     "execution_count": 96,
     "metadata": {},
     "output_type": "execute_result"
    }
   ],
   "source": [
    "rf_caravan.fit (X_train, y_train)"
   ]
  },
  {
   "cell_type": "code",
   "execution_count": 97,
   "id": "43e37c1b",
   "metadata": {},
   "outputs": [],
   "source": [
    "y_predicted_caravan_rf= rf_caravan.predict (X_test)"
   ]
  },
  {
   "cell_type": "code",
   "execution_count": 98,
   "id": "c5b45b31",
   "metadata": {},
   "outputs": [
    {
     "data": {
      "text/plain": [
       "array([[1075,   26],\n",
       "       [  60,    4]], dtype=int64)"
      ]
     },
     "execution_count": 98,
     "metadata": {},
     "output_type": "execute_result"
    }
   ],
   "source": [
    "confusion_matrix (y_test, y_predicted_caravan_rf)"
   ]
  },
  {
   "cell_type": "markdown",
   "id": "2a0351b1",
   "metadata": {},
   "source": [
    "BAD AGAIN!"
   ]
  },
  {
   "cell_type": "markdown",
   "id": "161d883e",
   "metadata": {},
   "source": [
    "### Let's change the probability threshold of the previous forest and compute the metrics again"
   ]
  },
  {
   "cell_type": "code",
   "execution_count": 99,
   "id": "d7b34e8d",
   "metadata": {},
   "outputs": [],
   "source": [
    "prob_yes_rf= rf_caravan.predict_proba(X_test)[:,1]"
   ]
  },
  {
   "cell_type": "code",
   "execution_count": 100,
   "id": "f442aefb",
   "metadata": {},
   "outputs": [],
   "source": [
    "dict_predictions= dict()"
   ]
  },
  {
   "cell_type": "code",
   "execution_count": 101,
   "id": "469ee9b6",
   "metadata": {},
   "outputs": [],
   "source": [
    "dict_f1_scores= dict()"
   ]
  },
  {
   "cell_type": "code",
   "execution_count": 102,
   "id": "ea84a771",
   "metadata": {},
   "outputs": [],
   "source": [
    "for j in array_prob:\n",
    "    dict_predictions[j]=np.empty(y_test.size, dtype=object)\n",
    "    for i in np.arange(0, dict_predictions[j].size):\n",
    "        if prob_yes_rf[i] > j:\n",
    "            dict_predictions[j][i]= 'Yes'\n",
    "        else:\n",
    "            dict_predictions[j][i]= 'No'\n",
    "    dict_f1_scores[j]= np.round (f1_score(y_test, dict_predictions[j],pos_label='Yes'),3)"
   ]
  },
  {
   "cell_type": "code",
   "execution_count": 103,
   "id": "1be6a970",
   "metadata": {},
   "outputs": [
    {
     "data": {
      "text/plain": [
       "{0.05: 0.199,\n",
       " 0.1: 0.216,\n",
       " 0.15000000000000002: 0.219,\n",
       " 0.2: 0.167,\n",
       " 0.25: 0.135,\n",
       " 0.3: 0.118,\n",
       " 0.35000000000000003: 0.107,\n",
       " 0.4: 0.113,\n",
       " 0.45: 0.099,\n",
       " 0.5: 0.085}"
      ]
     },
     "execution_count": 103,
     "metadata": {},
     "output_type": "execute_result"
    }
   ],
   "source": [
    "dict_f1_scores"
   ]
  },
  {
   "cell_type": "code",
   "execution_count": 104,
   "id": "e6dc62ac",
   "metadata": {},
   "outputs": [],
   "source": [
    "# This loop computes the prediction of Y (No or Yes) for each test observation\n",
    "# The predictions of Y are stored in an array called 'y_predicted_prob015_2' \n",
    "# The prediction uses a prob threshold of 0.15\n",
    "\n",
    "y_predicted_prob015_2=np.empty(y_test.size, dtype=object)\n",
    "\n",
    "for i in np.arange(0,y_predicted_prob015.size):\n",
    "    if prob_yes_rf[i] > 0.15:\n",
    "        y_predicted_prob015_2[i]= 'Yes'\n",
    "    else:\n",
    "        y_predicted_prob015_2[i]= 'No'"
   ]
  },
  {
   "cell_type": "code",
   "execution_count": 105,
   "id": "c819599b",
   "metadata": {},
   "outputs": [
    {
     "data": {
      "text/plain": [
       "array([[994, 107],\n",
       "       [ 43,  21]], dtype=int64)"
      ]
     },
     "execution_count": 105,
     "metadata": {},
     "output_type": "execute_result"
    }
   ],
   "source": [
    "confusion_matrix (y_test, y_predicted_prob015_2)"
   ]
  },
  {
   "cell_type": "code",
   "execution_count": 106,
   "id": "c1c42aa1",
   "metadata": {},
   "outputs": [
    {
     "name": "stdout",
     "output_type": "stream",
     "text": [
      "              precision    recall  f1-score   support\n",
      "\n",
      "          No       0.96      0.90      0.93      1101\n",
      "         Yes       0.16      0.33      0.22        64\n",
      "\n",
      "    accuracy                           0.87      1165\n",
      "   macro avg       0.56      0.62      0.57      1165\n",
      "weighted avg       0.91      0.87      0.89      1165\n",
      "\n"
     ]
    }
   ],
   "source": [
    "print(classification_report(y_test, y_predicted_prob015_2))"
   ]
  },
  {
   "cell_type": "markdown",
   "id": "102debac",
   "metadata": {},
   "source": [
    "### Let's select the best forest configuration based on f1-score"
   ]
  },
  {
   "cell_type": "code",
   "execution_count": 108,
   "id": "588b6800",
   "metadata": {},
   "outputs": [],
   "source": [
    "from sklearn.metrics import make_scorer"
   ]
  },
  {
   "cell_type": "code",
   "execution_count": 109,
   "id": "ca080b9a",
   "metadata": {},
   "outputs": [],
   "source": [
    "f1_scorer = make_scorer(f1_score, pos_label='Yes')"
   ]
  },
  {
   "cell_type": "code",
   "execution_count": 110,
   "id": "e4cd6e79",
   "metadata": {},
   "outputs": [],
   "source": [
    "gridSearch_rf_f1_score = GridSearchCV(RandomForestClassifier(), hyperparam_grid_rf, cv=3,scoring=f1_scorer )"
   ]
  },
  {
   "cell_type": "markdown",
   "id": "ba9aa83c",
   "metadata": {},
   "source": [
    "DO NOT RUN THE NEXT CELL. IT WILL TAKE TOO LONG! (5 -6 MINUTES)\n",
    "\n",
    "YOU DO NOT NEED TO RUN IT. YOU ONLY NEED TO OBSERVE THE RESULTS\n",
    "\n",
    "YOU WON'T NEED TO DO THIS IN THE EXAM"
   ]
  },
  {
   "cell_type": "code",
   "execution_count": 111,
   "id": "df6a9234",
   "metadata": {},
   "outputs": [
    {
     "data": {
      "text/plain": [
       "GridSearchCV(cv=3, estimator=RandomForestClassifier(),\n",
       "             param_grid={'criterion': ['entropy'],\n",
       "                         'max_features': array([10, 20, 30, 40, 50]),\n",
       "                         'n_estimators': array([ 250,  750, 1000])},\n",
       "             scoring=make_scorer(f1_score, pos_label=Yes))"
      ]
     },
     "execution_count": 111,
     "metadata": {},
     "output_type": "execute_result"
    }
   ],
   "source": [
    "gridSearch_rf_f1_score.fit(X_train, y_train)"
   ]
  },
  {
   "cell_type": "code",
   "execution_count": 112,
   "id": "0bf33ff9",
   "metadata": {},
   "outputs": [
    {
     "name": "stdout",
     "output_type": "stream",
     "text": [
      "Parameters:  {'criterion': 'entropy', 'max_features': 30, 'n_estimators': 250}\n"
     ]
    }
   ],
   "source": [
    "print('Parameters: ', gridSearch_rf_f1_score.best_params_)"
   ]
  },
  {
   "cell_type": "code",
   "execution_count": 113,
   "id": "4b7c50ac",
   "metadata": {},
   "outputs": [],
   "source": [
    "rf_caravan2= RandomForestClassifier(n_estimators = 250, criterion='entropy', max_features=30, random_state=1)"
   ]
  },
  {
   "cell_type": "code",
   "execution_count": 114,
   "id": "55f21614",
   "metadata": {},
   "outputs": [
    {
     "data": {
      "text/plain": [
       "RandomForestClassifier(criterion='entropy', max_features=30, n_estimators=250,\n",
       "                       random_state=1)"
      ]
     },
     "execution_count": 114,
     "metadata": {},
     "output_type": "execute_result"
    }
   ],
   "source": [
    "rf_caravan2.fit (X_train, y_train)"
   ]
  },
  {
   "cell_type": "code",
   "execution_count": 115,
   "id": "f7891221",
   "metadata": {},
   "outputs": [],
   "source": [
    "y_predicted_caravan_rf2= rf_caravan2.predict (X_test)"
   ]
  },
  {
   "cell_type": "code",
   "execution_count": 116,
   "id": "be6b104a",
   "metadata": {},
   "outputs": [
    {
     "data": {
      "text/plain": [
       "array([[1072,   29],\n",
       "       [  60,    4]], dtype=int64)"
      ]
     },
     "execution_count": 116,
     "metadata": {},
     "output_type": "execute_result"
    }
   ],
   "source": [
    "confusion_matrix (y_test, y_predicted_caravan_rf2)"
   ]
  },
  {
   "cell_type": "markdown",
   "id": "aa3dc54f",
   "metadata": {},
   "source": [
    "BAD AGAIN !"
   ]
  },
  {
   "cell_type": "markdown",
   "id": "2915b887",
   "metadata": {},
   "source": [
    "### Let's select the best forest configuration based on f1-score and change the class weights"
   ]
  },
  {
   "cell_type": "code",
   "execution_count": 118,
   "id": "a48ccbec",
   "metadata": {},
   "outputs": [],
   "source": [
    "hyperparam_grid_rf2 = {\n",
    "    'class_weight': ['balanced'],\n",
    "    'criterion': ['entropy'],\n",
    "    'n_estimators': number_of_trees2,   \n",
    "     'max_features': number_of_features\n",
    "}"
   ]
  },
  {
   "cell_type": "code",
   "execution_count": 119,
   "id": "05fd0911",
   "metadata": {},
   "outputs": [],
   "source": [
    "gridSearch_rf_f1_score2 = GridSearchCV(RandomForestClassifier(), hyperparam_grid_rf2, cv=3,scoring=f1_scorer )"
   ]
  },
  {
   "cell_type": "markdown",
   "id": "075e3779",
   "metadata": {},
   "source": [
    "DO NOT RUN THE NEXT CELL. IT WILL TAKE TOO LONG! (5 -6 MINUTES)\n",
    "\n",
    "YOU DO NOT NEED TO RUN IT. YOU ONLY NEED TO OBSERVE THE RESULTS\n",
    "\n",
    "YOU WON'T NEED TO DO THIS IN THE EXAM"
   ]
  },
  {
   "cell_type": "code",
   "execution_count": 120,
   "id": "5dc85a11",
   "metadata": {},
   "outputs": [
    {
     "data": {
      "text/plain": [
       "GridSearchCV(cv=3, estimator=RandomForestClassifier(),\n",
       "             param_grid={'class_weight': ['balanced'], 'criterion': ['entropy'],\n",
       "                         'max_features': array([10, 20, 30, 40, 50]),\n",
       "                         'n_estimators': array([ 250,  750, 1000])},\n",
       "             scoring=make_scorer(f1_score, pos_label=Yes))"
      ]
     },
     "execution_count": 120,
     "metadata": {},
     "output_type": "execute_result"
    }
   ],
   "source": [
    "gridSearch_rf_f1_score2.fit(X_train, y_train)"
   ]
  },
  {
   "cell_type": "code",
   "execution_count": 121,
   "id": "8c9de7ee",
   "metadata": {},
   "outputs": [
    {
     "name": "stdout",
     "output_type": "stream",
     "text": [
      "Parameters:  {'class_weight': 'balanced', 'criterion': 'entropy', 'max_features': 30, 'n_estimators': 750}\n"
     ]
    }
   ],
   "source": [
    "print('Parameters: ', gridSearch_rf_f1_score2.best_params_)"
   ]
  },
  {
   "cell_type": "code",
   "execution_count": 122,
   "id": "71b1839c",
   "metadata": {},
   "outputs": [],
   "source": [
    "rf_caravan3= RandomForestClassifier(n_estimators = 750, class_weight= 'balanced', criterion='entropy', max_features=30, random_state=1)"
   ]
  },
  {
   "cell_type": "code",
   "execution_count": 123,
   "id": "3686eb49",
   "metadata": {},
   "outputs": [
    {
     "data": {
      "text/plain": [
       "RandomForestClassifier(class_weight='balanced', criterion='entropy',\n",
       "                       max_features=30, n_estimators=750, random_state=1)"
      ]
     },
     "execution_count": 123,
     "metadata": {},
     "output_type": "execute_result"
    }
   ],
   "source": [
    "rf_caravan3.fit (X_train, y_train)"
   ]
  },
  {
   "cell_type": "code",
   "execution_count": 124,
   "id": "ae6258d8",
   "metadata": {},
   "outputs": [],
   "source": [
    "y_predicted_caravan_rf3= rf_caravan3.predict (X_test)"
   ]
  },
  {
   "cell_type": "code",
   "execution_count": 125,
   "id": "f74886a2",
   "metadata": {},
   "outputs": [
    {
     "data": {
      "text/plain": [
       "array([[1077,   24],\n",
       "       [  60,    4]], dtype=int64)"
      ]
     },
     "execution_count": 125,
     "metadata": {},
     "output_type": "execute_result"
    }
   ],
   "source": [
    "confusion_matrix (y_test, y_predicted_caravan_rf3)"
   ]
  },
  {
   "cell_type": "markdown",
   "id": "031bf739",
   "metadata": {},
   "source": [
    "NOT GOOD... TIME TO GIVE UP :)"
   ]
  },
  {
   "cell_type": "markdown",
   "id": "4ea77ba5",
   "metadata": {},
   "source": [
    "# The Default dataset"
   ]
  },
  {
   "cell_type": "markdown",
   "id": "fd5d72a5",
   "metadata": {},
   "source": [
    "Apply Bagging and RF to the default dataset"
   ]
  }
 ],
 "metadata": {
  "kernelspec": {
   "display_name": "Python 3",
   "language": "python",
   "name": "python3"
  },
  "language_info": {
   "codemirror_mode": {
    "name": "ipython",
    "version": 3
   },
   "file_extension": ".py",
   "mimetype": "text/x-python",
   "name": "python",
   "nbconvert_exporter": "python",
   "pygments_lexer": "ipython3",
   "version": "3.8.8"
  }
 },
 "nbformat": 4,
 "nbformat_minor": 5
}
