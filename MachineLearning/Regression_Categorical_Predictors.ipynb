{
 "cells": [
  {
   "cell_type": "markdown",
   "id": "35245399",
   "metadata": {},
   "source": [
    "## Including categorical predictors in a regression model: dummy coding\n",
    "\n",
    "There are multiple ways of both doing dummy coding in Python and incorporating categorical predictors in Regression.\n",
    "We are going to learn only one of those ways (one that I consider to be very easy to apply).\n",
    "\n",
    "You can explore other Python methods to incorporate categorical predictors in Regression and choose your preferred one.\n",
    "\n",
    "<br>"
   ]
  },
  {
   "cell_type": "code",
   "execution_count": null,
   "id": "c9879ea2",
   "metadata": {},
   "outputs": [],
   "source": [
    "# Importing useful libraries\n",
    "\n",
    "import pandas as pd\n",
    "import numpy as np\n",
    "import statsmodels.formula.api as smf"
   ]
  },
  {
   "cell_type": "markdown",
   "id": "f97bc6ff",
   "metadata": {},
   "source": [
    "We are going to use the Credit dataset, which is part of the ISLR package in R (we used this package in the Statistics with R class).\n",
    "\n",
    "The goal with this dataset is to find a model to predict a person's credit card balance (the Balance column) using all other variables as predictors."
   ]
  },
  {
   "cell_type": "code",
   "execution_count": null,
   "id": "a238056b",
   "metadata": {},
   "outputs": [],
   "source": [
    "Credit_df= pd.read_csv('C:\\\\Users\\\\jheredi2\\\\Documents\\\\PythonDataAnalytics\\\\1-Datasets\\\\Credit_ISLR.csv')"
   ]
  },
  {
   "cell_type": "code",
   "execution_count": null,
   "id": "964f2a48",
   "metadata": {
    "scrolled": true
   },
   "outputs": [],
   "source": [
    "Credit_df.info()"
   ]
  },
  {
   "cell_type": "markdown",
   "id": "b826e730",
   "metadata": {},
   "source": [
    "Let's remove the first two columns of this data frame because they are not useful.\n",
    "\n",
    "__Note__: The second column could be useful if you wanted to replace the default integer index by an index starting at 1 and ending in 506. However, we will not do that because we do not really need to."
   ]
  },
  {
   "cell_type": "code",
   "execution_count": null,
   "id": "0497b9a6",
   "metadata": {},
   "outputs": [],
   "source": [
    "Credit_df.drop(['Unnamed: 0', 'ID'], axis= 1, inplace=True)"
   ]
  },
  {
   "cell_type": "code",
   "execution_count": null,
   "id": "0fd73b3e",
   "metadata": {},
   "outputs": [],
   "source": [
    "Credit_df.info()"
   ]
  },
  {
   "cell_type": "markdown",
   "id": "c23c474a",
   "metadata": {},
   "source": [
    "Now let's use the Pandas method get_dummies() to convert the categorical predictors in dummy variables.\n",
    "\n",
    "The argument drop_first enables us to create the right number of dummy variables for each predictor; that is, one less than the categories of the perdictor. When the argument drop_first= True, the first category is removed.\n",
    "\n",
    "__Note__: I did a quick search and couldn't find how to know in Python what the first category of a categorical predictor is. Not a big deal because you can quickly run the get_dummies() and will find it out."
   ]
  },
  {
   "cell_type": "code",
   "execution_count": null,
   "id": "9b7d59ac",
   "metadata": {},
   "outputs": [],
   "source": [
    "Credit_df_dummies=pd.get_dummies(Credit_df,columns=['Gender','Student','Married','Ethnicity'], drop_first=True)"
   ]
  },
  {
   "cell_type": "code",
   "execution_count": null,
   "id": "d1c739bf",
   "metadata": {},
   "outputs": [],
   "source": [
    "Credit_df_dummies.head()"
   ]
  },
  {
   "cell_type": "markdown",
   "id": "1e6717bd",
   "metadata": {},
   "source": [
    "__Note__: If you do not like the category that get_dummies() drops when drop_first= True, you can set drop_first= False (which is the default) and choose your own dummy (or dummies). This approach is shown a few code cells below!\n",
    "\n",
    "However, in class, to keep the analysis simpler, we will go with drop_first= True"
   ]
  },
  {
   "cell_type": "markdown",
   "id": "c66ca69c",
   "metadata": {},
   "source": [
    "Let's run a regression analysis to get an equation with Balance as the DV, one quantitative predictor (Income) and all qualitative predictors available (gender, student status, marital status, and ethnicity)"
   ]
  },
  {
   "cell_type": "code",
   "execution_count": null,
   "id": "9c95ad72",
   "metadata": {
    "scrolled": true
   },
   "outputs": [],
   "source": [
    "regression_object= smf.ols('Balance~ Income+ Gender_Female + Student_Yes + Married_Yes + Ethnicity_Asian+ Ethnicity_Caucasian', data= Credit_df_dummies)"
   ]
  },
  {
   "cell_type": "code",
   "execution_count": null,
   "id": "638a2039",
   "metadata": {},
   "outputs": [],
   "source": [
    "regression_model= regression_object.fit()"
   ]
  },
  {
   "cell_type": "code",
   "execution_count": null,
   "id": "0c4649a7",
   "metadata": {},
   "outputs": [],
   "source": [
    "regression_model.summary()"
   ]
  },
  {
   "cell_type": "markdown",
   "id": "6857c856",
   "metadata": {},
   "source": [
    "Let's re-run regression only with the few predictors that make sense to include in the analysis."
   ]
  },
  {
   "cell_type": "code",
   "execution_count": null,
   "id": "cccfd2bc",
   "metadata": {},
   "outputs": [],
   "source": [
    "# Notice how the statmodels methods are applied in this code cell. Compare to the three previous code cells.\n",
    "\n",
    "smf.ols('Balance~ Income + Student_Yes', data= Credit_df_dummies).fit().summary()"
   ]
  },
  {
   "cell_type": "code",
   "execution_count": null,
   "id": "f953c2cc",
   "metadata": {},
   "outputs": [],
   "source": [
    "regression_object2= smf.ols('Balance~ Income + Student_Yes', data= Credit_df_dummies)"
   ]
  },
  {
   "cell_type": "code",
   "execution_count": null,
   "id": "c2054d05",
   "metadata": {},
   "outputs": [],
   "source": [
    "regression_model2= regression_object2.fit()"
   ]
  },
  {
   "cell_type": "markdown",
   "id": "745b2e34",
   "metadata": {},
   "source": [
    "Answer these questions. __I will give you time to think about the answers for five minutes and then we discuss together__:\n",
    "\n",
    "\n",
    "1) Do people with more income tend to have more or less credit card balance?\n",
    "\n",
    "2) Does being student increase the chances of having a higher credit card balance?\n",
    "\n",
    "Use the predict() method that we studied last class and:\n",
    "\n",
    "3) Use the equation to predict the balance for a student making $60,000\n",
    "\n",
    "__Note__: The income values are recorded in units of $1000.\n",
    "\n",
    "4) Use the equation to predict the balance for a non-student making $60,000\n",
    "\n",
    "5) Use the equation to predict the balance for a student making $45,000\n",
    "\n",
    "6) Now try to get the predictions for 3, 4, and 5 using only one line of code"
   ]
  },
  {
   "cell_type": "code",
   "execution_count": null,
   "id": "fb092cee",
   "metadata": {},
   "outputs": [],
   "source": [
    "# Answer 3) here!\n",
    "\n"
   ]
  },
  {
   "cell_type": "code",
   "execution_count": null,
   "id": "131d080f",
   "metadata": {},
   "outputs": [],
   "source": [
    "# Answer 4) here!\n",
    "\n"
   ]
  },
  {
   "cell_type": "code",
   "execution_count": null,
   "id": "8dbdc3dd",
   "metadata": {},
   "outputs": [],
   "source": [
    "# Answer 5) here!\n",
    "\n"
   ]
  },
  {
   "cell_type": "code",
   "execution_count": null,
   "id": "84c73627",
   "metadata": {},
   "outputs": [],
   "source": [
    "# Answer 6) here!\n",
    "\n"
   ]
  },
  {
   "cell_type": "markdown",
   "id": "045754ca",
   "metadata": {},
   "source": [
    "### About the importance of dropping one category when using dummy coding"
   ]
  },
  {
   "cell_type": "code",
   "execution_count": null,
   "id": "07490ff1",
   "metadata": {},
   "outputs": [],
   "source": [
    "Credit_df_dummies3= pd.get_dummies(Credit_df,columns=['Gender','Student','Married','Ethnicity'])"
   ]
  },
  {
   "cell_type": "code",
   "execution_count": null,
   "id": "403fa293",
   "metadata": {},
   "outputs": [],
   "source": [
    "Credit_df_dummies3.head()"
   ]
  },
  {
   "cell_type": "code",
   "execution_count": null,
   "id": "90652b2b",
   "metadata": {},
   "outputs": [],
   "source": [
    "Credit_df_dummies3.rename(columns={'Gender_ Male':'Gender_Male','Ethnicity_African American':'Ethnicity_African_American'}, inplace=True)"
   ]
  },
  {
   "cell_type": "code",
   "execution_count": null,
   "id": "704a81b7",
   "metadata": {},
   "outputs": [],
   "source": [
    "my_regression_formula = 'Balance~' + '+'.join(Credit_df_dummies3.columns.difference(['Balance','Limit','Rating','Cards','Age','Education']))"
   ]
  },
  {
   "cell_type": "code",
   "execution_count": null,
   "id": "de15a6f8",
   "metadata": {},
   "outputs": [],
   "source": [
    "regression_object3= smf.ols(my_regression_formula, data= Credit_df_dummies3)"
   ]
  },
  {
   "cell_type": "code",
   "execution_count": null,
   "id": "1daf6a98",
   "metadata": {},
   "outputs": [],
   "source": [
    "regression_model3= regression_object3.fit()"
   ]
  },
  {
   "cell_type": "code",
   "execution_count": null,
   "id": "d200e632",
   "metadata": {},
   "outputs": [],
   "source": [
    "regression_model3.summary()"
   ]
  },
  {
   "cell_type": "markdown",
   "id": "e5dcda0e",
   "metadata": {},
   "source": [
    "### OPTIONAL MATERIAL!"
   ]
  },
  {
   "cell_type": "markdown",
   "id": "bff02d5a",
   "metadata": {},
   "source": [
    "#### The next few cells illustrate another way of using get_dummies() to convert categorical predictors in dummy variables\n",
    "\n",
    "#### WE WON'T USE THIS WAY IN CLASS\n",
    "\n",
    "#### Explore it as an independent study if you are curious about it"
   ]
  },
  {
   "cell_type": "markdown",
   "id": "3d93d4c2",
   "metadata": {},
   "source": [
    "This second way of using get_dummies() does not set drop_first= True, instead, it leaves it as False, which is the default value."
   ]
  },
  {
   "cell_type": "code",
   "execution_count": null,
   "id": "f213ed79",
   "metadata": {},
   "outputs": [],
   "source": [
    "Credit_df_dummies2=pd.get_dummies(Credit_df,columns=['Gender','Student','Married','Ethnicity'])"
   ]
  },
  {
   "cell_type": "code",
   "execution_count": null,
   "id": "280c21ac",
   "metadata": {},
   "outputs": [],
   "source": [
    "Credit_df_dummies2.head()"
   ]
  },
  {
   "cell_type": "markdown",
   "id": "a68d373f",
   "metadata": {},
   "source": [
    "Now, for each predictor, you can keep the dummy (or dummies) that you want, instead of being forced to use the one chosen by Pandas when drop_first= True"
   ]
  },
  {
   "cell_type": "markdown",
   "id": "36dc97b4",
   "metadata": {},
   "source": [
    "For example, let's keep Gender_Male and drop Gender_Female. "
   ]
  },
  {
   "cell_type": "code",
   "execution_count": null,
   "id": "ab57519f",
   "metadata": {},
   "outputs": [],
   "source": [
    "Credit_df_dummies2.drop(['Gender_Female'], axis= 1, inplace=True)"
   ]
  },
  {
   "cell_type": "code",
   "execution_count": null,
   "id": "ff14a399",
   "metadata": {},
   "outputs": [],
   "source": [
    "Credit_df_dummies2.head()"
   ]
  },
  {
   "cell_type": "markdown",
   "id": "75275aa2",
   "metadata": {},
   "source": [
    "For the other predictors, drop the same categories dropped by drop_first= True."
   ]
  },
  {
   "cell_type": "code",
   "execution_count": null,
   "id": "33f3d70f",
   "metadata": {},
   "outputs": [],
   "source": [
    "Credit_df_dummies2.drop(['Student_No', 'Married_No','Ethnicity_African American'], axis= 1, inplace=True)"
   ]
  },
  {
   "cell_type": "code",
   "execution_count": null,
   "id": "fda94fe6",
   "metadata": {},
   "outputs": [],
   "source": [
    "Credit_df_dummies2.head()"
   ]
  },
  {
   "cell_type": "markdown",
   "id": "83927e79",
   "metadata": {},
   "source": [
    "You can also change the name of the dummies created by get_dummies() IF you do not like those names. For example, let's say you want to change Ethnicity_Asian by Asian, and Ethnicity_Caucasian by Caucasian."
   ]
  },
  {
   "cell_type": "code",
   "execution_count": null,
   "id": "94146cf2",
   "metadata": {},
   "outputs": [],
   "source": [
    "Credit_df_dummies2.rename (columns ={'Ethnicity_Asian':'Asian','Ethnicity_Caucasian':'Caucasian'},inplace=True)"
   ]
  },
  {
   "cell_type": "code",
   "execution_count": null,
   "id": "b02ccdc9",
   "metadata": {
    "scrolled": true
   },
   "outputs": [],
   "source": [
    "Credit_df_dummies2.head()"
   ]
  }
 ],
 "metadata": {
  "kernelspec": {
   "display_name": "Python 3",
   "language": "python",
   "name": "python3"
  },
  "language_info": {
   "codemirror_mode": {
    "name": "ipython",
    "version": 3
   },
   "file_extension": ".py",
   "mimetype": "text/x-python",
   "name": "python",
   "nbconvert_exporter": "python",
   "pygments_lexer": "ipython3",
   "version": "3.8.8"
  }
 },
 "nbformat": 4,
 "nbformat_minor": 5
}
