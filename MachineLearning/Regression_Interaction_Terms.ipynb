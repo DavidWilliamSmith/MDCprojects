{
 "cells": [
  {
   "cell_type": "code",
   "execution_count": null,
   "id": "13f2e07a",
   "metadata": {},
   "outputs": [],
   "source": [
    "# Import useful libraries\n",
    "\n",
    "import pandas as pd\n",
    "import numpy as np\n",
    "import matplotlib.pyplot as plt\n",
    "import statsmodels.formula.api as smf"
   ]
  },
  {
   "cell_type": "code",
   "execution_count": null,
   "id": "eda534d1",
   "metadata": {},
   "outputs": [],
   "source": [
    "Auto_df=pd.read_csv('C:\\\\Users\\\\jheredi2\\\\Documents\\\\PythonDataAnalytics\\\\1-Datasets\\\\Auto_ISLR.csv')"
   ]
  },
  {
   "cell_type": "markdown",
   "id": "a90ca26e",
   "metadata": {},
   "source": [
    "<br>\n",
    "\n",
    "Let's study the __possible__ interaction effect between horsepower and year. That is, we want to know if the effect of horsepower on mpg depends on the year.\n",
    "\n",
    "If the interaction term between these predictors is significant, the answer to this question is \"YES\"."
   ]
  },
  {
   "cell_type": "markdown",
   "id": "f166b060",
   "metadata": {},
   "source": [
    "<br>\n",
    "\n",
    "Before we start this analysis, let's posit a practical (non-statistical) question:\n",
    "\n",
    "Does it make sense to think that there might be an interaction between these predictors? In other words, in practice, is it reasonable to suspect that horsepower and year interact?"
   ]
  },
  {
   "cell_type": "markdown",
   "id": "da0c5ea3",
   "metadata": {},
   "source": [
    "<br>\n",
    "\n",
    "To study the __possible__ interaction effect between horsepower and year, we are going to study this model:\n",
    "\n",
    "Estimated mpg= bo + b1* horsepower + b2* year + b3* (horsepower)* (year)\n",
    "\n",
    "<br>\n",
    "\n",
    "__Note__: We could also study the effect of this interaction term in more complex models involving these two predictors. For example, in a polynomial model:\n",
    "\n",
    "Estimated mpg= bo + b1* horsepower + b2* (horsepower squared) + b3 * year + b4 * (year squared) + b5 * (horsepower)* (year)\n",
    "\n",
    "\n",
    "However, the interpretation of the interaction term is less obvious when non-linear terms are included. Thus, for the sake of a clean interpretation, let's study the interaction in the model with only linear terms."
   ]
  },
  {
   "cell_type": "code",
   "execution_count": null,
   "id": "1357ec9c",
   "metadata": {},
   "outputs": [],
   "source": [
    "regression_object1=smf.ols('mpg~ horsepower+ year + horsepower:year', data=Auto_df)\n",
    "\n",
    "# An alternative way of writing the previous code is:\n",
    "\n",
    "# smf.ols('mpg~ horsepower*year', data=Auto_df)"
   ]
  },
  {
   "cell_type": "code",
   "execution_count": null,
   "id": "7051be8e",
   "metadata": {},
   "outputs": [],
   "source": [
    "regression_model1= regression_object1.fit()"
   ]
  },
  {
   "cell_type": "code",
   "execution_count": null,
   "id": "49e84436",
   "metadata": {},
   "outputs": [],
   "source": [
    "regression_model1.summary() "
   ]
  },
  {
   "cell_type": "markdown",
   "id": "6659fce4",
   "metadata": {},
   "source": [
    "Now, let's compare the model with interaction with the one without the interaction term (Estimated mpg= bo + b1* horsepower + b2* year)\n",
    "\n",
    "Run the following code cell and then take a moment to compare the models."
   ]
  },
  {
   "cell_type": "code",
   "execution_count": null,
   "id": "0a77c593",
   "metadata": {},
   "outputs": [],
   "source": [
    "smf.ols('mpg~ horsepower+ year', data=Auto_df).fit().summary()"
   ]
  },
  {
   "cell_type": "markdown",
   "id": "cfd8f9f1",
   "metadata": {},
   "source": [
    "Now, let's write the equation with the interaction term and interpret the interaction:"
   ]
  },
  {
   "cell_type": "code",
   "execution_count": null,
   "id": "56421b78",
   "metadata": {},
   "outputs": [],
   "source": [
    "regression_model1.params"
   ]
  },
  {
   "cell_type": "markdown",
   "id": "8441c34a",
   "metadata": {},
   "source": [
    "<br>\n",
    "\n",
    "Estimated mpg= -126.61 + 1.05 * hp + 2.19 * year - 0.02* (hp) *(year)\n",
    "\n",
    "Estimated mpg= -126.61 + 1.05 *hp - 0.02 *(hp) *(year) + 2.19 *year \n",
    "\n",
    "Estimated mpg= -126.61 + (1.05 - 0.02 year)* hp + 2.19* year\n"
   ]
  },
  {
   "cell_type": "markdown",
   "id": "df0dfbbf",
   "metadata": {},
   "source": [
    "__Some comments/interpretations about the previous model__:\n",
    "\n",
    "As we already knew from the previous class session, horsepower and mpg are negatively related . More hp, less mpg.\n",
    "\n",
    "\n",
    "How can we tell from this equation that horsepower and mpg are negatively related? \n",
    "\n",
    "\n",
    "Notice that the expression -0.02*year + 1.05 is always negative (i.e., hp is always multiplying a negative number). See next code cells:"
   ]
  },
  {
   "cell_type": "code",
   "execution_count": null,
   "id": "19bdfda7",
   "metadata": {},
   "outputs": [],
   "source": [
    "Auto_df['year'].describe()"
   ]
  },
  {
   "cell_type": "code",
   "execution_count": null,
   "id": "382c8593",
   "metadata": {},
   "outputs": [],
   "source": [
    "# When year equals its minimum value of 70, the expresion takes a negative value\n",
    "\n",
    "-0.02*70 +1.05"
   ]
  },
  {
   "cell_type": "code",
   "execution_count": null,
   "id": "2d648c46",
   "metadata": {},
   "outputs": [],
   "source": [
    "# As the year increases (for ex, from 70 to 80), the expression (-0.02 year + 1.05) becomes even more negative:\n",
    "\n",
    "-0.02*80 +1.05"
   ]
  },
  {
   "cell_type": "markdown",
   "id": "d382df32",
   "metadata": {},
   "source": [
    "__Interpreting the interaction__\n",
    "\n",
    "Let's interpret the interaction by using an example. Let's increase the value of horsepower and see how this affects mpg under two different values of year."
   ]
  },
  {
   "cell_type": "code",
   "execution_count": null,
   "id": "ab2d687c",
   "metadata": {
    "scrolled": true
   },
   "outputs": [],
   "source": [
    "# Computing the reduction in mpg when horsepower increases from 100 to 120 and year=75\n",
    "\n",
    "regression_model1.predict({'horsepower':100, 'year':75}) - regression_model1.predict({'horsepower':120, 'year':75})"
   ]
  },
  {
   "cell_type": "code",
   "execution_count": null,
   "id": "fadda626",
   "metadata": {},
   "outputs": [],
   "source": [
    "# Computing the reduction in mpg when horsepower increases from 100 to 120 and year=80\n",
    "\n",
    "regression_model1.predict({'horsepower':100, 'year':80}) - regression_model1.predict({'horsepower':120, 'year':80})"
   ]
  },
  {
   "cell_type": "markdown",
   "id": "adced6f9",
   "metadata": {},
   "source": [
    "__Interpretation__: The effect of horsepower on mpg intensifies (becomes stronger) as the year goes by (as time passes)\n",
    "\n",
    "There is more reduction in mpg as horsepower increases for larger (more recent) years."
   ]
  },
  {
   "cell_type": "markdown",
   "id": "0957a877",
   "metadata": {},
   "source": [
    "\n",
    "### Interaction between a qualitative and a quantitative predictor"
   ]
  },
  {
   "cell_type": "markdown",
   "id": "d1bfc92b",
   "metadata": {},
   "source": [
    "As we discussed in the Polynomial Regression session, the Auto dataset has a qualitative predictor: the car's origin\n",
    "However, __origin__ is improrly labeled.\n",
    "\n",
    "Last class, I chose to avoid the data cleaning needed to be able to use __origin__ as a predictor, but tonight we are going to do it. Let's fix __origin__ to be able to use it as a qualitative predictor !\n",
    "\n",
    "In the current version of the Auto dataset, __origin__ is an integer variable, with values of 1 for American cars, 2 for European cars, and 3 is for Japanese cars."
   ]
  },
  {
   "cell_type": "code",
   "execution_count": null,
   "id": "2b7972d5",
   "metadata": {},
   "outputs": [],
   "source": [
    "Auto_df.info()"
   ]
  },
  {
   "cell_type": "markdown",
   "id": "591b494b",
   "metadata": {},
   "source": [
    "Let us the Pandas method cut() to fix origin.\n",
    "\n",
    "Note: An alternative to using cut() is to do this by using a loop and if-else statements."
   ]
  },
  {
   "cell_type": "code",
   "execution_count": null,
   "id": "892a3ea4",
   "metadata": {
    "scrolled": true
   },
   "outputs": [],
   "source": [
    "Auto_df['origin_cat']= pd.cut(Auto_df['origin'], bins=[0,1,2,3], labels=['American','European','Japanese'])\n",
    "\n",
    "# Lower limit not considered in argument 'bins' when doing the cutting"
   ]
  },
  {
   "cell_type": "code",
   "execution_count": null,
   "id": "ad0b1219",
   "metadata": {
    "scrolled": true
   },
   "outputs": [],
   "source": [
    "Auto_df[['origin','origin_cat']].head(50)"
   ]
  },
  {
   "cell_type": "code",
   "execution_count": null,
   "id": "4e81a2f1",
   "metadata": {},
   "outputs": [],
   "source": [
    "Auto_df_dummies=pd.get_dummies(Auto_df,columns=['origin_cat'], drop_first=True)"
   ]
  },
  {
   "cell_type": "code",
   "execution_count": null,
   "id": "27c3cfb1",
   "metadata": {},
   "outputs": [],
   "source": [
    "Auto_df_dummies.head()"
   ]
  },
  {
   "cell_type": "markdown",
   "id": "506a1a3c",
   "metadata": {},
   "source": [
    "<br>\n",
    "\n",
    "__Let's do a regression analysis that includes Origin and... What quantitative predictor?__\n",
    "\n",
    "I am not sure what's the best quantitative predictor to combine with the two dummies created from origin.\n",
    "We can do something similar to what we did in the Polynomial regresion of mpg VS horsepower. Remember that we ran a loop to find out what was the best predictor to add to the second degree Poly on horsepower.\n",
    "\n",
    "We could run a loop to see what's the best quantitative predictor to combine with the dummies created from origin.\n",
    "\n",
    "For the sake of saving time, we are going to assume we are interested on the interaction between Origin and Horsepower. Does the car's origin change the effect of horsepower on mpg?"
   ]
  },
  {
   "cell_type": "code",
   "execution_count": null,
   "id": "cb8253f4",
   "metadata": {},
   "outputs": [],
   "source": [
    "regression_object2=smf.ols('mpg~ horsepower+ origin_cat_European + origin_cat_Japanese + horsepower:origin_cat_European + horsepower:origin_cat_Japanese', data=Auto_df_dummies)"
   ]
  },
  {
   "cell_type": "code",
   "execution_count": null,
   "id": "8f3f2803",
   "metadata": {},
   "outputs": [],
   "source": [
    "regression_model2= regression_object2.fit()"
   ]
  },
  {
   "cell_type": "code",
   "execution_count": null,
   "id": "019431f3",
   "metadata": {},
   "outputs": [],
   "source": [
    "regression_model2.summary() "
   ]
  },
  {
   "cell_type": "markdown",
   "id": "1bd8afec",
   "metadata": {},
   "source": [
    "Let's write the equation with the interaction terms and interpret it:"
   ]
  },
  {
   "cell_type": "code",
   "execution_count": null,
   "id": "d3e555a0",
   "metadata": {},
   "outputs": [],
   "source": [
    "regression_model2.params"
   ]
  },
  {
   "cell_type": "markdown",
   "id": "fd9502fc",
   "metadata": {},
   "source": [
    "Predicted mpg = 34.48 - 0.12 * hp + 11 * European + 14.34 * Japanese - 0.1 * (hp)(European) - 0.11 * (hp)(Japanese)\n",
    "\n",
    "1) For an American car:\n",
    "\n",
    "__Predicted mpg = 34.48 - 0.12 * hp__\n",
    "\n",
    "2) For a Europen car:\n",
    "\n",
    "Predicted mpg = 34.48 - 0.12 * hp + 11 * 1 - 0.1 * hp (1)\n",
    "\n",
    "__Predicted mpg = 45.48 -0.22 * hp__\n",
    "\n",
    "3) For a Japanese car:\n",
    "\n",
    "Predicted mpg = 34.48 - 0.12 * hp + 14.34 * 1 - 0.11 * (hp)(1)\n",
    "\n",
    "__Predicted mpg = 48.82 -0.23 * hp__\n",
    "\n",
    "<br>\n",
    "\n",
    "__Interpretation of interaction__\n",
    "\n",
    "The effect of horsepower on mpg is stronger for european cars compared to americans.\n",
    "\n",
    "The effect of horsepower on mpg is stronger for japanese cars compared to americans."
   ]
  },
  {
   "cell_type": "markdown",
   "id": "f66dee7e",
   "metadata": {},
   "source": [
    "<br>\n",
    "\n",
    "Now let's do a scatteplot of mpg VS horsepower, with a different regression line for each origin.\n",
    "\n",
    "<br>"
   ]
  },
  {
   "cell_type": "code",
   "execution_count": null,
   "id": "dd7d399b",
   "metadata": {
    "scrolled": true
   },
   "outputs": [],
   "source": [
    "plt.style.use('seaborn')\n",
    "\n",
    "plt.scatter(Auto_df['horsepower'], Auto_df['mpg'],c='grey',marker='o')\n",
    "\n",
    "plt.xlabel(\"Horsepower\")\n",
    "\n",
    "plt.ylabel(\"MPG\")\n",
    "\n",
    "\n",
    "# To get the line for American\n",
    "\n",
    "plt.plot(Auto_df['horsepower'], regression_model2.predict({'horsepower':Auto_df['horsepower'],'origin_cat_European':np.full(392,0),'origin_cat_Japanese':np.full(392,0)}), c='red', ls='--')\n",
    "\n",
    "\n",
    "# To get the line for European\n",
    "\n",
    "plt.plot(Auto_df['horsepower'], regression_model2.predict({'horsepower':Auto_df['horsepower'],'origin_cat_European':np.full(392,1),'origin_cat_Japanese':np.full(392,0)}), c='green', ls='--')\n",
    "\n",
    "#To get the line for Japanese\n",
    "\n",
    "plt.plot(Auto_df['horsepower'], regression_model2.predict({'horsepower':Auto_df['horsepower'],'origin_cat_European':np.full(392,0),'origin_cat_Japanese':np.full(392,1)}), c='black', ls='--')\n",
    "\n",
    "#plt.figure(figsize=(12,12))\n",
    "              \n",
    "plt.show()"
   ]
  }
 ],
 "metadata": {
  "kernelspec": {
   "display_name": "Python 3",
   "language": "python",
   "name": "python3"
  },
  "language_info": {
   "codemirror_mode": {
    "name": "ipython",
    "version": 3
   },
   "file_extension": ".py",
   "mimetype": "text/x-python",
   "name": "python",
   "nbconvert_exporter": "python",
   "pygments_lexer": "ipython3",
   "version": "3.8.8"
  }
 },
 "nbformat": 4,
 "nbformat_minor": 5
}
