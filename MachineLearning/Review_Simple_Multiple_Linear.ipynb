{
 "cells": [
  {
   "cell_type": "markdown",
   "id": "b1f701cd",
   "metadata": {},
   "source": [
    "## Simple and Multiple Linear Regression in Python\n",
    "\n",
    "There are several options to run a regression analysis in Python. You can use Scikit-learn, Statsmodels, SciPy, and probably other packages.\n",
    "\n",
    "Since in this class we only want to __briefly review how to do linear regression with Python__ (we learned the theory about Regression in the R class already), I chose to illustrate regression analysis using one of the two libraries in Statsmodels available to do so. \n",
    "\n",
    "I encourage you to explore and learn how to do regression analysis with other Python packages, and then select your __personal favorite package__ to do Linear Regression with Python."
   ]
  },
  {
   "cell_type": "code",
   "execution_count": null,
   "id": "68f9dbb5",
   "metadata": {},
   "outputs": [],
   "source": [
    "# Importing required libraries\n",
    "\n",
    "import pandas as pd\n",
    "import numpy as np\n",
    "import statsmodels.formula.api as smf"
   ]
  },
  {
   "cell_type": "markdown",
   "id": "aa2282bd",
   "metadata": {},
   "source": [
    "We will also import the _datasets_ package from Scikit-learn library.\n",
    "\n",
    "The _datasets_ package includes seven clean and ready-to-use datasets than can be imported to try out statistical and ML techniques.\n",
    "\n",
    "One of these datasets is the familiar Boston dataset. I chose to use this dataset to illustrate regression in Python since you are already familiar with it. "
   ]
  },
  {
   "cell_type": "code",
   "execution_count": null,
   "id": "25132906",
   "metadata": {},
   "outputs": [],
   "source": [
    "from sklearn import datasets"
   ]
  },
  {
   "cell_type": "markdown",
   "id": "686939d7",
   "metadata": {},
   "source": [
    "To read the datasets available in the __datasets package__, you need to call the method .load_DATASETNAME()"
   ]
  },
  {
   "cell_type": "code",
   "execution_count": null,
   "id": "52955f6b",
   "metadata": {},
   "outputs": [],
   "source": [
    "boston_data=datasets.load_boston()"
   ]
  },
  {
   "cell_type": "code",
   "execution_count": null,
   "id": "74c047ce",
   "metadata": {},
   "outputs": [],
   "source": [
    "type(boston_data)"
   ]
  },
  {
   "cell_type": "code",
   "execution_count": null,
   "id": "5efb5079",
   "metadata": {},
   "outputs": [],
   "source": [
    "boston_data.keys()"
   ]
  },
  {
   "cell_type": "code",
   "execution_count": null,
   "id": "421b3820",
   "metadata": {},
   "outputs": [],
   "source": [
    "boston_data.DESCR"
   ]
  },
  {
   "cell_type": "code",
   "execution_count": null,
   "id": "3c21d6b2",
   "metadata": {
    "scrolled": true
   },
   "outputs": [],
   "source": [
    "print(boston_data.DESCR)"
   ]
  },
  {
   "cell_type": "markdown",
   "id": "2cf99fe3",
   "metadata": {},
   "source": [
    "Now, let's read the data imported from sklearn, which we called boston_data, into a Pandas data frame.\n",
    "\n",
    "First, read all the columns with the Xs variables (the predictors (or features, as they like to call them in Python circles)). After this, we will add the outcome (target) variable to the data frame."
   ]
  },
  {
   "cell_type": "code",
   "execution_count": null,
   "id": "867950dc",
   "metadata": {},
   "outputs": [],
   "source": [
    "# Creating a data frame with the predictors\n",
    "\n",
    "boston_df= pd.DataFrame(boston_data.data, columns= boston_data.feature_names)"
   ]
  },
  {
   "cell_type": "code",
   "execution_count": null,
   "id": "44dfa373",
   "metadata": {},
   "outputs": [],
   "source": [
    "# Reading the outcome into the data frame\n",
    "\n",
    "boston_df['medv']= boston_data.target"
   ]
  },
  {
   "cell_type": "code",
   "execution_count": null,
   "id": "d6010b0e",
   "metadata": {},
   "outputs": [],
   "source": [
    "boston_df.head()"
   ]
  },
  {
   "cell_type": "code",
   "execution_count": null,
   "id": "86e04514",
   "metadata": {},
   "outputs": [],
   "source": [
    "boston_df.info()"
   ]
  },
  {
   "cell_type": "markdown",
   "id": "9cb771fb",
   "metadata": {},
   "source": [
    "## Simple Linear Regression\n",
    "\n",
    "Let's do the same example we did in the Statistics with R class. That is, the linear regression of __medv__ versus __lstat__.\n",
    "\n",
    "Before applying regression, let's do the usual preliminary analysis. Specifically, let's compute the __correlation coefficient__ between medv and lstat and do a __scatterplot__ between these two variables."
   ]
  },
  {
   "cell_type": "code",
   "execution_count": null,
   "id": "c20e7d6e",
   "metadata": {},
   "outputs": [],
   "source": [
    "# Option 1 (of MANY) to compute the correlation coefficient between two variables\n",
    "# Use the corr() method for data frames\n",
    "\n",
    "boston_df[['LSTAT', 'medv']].corr()"
   ]
  },
  {
   "cell_type": "code",
   "execution_count": null,
   "id": "712c20c2",
   "metadata": {},
   "outputs": [],
   "source": [
    "boston_df.loc[:, ['LSTAT', 'medv']].corr()"
   ]
  },
  {
   "cell_type": "markdown",
   "id": "9f4e787c",
   "metadata": {},
   "source": [
    "How would you retrieve only the correlation coefficient value from the previous matrix? TRY IT !!!"
   ]
  },
  {
   "cell_type": "code",
   "execution_count": null,
   "id": "370f1141",
   "metadata": {},
   "outputs": [],
   "source": [
    "# ENTER YOUR ANSWER HERE\n",
    "\n"
   ]
  },
  {
   "cell_type": "code",
   "execution_count": null,
   "id": "4dbed3f1",
   "metadata": {},
   "outputs": [],
   "source": [
    "# Option 2 (of MANY) to compute the correlation coefficient\n",
    "# Import the pearsonr() function from Scipy\n",
    "\n",
    "from scipy.stats.stats import pearsonr"
   ]
  },
  {
   "cell_type": "code",
   "execution_count": null,
   "id": "265d6459",
   "metadata": {},
   "outputs": [],
   "source": [
    "# The pearsonr() function returns the correlation coefficient and the P value associated to this coefficient\n",
    "\n",
    "pearsonr(boston_df['LSTAT'], boston_df['medv'])"
   ]
  },
  {
   "cell_type": "code",
   "execution_count": null,
   "id": "df33ae41",
   "metadata": {},
   "outputs": [],
   "source": [
    "# If you only want the the correlation coefficient\n",
    "\n",
    "pearsonr(boston_df['LSTAT'], boston_df['medv'])[0]"
   ]
  },
  {
   "cell_type": "markdown",
   "id": "73a96010",
   "metadata": {},
   "source": [
    "__Scatterplot__\n",
    "\n",
    "Do a scatterplot between lstat and medv using using the functions in the __matplotlib library__\n",
    "\n",
    "Quoting from __w3schools__ ... \"Most of Matplotlib utilities lies under the pyplot submodule\"\n",
    "\n",
    "That's why we import Matplotlib and the pyplot module (package)"
   ]
  },
  {
   "cell_type": "code",
   "execution_count": null,
   "id": "a6017f13",
   "metadata": {},
   "outputs": [],
   "source": [
    "import matplotlib.pyplot as plt"
   ]
  },
  {
   "cell_type": "markdown",
   "id": "e0c9ad26",
   "metadata": {},
   "source": [
    "We are going to use plt.scatter() method since it is the conventional way of doing a scatter plot. However, if your aren't trying to do a sophisticated scatter plot, like in our case, plt.plot() will also do the job too."
   ]
  },
  {
   "cell_type": "code",
   "execution_count": null,
   "id": "ff1d1079",
   "metadata": {},
   "outputs": [],
   "source": [
    "plt.scatter(boston_df['LSTAT'], boston_df['medv'],c='green',marker='x')\n",
    "\n",
    "plt.xlabel(\"LSTAT\")\n",
    "\n",
    "plt.ylabel(\"medv\")\n",
    "\n",
    "plt.title (\"Median house values VS % of houses with low SES in the neighborhood\")\n",
    "\n",
    "plt.axhline(boston_df['medv'].mean(),c='red',ls='--')\n",
    "\n",
    "# I added the next line because I did not like the way the marks were placed in the y axis\n",
    "\n",
    "plt.yticks(np.arange(boston_df['medv'].min(), boston_df['medv'].max()+1, 5))\n",
    "\n",
    "plt.show()"
   ]
  },
  {
   "cell_type": "markdown",
   "id": "c92aa322",
   "metadata": {},
   "source": [
    "### Obtaining the simple linear regression model between medv and lstat"
   ]
  },
  {
   "cell_type": "code",
   "execution_count": null,
   "id": "91bac03e",
   "metadata": {},
   "outputs": [],
   "source": [
    "regression_object= smf.ols('medv~LSTAT', data=boston_df)"
   ]
  },
  {
   "cell_type": "markdown",
   "id": "864e94d1",
   "metadata": {},
   "source": [
    "What does 'ols' stand for?"
   ]
  },
  {
   "cell_type": "code",
   "execution_count": null,
   "id": "f0ab8c78",
   "metadata": {},
   "outputs": [],
   "source": [
    "regression_model= regression_object.fit()"
   ]
  },
  {
   "cell_type": "code",
   "execution_count": null,
   "id": "36aa95f7",
   "metadata": {},
   "outputs": [],
   "source": [
    "regression_model.summary()"
   ]
  },
  {
   "cell_type": "code",
   "execution_count": null,
   "id": "00a87fac",
   "metadata": {},
   "outputs": [],
   "source": [
    "regression_model.params"
   ]
  },
  {
   "cell_type": "markdown",
   "id": "b48e9529",
   "metadata": {},
   "source": [
    "__How to make predictions with the estimated equation?__\n",
    "\n",
    "Let's get the prection of medv for the observations in the boston_df"
   ]
  },
  {
   "cell_type": "code",
   "execution_count": null,
   "id": "f6a35db4",
   "metadata": {},
   "outputs": [],
   "source": [
    "regression_model.predict()"
   ]
  },
  {
   "cell_type": "markdown",
   "id": "cf55df98",
   "metadata": {},
   "source": [
    "Now, let's use the equation to predict medv for test data.\n",
    "\n",
    "For example, let's predict the values of medv based on the regression equation for five new values of lstat.\n",
    "\n",
    "One of the valid options to pass the new data for the predictor is to do it as a dictonary.\n",
    "\n",
    "One option to create this dictionary is to create a list and converted to a dictionary using the dict() function."
   ]
  },
  {
   "cell_type": "code",
   "execution_count": null,
   "id": "b9bf2566",
   "metadata": {},
   "outputs": [],
   "source": [
    "# 5.5, 6, 7, 8.5, and 9.3\n",
    "\n",
    "# These are five new values of lstat for observations (neighborhoods) that were not in the boston_df\n",
    "\n",
    "regression_model.predict(dict(LSTAT=[5.5, 6, 7, 8.5, 9.3]))"
   ]
  },
  {
   "cell_type": "markdown",
   "id": "ca287a31",
   "metadata": {},
   "source": [
    "Option 2: Pass a dictionary directly"
   ]
  },
  {
   "cell_type": "code",
   "execution_count": null,
   "id": "05b3a2bb",
   "metadata": {},
   "outputs": [],
   "source": [
    "regression_model.predict({'LSTAT': [5.5, 6, 7, 8.5, 9.3]})"
   ]
  },
  {
   "cell_type": "markdown",
   "id": "d5c5b695",
   "metadata": {},
   "source": [
    "#### Plot of Residuals versus Fitted (Predicted) values"
   ]
  },
  {
   "cell_type": "markdown",
   "id": "bdcfadeb",
   "metadata": {},
   "source": [
    "First, let's repeat the previous scatter plot of medv VS LSTAT, but let's add the regression line to it this time."
   ]
  },
  {
   "cell_type": "code",
   "execution_count": null,
   "id": "ea2d2a51",
   "metadata": {
    "scrolled": true
   },
   "outputs": [],
   "source": [
    "plt.scatter(boston_df['LSTAT'], boston_df['medv'],c='green',marker='o')\n",
    "plt.xlabel(\"LSTAT\")\n",
    "plt.ylabel(\"medv\")\n",
    "plt.title (\"Relationship between house values and % of low ses\")\n",
    "plt.axhline(boston_df['medv'].mean(),c='red',ls='--')\n",
    "plt.yticks(np.arange(boston_df['medv'].min(), boston_df['medv'].max()+1, 5))\n",
    "\n",
    "# This is the additional statement needed to plot the regression line in the scatterplot\n",
    "plt.plot(boston_df['LSTAT'], regression_model.predict(), c='red', ls='-')\n",
    "\n",
    "plt.show()"
   ]
  },
  {
   "cell_type": "code",
   "execution_count": null,
   "id": "74a78e30",
   "metadata": {},
   "outputs": [],
   "source": [
    "# Before doing the plot of the residuals, let's compute the residuals\n",
    "\n",
    "residuals = boston_df['medv'] - regression_model.predict()"
   ]
  },
  {
   "cell_type": "code",
   "execution_count": null,
   "id": "26990790",
   "metadata": {},
   "outputs": [],
   "source": [
    "plt.scatter(regression_model.predict(), residuals,c='blue',marker='o')\n",
    "\n",
    "plt.xlabel(\"Fitted\")\n",
    "plt.ylabel(\"Residuals\")\n",
    "plt.axhline(0,c='red',ls='--')\n",
    "plt.show()"
   ]
  },
  {
   "cell_type": "markdown",
   "id": "357e4a9c",
   "metadata": {},
   "source": [
    "## Multiple Linear Regression\n",
    "\n",
    "We are still using the Boston dataset example"
   ]
  },
  {
   "cell_type": "code",
   "execution_count": null,
   "id": "8c12ac18",
   "metadata": {},
   "outputs": [],
   "source": [
    "boston_df.info()"
   ]
  },
  {
   "cell_type": "markdown",
   "id": "5e6a231e",
   "metadata": {},
   "source": [
    "#### Regression of medv VS all 13 predictors\n",
    "\n",
    "In R, we used a shorcut to obtain a model including all the predictors without the need to enter each predictor individually. The shortcut was:\n",
    "\n",
    "lm (medv ~ ., data= Boston)\n",
    "\n",
    "It does not seem to be such an option when using the Statsmodel Python package. However, we can use a workaround: create a formula using string methods and pass this formula to the ols() method we used before in simple regression. See next:"
   ]
  },
  {
   "cell_type": "code",
   "execution_count": null,
   "id": "5ff19696",
   "metadata": {},
   "outputs": [],
   "source": [
    "boston_df.columns"
   ]
  },
  {
   "cell_type": "markdown",
   "id": "f39eca32",
   "metadata": {},
   "source": [
    "What we are trying to get is this: 'medv~ CRIM+ZN+INDUS+CHAS+ ... all other predictors'\n",
    "\n",
    "Let's get this part first: 'CRIM+ZN+INDUS+CHAS+ ... all other predictors'"
   ]
  },
  {
   "cell_type": "code",
   "execution_count": null,
   "id": "3ff93134",
   "metadata": {},
   "outputs": [],
   "source": [
    "all_predictors= '+'.join(boston_df.columns.difference(['medv']))"
   ]
  },
  {
   "cell_type": "code",
   "execution_count": null,
   "id": "67cd7b80",
   "metadata": {},
   "outputs": [],
   "source": [
    "all_predictors"
   ]
  },
  {
   "cell_type": "code",
   "execution_count": null,
   "id": "13747aa2",
   "metadata": {},
   "outputs": [],
   "source": [
    "# Now, we can use all_predictors to get the formula we want\n",
    "\n",
    "my_regression_formula = 'medv~' + all_predictors"
   ]
  },
  {
   "cell_type": "code",
   "execution_count": null,
   "id": "ee11d5e0",
   "metadata": {},
   "outputs": [],
   "source": [
    "my_regression_formula"
   ]
  },
  {
   "cell_type": "code",
   "execution_count": null,
   "id": "acdc2f7c",
   "metadata": {},
   "outputs": [],
   "source": [
    "regression_object2= smf.ols(my_regression_formula, data=boston_df)"
   ]
  },
  {
   "cell_type": "code",
   "execution_count": null,
   "id": "bee4662d",
   "metadata": {},
   "outputs": [],
   "source": [
    "regression_model2= regression_object2.fit()"
   ]
  },
  {
   "cell_type": "code",
   "execution_count": null,
   "id": "ea342c55",
   "metadata": {},
   "outputs": [],
   "source": [
    "regression_model2.summary()"
   ]
  },
  {
   "cell_type": "code",
   "execution_count": null,
   "id": "c995953e",
   "metadata": {},
   "outputs": [],
   "source": [
    "regression_model2.params"
   ]
  },
  {
   "cell_type": "markdown",
   "id": "fe8861fd",
   "metadata": {},
   "source": [
    "If we only wanted the regression of medv with a subset of the predictors (e.g., crim, zn, and lstat), then:"
   ]
  },
  {
   "cell_type": "code",
   "execution_count": null,
   "id": "17829447",
   "metadata": {},
   "outputs": [],
   "source": [
    "regression_object3= smf.ols('medv~ CRIM+ ZN + LSTAT', data= boston_df)"
   ]
  },
  {
   "cell_type": "code",
   "execution_count": null,
   "id": "df54041a",
   "metadata": {},
   "outputs": [],
   "source": [
    "regression_model3= regression_object3.fit()"
   ]
  },
  {
   "cell_type": "code",
   "execution_count": null,
   "id": "23e4f3a5",
   "metadata": {},
   "outputs": [],
   "source": [
    "regression_model3.params"
   ]
  },
  {
   "cell_type": "markdown",
   "id": "640b4900",
   "metadata": {},
   "source": [
    "Use this equation to predict medv for two new neighborhoods with the following characteristics:\n",
    "\n",
    "Neighborhood 1: crim=0.85 , zn= 20, lstat= 8.5\n",
    "\n",
    "Neighborhood 2: crim=0.75 , zn= 25, lstat= 8.8"
   ]
  },
  {
   "cell_type": "code",
   "execution_count": null,
   "id": "4fea795f",
   "metadata": {},
   "outputs": [],
   "source": [
    "regression_model3.predict({'CRIM':[0.85, 0.75],'ZN':[20, 25], 'LSTAT':[8.5, 8.8]})"
   ]
  }
 ],
 "metadata": {
  "kernelspec": {
   "display_name": "Python 3",
   "language": "python",
   "name": "python3"
  },
  "language_info": {
   "codemirror_mode": {
    "name": "ipython",
    "version": 3
   },
   "file_extension": ".py",
   "mimetype": "text/x-python",
   "name": "python",
   "nbconvert_exporter": "python",
   "pygments_lexer": "ipython3",
   "version": "3.8.8"
  }
 },
 "nbformat": 4,
 "nbformat_minor": 5
}
