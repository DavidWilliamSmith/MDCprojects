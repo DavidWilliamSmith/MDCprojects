{
 "cells": [
  {
   "cell_type": "code",
   "execution_count": null,
   "id": "e48f78e4",
   "metadata": {},
   "outputs": [],
   "source": [
    "import numpy as np\n",
    "import pandas as pd\n",
    "import matplotlib.pyplot as plt"
   ]
  },
  {
   "cell_type": "code",
   "execution_count": null,
   "id": "67e211e7",
   "metadata": {},
   "outputs": [],
   "source": [
    "from sklearn.model_selection import train_test_split\n",
    "\n",
    "from sklearn.metrics import accuracy_score\n",
    "\n",
    "from sklearn.metrics import confusion_matrix\n",
    "\n",
    "from sklearn.metrics import classification_report"
   ]
  },
  {
   "cell_type": "code",
   "execution_count": null,
   "id": "989dfca0",
   "metadata": {},
   "outputs": [],
   "source": [
    "# Importing the method needed to apply SVM\n",
    "\n",
    "from sklearn.svm import SVC"
   ]
  },
  {
   "cell_type": "markdown",
   "id": "d433952c",
   "metadata": {},
   "source": [
    "## SVM applied to the Default dataset"
   ]
  },
  {
   "cell_type": "markdown",
   "id": "a96aef4a",
   "metadata": {},
   "source": [
    "### A polynomial kernel"
   ]
  },
  {
   "cell_type": "markdown",
   "id": "fbdb3fc3",
   "metadata": {},
   "source": [
    "__Note from the scikit-learn documentation:__\n",
    "\n",
    "\"Support Vector Machine algorithms are not scale invariant, so it is highly recommended to scale your data.\""
   ]
  },
  {
   "cell_type": "code",
   "execution_count": null,
   "id": "2de08b92",
   "metadata": {},
   "outputs": [],
   "source": [
    "Default_df= pd.read_csv('C:\\\\Users\\\\jheredi2\\\\Documents\\\\PythonDataAnalytics\\\\1-Datasets\\\\Default.csv')"
   ]
  },
  {
   "cell_type": "code",
   "execution_count": null,
   "id": "5843b3e8",
   "metadata": {},
   "outputs": [],
   "source": [
    "Default_df_dummies= pd.get_dummies(Default_df,columns=['student'], drop_first=True)"
   ]
  },
  {
   "cell_type": "code",
   "execution_count": null,
   "id": "551275bf",
   "metadata": {},
   "outputs": [],
   "source": [
    "X_train_def, X_test_def, y_train_def, y_test_def= train_test_split (Default_df_dummies.iloc[:,1:], Default_df_dummies['default'], test_size=0.2, random_state=1)"
   ]
  },
  {
   "cell_type": "code",
   "execution_count": null,
   "id": "7c978638",
   "metadata": {},
   "outputs": [],
   "source": [
    "from sklearn.pipeline import make_pipeline\n",
    "from sklearn.preprocessing import StandardScaler"
   ]
  },
  {
   "cell_type": "code",
   "execution_count": null,
   "id": "c043f86f",
   "metadata": {},
   "outputs": [],
   "source": [
    "from sklearn.model_selection import GridSearchCV"
   ]
  },
  {
   "cell_type": "code",
   "execution_count": null,
   "id": "2a8826d7",
   "metadata": {},
   "outputs": [],
   "source": [
    "pipe_default_CVSearch = make_pipeline(StandardScaler(), SVC())"
   ]
  },
  {
   "cell_type": "code",
   "execution_count": null,
   "id": "464ab2f0",
   "metadata": {},
   "outputs": [],
   "source": [
    "SVC().get_params().keys()"
   ]
  },
  {
   "cell_type": "markdown",
   "id": "8ce09b23",
   "metadata": {},
   "source": [
    "__The hyperparameter C__\n",
    "\n",
    "Fragment from the ISL book:\n",
    "\n",
    "\"As C increases, the method becomes more tolerant of violations to the margin (the margin is larger) and there are more misclassifications of the training data.\"\n",
    "\n",
    "\"C=0 amounts to not allowing any misclassification of the trainig data, which is only possible when the classes are separable\"\n",
    "\n",
    "Conversely, as C decreases, the method becomes less tolerant of violations to the margin (the margin narrows) and there are less misclassifications of the training data (but POTENTIALLY MORE OVERFITTING and more misclassifications on the test data !!!)"
   ]
  },
  {
   "cell_type": "markdown",
   "id": "a8173ffb",
   "metadata": {},
   "source": [
    "__The hyperparameter C in scikit learn__: In scikit learn, what they call C is actually 1/(the real C) (confusing, I know !!!)\n",
    "\n",
    "When you read the interpretation of C in the scikit learn documentation, the relationships are stated differently. For example, they would say:\n",
    "\n",
    "\"_As C increases, there are LESS misclassifications of the training data_\" (because in scikit learn, C is actually 1/ the real C)\n",
    "\n",
    "\"The C parameter trades off correct classification of training examples against maximization of the decision function’s margin. For larger values of C, a smaller margin will be accepted if the decision function is better at classifying all training points correctly. A lower C will encourage a larger margin, therefore a simpler decision function, at the cost of training accuracy. In other words C behaves as a regularization parameter in the SVM.\""
   ]
  },
  {
   "cell_type": "markdown",
   "id": "06192f4f",
   "metadata": {},
   "source": [
    "From the scikit-learn documentation:\n",
    "\n",
    "\"C is 1 by default and it’s a reasonable default choice. If you have a lot of noisy observations you should decrease it: decreasing C corresponds to more regularization.\""
   ]
  },
  {
   "cell_type": "markdown",
   "id": "448702c2",
   "metadata": {},
   "source": [
    "__Note__: When fitting a polynomial kernel, we could also tune another hyperparameter called gamma. We won't tune for two reasons:\n",
    "\n",
    "a) It is not fundamental to do so with a polynomial: you could try different values of gamma and see what happens, but it not fundamental that you do so. We can always use the default value of gamma.\n",
    "\n",
    "b) Tuning both C and gamma is VERY computationally intense... So need to do tune them both if it is not fundamental\n",
    "\n",
    "Tuning gamma when a radial basis kernel is used is more fundamental (more advisable to do) than doing it with a poynomial kernel."
   ]
  },
  {
   "cell_type": "code",
   "execution_count": null,
   "id": "ce8c61d0",
   "metadata": {},
   "outputs": [],
   "source": [
    "# Real C (C from the book) (I limited it to only a few values because the computation is very intense)\n",
    "\n",
    "real_c= np.array ([1/100, 1/2, 1, 5, 10, 100])"
   ]
  },
  {
   "cell_type": "code",
   "execution_count": null,
   "id": "92dc589e",
   "metadata": {},
   "outputs": [],
   "source": [
    "real_c"
   ]
  },
  {
   "cell_type": "code",
   "execution_count": null,
   "id": "4ff8de61",
   "metadata": {},
   "outputs": [],
   "source": [
    "c_hyperparameter= 1/real_c"
   ]
  },
  {
   "cell_type": "code",
   "execution_count": null,
   "id": "ec33b5ad",
   "metadata": {},
   "outputs": [],
   "source": [
    "c_hyperparameter"
   ]
  },
  {
   "cell_type": "code",
   "execution_count": null,
   "id": "37b11126",
   "metadata": {},
   "outputs": [],
   "source": [
    "hyperparam_grid_poly = {\n",
    "    'svc__C': c_hyperparameter,\n",
    "    'svc__class_weight': ['balanced'],\n",
    "    'svc__degree':[1,2,3,4], # degree 1 correspond to the linear kernel\n",
    "    'svc__kernel':['poly']\n",
    "}"
   ]
  },
  {
   "cell_type": "code",
   "execution_count": null,
   "id": "cdc0ea4b",
   "metadata": {},
   "outputs": [],
   "source": [
    "grid_search_default= GridSearchCV(estimator= pipe_default_CVSearch, param_grid=hyperparam_grid_poly, cv=5, scoring='accuracy')"
   ]
  },
  {
   "cell_type": "code",
   "execution_count": null,
   "id": "4119fbc8",
   "metadata": {},
   "outputs": [],
   "source": [
    "grid_search_default.fit(X_train_def, y_train_def)"
   ]
  },
  {
   "cell_type": "code",
   "execution_count": null,
   "id": "b521b485",
   "metadata": {},
   "outputs": [],
   "source": [
    "grid_search_default.best_params_"
   ]
  },
  {
   "cell_type": "code",
   "execution_count": null,
   "id": "26239e5c",
   "metadata": {},
   "outputs": [],
   "source": [
    "pipe_default_poly_svc = make_pipeline(StandardScaler(), SVC(kernel='poly', degree=3, C=0.01, class_weight='balanced'))"
   ]
  },
  {
   "cell_type": "code",
   "execution_count": null,
   "id": "8fe85472",
   "metadata": {},
   "outputs": [],
   "source": [
    "pipe_default_poly_svc.fit (X_train_def, y_train_def)"
   ]
  },
  {
   "cell_type": "code",
   "execution_count": null,
   "id": "1061c433",
   "metadata": {},
   "outputs": [],
   "source": [
    "y_predicted_test_default1= pipe_default_poly_svc.predict(X_test_def)"
   ]
  },
  {
   "cell_type": "code",
   "execution_count": null,
   "id": "a4a44f61",
   "metadata": {},
   "outputs": [],
   "source": [
    "confusion_matrix (y_test_def, y_predicted_test_default1)"
   ]
  },
  {
   "cell_type": "code",
   "execution_count": null,
   "id": "89503672",
   "metadata": {},
   "outputs": [],
   "source": [
    "print (classification_report (y_test_def, y_predicted_test_default1))"
   ]
  },
  {
   "cell_type": "markdown",
   "id": "5c8613c2",
   "metadata": {},
   "source": [
    "__Choosing the hyperparameters based on f1_score__"
   ]
  },
  {
   "cell_type": "code",
   "execution_count": null,
   "id": "44306836",
   "metadata": {},
   "outputs": [],
   "source": [
    "from sklearn.metrics import f1_score\n",
    "\n",
    "from sklearn.metrics import make_scorer"
   ]
  },
  {
   "cell_type": "code",
   "execution_count": null,
   "id": "bff1dfbe",
   "metadata": {},
   "outputs": [],
   "source": [
    "f1_scorer = make_scorer(f1_score, pos_label='Yes')"
   ]
  },
  {
   "cell_type": "code",
   "execution_count": null,
   "id": "5ed69f62",
   "metadata": {},
   "outputs": [],
   "source": [
    "grid_search_default_f1score= GridSearchCV(estimator= pipe_default_CVSearch, param_grid=hyperparam_grid_default, cv=5, scoring=f1_scorer)"
   ]
  },
  {
   "cell_type": "code",
   "execution_count": null,
   "id": "0153d0b4",
   "metadata": {},
   "outputs": [],
   "source": [
    "grid_search_default_f1score.fit(X_train_def, y_train_def)"
   ]
  },
  {
   "cell_type": "code",
   "execution_count": null,
   "id": "349256eb",
   "metadata": {},
   "outputs": [],
   "source": [
    "grid_search_default_f1score.best_params_"
   ]
  },
  {
   "cell_type": "markdown",
   "id": "f9d067d4",
   "metadata": {},
   "source": [
    "Same hyperparameter values we got when we based the search on accuracy. Therefore, no need to continue."
   ]
  },
  {
   "cell_type": "markdown",
   "id": "33bd898b",
   "metadata": {},
   "source": [
    "### A Radial Basis Function (RBF) kernel"
   ]
  },
  {
   "cell_type": "markdown",
   "id": "263cd2f3",
   "metadata": {},
   "source": [
    "__Note from the scikit-learn documentation:__\n",
    "\n",
    "\" When training an SVM with the Radial Basis Function (RBF) kernel, two parameters must be considered: __C and gamma__.\" \n",
    "\n",
    "\"The parameter C, common to all SVM kernels, trades off misclassification of training examples against performance on test data.\"\n",
    "\n",
    "\"Gamma defines how much influence a single training example has. The larger gamma is, the closer other examples must be to be affected.\"\n",
    "\n",
    "\"Intuitively, the gamma parameter defines how far the influence of a single training example reaches, with low values meaning ‘far’ and high values meaning ‘close’\"\n",
    "\n",
    "\"Proper choice of C and gamma is critical to the SVM’s performance. One is advised to use GridSearchCV to find C and gamma.\"\n",
    "\n",
    "What values of gamma to try?\n",
    "\n",
    "\"In practice, a logarithmic grid from 10^-3 to 10^ 3 is enough\""
   ]
  },
  {
   "cell_type": "markdown",
   "id": "8674fdf4",
   "metadata": {},
   "source": [
    "https://scikit-learn.org/stable/auto_examples/svm/plot_rbf_parameters.html"
   ]
  },
  {
   "cell_type": "code",
   "execution_count": null,
   "id": "f6166865",
   "metadata": {},
   "outputs": [],
   "source": [
    "gamma_range = np.logspace(-3, 3, 5)\n",
    "gamma_range"
   ]
  },
  {
   "cell_type": "code",
   "execution_count": null,
   "id": "12eff3e8",
   "metadata": {},
   "outputs": [],
   "source": [
    "hyperparam_grid_default_rbf = {\n",
    "    'svc__C': c_hyperparameter,\n",
    "    'svc__class_weight': ['balanced'],\n",
    "    'svc__kernel':['rbf'],\n",
    "    'svc__gamma': gamma_range\n",
    "}"
   ]
  },
  {
   "cell_type": "code",
   "execution_count": null,
   "id": "aab8557f",
   "metadata": {},
   "outputs": [],
   "source": [
    "grid_search_default_rbf= GridSearchCV(estimator= pipe_default_CVSearch, param_grid=hyperparam_grid_default_rbf, cv=5, scoring='accuracy')"
   ]
  },
  {
   "cell_type": "code",
   "execution_count": null,
   "id": "056e9c43",
   "metadata": {},
   "outputs": [],
   "source": [
    "grid_search_default_rbf.fit(X_train_def, y_train_def)"
   ]
  },
  {
   "cell_type": "code",
   "execution_count": null,
   "id": "1f9baa4e",
   "metadata": {},
   "outputs": [],
   "source": [
    "grid_search_default_rbf.best_params_"
   ]
  },
  {
   "cell_type": "code",
   "execution_count": null,
   "id": "8b63b090",
   "metadata": {},
   "outputs": [],
   "source": [
    "pipe_default_rbf_svc = make_pipeline(StandardScaler(), SVC(kernel='rbf', C= 2, gamma= 1000, class_weight='balanced'))"
   ]
  },
  {
   "cell_type": "code",
   "execution_count": null,
   "id": "5266fe03",
   "metadata": {},
   "outputs": [],
   "source": [
    "pipe_default_rbf_svc.fit(X_train_def, y_train_def)"
   ]
  },
  {
   "cell_type": "code",
   "execution_count": null,
   "id": "1d4f8961",
   "metadata": {},
   "outputs": [],
   "source": [
    "y_predicted_test_default2= pipe_default_rbf_svc.predict(X_test_def)"
   ]
  },
  {
   "cell_type": "code",
   "execution_count": null,
   "id": "008bf90e",
   "metadata": {},
   "outputs": [],
   "source": [
    "confusion_matrix (y_test_def, y_predicted_test_default2)"
   ]
  },
  {
   "cell_type": "code",
   "execution_count": null,
   "id": "c0d1ca31",
   "metadata": {},
   "outputs": [],
   "source": [
    "print (classification_report(y_test_def, y_predicted_test_default2))"
   ]
  },
  {
   "cell_type": "markdown",
   "id": "32eff4b2",
   "metadata": {},
   "source": [
    "__Choosing the hyperparameters based on f1_score__ (DO IT AT HOME)"
   ]
  },
  {
   "cell_type": "markdown",
   "id": "26007e1f",
   "metadata": {},
   "source": [
    "## SVM applied to the Sonar dataset"
   ]
  },
  {
   "cell_type": "markdown",
   "id": "d691d1ee",
   "metadata": {},
   "source": [
    "### A polynomial kernel"
   ]
  },
  {
   "cell_type": "code",
   "execution_count": null,
   "id": "6c8c111a",
   "metadata": {},
   "outputs": [],
   "source": [
    "url = \"https://raw.githubusercontent.com/jbrownlee/Datasets/master/sonar.csv\""
   ]
  },
  {
   "cell_type": "code",
   "execution_count": null,
   "id": "b9b40d41",
   "metadata": {},
   "outputs": [],
   "source": [
    "sonar_df = pd.read_csv(url, header=None)"
   ]
  },
  {
   "cell_type": "code",
   "execution_count": null,
   "id": "a17aaae0",
   "metadata": {},
   "outputs": [],
   "source": [
    "sonar_df.info()"
   ]
  },
  {
   "cell_type": "code",
   "execution_count": null,
   "id": "0a763415",
   "metadata": {},
   "outputs": [],
   "source": [
    "X_train_sonar, X_test_sonar, y_train_sonar, y_test_sonar= train_test_split (sonar_df.iloc[:,:-1], sonar_df.iloc[:,-1], test_size=0.2, random_state=1)"
   ]
  },
  {
   "cell_type": "code",
   "execution_count": null,
   "id": "091e0a7e",
   "metadata": {},
   "outputs": [],
   "source": [
    "pipe_sonar_CVSearch = make_pipeline(StandardScaler(), SVC())"
   ]
  },
  {
   "cell_type": "code",
   "execution_count": null,
   "id": "2c0f3825",
   "metadata": {},
   "outputs": [],
   "source": [
    "real_c_sonar= np.array ([1/100, 1/50, 1/10, 1/2, 1, 5, 10, 20, 50, 100, 200, 500, 1000])"
   ]
  },
  {
   "cell_type": "code",
   "execution_count": null,
   "id": "b764c329",
   "metadata": {},
   "outputs": [],
   "source": [
    " c_hyperparameter_sonar= 1/ real_c_sonar"
   ]
  },
  {
   "cell_type": "code",
   "execution_count": null,
   "id": "4d25c5e8",
   "metadata": {},
   "outputs": [],
   "source": [
    "hyperparam_grid_poly_sonar = {\n",
    "    'svc__C': c_hyperparameter_sonar,\n",
    "    'svc__class_weight': ['balanced'],\n",
    "    'svc__degree':[1,2,3,4,5], # degree 1 correspond to the linear kernel\n",
    "    'svc__kernel':['poly']\n",
    "}"
   ]
  },
  {
   "cell_type": "code",
   "execution_count": null,
   "id": "3fa6a9f0",
   "metadata": {},
   "outputs": [],
   "source": [
    "grid_search_sonar= GridSearchCV(estimator= pipe_sonar_CVSearch, param_grid=hyperparam_grid_poly_sonar, cv= 5, scoring='accuracy')"
   ]
  },
  {
   "cell_type": "code",
   "execution_count": null,
   "id": "be8286ee",
   "metadata": {},
   "outputs": [],
   "source": [
    "grid_search_sonar.fit(X_train_sonar, y_train_sonar)"
   ]
  },
  {
   "cell_type": "code",
   "execution_count": null,
   "id": "90c91ade",
   "metadata": {},
   "outputs": [],
   "source": [
    "grid_search_sonar.best_params_"
   ]
  },
  {
   "cell_type": "code",
   "execution_count": null,
   "id": "24065f13",
   "metadata": {},
   "outputs": [],
   "source": [
    "pipe_sonar_poly_svc = make_pipeline(StandardScaler(), SVC(kernel='poly', degree=3, C= 1, class_weight='balanced'))"
   ]
  },
  {
   "cell_type": "code",
   "execution_count": null,
   "id": "7008c5b2",
   "metadata": {},
   "outputs": [],
   "source": [
    "pipe_sonar_poly_svc.fit(X_train_sonar, y_train_sonar)"
   ]
  },
  {
   "cell_type": "code",
   "execution_count": null,
   "id": "1fa094e3",
   "metadata": {},
   "outputs": [],
   "source": [
    "y_predicted_test_sonar1= pipe_sonar_poly_svc.predict(X_test_sonar)"
   ]
  },
  {
   "cell_type": "code",
   "execution_count": null,
   "id": "d834ea47",
   "metadata": {},
   "outputs": [],
   "source": [
    "confusion_matrix (y_test_sonar, y_predicted_test_sonar1)"
   ]
  },
  {
   "cell_type": "code",
   "execution_count": null,
   "id": "87e1dd5d",
   "metadata": {},
   "outputs": [],
   "source": [
    "print (classification_report (y_test_sonar, y_predicted_test_sonar1))"
   ]
  },
  {
   "cell_type": "markdown",
   "id": "78b7d09d",
   "metadata": {},
   "source": [
    "### A Radial Basis Function (RBF) kernel"
   ]
  },
  {
   "cell_type": "code",
   "execution_count": null,
   "id": "9fe29b40",
   "metadata": {},
   "outputs": [],
   "source": [
    "gamma_range_sonar = np.logspace(-3, 3, 20)\n",
    "gamma_range_sonar"
   ]
  },
  {
   "cell_type": "code",
   "execution_count": null,
   "id": "f2d505ff",
   "metadata": {},
   "outputs": [],
   "source": [
    "hyperparam_grid_sonar_rbf = {\n",
    "    'svc__C': c_hyperparameter_sonar,\n",
    "    'svc__class_weight': ['balanced'],\n",
    "    'svc__kernel':['rbf'],\n",
    "    'svc__gamma': gamma_range\n",
    "}"
   ]
  },
  {
   "cell_type": "code",
   "execution_count": null,
   "id": "3e2976cd",
   "metadata": {},
   "outputs": [],
   "source": [
    "grid_search_sonar_rbf= GridSearchCV(estimator= pipe_sonar_CVSearch, param_grid= hyperparam_grid_sonar_rbf, cv=5, scoring='accuracy')"
   ]
  },
  {
   "cell_type": "code",
   "execution_count": null,
   "id": "8cd4e8b3",
   "metadata": {},
   "outputs": [],
   "source": [
    "grid_search_sonar_rbf.fit(X_train_sonar, y_train_sonar)"
   ]
  },
  {
   "cell_type": "code",
   "execution_count": null,
   "id": "d6f73bec",
   "metadata": {},
   "outputs": [],
   "source": [
    "grid_search_sonar_rbf.best_params_"
   ]
  },
  {
   "cell_type": "code",
   "execution_count": null,
   "id": "19b6d3ae",
   "metadata": {},
   "outputs": [],
   "source": [
    "pipe_sonar_rbf_svc = make_pipeline(StandardScaler(), SVC(kernel='rbf', C= 100, gamma= 0.03162277660168379, class_weight='balanced'))"
   ]
  },
  {
   "cell_type": "code",
   "execution_count": null,
   "id": "434993f2",
   "metadata": {},
   "outputs": [],
   "source": [
    "pipe_sonar_rbf_svc.fit(X_train_sonar, y_train_sonar)"
   ]
  },
  {
   "cell_type": "code",
   "execution_count": null,
   "id": "c6c83bd3",
   "metadata": {},
   "outputs": [],
   "source": [
    "y_predicted_test_sonar2= pipe_sonar_rbf_svc.predict(X_test_sonar)"
   ]
  },
  {
   "cell_type": "code",
   "execution_count": null,
   "id": "cf1d57b9",
   "metadata": {},
   "outputs": [],
   "source": [
    "print (classification_report (y_test_sonar, y_predicted_test_sonar2))"
   ]
  },
  {
   "cell_type": "markdown",
   "id": "a038950f",
   "metadata": {},
   "source": [
    "## SVM applied to the Tips dataset"
   ]
  },
  {
   "cell_type": "markdown",
   "id": "15737440",
   "metadata": {},
   "source": [
    "__WORK ON THIS INDIVIDUALLY NOW IN CLASS !!!__"
   ]
  },
  {
   "cell_type": "markdown",
   "id": "2554bb66",
   "metadata": {},
   "source": [
    "EVERYONE MUST WORK ON THIS INDIVIDUALLY !!! \n",
    "\n",
    "CODE WILL BE DISCUSSED AND GUIDANCE PROVIDED, BUT CODE WILL NOT BE SHARED !!!"
   ]
  },
  {
   "cell_type": "markdown",
   "id": "961bf440",
   "metadata": {},
   "source": [
    "__First)__ Use polynomial kernel and select based on f1-score"
   ]
  },
  {
   "cell_type": "markdown",
   "id": "5114c05e",
   "metadata": {},
   "source": [
    "__Second)__ Use radial basis functions kernel and select based on f1-score"
   ]
  },
  {
   "cell_type": "code",
   "execution_count": null,
   "id": "6869f838",
   "metadata": {},
   "outputs": [],
   "source": [
    "Tips_df= pd.read_csv('C:\\\\Users\\\\jheredi2\\\\Documents\\\\PythonDataAnalytics\\\\1-Datasets\\\\tips.csv')"
   ]
  },
  {
   "cell_type": "code",
   "execution_count": null,
   "id": "92d05760",
   "metadata": {},
   "outputs": [],
   "source": [
    "Tips_df_dummies= pd.get_dummies(Tips_df,columns=['sex','smoker','day','time'], drop_first=True)"
   ]
  },
  {
   "cell_type": "code",
   "execution_count": null,
   "id": "033ff4e0",
   "metadata": {},
   "outputs": [],
   "source": [
    "Tips_df_dummies['great_tip']=((Tips_df_dummies['tip']/Tips_df_dummies['total_bill'])>=0.20)*1"
   ]
  },
  {
   "cell_type": "code",
   "execution_count": null,
   "id": "c2d91cec",
   "metadata": {},
   "outputs": [],
   "source": [
    "Tips_df_dummies.info()"
   ]
  },
  {
   "cell_type": "code",
   "execution_count": null,
   "id": "bd4092e4",
   "metadata": {},
   "outputs": [],
   "source": [
    "X_train_tip, X_test_tip, y_train_tip, y_test_tip= train_test_split (Tips_df_dummies.iloc[:,np.r_[0, 2:9]], Tips_df_dummies.iloc[:,-1], test_size=0.2, random_state=1)"
   ]
  },
  {
   "cell_type": "markdown",
   "id": "1bbb7568",
   "metadata": {},
   "source": [
    "POLYNOMIAL"
   ]
  },
  {
   "cell_type": "code",
   "execution_count": null,
   "id": "a39f47fc",
   "metadata": {},
   "outputs": [],
   "source": []
  },
  {
   "cell_type": "code",
   "execution_count": null,
   "id": "19cbcdb6",
   "metadata": {},
   "outputs": [],
   "source": []
  },
  {
   "cell_type": "markdown",
   "id": "4381ae77",
   "metadata": {},
   "source": [
    "RADIAL BASIS FUNCTION"
   ]
  },
  {
   "cell_type": "code",
   "execution_count": null,
   "id": "08182647",
   "metadata": {},
   "outputs": [],
   "source": []
  },
  {
   "cell_type": "code",
   "execution_count": null,
   "id": "1c2553b3",
   "metadata": {},
   "outputs": [],
   "source": []
  }
 ],
 "metadata": {
  "kernelspec": {
   "display_name": "Python 3",
   "language": "python",
   "name": "python3"
  },
  "language_info": {
   "codemirror_mode": {
    "name": "ipython",
    "version": 3
   },
   "file_extension": ".py",
   "mimetype": "text/x-python",
   "name": "python",
   "nbconvert_exporter": "python",
   "pygments_lexer": "ipython3",
   "version": "3.8.8"
  }
 },
 "nbformat": 4,
 "nbformat_minor": 5
}
