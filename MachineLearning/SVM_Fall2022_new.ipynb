{
 "cells": [
  {
   "cell_type": "code",
   "execution_count": 3,
   "id": "e48f78e4",
   "metadata": {},
   "outputs": [],
   "source": [
    "import numpy as np\n",
    "import pandas as pd\n",
    "import matplotlib.pyplot as plt"
   ]
  },
  {
   "cell_type": "code",
   "execution_count": 2,
   "id": "67e211e7",
   "metadata": {},
   "outputs": [],
   "source": [
    "from sklearn.model_selection import train_test_split\n",
    "\n",
    "from sklearn.metrics import accuracy_score\n",
    "\n",
    "from sklearn.metrics import confusion_matrix\n",
    "\n",
    "from sklearn.metrics import classification_report"
   ]
  },
  {
   "cell_type": "code",
   "execution_count": 3,
   "id": "989dfca0",
   "metadata": {},
   "outputs": [],
   "source": [
    "# Importing the method needed to apply SVM\n",
    "\n",
    "from sklearn.svm import SVC"
   ]
  },
  {
   "cell_type": "markdown",
   "id": "d433952c",
   "metadata": {},
   "source": [
    "## SVM applied to the Default dataset"
   ]
  },
  {
   "cell_type": "markdown",
   "id": "a96aef4a",
   "metadata": {},
   "source": [
    "### A polynomial kernel"
   ]
  },
  {
   "cell_type": "markdown",
   "id": "fbdb3fc3",
   "metadata": {},
   "source": [
    "__Note from the scikit-learn documentation:__\n",
    "\n",
    "\"Support Vector Machine algorithms are not scale invariant, so it is highly recommended to scale your data.\""
   ]
  },
  {
   "cell_type": "code",
   "execution_count": 4,
   "id": "2de08b92",
   "metadata": {},
   "outputs": [],
   "source": [
    "Default_df= pd.read_csv('C:\\\\Users\\\\jheredi2\\\\Documents\\\\PythonDataAnalytics\\\\1-Datasets\\\\Default.csv')"
   ]
  },
  {
   "cell_type": "code",
   "execution_count": 5,
   "id": "5843b3e8",
   "metadata": {},
   "outputs": [],
   "source": [
    "Default_df_dummies= pd.get_dummies(Default_df,columns=['student'], drop_first=True)"
   ]
  },
  {
   "cell_type": "code",
   "execution_count": 6,
   "id": "551275bf",
   "metadata": {},
   "outputs": [],
   "source": [
    "X_train_def, X_test_def, y_train_def, y_test_def= train_test_split (Default_df_dummies.iloc[:,1:], Default_df_dummies['default'], test_size=0.2, random_state=1)"
   ]
  },
  {
   "cell_type": "code",
   "execution_count": 7,
   "id": "7c978638",
   "metadata": {},
   "outputs": [],
   "source": [
    "from sklearn.pipeline import make_pipeline\n",
    "from sklearn.preprocessing import StandardScaler"
   ]
  },
  {
   "cell_type": "code",
   "execution_count": 8,
   "id": "c043f86f",
   "metadata": {},
   "outputs": [],
   "source": [
    "from sklearn.model_selection import GridSearchCV"
   ]
  },
  {
   "cell_type": "code",
   "execution_count": 9,
   "id": "2a8826d7",
   "metadata": {},
   "outputs": [],
   "source": [
    "pipe_default_CVSearch = make_pipeline(StandardScaler(), SVC())"
   ]
  },
  {
   "cell_type": "code",
   "execution_count": 10,
   "id": "464ab2f0",
   "metadata": {},
   "outputs": [
    {
     "data": {
      "text/plain": [
       "dict_keys(['C', 'break_ties', 'cache_size', 'class_weight', 'coef0', 'decision_function_shape', 'degree', 'gamma', 'kernel', 'max_iter', 'probability', 'random_state', 'shrinking', 'tol', 'verbose'])"
      ]
     },
     "execution_count": 10,
     "metadata": {},
     "output_type": "execute_result"
    }
   ],
   "source": [
    "SVC().get_params().keys()"
   ]
  },
  {
   "cell_type": "markdown",
   "id": "8ce09b23",
   "metadata": {},
   "source": [
    "__The hyperparameter C__\n",
    "\n",
    "Fragment from the ISL book:\n",
    "\n",
    "\"As C increases, the method becomes more tolerant of violations to the margin (the margin is larger) and there are more misclassifications of the training data.\"\n",
    "\n",
    "\"C=0 amounts to not allowing any misclassification of the trainig data, which is only possible when the classes are separable\"\n",
    "\n",
    "Conversely, as C decreases, the method becomes less tolerant of violations to the margin (the margin narrows) and there are less misclassifications of the training data (but POTENTIALLY MORE OVERFITTING and more misclassifications on the test data !!!)"
   ]
  },
  {
   "cell_type": "markdown",
   "id": "a8173ffb",
   "metadata": {},
   "source": [
    "__The hyperparameter C in scikit learn__: In scikit learn, what they call C is actually 1/(the real C) (confusing, I know !!!)\n",
    "\n",
    "When you read the interpretation of C in the scikit learn documentation, the relationships are stated differently. For example, they would say:\n",
    "\n",
    "\"_As C increases, there are LESS misclassifications of the training data_\" (because in scikit learn, C is actually 1/ the real C)\n",
    "\n",
    "\"The C parameter trades off correct classification of training examples against maximization of the decision function’s margin. For larger values of C, a smaller margin will be accepted if the decision function is better at classifying all training points correctly. A lower C will encourage a larger margin, therefore a simpler decision function, at the cost of training accuracy. In other words C behaves as a regularization parameter in the SVM.\""
   ]
  },
  {
   "cell_type": "markdown",
   "id": "06192f4f",
   "metadata": {},
   "source": [
    "From the scikit-learn documentation:\n",
    "\n",
    "\"C is 1 by default and it’s a reasonable default choice. If you have a lot of noisy observations you should decrease it: decreasing C corresponds to more regularization.\""
   ]
  },
  {
   "cell_type": "markdown",
   "id": "448702c2",
   "metadata": {},
   "source": [
    "__Note__: When fitting a polynomial kernel, we could also tune another hyperparameter called gamma. We won't tune for two reasons:\n",
    "\n",
    "a) It is not fundamental to do so with a polynomial: you could try different values of gamma and see what happens, but it not fundamental that you do so. We can always use the default value of gamma.\n",
    "\n",
    "b) Tuning both C and gamma is VERY computationally intense... So need to do tune them both if it is not fundamental\n",
    "\n",
    "Tuning gamma when a radial basis kernel is used is more fundamental (more advisable to do) than doing it with a poynomial kernel."
   ]
  },
  {
   "cell_type": "code",
   "execution_count": 11,
   "id": "ce8c61d0",
   "metadata": {},
   "outputs": [],
   "source": [
    "# Real C (C from the book) (I limited it to only a few values because the computation is very intense)\n",
    "\n",
    "real_c= np.array ([1/100, 1/2, 1, 5, 10, 100])"
   ]
  },
  {
   "cell_type": "code",
   "execution_count": 12,
   "id": "92dc589e",
   "metadata": {},
   "outputs": [
    {
     "data": {
      "text/plain": [
       "array([1.e-02, 5.e-01, 1.e+00, 5.e+00, 1.e+01, 1.e+02])"
      ]
     },
     "execution_count": 12,
     "metadata": {},
     "output_type": "execute_result"
    }
   ],
   "source": [
    "real_c"
   ]
  },
  {
   "cell_type": "code",
   "execution_count": 13,
   "id": "4ff8de61",
   "metadata": {},
   "outputs": [],
   "source": [
    "c_hyperparameter= 1/real_c"
   ]
  },
  {
   "cell_type": "code",
   "execution_count": 14,
   "id": "ec33b5ad",
   "metadata": {},
   "outputs": [
    {
     "data": {
      "text/plain": [
       "array([1.e+02, 2.e+00, 1.e+00, 2.e-01, 1.e-01, 1.e-02])"
      ]
     },
     "execution_count": 14,
     "metadata": {},
     "output_type": "execute_result"
    }
   ],
   "source": [
    "c_hyperparameter"
   ]
  },
  {
   "cell_type": "code",
   "execution_count": 15,
   "id": "37b11126",
   "metadata": {},
   "outputs": [],
   "source": [
    "hyperparam_grid_poly = {\n",
    "    'svc__C': c_hyperparameter,\n",
    "    'svc__class_weight': ['balanced'],\n",
    "    'svc__degree':[1,2,3,4], # degree 1 correspond to the linear kernel (= support vector classifier)\n",
    "    'svc__kernel':['poly']\n",
    "}"
   ]
  },
  {
   "cell_type": "code",
   "execution_count": 16,
   "id": "cdc0ea4b",
   "metadata": {},
   "outputs": [],
   "source": [
    "grid_search_default= GridSearchCV(estimator= pipe_default_CVSearch, param_grid=hyperparam_grid_poly, cv=5, scoring='accuracy')"
   ]
  },
  {
   "cell_type": "code",
   "execution_count": 17,
   "id": "4119fbc8",
   "metadata": {},
   "outputs": [
    {
     "data": {
      "text/plain": [
       "GridSearchCV(cv=5,\n",
       "             estimator=Pipeline(steps=[('standardscaler', StandardScaler()),\n",
       "                                       ('svc', SVC())]),\n",
       "             param_grid={'svc__C': array([1.e+02, 2.e+00, 1.e+00, 2.e-01, 1.e-01, 1.e-02]),\n",
       "                         'svc__class_weight': ['balanced'],\n",
       "                         'svc__degree': [1, 2, 3, 4], 'svc__kernel': ['poly']},\n",
       "             scoring='accuracy')"
      ]
     },
     "execution_count": 17,
     "metadata": {},
     "output_type": "execute_result"
    }
   ],
   "source": [
    "grid_search_default.fit(X_train_def, y_train_def)"
   ]
  },
  {
   "cell_type": "code",
   "execution_count": 18,
   "id": "b521b485",
   "metadata": {},
   "outputs": [
    {
     "data": {
      "text/plain": [
       "{'svc__C': 0.01,\n",
       " 'svc__class_weight': 'balanced',\n",
       " 'svc__degree': 3,\n",
       " 'svc__kernel': 'poly'}"
      ]
     },
     "execution_count": 18,
     "metadata": {},
     "output_type": "execute_result"
    }
   ],
   "source": [
    "grid_search_default.best_params_"
   ]
  },
  {
   "cell_type": "code",
   "execution_count": 19,
   "id": "26239e5c",
   "metadata": {},
   "outputs": [],
   "source": [
    "pipe_default_poly_svc = make_pipeline(StandardScaler(), SVC(kernel='poly', degree=3, C=0.01, class_weight='balanced'))"
   ]
  },
  {
   "cell_type": "code",
   "execution_count": 20,
   "id": "8fe85472",
   "metadata": {},
   "outputs": [
    {
     "data": {
      "text/plain": [
       "Pipeline(steps=[('standardscaler', StandardScaler()),\n",
       "                ('svc', SVC(C=0.01, class_weight='balanced', kernel='poly'))])"
      ]
     },
     "execution_count": 20,
     "metadata": {},
     "output_type": "execute_result"
    }
   ],
   "source": [
    "pipe_default_poly_svc.fit (X_train_def, y_train_def)"
   ]
  },
  {
   "cell_type": "code",
   "execution_count": 21,
   "id": "1061c433",
   "metadata": {},
   "outputs": [],
   "source": [
    "y_predicted_test_default1= pipe_default_poly_svc.predict(X_test_def)"
   ]
  },
  {
   "cell_type": "code",
   "execution_count": 22,
   "id": "a4a44f61",
   "metadata": {},
   "outputs": [
    {
     "data": {
      "text/plain": [
       "array([[1781,  160],\n",
       "       [  15,   44]], dtype=int64)"
      ]
     },
     "execution_count": 22,
     "metadata": {},
     "output_type": "execute_result"
    }
   ],
   "source": [
    "confusion_matrix (y_test_def, y_predicted_test_default1)"
   ]
  },
  {
   "cell_type": "code",
   "execution_count": 23,
   "id": "89503672",
   "metadata": {},
   "outputs": [
    {
     "name": "stdout",
     "output_type": "stream",
     "text": [
      "              precision    recall  f1-score   support\n",
      "\n",
      "          No       0.99      0.92      0.95      1941\n",
      "         Yes       0.22      0.75      0.33        59\n",
      "\n",
      "    accuracy                           0.91      2000\n",
      "   macro avg       0.60      0.83      0.64      2000\n",
      "weighted avg       0.97      0.91      0.93      2000\n",
      "\n"
     ]
    }
   ],
   "source": [
    "print (classification_report (y_test_def, y_predicted_test_default1))"
   ]
  },
  {
   "cell_type": "markdown",
   "id": "5c8613c2",
   "metadata": {},
   "source": [
    "__Choosing the hyperparameters based on f1_score__"
   ]
  },
  {
   "cell_type": "code",
   "execution_count": 24,
   "id": "44306836",
   "metadata": {},
   "outputs": [],
   "source": [
    "from sklearn.metrics import f1_score\n",
    "\n",
    "from sklearn.metrics import make_scorer"
   ]
  },
  {
   "cell_type": "code",
   "execution_count": 25,
   "id": "bff1dfbe",
   "metadata": {},
   "outputs": [],
   "source": [
    "f1_scorer = make_scorer(f1_score, pos_label='Yes')"
   ]
  },
  {
   "cell_type": "code",
   "execution_count": 27,
   "id": "5ed69f62",
   "metadata": {},
   "outputs": [],
   "source": [
    "grid_search_default_f1score= GridSearchCV(estimator= pipe_default_CVSearch, param_grid= hyperparam_grid_poly, cv=5, scoring=f1_scorer)"
   ]
  },
  {
   "cell_type": "code",
   "execution_count": null,
   "id": "0153d0b4",
   "metadata": {},
   "outputs": [],
   "source": [
    "grid_search_default_f1score.fit(X_train_def, y_train_def)"
   ]
  },
  {
   "cell_type": "code",
   "execution_count": null,
   "id": "349256eb",
   "metadata": {},
   "outputs": [],
   "source": [
    "grid_search_default_f1score.best_params_"
   ]
  },
  {
   "cell_type": "markdown",
   "id": "f9d067d4",
   "metadata": {},
   "source": [
    "Same hyperparameter values we got when we based the search on accuracy. Therefore, no need to continue."
   ]
  },
  {
   "cell_type": "markdown",
   "id": "33bd898b",
   "metadata": {},
   "source": [
    "### A Radial Basis Function (RBF) kernel"
   ]
  },
  {
   "cell_type": "markdown",
   "id": "263cd2f3",
   "metadata": {},
   "source": [
    "__Note from the scikit-learn documentation:__\n",
    "\n",
    "\" When training an SVM with the Radial Basis Function (RBF) kernel, two parameters must be considered: __C and gamma__.\" \n",
    "\n",
    "\"The parameter C, common to all SVM kernels, trades off misclassification of training examples against performance on test data.\"\n",
    "\n",
    "\"Gamma defines how much influence a single training example has. The larger gamma is, the closer other examples must be to be affected.\"\n",
    "\n",
    "\"Intuitively, the gamma parameter defines how far the influence of a single training example reaches, with low values meaning ‘far’ and high values meaning ‘close’\"\n",
    "\n",
    "\"Proper choice of C and gamma is critical to the SVM’s performance. One is advised to use GridSearchCV to find C and gamma.\"\n",
    "\n",
    "What values of gamma to try?\n",
    "\n",
    "\"In practice, a logarithmic (base 10) grid from 10^-3 to 10^ 3 is enough\""
   ]
  },
  {
   "cell_type": "markdown",
   "id": "8674fdf4",
   "metadata": {},
   "source": [
    "https://scikit-learn.org/stable/auto_examples/svm/plot_rbf_parameters.html"
   ]
  },
  {
   "cell_type": "code",
   "execution_count": 4,
   "id": "f6166865",
   "metadata": {},
   "outputs": [
    {
     "data": {
      "text/plain": [
       "array([1.00000000e-03, 3.16227766e-02, 1.00000000e+00, 3.16227766e+01,\n",
       "       1.00000000e+03])"
      ]
     },
     "execution_count": 4,
     "metadata": {},
     "output_type": "execute_result"
    }
   ],
   "source": [
    "gamma_range = np.logspace(-3, 3, 5)\n",
    "gamma_range"
   ]
  },
  {
   "cell_type": "markdown",
   "id": "7ddb35f2",
   "metadata": {},
   "source": [
    "What does np.logspace() give us?\n",
    "\n",
    "https://numpy.org/doc/stable/reference/generated/numpy.logspace.html"
   ]
  },
  {
   "cell_type": "code",
   "execution_count": 5,
   "id": "60130a3b",
   "metadata": {},
   "outputs": [
    {
     "name": "stdout",
     "output_type": "stream",
     "text": [
      "-3.0\n",
      "-1.5\n",
      "0.0\n",
      "1.5\n",
      "3.0\n"
     ]
    }
   ],
   "source": [
    "for i in gamma_range:\n",
    "    print (np.log10(i))"
   ]
  },
  {
   "cell_type": "code",
   "execution_count": 29,
   "id": "12eff3e8",
   "metadata": {},
   "outputs": [],
   "source": [
    "hyperparam_grid_default_rbf = {\n",
    "    'svc__C': c_hyperparameter,\n",
    "    'svc__class_weight': ['balanced'],\n",
    "    'svc__kernel':['rbf'],\n",
    "    'svc__gamma': gamma_range\n",
    "}"
   ]
  },
  {
   "cell_type": "code",
   "execution_count": 30,
   "id": "aab8557f",
   "metadata": {},
   "outputs": [],
   "source": [
    "grid_search_default_rbf= GridSearchCV(estimator= pipe_default_CVSearch, param_grid=hyperparam_grid_default_rbf, cv=5, scoring='accuracy')"
   ]
  },
  {
   "cell_type": "code",
   "execution_count": 31,
   "id": "056e9c43",
   "metadata": {},
   "outputs": [
    {
     "data": {
      "text/plain": [
       "GridSearchCV(cv=5,\n",
       "             estimator=Pipeline(steps=[('standardscaler', StandardScaler()),\n",
       "                                       ('svc', SVC())]),\n",
       "             param_grid={'svc__C': array([1.e+02, 2.e+00, 1.e+00, 2.e-01, 1.e-01, 1.e-02]),\n",
       "                         'svc__class_weight': ['balanced'],\n",
       "                         'svc__gamma': array([1.00000000e-03, 3.16227766e-02, 1.00000000e+00, 3.16227766e+01,\n",
       "       1.00000000e+03]),\n",
       "                         'svc__kernel': ['rbf']},\n",
       "             scoring='accuracy')"
      ]
     },
     "execution_count": 31,
     "metadata": {},
     "output_type": "execute_result"
    }
   ],
   "source": [
    "grid_search_default_rbf.fit(X_train_def, y_train_def)"
   ]
  },
  {
   "cell_type": "code",
   "execution_count": 32,
   "id": "1f9baa4e",
   "metadata": {},
   "outputs": [
    {
     "data": {
      "text/plain": [
       "{'svc__C': 2.0,\n",
       " 'svc__class_weight': 'balanced',\n",
       " 'svc__gamma': 1000.0,\n",
       " 'svc__kernel': 'rbf'}"
      ]
     },
     "execution_count": 32,
     "metadata": {},
     "output_type": "execute_result"
    }
   ],
   "source": [
    "grid_search_default_rbf.best_params_"
   ]
  },
  {
   "cell_type": "code",
   "execution_count": 33,
   "id": "8b63b090",
   "metadata": {},
   "outputs": [],
   "source": [
    "pipe_default_rbf_svc = make_pipeline(StandardScaler(), SVC(kernel='rbf', C= 2, gamma= 1000, class_weight='balanced'))"
   ]
  },
  {
   "cell_type": "code",
   "execution_count": 34,
   "id": "5266fe03",
   "metadata": {},
   "outputs": [
    {
     "data": {
      "text/plain": [
       "Pipeline(steps=[('standardscaler', StandardScaler()),\n",
       "                ('svc', SVC(C=2, class_weight='balanced', gamma=1000))])"
      ]
     },
     "execution_count": 34,
     "metadata": {},
     "output_type": "execute_result"
    }
   ],
   "source": [
    "pipe_default_rbf_svc.fit(X_train_def, y_train_def)"
   ]
  },
  {
   "cell_type": "code",
   "execution_count": 35,
   "id": "1d4f8961",
   "metadata": {},
   "outputs": [],
   "source": [
    "y_predicted_test_default2= pipe_default_rbf_svc.predict(X_test_def)"
   ]
  },
  {
   "cell_type": "code",
   "execution_count": 36,
   "id": "008bf90e",
   "metadata": {},
   "outputs": [
    {
     "data": {
      "text/plain": [
       "array([[1925,   16],\n",
       "       [  55,    4]], dtype=int64)"
      ]
     },
     "execution_count": 36,
     "metadata": {},
     "output_type": "execute_result"
    }
   ],
   "source": [
    "confusion_matrix (y_test_def, y_predicted_test_default2)"
   ]
  },
  {
   "cell_type": "code",
   "execution_count": 37,
   "id": "c0d1ca31",
   "metadata": {},
   "outputs": [
    {
     "name": "stdout",
     "output_type": "stream",
     "text": [
      "              precision    recall  f1-score   support\n",
      "\n",
      "          No       0.97      0.99      0.98      1941\n",
      "         Yes       0.20      0.07      0.10        59\n",
      "\n",
      "    accuracy                           0.96      2000\n",
      "   macro avg       0.59      0.53      0.54      2000\n",
      "weighted avg       0.95      0.96      0.96      2000\n",
      "\n"
     ]
    }
   ],
   "source": [
    "print (classification_report(y_test_def, y_predicted_test_default2))"
   ]
  },
  {
   "cell_type": "markdown",
   "id": "32eff4b2",
   "metadata": {},
   "source": [
    "__Choosing the hyperparameters based on f1_score__ (DO IT AT HOME)"
   ]
  },
  {
   "cell_type": "markdown",
   "id": "26007e1f",
   "metadata": {},
   "source": [
    "## SVM applied to the Sonar dataset"
   ]
  },
  {
   "cell_type": "markdown",
   "id": "d691d1ee",
   "metadata": {},
   "source": [
    "### A polynomial kernel"
   ]
  },
  {
   "cell_type": "code",
   "execution_count": 38,
   "id": "6c8c111a",
   "metadata": {},
   "outputs": [],
   "source": [
    "url = \"https://raw.githubusercontent.com/jbrownlee/Datasets/master/sonar.csv\""
   ]
  },
  {
   "cell_type": "code",
   "execution_count": 39,
   "id": "b9b40d41",
   "metadata": {},
   "outputs": [],
   "source": [
    "sonar_df = pd.read_csv(url, header=None)"
   ]
  },
  {
   "cell_type": "code",
   "execution_count": 40,
   "id": "a17aaae0",
   "metadata": {},
   "outputs": [
    {
     "name": "stdout",
     "output_type": "stream",
     "text": [
      "<class 'pandas.core.frame.DataFrame'>\n",
      "RangeIndex: 208 entries, 0 to 207\n",
      "Data columns (total 61 columns):\n",
      " #   Column  Non-Null Count  Dtype  \n",
      "---  ------  --------------  -----  \n",
      " 0   0       208 non-null    float64\n",
      " 1   1       208 non-null    float64\n",
      " 2   2       208 non-null    float64\n",
      " 3   3       208 non-null    float64\n",
      " 4   4       208 non-null    float64\n",
      " 5   5       208 non-null    float64\n",
      " 6   6       208 non-null    float64\n",
      " 7   7       208 non-null    float64\n",
      " 8   8       208 non-null    float64\n",
      " 9   9       208 non-null    float64\n",
      " 10  10      208 non-null    float64\n",
      " 11  11      208 non-null    float64\n",
      " 12  12      208 non-null    float64\n",
      " 13  13      208 non-null    float64\n",
      " 14  14      208 non-null    float64\n",
      " 15  15      208 non-null    float64\n",
      " 16  16      208 non-null    float64\n",
      " 17  17      208 non-null    float64\n",
      " 18  18      208 non-null    float64\n",
      " 19  19      208 non-null    float64\n",
      " 20  20      208 non-null    float64\n",
      " 21  21      208 non-null    float64\n",
      " 22  22      208 non-null    float64\n",
      " 23  23      208 non-null    float64\n",
      " 24  24      208 non-null    float64\n",
      " 25  25      208 non-null    float64\n",
      " 26  26      208 non-null    float64\n",
      " 27  27      208 non-null    float64\n",
      " 28  28      208 non-null    float64\n",
      " 29  29      208 non-null    float64\n",
      " 30  30      208 non-null    float64\n",
      " 31  31      208 non-null    float64\n",
      " 32  32      208 non-null    float64\n",
      " 33  33      208 non-null    float64\n",
      " 34  34      208 non-null    float64\n",
      " 35  35      208 non-null    float64\n",
      " 36  36      208 non-null    float64\n",
      " 37  37      208 non-null    float64\n",
      " 38  38      208 non-null    float64\n",
      " 39  39      208 non-null    float64\n",
      " 40  40      208 non-null    float64\n",
      " 41  41      208 non-null    float64\n",
      " 42  42      208 non-null    float64\n",
      " 43  43      208 non-null    float64\n",
      " 44  44      208 non-null    float64\n",
      " 45  45      208 non-null    float64\n",
      " 46  46      208 non-null    float64\n",
      " 47  47      208 non-null    float64\n",
      " 48  48      208 non-null    float64\n",
      " 49  49      208 non-null    float64\n",
      " 50  50      208 non-null    float64\n",
      " 51  51      208 non-null    float64\n",
      " 52  52      208 non-null    float64\n",
      " 53  53      208 non-null    float64\n",
      " 54  54      208 non-null    float64\n",
      " 55  55      208 non-null    float64\n",
      " 56  56      208 non-null    float64\n",
      " 57  57      208 non-null    float64\n",
      " 58  58      208 non-null    float64\n",
      " 59  59      208 non-null    float64\n",
      " 60  60      208 non-null    object \n",
      "dtypes: float64(60), object(1)\n",
      "memory usage: 99.2+ KB\n"
     ]
    }
   ],
   "source": [
    "sonar_df.info()"
   ]
  },
  {
   "cell_type": "code",
   "execution_count": 41,
   "id": "0a763415",
   "metadata": {},
   "outputs": [],
   "source": [
    "X_train_sonar, X_test_sonar, y_train_sonar, y_test_sonar= train_test_split (sonar_df.iloc[:,:-1], sonar_df.iloc[:,-1], test_size=0.2, random_state=1)"
   ]
  },
  {
   "cell_type": "code",
   "execution_count": 42,
   "id": "091e0a7e",
   "metadata": {},
   "outputs": [],
   "source": [
    "pipe_sonar_CVSearch = make_pipeline(StandardScaler(), SVC())"
   ]
  },
  {
   "cell_type": "code",
   "execution_count": 43,
   "id": "2c0f3825",
   "metadata": {},
   "outputs": [],
   "source": [
    "real_c_sonar= np.array ([1/100, 1/50, 1/10, 1/2, 1, 5, 10, 20, 50, 100, 200, 500, 1000])"
   ]
  },
  {
   "cell_type": "code",
   "execution_count": 44,
   "id": "b764c329",
   "metadata": {},
   "outputs": [],
   "source": [
    " c_hyperparameter_sonar= 1/ real_c_sonar"
   ]
  },
  {
   "cell_type": "code",
   "execution_count": 45,
   "id": "4d25c5e8",
   "metadata": {},
   "outputs": [],
   "source": [
    "hyperparam_grid_poly_sonar = {\n",
    "    'svc__C': c_hyperparameter_sonar,\n",
    "    'svc__class_weight': ['balanced'],\n",
    "    'svc__degree':[1,2,3,4,5], # degree 1 correspond to the linear kernel\n",
    "    'svc__kernel':['poly']\n",
    "}"
   ]
  },
  {
   "cell_type": "code",
   "execution_count": 46,
   "id": "3fa6a9f0",
   "metadata": {},
   "outputs": [],
   "source": [
    "grid_search_sonar= GridSearchCV(estimator= pipe_sonar_CVSearch, param_grid=hyperparam_grid_poly_sonar, cv= 5, scoring='accuracy')"
   ]
  },
  {
   "cell_type": "code",
   "execution_count": 47,
   "id": "be8286ee",
   "metadata": {},
   "outputs": [
    {
     "data": {
      "text/plain": [
       "GridSearchCV(cv=5,\n",
       "             estimator=Pipeline(steps=[('standardscaler', StandardScaler()),\n",
       "                                       ('svc', SVC())]),\n",
       "             param_grid={'svc__C': array([1.e+02, 5.e+01, 1.e+01, 2.e+00, 1.e+00, 2.e-01, 1.e-01, 5.e-02,\n",
       "       2.e-02, 1.e-02, 5.e-03, 2.e-03, 1.e-03]),\n",
       "                         'svc__class_weight': ['balanced'],\n",
       "                         'svc__degree': [1, 2, 3, 4, 5],\n",
       "                         'svc__kernel': ['poly']},\n",
       "             scoring='accuracy')"
      ]
     },
     "execution_count": 47,
     "metadata": {},
     "output_type": "execute_result"
    }
   ],
   "source": [
    "grid_search_sonar.fit(X_train_sonar, y_train_sonar)"
   ]
  },
  {
   "cell_type": "code",
   "execution_count": 48,
   "id": "90c91ade",
   "metadata": {},
   "outputs": [
    {
     "data": {
      "text/plain": [
       "{'svc__C': 1.0,\n",
       " 'svc__class_weight': 'balanced',\n",
       " 'svc__degree': 3,\n",
       " 'svc__kernel': 'poly'}"
      ]
     },
     "execution_count": 48,
     "metadata": {},
     "output_type": "execute_result"
    }
   ],
   "source": [
    "grid_search_sonar.best_params_"
   ]
  },
  {
   "cell_type": "code",
   "execution_count": 49,
   "id": "24065f13",
   "metadata": {},
   "outputs": [],
   "source": [
    "pipe_sonar_poly_svc = make_pipeline(StandardScaler(), SVC(kernel='poly', degree=3, C= 1, class_weight='balanced'))"
   ]
  },
  {
   "cell_type": "code",
   "execution_count": 50,
   "id": "7008c5b2",
   "metadata": {},
   "outputs": [
    {
     "data": {
      "text/plain": [
       "Pipeline(steps=[('standardscaler', StandardScaler()),\n",
       "                ('svc', SVC(C=1, class_weight='balanced', kernel='poly'))])"
      ]
     },
     "execution_count": 50,
     "metadata": {},
     "output_type": "execute_result"
    }
   ],
   "source": [
    "pipe_sonar_poly_svc.fit(X_train_sonar, y_train_sonar)"
   ]
  },
  {
   "cell_type": "code",
   "execution_count": 51,
   "id": "1fa094e3",
   "metadata": {},
   "outputs": [],
   "source": [
    "y_predicted_test_sonar1= pipe_sonar_poly_svc.predict(X_test_sonar)"
   ]
  },
  {
   "cell_type": "code",
   "execution_count": 52,
   "id": "d834ea47",
   "metadata": {},
   "outputs": [
    {
     "data": {
      "text/plain": [
       "array([[16,  4],\n",
       "       [ 3, 19]], dtype=int64)"
      ]
     },
     "execution_count": 52,
     "metadata": {},
     "output_type": "execute_result"
    }
   ],
   "source": [
    "confusion_matrix (y_test_sonar, y_predicted_test_sonar1)"
   ]
  },
  {
   "cell_type": "code",
   "execution_count": 53,
   "id": "87e1dd5d",
   "metadata": {},
   "outputs": [
    {
     "name": "stdout",
     "output_type": "stream",
     "text": [
      "              precision    recall  f1-score   support\n",
      "\n",
      "           M       0.84      0.80      0.82        20\n",
      "           R       0.83      0.86      0.84        22\n",
      "\n",
      "    accuracy                           0.83        42\n",
      "   macro avg       0.83      0.83      0.83        42\n",
      "weighted avg       0.83      0.83      0.83        42\n",
      "\n"
     ]
    }
   ],
   "source": [
    "print (classification_report (y_test_sonar, y_predicted_test_sonar1))"
   ]
  },
  {
   "cell_type": "markdown",
   "id": "78b7d09d",
   "metadata": {},
   "source": [
    "### A Radial Basis Function (RBF) kernel"
   ]
  },
  {
   "cell_type": "code",
   "execution_count": 54,
   "id": "9fe29b40",
   "metadata": {},
   "outputs": [
    {
     "data": {
      "text/plain": [
       "array([1.00000000e-03, 2.06913808e-03, 4.28133240e-03, 8.85866790e-03,\n",
       "       1.83298071e-02, 3.79269019e-02, 7.84759970e-02, 1.62377674e-01,\n",
       "       3.35981829e-01, 6.95192796e-01, 1.43844989e+00, 2.97635144e+00,\n",
       "       6.15848211e+00, 1.27427499e+01, 2.63665090e+01, 5.45559478e+01,\n",
       "       1.12883789e+02, 2.33572147e+02, 4.83293024e+02, 1.00000000e+03])"
      ]
     },
     "execution_count": 54,
     "metadata": {},
     "output_type": "execute_result"
    }
   ],
   "source": [
    "gamma_range_sonar = np.logspace(-3, 3, 20)\n",
    "gamma_range_sonar"
   ]
  },
  {
   "cell_type": "code",
   "execution_count": 55,
   "id": "f2d505ff",
   "metadata": {},
   "outputs": [],
   "source": [
    "hyperparam_grid_sonar_rbf = {\n",
    "    'svc__C': c_hyperparameter_sonar,\n",
    "    'svc__class_weight': ['balanced'],\n",
    "    'svc__kernel':['rbf'],\n",
    "    'svc__gamma': gamma_range\n",
    "}"
   ]
  },
  {
   "cell_type": "code",
   "execution_count": 56,
   "id": "3e2976cd",
   "metadata": {},
   "outputs": [],
   "source": [
    "grid_search_sonar_rbf= GridSearchCV(estimator= pipe_sonar_CVSearch, param_grid= hyperparam_grid_sonar_rbf, cv=5, scoring='accuracy')"
   ]
  },
  {
   "cell_type": "code",
   "execution_count": 57,
   "id": "8cd4e8b3",
   "metadata": {},
   "outputs": [
    {
     "data": {
      "text/plain": [
       "GridSearchCV(cv=5,\n",
       "             estimator=Pipeline(steps=[('standardscaler', StandardScaler()),\n",
       "                                       ('svc', SVC())]),\n",
       "             param_grid={'svc__C': array([1.e+02, 5.e+01, 1.e+01, 2.e+00, 1.e+00, 2.e-01, 1.e-01, 5.e-02,\n",
       "       2.e-02, 1.e-02, 5.e-03, 2.e-03, 1.e-03]),\n",
       "                         'svc__class_weight': ['balanced'],\n",
       "                         'svc__gamma': array([1.00000000e-03, 3.16227766e-02, 1.00000000e+00, 3.16227766e+01,\n",
       "       1.00000000e+03]),\n",
       "                         'svc__kernel': ['rbf']},\n",
       "             scoring='accuracy')"
      ]
     },
     "execution_count": 57,
     "metadata": {},
     "output_type": "execute_result"
    }
   ],
   "source": [
    "grid_search_sonar_rbf.fit(X_train_sonar, y_train_sonar)"
   ]
  },
  {
   "cell_type": "code",
   "execution_count": 58,
   "id": "d6f73bec",
   "metadata": {},
   "outputs": [
    {
     "data": {
      "text/plain": [
       "{'svc__C': 100.0,\n",
       " 'svc__class_weight': 'balanced',\n",
       " 'svc__gamma': 0.03162277660168379,\n",
       " 'svc__kernel': 'rbf'}"
      ]
     },
     "execution_count": 58,
     "metadata": {},
     "output_type": "execute_result"
    }
   ],
   "source": [
    "grid_search_sonar_rbf.best_params_"
   ]
  },
  {
   "cell_type": "code",
   "execution_count": 59,
   "id": "19b6d3ae",
   "metadata": {},
   "outputs": [],
   "source": [
    "pipe_sonar_rbf_svc = make_pipeline(StandardScaler(), SVC(kernel='rbf', C= 100, gamma= 0.03162277660168379, class_weight='balanced'))"
   ]
  },
  {
   "cell_type": "code",
   "execution_count": 60,
   "id": "434993f2",
   "metadata": {},
   "outputs": [
    {
     "data": {
      "text/plain": [
       "Pipeline(steps=[('standardscaler', StandardScaler()),\n",
       "                ('svc',\n",
       "                 SVC(C=100, class_weight='balanced',\n",
       "                     gamma=0.03162277660168379))])"
      ]
     },
     "execution_count": 60,
     "metadata": {},
     "output_type": "execute_result"
    }
   ],
   "source": [
    "pipe_sonar_rbf_svc.fit(X_train_sonar, y_train_sonar)"
   ]
  },
  {
   "cell_type": "code",
   "execution_count": 61,
   "id": "c6c83bd3",
   "metadata": {},
   "outputs": [],
   "source": [
    "y_predicted_test_sonar2= pipe_sonar_rbf_svc.predict(X_test_sonar)"
   ]
  },
  {
   "cell_type": "code",
   "execution_count": 62,
   "id": "cf1d57b9",
   "metadata": {},
   "outputs": [
    {
     "name": "stdout",
     "output_type": "stream",
     "text": [
      "              precision    recall  f1-score   support\n",
      "\n",
      "           M       0.77      1.00      0.87        20\n",
      "           R       1.00      0.73      0.84        22\n",
      "\n",
      "    accuracy                           0.86        42\n",
      "   macro avg       0.88      0.86      0.86        42\n",
      "weighted avg       0.89      0.86      0.86        42\n",
      "\n"
     ]
    }
   ],
   "source": [
    "print (classification_report (y_test_sonar, y_predicted_test_sonar2))"
   ]
  },
  {
   "cell_type": "markdown",
   "id": "a038950f",
   "metadata": {},
   "source": [
    "## SVM applied to the Tips dataset"
   ]
  },
  {
   "cell_type": "markdown",
   "id": "15737440",
   "metadata": {},
   "source": [
    "__WORK ON THIS INDIVIDUALLY NOW IN CLASS !!!__"
   ]
  },
  {
   "cell_type": "markdown",
   "id": "2554bb66",
   "metadata": {},
   "source": [
    "EVERYONE MUST WORK ON THIS INDIVIDUALLY !!! \n",
    "\n",
    "CODE WILL BE DISCUSSED AND GUIDANCE PROVIDED, BUT CODE WILL NOT BE SHARED !!!"
   ]
  },
  {
   "cell_type": "markdown",
   "id": "961bf440",
   "metadata": {},
   "source": [
    "__First)__ Use polynomial kernel and select based on f1-score"
   ]
  },
  {
   "cell_type": "markdown",
   "id": "5114c05e",
   "metadata": {},
   "source": [
    "__Second)__ Use radial basis functions kernel and select based on f1-score"
   ]
  },
  {
   "cell_type": "markdown",
   "id": "2e8665d4",
   "metadata": {},
   "source": [
    "__Third)__ Use radial basis functions kernel and select based on overall accuracy"
   ]
  },
  {
   "cell_type": "code",
   "execution_count": null,
   "id": "6869f838",
   "metadata": {},
   "outputs": [],
   "source": [
    "Tips_df= pd.read_csv('C:\\\\Users\\\\jheredi2\\\\Documents\\\\PythonDataAnalytics\\\\1-Datasets\\\\tips.csv')"
   ]
  },
  {
   "cell_type": "code",
   "execution_count": null,
   "id": "92d05760",
   "metadata": {},
   "outputs": [],
   "source": [
    "Tips_df_dummies= pd.get_dummies(Tips_df,columns=['sex','smoker','day','time'], drop_first=True)"
   ]
  },
  {
   "cell_type": "code",
   "execution_count": null,
   "id": "033ff4e0",
   "metadata": {},
   "outputs": [],
   "source": [
    "Tips_df_dummies['great_tip']=((Tips_df_dummies['tip']/Tips_df_dummies['total_bill'])>=0.20)*1"
   ]
  },
  {
   "cell_type": "code",
   "execution_count": null,
   "id": "c2d91cec",
   "metadata": {},
   "outputs": [],
   "source": [
    "Tips_df_dummies.info()"
   ]
  },
  {
   "cell_type": "code",
   "execution_count": null,
   "id": "bd4092e4",
   "metadata": {},
   "outputs": [],
   "source": [
    "X_train_tip, X_test_tip, y_train_tip, y_test_tip= train_test_split (Tips_df_dummies.iloc[:,np.r_[0, 2:9]], Tips_df_dummies.iloc[:,-1], test_size=0.2, random_state=1)"
   ]
  },
  {
   "cell_type": "markdown",
   "id": "1bbb7568",
   "metadata": {},
   "source": [
    "POLYNOMIAL"
   ]
  },
  {
   "cell_type": "code",
   "execution_count": null,
   "id": "a39f47fc",
   "metadata": {},
   "outputs": [],
   "source": []
  },
  {
   "cell_type": "code",
   "execution_count": null,
   "id": "19cbcdb6",
   "metadata": {},
   "outputs": [],
   "source": []
  },
  {
   "cell_type": "markdown",
   "id": "4381ae77",
   "metadata": {},
   "source": [
    "RADIAL BASIS FUNCTION"
   ]
  },
  {
   "cell_type": "code",
   "execution_count": null,
   "id": "08182647",
   "metadata": {},
   "outputs": [],
   "source": []
  },
  {
   "cell_type": "code",
   "execution_count": null,
   "id": "1c2553b3",
   "metadata": {},
   "outputs": [],
   "source": []
  },
  {
   "cell_type": "code",
   "execution_count": null,
   "id": "90c9b4ee",
   "metadata": {},
   "outputs": [],
   "source": []
  },
  {
   "cell_type": "markdown",
   "id": "4973a91d",
   "metadata": {},
   "source": [
    "RADIAL BASIS FUNCTION based on accuracy"
   ]
  },
  {
   "cell_type": "code",
   "execution_count": null,
   "id": "2df1e86e",
   "metadata": {},
   "outputs": [],
   "source": []
  },
  {
   "cell_type": "code",
   "execution_count": null,
   "id": "ac971f4a",
   "metadata": {},
   "outputs": [],
   "source": []
  }
 ],
 "metadata": {
  "kernelspec": {
   "display_name": "Python 3",
   "language": "python",
   "name": "python3"
  },
  "language_info": {
   "codemirror_mode": {
    "name": "ipython",
    "version": 3
   },
   "file_extension": ".py",
   "mimetype": "text/x-python",
   "name": "python",
   "nbconvert_exporter": "python",
   "pygments_lexer": "ipython3",
   "version": "3.8.8"
  }
 },
 "nbformat": 4,
 "nbformat_minor": 5
}
